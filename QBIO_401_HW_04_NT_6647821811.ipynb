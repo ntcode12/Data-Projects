{
 "cells": [
  {
   "cell_type": "markdown",
   "metadata": {},
   "source": [
    "## Nichollas Tidow\n",
    "## QBIO 401\n",
    "## September 16, 2020\n",
    "## HW 04"
   ]
  },
  {
   "cell_type": "markdown",
   "metadata": {},
   "source": [
    "### Function 01 \n",
    "#### Write Python function that takes five inputs: [8pt]\n",
    "##### 1. A DNA sequence string X,\n",
    "##### 2. A DNA sequence string Y,\n",
    "##### 3. A score Smatch occurs for matching the characters of X and Y,\n",
    "##### 4. A penalty Pmismatch occurs for mismatching the characters of X and Y\n",
    "##### 5. A penalty Pgap occurs if a gap is inserted into the string.\n",
    "#### This function returns a Dynamic Programming scoring matrix for the global pairwise alignment."
   ]
  },
  {
   "cell_type": "code",
   "execution_count": 2,
   "metadata": {},
   "outputs": [],
   "source": [
    "# importing numpy module\n",
    "import numpy as np \n",
    "\n",
    "# Name: dynamicMatrix\n",
    "# Purpose: create a dynamic programming matrix for global pairwise aligment of 2 sequences\n",
    "# Input: DNA sequence X, DNA sequence Y, sMatch score when the bases match, sMismatch penalty when bases mismatch, and a pGap penalty when there is a gap inserted\n",
    "# Output: a numpy array dynamic scoring matrix \n",
    "def dynamicMatrix(X,Y,sMatch,pMismatch,pGap):\n",
    "    # initialize scoring matrix using a numpy array with lengths of sequences \n",
    "    dp_matrix = np.ndarray(shape=(len(X)+1,len(Y)+1),dtype=int)\n",
    "    # fill matrix w/ 0s\n",
    "    dp_matrix.fill(0)\n",
    "    \n",
    "    # Iterate over sequence X to add the gap border\n",
    "    for i in range(len(X)+1):\n",
    "        # multiply gap value times index position\n",
    "        dp_matrix[i][0] = pGap*i\n",
    "        \n",
    "    # Iterate over sequence X to add the gap border\n",
    "    for j in range(len(Y)+1):\n",
    "        # multiply gap value times index position\n",
    "        dp_matrix[0][j] = pGap*j\n",
    "        \n",
    "    # for loop itereration over sequences starting a index 1 and stopping at length of sequence + 1\n",
    "    for i in range(1,len(X)+1):\n",
    "        # same for loop iteration but for the other sequence\n",
    "        for j in range(1,len(Y)+1):\n",
    "            # intialize scoring list\n",
    "            scores = [0,0,0]  \n",
    "            # if 0 index of X and 0 index of Y are equal\n",
    "            if X[i-1] == Y[j-1]:\n",
    "                # Score diagonal match \n",
    "                # sMatch value + the diagonal index value\n",
    "                # place that sum in index 1 of scores\n",
    "                scores[1] = sMatch + dp_matrix[i-1][j-1]\n",
    "            # else the scores result in a mismatch\n",
    "            else:\n",
    "                # Score diagonal mismatch\n",
    "                # sMatch value + the diagonal index value\n",
    "                # place that sum in index 1 of scores\n",
    "                scores[1] = pMismatch + dp_matrix[i-1][j-1]   \n",
    "            # Score left\n",
    "            # pGap value + the left index value\n",
    "            # place that sum in index 0 of scores\n",
    "            scores[0] = pGap + dp_matrix[i][j-1]\n",
    "            # Score up\n",
    "            # pGap value + the up index value\n",
    "            # place that sum in index 2 of scores\n",
    "            scores[2] = pGap + dp_matrix[i-1][j]\n",
    "            # Select the max value of the scores list\n",
    "            best = max(scores)\n",
    "            # add the max values to the matrix\n",
    "            dp_matrix[i,j]= best\n",
    "            \n",
    "    # Print title of matrix        \n",
    "    print(\"Dynamic Programming Matrix\")       \n",
    "    # Return the matrix\n",
    "    return dp_matrix"
   ]
  },
  {
   "cell_type": "code",
   "execution_count": 3,
   "metadata": {},
   "outputs": [
    {
     "name": "stdout",
     "output_type": "stream",
     "text": [
      "Dynamic Programming Matrix\n",
      "[[ 0 -2 -4 -6 -8]\n",
      " [-2 -1  1 -1 -3]\n",
      " [-4  1 -1  4  2]\n",
      " [-6 -1  0  2  3]\n",
      " [-8 -3  2  0  1]]\n"
     ]
    }
   ],
   "source": [
    "print(dynamicMatrix(\"ACGA\", \"CACT\", 3, -1, -2))"
   ]
  },
  {
   "cell_type": "code",
   "execution_count": 4,
   "metadata": {},
   "outputs": [
    {
     "ename": "SyntaxError",
     "evalue": "unmatched ')' (<ipython-input-4-cabd6f9a47e1>, line 4)",
     "output_type": "error",
     "traceback": [
      "\u001b[0;36m  File \u001b[0;32m\"<ipython-input-4-cabd6f9a47e1>\"\u001b[0;36m, line \u001b[0;32m4\u001b[0m\n\u001b[0;31m    f = np.zeros(len(X)+1, len(Y)+1))\u001b[0m\n\u001b[0m                                    ^\u001b[0m\n\u001b[0;31mSyntaxError\u001b[0m\u001b[0;31m:\u001b[0m unmatched ')'\n"
     ]
    }
   ],
   "source": [
    "# Back storing Bonus from discussion\n",
    "import numpy as np\n",
    "def backStore(X,Y,sMatch,pMismatch,pGap):\n",
    "    f = np.zeros(len(X)+1, len(Y)+1))\n",
    "    f[:] = np.nan\n",
    "    f[0,0] = 0\n",
    "    def check(i,j):\n",
    "        if not np.isnan(f[i,j]):\n",
    "            return f[i,j]\n",
    "        if i>0 and j>0:\n",
    "            diagonalS= check(i-1, j-1) + (sMatch if X[i-1]==Y[j-1] else pMismatch)\n",
    "        else:\n",
    "            diagonalS = -np.inf\n",
    "        if i>0:\n",
    "            gapS = max(gapS, check(i-1,j)+ pGap)\n",
    "        if j>0:\n",
    "            gapS = max(gapS, check(i,j-1)+ pGap)\n",
    "        f[i,j] = max(diagonalS,gapS)\n",
    "        \n",
    "                \n",
    "    \n"
   ]
  },
  {
   "cell_type": "code",
   "execution_count": 9,
   "metadata": {},
   "outputs": [],
   "source": [
    "# intro for next homework using classes using OOP\n",
    "class student:\n",
    "    def __init__(self,name,stud_id):\n",
    "        self.name = name\n",
    "        self.id = stud_id\n",
    "    def print(self):\n",
    "        print(\"Name: %s ID: %s\\n\" % (self.name, self.id))\n",
    "        \n",
    "        \n",
    "        "
   ]
  },
  {
   "cell_type": "code",
   "execution_count": 11,
   "metadata": {},
   "outputs": [
    {
     "name": "stdout",
     "output_type": "stream",
     "text": [
      "<__main__.student object at 0x7fc2c1a8ac10>\n",
      "Name: A ID: 1000\n",
      "\n"
     ]
    }
   ],
   "source": [
    "a = student(\"A\",\"1000\")\n",
    "a.print()"
   ]
  },
  {
   "cell_type": "code",
   "execution_count": 28,
   "metadata": {},
   "outputs": [],
   "source": [
    "# defining a lise\n",
    "class Node:\n",
    "    def __init__(self,value):\n",
    "        self.value = value\n",
    "        self.next = None\n",
    "        \n",
    "# Node1 -> Node2 -> Node3 -> Node4 -> ... -> None\n",
    "# defining a tree structure\n",
    "class TreeNode:\n",
    "    def __init__(self,value):\n",
    "        self.value = value\n",
    "        self.left = None\n",
    "        self.right = None\n",
    "    def print(self):\n",
    "        print(\"Node value: %d\\n\", self.value)\n",
    "        if self.left is not None: \n",
    "            self.left.print()\n",
    "        if self.right is not None: \n",
    "            self.right.print()\n",
    "        \n"
   ]
  },
  {
   "cell_type": "code",
   "execution_count": 29,
   "metadata": {},
   "outputs": [],
   "source": [
    "a = TreeNode(1)\n",
    "b = TreeNode(2)\n",
    "a.left =b\n",
    "c = TreeNode(3)\n",
    "a.right = c\n",
    "d = TreeNode(4)\n",
    "c.right = d\n",
    "e = TreeNode(5)\n",
    "b.right = e"
   ]
  },
  {
   "cell_type": "code",
   "execution_count": 30,
   "metadata": {},
   "outputs": [
    {
     "ename": "AttributeError",
     "evalue": "'TreeNode' object has no attribute 'value'",
     "output_type": "error",
     "traceback": [
      "\u001b[0;31m---------------------------------------------------------------------------\u001b[0m",
      "\u001b[0;31mAttributeError\u001b[0m                            Traceback (most recent call last)",
      "\u001b[0;32m<ipython-input-30-539742807854>\u001b[0m in \u001b[0;36m<module>\u001b[0;34m\u001b[0m\n\u001b[0;32m----> 1\u001b[0;31m \u001b[0ma\u001b[0m\u001b[0;34m.\u001b[0m\u001b[0mprint\u001b[0m\u001b[0;34m(\u001b[0m\u001b[0;34m)\u001b[0m\u001b[0;34m\u001b[0m\u001b[0;34m\u001b[0m\u001b[0m\n\u001b[0m",
      "\u001b[0;32m<ipython-input-28-0453b4d7460e>\u001b[0m in \u001b[0;36mprint\u001b[0;34m(self)\u001b[0m\n\u001b[1;32m     13\u001b[0m         \u001b[0mself\u001b[0m\u001b[0;34m.\u001b[0m\u001b[0m__right\u001b[0m \u001b[0;34m=\u001b[0m \u001b[0;32mNone\u001b[0m\u001b[0;34m\u001b[0m\u001b[0;34m\u001b[0m\u001b[0m\n\u001b[1;32m     14\u001b[0m     \u001b[0;32mdef\u001b[0m \u001b[0mprint\u001b[0m\u001b[0;34m(\u001b[0m\u001b[0mself\u001b[0m\u001b[0;34m)\u001b[0m\u001b[0;34m:\u001b[0m\u001b[0;34m\u001b[0m\u001b[0;34m\u001b[0m\u001b[0m\n\u001b[0;32m---> 15\u001b[0;31m         \u001b[0mprint\u001b[0m\u001b[0;34m(\u001b[0m\u001b[0;34m\"Node value: %d\\n\"\u001b[0m\u001b[0;34m,\u001b[0m \u001b[0mself\u001b[0m\u001b[0;34m.\u001b[0m\u001b[0mvalue\u001b[0m\u001b[0;34m)\u001b[0m\u001b[0;34m\u001b[0m\u001b[0;34m\u001b[0m\u001b[0m\n\u001b[0m\u001b[1;32m     16\u001b[0m         \u001b[0;32mif\u001b[0m \u001b[0mself\u001b[0m\u001b[0;34m.\u001b[0m\u001b[0mleft\u001b[0m \u001b[0;32mis\u001b[0m \u001b[0;32mnot\u001b[0m \u001b[0;32mNone\u001b[0m\u001b[0;34m:\u001b[0m\u001b[0;34m\u001b[0m\u001b[0;34m\u001b[0m\u001b[0m\n\u001b[1;32m     17\u001b[0m             \u001b[0mself\u001b[0m\u001b[0;34m.\u001b[0m\u001b[0mleft\u001b[0m\u001b[0;34m.\u001b[0m\u001b[0mprint\u001b[0m\u001b[0;34m(\u001b[0m\u001b[0;34m)\u001b[0m\u001b[0;34m\u001b[0m\u001b[0;34m\u001b[0m\u001b[0m\n",
      "\u001b[0;31mAttributeError\u001b[0m: 'TreeNode' object has no attribute 'value'"
     ]
    }
   ],
   "source": [
    "a.print()"
   ]
  },
  {
   "cell_type": "code",
   "execution_count": null,
   "metadata": {},
   "outputs": [],
   "source": []
  }
 ],
 "metadata": {
  "kernelspec": {
   "display_name": "Python 3",
   "language": "python",
   "name": "python3"
  },
  "language_info": {
   "codemirror_mode": {
    "name": "ipython",
    "version": 3
   },
   "file_extension": ".py",
   "mimetype": "text/x-python",
   "name": "python",
   "nbconvert_exporter": "python",
   "pygments_lexer": "ipython3",
   "version": "3.8.3"
  }
 },
 "nbformat": 4,
 "nbformat_minor": 4
}
