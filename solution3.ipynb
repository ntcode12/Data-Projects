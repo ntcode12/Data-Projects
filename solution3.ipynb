{
 "cells": [
  {
   "cell_type": "markdown",
   "metadata": {},
   "source": [
    "This notebook largely follows the one I created in class on 9/9/2020, at least through the answer to question 1.\n",
    "\n",
    "Let's start by loading our packages:\n",
    "- Pandas for dataframes, etc.\n",
    "- Numpy for basic math functions\n",
    "- Matplotlib for plotting functionality\n",
    "- Statsmodels for regression"
   ]
  },
  {
   "cell_type": "code",
   "execution_count": 1,
   "metadata": {},
   "outputs": [],
   "source": [
    "import pandas as pd\n",
    "import numpy as np\n",
    "import matplotlib.pyplot as plt\n",
    "from pandas.tseries.offsets import MonthEnd\n",
    "import statsmodels.formula.api as smf"
   ]
  },
  {
   "cell_type": "markdown",
   "metadata": {},
   "source": [
    "Here are some parameters:"
   ]
  },
  {
   "cell_type": "code",
   "execution_count": 2,
   "metadata": {},
   "outputs": [],
   "source": [
    "first_date = '1950-01-01'\n",
    "last_date  = '2020-06-30'\n",
    "ma_length  = 10"
   ]
  },
  {
   "cell_type": "markdown",
   "metadata": {},
   "source": [
    "We're going to read in raw data on the so-called Fama-French factors.\n",
    "\n",
    "After specifying the file name, I tell read_csv to skip the first four lines of the CSV file, which contain header information.  I then tell it to give names of my choice to the five columns of numbers that follow the header rows."
   ]
  },
  {
   "cell_type": "code",
   "execution_count": 3,
   "metadata": {
    "scrolled": true
   },
   "outputs": [
    {
     "data": {
      "text/html": [
       "<div>\n",
       "<style scoped>\n",
       "    .dataframe tbody tr th:only-of-type {\n",
       "        vertical-align: middle;\n",
       "    }\n",
       "\n",
       "    .dataframe tbody tr th {\n",
       "        vertical-align: top;\n",
       "    }\n",
       "\n",
       "    .dataframe thead th {\n",
       "        text-align: right;\n",
       "    }\n",
       "</style>\n",
       "<table border=\"1\" class=\"dataframe\">\n",
       "  <thead>\n",
       "    <tr style=\"text-align: right;\">\n",
       "      <th></th>\n",
       "      <th>Date</th>\n",
       "      <th>RMRF</th>\n",
       "      <th>SMB</th>\n",
       "      <th>HML</th>\n",
       "      <th>RF</th>\n",
       "    </tr>\n",
       "  </thead>\n",
       "  <tbody>\n",
       "    <tr>\n",
       "      <th>0</th>\n",
       "      <td>192607</td>\n",
       "      <td>2.96</td>\n",
       "      <td>-2.30</td>\n",
       "      <td>-2.87</td>\n",
       "      <td>0.22</td>\n",
       "    </tr>\n",
       "    <tr>\n",
       "      <th>1</th>\n",
       "      <td>192608</td>\n",
       "      <td>2.64</td>\n",
       "      <td>-1.40</td>\n",
       "      <td>4.19</td>\n",
       "      <td>0.25</td>\n",
       "    </tr>\n",
       "    <tr>\n",
       "      <th>2</th>\n",
       "      <td>192609</td>\n",
       "      <td>0.36</td>\n",
       "      <td>-1.32</td>\n",
       "      <td>0.01</td>\n",
       "      <td>0.23</td>\n",
       "    </tr>\n",
       "    <tr>\n",
       "      <th>3</th>\n",
       "      <td>192610</td>\n",
       "      <td>-3.24</td>\n",
       "      <td>0.04</td>\n",
       "      <td>0.51</td>\n",
       "      <td>0.32</td>\n",
       "    </tr>\n",
       "    <tr>\n",
       "      <th>4</th>\n",
       "      <td>192611</td>\n",
       "      <td>2.53</td>\n",
       "      <td>-0.20</td>\n",
       "      <td>-0.35</td>\n",
       "      <td>0.31</td>\n",
       "    </tr>\n",
       "  </tbody>\n",
       "</table>\n",
       "</div>"
      ],
      "text/plain": [
       "     Date  RMRF   SMB   HML    RF\n",
       "0  192607  2.96 -2.30 -2.87  0.22\n",
       "1  192608  2.64 -1.40  4.19  0.25\n",
       "2  192609  0.36 -1.32  0.01  0.23\n",
       "3  192610 -3.24  0.04  0.51  0.32\n",
       "4  192611  2.53 -0.20 -0.35  0.31"
      ]
     },
     "execution_count": 3,
     "metadata": {},
     "output_type": "execute_result"
    }
   ],
   "source": [
    "ffdata = pd.read_csv('F-F_Research_Data_Factors.CSV', skiprows=4, names=['Date','RMRF','SMB','HML','RF'])\n",
    "ffdata.head()"
   ]
  },
  {
   "cell_type": "markdown",
   "metadata": {},
   "source": [
    "You can see that the dates are in \"YYYYMM\" format.  To convert to month end datetime values and then use these as the index, we do the following:"
   ]
  },
  {
   "cell_type": "code",
   "execution_count": 4,
   "metadata": {},
   "outputs": [
    {
     "data": {
      "text/html": [
       "<div>\n",
       "<style scoped>\n",
       "    .dataframe tbody tr th:only-of-type {\n",
       "        vertical-align: middle;\n",
       "    }\n",
       "\n",
       "    .dataframe tbody tr th {\n",
       "        vertical-align: top;\n",
       "    }\n",
       "\n",
       "    .dataframe thead th {\n",
       "        text-align: right;\n",
       "    }\n",
       "</style>\n",
       "<table border=\"1\" class=\"dataframe\">\n",
       "  <thead>\n",
       "    <tr style=\"text-align: right;\">\n",
       "      <th></th>\n",
       "      <th>RMRF</th>\n",
       "      <th>SMB</th>\n",
       "      <th>HML</th>\n",
       "      <th>RF</th>\n",
       "    </tr>\n",
       "    <tr>\n",
       "      <th>Date</th>\n",
       "      <th></th>\n",
       "      <th></th>\n",
       "      <th></th>\n",
       "      <th></th>\n",
       "    </tr>\n",
       "  </thead>\n",
       "  <tbody>\n",
       "    <tr>\n",
       "      <th>2020-04-30</th>\n",
       "      <td>13.65</td>\n",
       "      <td>2.78</td>\n",
       "      <td>-1.27</td>\n",
       "      <td>0.00</td>\n",
       "    </tr>\n",
       "    <tr>\n",
       "      <th>2020-05-31</th>\n",
       "      <td>5.58</td>\n",
       "      <td>2.47</td>\n",
       "      <td>-4.95</td>\n",
       "      <td>0.01</td>\n",
       "    </tr>\n",
       "    <tr>\n",
       "      <th>2020-06-30</th>\n",
       "      <td>2.45</td>\n",
       "      <td>2.56</td>\n",
       "      <td>-2.03</td>\n",
       "      <td>0.01</td>\n",
       "    </tr>\n",
       "    <tr>\n",
       "      <th>2020-07-31</th>\n",
       "      <td>5.51</td>\n",
       "      <td>-999.00</td>\n",
       "      <td>-999.00</td>\n",
       "      <td>0.01</td>\n",
       "    </tr>\n",
       "    <tr>\n",
       "      <th>2020-08-31</th>\n",
       "      <td>7.01</td>\n",
       "      <td>-999.00</td>\n",
       "      <td>-999.00</td>\n",
       "      <td>0.01</td>\n",
       "    </tr>\n",
       "  </tbody>\n",
       "</table>\n",
       "</div>"
      ],
      "text/plain": [
       "             RMRF     SMB     HML    RF\n",
       "Date                                   \n",
       "2020-04-30  13.65    2.78   -1.27  0.00\n",
       "2020-05-31   5.58    2.47   -4.95  0.01\n",
       "2020-06-30   2.45    2.56   -2.03  0.01\n",
       "2020-07-31   5.51 -999.00 -999.00  0.01\n",
       "2020-08-31   7.01 -999.00 -999.00  0.01"
      ]
     },
     "execution_count": 4,
     "metadata": {},
     "output_type": "execute_result"
    }
   ],
   "source": [
    "ffdata['Date'] = pd.to_datetime(ffdata['Date'], format='%Y%m') + MonthEnd(1)\n",
    "ffdata = ffdata.set_index('Date')\n",
    "ffdata.tail()"
   ]
  },
  {
   "cell_type": "markdown",
   "metadata": {},
   "source": [
    "Let's just keep the more recent part of the sample:"
   ]
  },
  {
   "cell_type": "code",
   "execution_count": 5,
   "metadata": {
    "scrolled": true
   },
   "outputs": [
    {
     "data": {
      "text/html": [
       "<div>\n",
       "<style scoped>\n",
       "    .dataframe tbody tr th:only-of-type {\n",
       "        vertical-align: middle;\n",
       "    }\n",
       "\n",
       "    .dataframe tbody tr th {\n",
       "        vertical-align: top;\n",
       "    }\n",
       "\n",
       "    .dataframe thead th {\n",
       "        text-align: right;\n",
       "    }\n",
       "</style>\n",
       "<table border=\"1\" class=\"dataframe\">\n",
       "  <thead>\n",
       "    <tr style=\"text-align: right;\">\n",
       "      <th></th>\n",
       "      <th>RMRF</th>\n",
       "      <th>SMB</th>\n",
       "      <th>HML</th>\n",
       "      <th>RF</th>\n",
       "    </tr>\n",
       "    <tr>\n",
       "      <th>Date</th>\n",
       "      <th></th>\n",
       "      <th></th>\n",
       "      <th></th>\n",
       "      <th></th>\n",
       "    </tr>\n",
       "  </thead>\n",
       "  <tbody>\n",
       "    <tr>\n",
       "      <th>1950-01-31</th>\n",
       "      <td>1.70</td>\n",
       "      <td>3.36</td>\n",
       "      <td>0.14</td>\n",
       "      <td>0.09</td>\n",
       "    </tr>\n",
       "    <tr>\n",
       "      <th>1950-02-28</th>\n",
       "      <td>1.48</td>\n",
       "      <td>0.04</td>\n",
       "      <td>-0.81</td>\n",
       "      <td>0.09</td>\n",
       "    </tr>\n",
       "    <tr>\n",
       "      <th>1950-03-31</th>\n",
       "      <td>1.26</td>\n",
       "      <td>-1.41</td>\n",
       "      <td>-2.77</td>\n",
       "      <td>0.10</td>\n",
       "    </tr>\n",
       "    <tr>\n",
       "      <th>1950-04-30</th>\n",
       "      <td>3.94</td>\n",
       "      <td>1.99</td>\n",
       "      <td>1.34</td>\n",
       "      <td>0.09</td>\n",
       "    </tr>\n",
       "    <tr>\n",
       "      <th>1950-05-31</th>\n",
       "      <td>4.31</td>\n",
       "      <td>-2.12</td>\n",
       "      <td>0.46</td>\n",
       "      <td>0.10</td>\n",
       "    </tr>\n",
       "  </tbody>\n",
       "</table>\n",
       "</div>"
      ],
      "text/plain": [
       "            RMRF   SMB   HML    RF\n",
       "Date                              \n",
       "1950-01-31  1.70  3.36  0.14  0.09\n",
       "1950-02-28  1.48  0.04 -0.81  0.09\n",
       "1950-03-31  1.26 -1.41 -2.77  0.10\n",
       "1950-04-30  3.94  1.99  1.34  0.09\n",
       "1950-05-31  4.31 -2.12  0.46  0.10"
      ]
     },
     "execution_count": 5,
     "metadata": {},
     "output_type": "execute_result"
    }
   ],
   "source": [
    "ffdata=ffdata.loc[first_date:last_date]\n",
    "ffdata.head()"
   ]
  },
  {
   "cell_type": "markdown",
   "metadata": {},
   "source": [
    "The last data munging step is to convert the (obviously) percentile returns into decimals:"
   ]
  },
  {
   "cell_type": "code",
   "execution_count": 6,
   "metadata": {},
   "outputs": [
    {
     "data": {
      "text/html": [
       "<div>\n",
       "<style scoped>\n",
       "    .dataframe tbody tr th:only-of-type {\n",
       "        vertical-align: middle;\n",
       "    }\n",
       "\n",
       "    .dataframe tbody tr th {\n",
       "        vertical-align: top;\n",
       "    }\n",
       "\n",
       "    .dataframe thead th {\n",
       "        text-align: right;\n",
       "    }\n",
       "</style>\n",
       "<table border=\"1\" class=\"dataframe\">\n",
       "  <thead>\n",
       "    <tr style=\"text-align: right;\">\n",
       "      <th></th>\n",
       "      <th>RMRF</th>\n",
       "      <th>SMB</th>\n",
       "      <th>HML</th>\n",
       "      <th>RF</th>\n",
       "    </tr>\n",
       "    <tr>\n",
       "      <th>Date</th>\n",
       "      <th></th>\n",
       "      <th></th>\n",
       "      <th></th>\n",
       "      <th></th>\n",
       "    </tr>\n",
       "  </thead>\n",
       "  <tbody>\n",
       "    <tr>\n",
       "      <th>2020-02-29</th>\n",
       "      <td>-0.0813</td>\n",
       "      <td>0.0096</td>\n",
       "      <td>-0.0401</td>\n",
       "      <td>0.0012</td>\n",
       "    </tr>\n",
       "    <tr>\n",
       "      <th>2020-03-31</th>\n",
       "      <td>-0.1339</td>\n",
       "      <td>-0.0516</td>\n",
       "      <td>-0.1412</td>\n",
       "      <td>0.0012</td>\n",
       "    </tr>\n",
       "    <tr>\n",
       "      <th>2020-04-30</th>\n",
       "      <td>0.1365</td>\n",
       "      <td>0.0278</td>\n",
       "      <td>-0.0127</td>\n",
       "      <td>0.0000</td>\n",
       "    </tr>\n",
       "    <tr>\n",
       "      <th>2020-05-31</th>\n",
       "      <td>0.0558</td>\n",
       "      <td>0.0247</td>\n",
       "      <td>-0.0495</td>\n",
       "      <td>0.0001</td>\n",
       "    </tr>\n",
       "    <tr>\n",
       "      <th>2020-06-30</th>\n",
       "      <td>0.0245</td>\n",
       "      <td>0.0256</td>\n",
       "      <td>-0.0203</td>\n",
       "      <td>0.0001</td>\n",
       "    </tr>\n",
       "  </tbody>\n",
       "</table>\n",
       "</div>"
      ],
      "text/plain": [
       "              RMRF     SMB     HML      RF\n",
       "Date                                      \n",
       "2020-02-29 -0.0813  0.0096 -0.0401  0.0012\n",
       "2020-03-31 -0.1339 -0.0516 -0.1412  0.0012\n",
       "2020-04-30  0.1365  0.0278 -0.0127  0.0000\n",
       "2020-05-31  0.0558  0.0247 -0.0495  0.0001\n",
       "2020-06-30  0.0245  0.0256 -0.0203  0.0001"
      ]
     },
     "execution_count": 6,
     "metadata": {},
     "output_type": "execute_result"
    }
   ],
   "source": [
    "ffdata = ffdata / 100\n",
    "ffdata.tail()"
   ]
  },
  {
   "cell_type": "markdown",
   "metadata": {},
   "source": [
    "To go any further, we need to know what the data represent and what we are trying to do with them.  \n",
    "\n",
    "RMRF is the excess return on the market, or the return on the market minus the risk-free return:\n",
    "$$ RMRF = RM - RF $$\n",
    "If we want to compute a market return (not in excess of RF) we simply add the RMRF and RF columns.\n",
    "\n",
    "The goal will be to examine a simple technical trading indicator, the 10-month MA crossover.  The strategy is to buy when the level of an index exceeds its 10-month MA.  Otherwise, you hold the risk-free asset.  See the paper by Faber.\n",
    "\n",
    "An index is a price.  We have returns.  Since $R_t = P_t / P_{t-1} - 1$, we can recover a price level by rewriting the relation as $P_t = P_{t-1} \\times (1+R_t)$.  \n",
    "\n",
    "If we plug that last equation into itself, we can say that \n",
    "\n",
    "$P_t = P_{t-1} \\times (1+R_t) = P_t = [ P_{t-2} \\times (1+R_{t-1}) ] \\times (1+R_t)$\n",
    "\n",
    "Continuing back to date 0,\n",
    "\n",
    "$P_t = P_0 \\times (1+R_1) \\times (1+R_2) \\times ... \\times (1+R_t)$\n",
    "\n",
    "It is harmless to set $P_0=1$, because this will not change _relative_ prices, so that's what we'll do.\n",
    "\n",
    "To carry this out, start by creating a column of returns (since RMRF is the excess return):"
   ]
  },
  {
   "cell_type": "code",
   "execution_count": 7,
   "metadata": {},
   "outputs": [],
   "source": [
    "ffdata['RM']=ffdata['RMRF']+ffdata['RF']"
   ]
  },
  {
   "cell_type": "markdown",
   "metadata": {},
   "source": [
    "Now add 1 to compute the \"gross return\""
   ]
  },
  {
   "cell_type": "code",
   "execution_count": 8,
   "metadata": {},
   "outputs": [],
   "source": [
    "ffdata['GRM']=ffdata['RM']+1"
   ]
  },
  {
   "cell_type": "markdown",
   "metadata": {},
   "source": [
    "The index level is just the cumulative product of gross returns:"
   ]
  },
  {
   "cell_type": "code",
   "execution_count": 9,
   "metadata": {},
   "outputs": [],
   "source": [
    "ffdata['M']=ffdata['GRM'].cumprod()"
   ]
  },
  {
   "cell_type": "markdown",
   "metadata": {},
   "source": [
    "Alternatively, we could just compute the M column in one step:"
   ]
  },
  {
   "cell_type": "code",
   "execution_count": 10,
   "metadata": {},
   "outputs": [],
   "source": [
    "ffdata['M']=(ffdata['RMRF'] + ffdata['RF'] + 1).cumprod()"
   ]
  },
  {
   "cell_type": "markdown",
   "metadata": {},
   "source": [
    "Now let's define the moving average, where the length was specified up top.  To do so we use the rolling method, which is a method to perform calculations on rolling subsections of rows of a dataframe.  It is a method that requires another method to produce output.  In this case we want to compute a rolling mean.  The syntax is therefore"
   ]
  },
  {
   "cell_type": "code",
   "execution_count": 11,
   "metadata": {},
   "outputs": [
    {
     "data": {
      "text/html": [
       "<div>\n",
       "<style scoped>\n",
       "    .dataframe tbody tr th:only-of-type {\n",
       "        vertical-align: middle;\n",
       "    }\n",
       "\n",
       "    .dataframe tbody tr th {\n",
       "        vertical-align: top;\n",
       "    }\n",
       "\n",
       "    .dataframe thead th {\n",
       "        text-align: right;\n",
       "    }\n",
       "</style>\n",
       "<table border=\"1\" class=\"dataframe\">\n",
       "  <thead>\n",
       "    <tr style=\"text-align: right;\">\n",
       "      <th></th>\n",
       "      <th>RMRF</th>\n",
       "      <th>SMB</th>\n",
       "      <th>HML</th>\n",
       "      <th>RF</th>\n",
       "      <th>RM</th>\n",
       "      <th>GRM</th>\n",
       "      <th>M</th>\n",
       "      <th>MA</th>\n",
       "    </tr>\n",
       "    <tr>\n",
       "      <th>Date</th>\n",
       "      <th></th>\n",
       "      <th></th>\n",
       "      <th></th>\n",
       "      <th></th>\n",
       "      <th></th>\n",
       "      <th></th>\n",
       "      <th></th>\n",
       "      <th></th>\n",
       "    </tr>\n",
       "  </thead>\n",
       "  <tbody>\n",
       "    <tr>\n",
       "      <th>1950-01-31</th>\n",
       "      <td>0.0170</td>\n",
       "      <td>0.0336</td>\n",
       "      <td>0.0014</td>\n",
       "      <td>0.0009</td>\n",
       "      <td>0.0179</td>\n",
       "      <td>1.0179</td>\n",
       "      <td>1.017900</td>\n",
       "      <td>NaN</td>\n",
       "    </tr>\n",
       "    <tr>\n",
       "      <th>1950-02-28</th>\n",
       "      <td>0.0148</td>\n",
       "      <td>0.0004</td>\n",
       "      <td>-0.0081</td>\n",
       "      <td>0.0009</td>\n",
       "      <td>0.0157</td>\n",
       "      <td>1.0157</td>\n",
       "      <td>1.033881</td>\n",
       "      <td>NaN</td>\n",
       "    </tr>\n",
       "    <tr>\n",
       "      <th>1950-03-31</th>\n",
       "      <td>0.0126</td>\n",
       "      <td>-0.0141</td>\n",
       "      <td>-0.0277</td>\n",
       "      <td>0.0010</td>\n",
       "      <td>0.0136</td>\n",
       "      <td>1.0136</td>\n",
       "      <td>1.047942</td>\n",
       "      <td>NaN</td>\n",
       "    </tr>\n",
       "    <tr>\n",
       "      <th>1950-04-30</th>\n",
       "      <td>0.0394</td>\n",
       "      <td>0.0199</td>\n",
       "      <td>0.0134</td>\n",
       "      <td>0.0009</td>\n",
       "      <td>0.0403</td>\n",
       "      <td>1.0403</td>\n",
       "      <td>1.090174</td>\n",
       "      <td>NaN</td>\n",
       "    </tr>\n",
       "    <tr>\n",
       "      <th>1950-05-31</th>\n",
       "      <td>0.0431</td>\n",
       "      <td>-0.0212</td>\n",
       "      <td>0.0046</td>\n",
       "      <td>0.0010</td>\n",
       "      <td>0.0441</td>\n",
       "      <td>1.0441</td>\n",
       "      <td>1.138251</td>\n",
       "      <td>NaN</td>\n",
       "    </tr>\n",
       "    <tr>\n",
       "      <th>1950-06-30</th>\n",
       "      <td>-0.0594</td>\n",
       "      <td>-0.0238</td>\n",
       "      <td>-0.0078</td>\n",
       "      <td>0.0010</td>\n",
       "      <td>-0.0584</td>\n",
       "      <td>0.9416</td>\n",
       "      <td>1.071777</td>\n",
       "      <td>NaN</td>\n",
       "    </tr>\n",
       "    <tr>\n",
       "      <th>1950-07-31</th>\n",
       "      <td>0.0136</td>\n",
       "      <td>0.0051</td>\n",
       "      <td>0.1366</td>\n",
       "      <td>0.0010</td>\n",
       "      <td>0.0146</td>\n",
       "      <td>1.0146</td>\n",
       "      <td>1.087425</td>\n",
       "      <td>NaN</td>\n",
       "    </tr>\n",
       "    <tr>\n",
       "      <th>1950-08-31</th>\n",
       "      <td>0.0485</td>\n",
       "      <td>0.0073</td>\n",
       "      <td>-0.0141</td>\n",
       "      <td>0.0010</td>\n",
       "      <td>0.0495</td>\n",
       "      <td>1.0495</td>\n",
       "      <td>1.141252</td>\n",
       "      <td>NaN</td>\n",
       "    </tr>\n",
       "    <tr>\n",
       "      <th>1950-09-30</th>\n",
       "      <td>0.0481</td>\n",
       "      <td>0.0057</td>\n",
       "      <td>-0.0111</td>\n",
       "      <td>0.0010</td>\n",
       "      <td>0.0491</td>\n",
       "      <td>1.0491</td>\n",
       "      <td>1.197288</td>\n",
       "      <td>NaN</td>\n",
       "    </tr>\n",
       "    <tr>\n",
       "      <th>1950-10-31</th>\n",
       "      <td>-0.0018</td>\n",
       "      <td>-0.0058</td>\n",
       "      <td>0.0144</td>\n",
       "      <td>0.0012</td>\n",
       "      <td>-0.0006</td>\n",
       "      <td>0.9994</td>\n",
       "      <td>1.196569</td>\n",
       "      <td>1.102246</td>\n",
       "    </tr>\n",
       "    <tr>\n",
       "      <th>1950-11-30</th>\n",
       "      <td>0.0276</td>\n",
       "      <td>-0.0084</td>\n",
       "      <td>0.0317</td>\n",
       "      <td>0.0011</td>\n",
       "      <td>0.0287</td>\n",
       "      <td>1.0287</td>\n",
       "      <td>1.230911</td>\n",
       "      <td>1.123547</td>\n",
       "    </tr>\n",
       "    <tr>\n",
       "      <th>1950-12-31</th>\n",
       "      <td>0.0554</td>\n",
       "      <td>0.0149</td>\n",
       "      <td>0.0723</td>\n",
       "      <td>0.0011</td>\n",
       "      <td>0.0565</td>\n",
       "      <td>1.0565</td>\n",
       "      <td>1.300457</td>\n",
       "      <td>1.150204</td>\n",
       "    </tr>\n",
       "    <tr>\n",
       "      <th>1951-01-31</th>\n",
       "      <td>0.0570</td>\n",
       "      <td>0.0173</td>\n",
       "      <td>0.0372</td>\n",
       "      <td>0.0013</td>\n",
       "      <td>0.0583</td>\n",
       "      <td>1.0583</td>\n",
       "      <td>1.376274</td>\n",
       "      <td>1.183038</td>\n",
       "    </tr>\n",
       "    <tr>\n",
       "      <th>1951-02-28</th>\n",
       "      <td>0.0141</td>\n",
       "      <td>0.0009</td>\n",
       "      <td>-0.0283</td>\n",
       "      <td>0.0010</td>\n",
       "      <td>0.0151</td>\n",
       "      <td>1.0151</td>\n",
       "      <td>1.397056</td>\n",
       "      <td>1.213726</td>\n",
       "    </tr>\n",
       "    <tr>\n",
       "      <th>1951-03-31</th>\n",
       "      <td>-0.0215</td>\n",
       "      <td>-0.0064</td>\n",
       "      <td>-0.0422</td>\n",
       "      <td>0.0011</td>\n",
       "      <td>-0.0204</td>\n",
       "      <td>0.9796</td>\n",
       "      <td>1.368556</td>\n",
       "      <td>1.236756</td>\n",
       "    </tr>\n",
       "  </tbody>\n",
       "</table>\n",
       "</div>"
      ],
      "text/plain": [
       "              RMRF     SMB     HML      RF      RM     GRM         M        MA\n",
       "Date                                                                          \n",
       "1950-01-31  0.0170  0.0336  0.0014  0.0009  0.0179  1.0179  1.017900       NaN\n",
       "1950-02-28  0.0148  0.0004 -0.0081  0.0009  0.0157  1.0157  1.033881       NaN\n",
       "1950-03-31  0.0126 -0.0141 -0.0277  0.0010  0.0136  1.0136  1.047942       NaN\n",
       "1950-04-30  0.0394  0.0199  0.0134  0.0009  0.0403  1.0403  1.090174       NaN\n",
       "1950-05-31  0.0431 -0.0212  0.0046  0.0010  0.0441  1.0441  1.138251       NaN\n",
       "1950-06-30 -0.0594 -0.0238 -0.0078  0.0010 -0.0584  0.9416  1.071777       NaN\n",
       "1950-07-31  0.0136  0.0051  0.1366  0.0010  0.0146  1.0146  1.087425       NaN\n",
       "1950-08-31  0.0485  0.0073 -0.0141  0.0010  0.0495  1.0495  1.141252       NaN\n",
       "1950-09-30  0.0481  0.0057 -0.0111  0.0010  0.0491  1.0491  1.197288       NaN\n",
       "1950-10-31 -0.0018 -0.0058  0.0144  0.0012 -0.0006  0.9994  1.196569  1.102246\n",
       "1950-11-30  0.0276 -0.0084  0.0317  0.0011  0.0287  1.0287  1.230911  1.123547\n",
       "1950-12-31  0.0554  0.0149  0.0723  0.0011  0.0565  1.0565  1.300457  1.150204\n",
       "1951-01-31  0.0570  0.0173  0.0372  0.0013  0.0583  1.0583  1.376274  1.183038\n",
       "1951-02-28  0.0141  0.0009 -0.0283  0.0010  0.0151  1.0151  1.397056  1.213726\n",
       "1951-03-31 -0.0215 -0.0064 -0.0422  0.0011 -0.0204  0.9796  1.368556  1.236756"
      ]
     },
     "execution_count": 11,
     "metadata": {},
     "output_type": "execute_result"
    }
   ],
   "source": [
    "ffdata['MA']=ffdata['M'].rolling(ma_length).mean()\n",
    "ffdata.head(15)"
   ]
  },
  {
   "cell_type": "markdown",
   "metadata": {},
   "source": [
    "We want to put 100% in the market when the lagged market index (M) exceeds the moving average (MA) and zero otherwise.\n",
    "\n",
    "We lag data using the shift method:"
   ]
  },
  {
   "cell_type": "code",
   "execution_count": 12,
   "metadata": {},
   "outputs": [],
   "source": [
    "ffdata['weight']=np.nan\n",
    "ffdata.loc[ffdata['M'].shift(1) > ffdata['MA'].shift(1), 'weight'] = 1\n",
    "ffdata.loc[ffdata['M'].shift(1) <= ffdata['MA'].shift(1), 'weight'] = 0"
   ]
  },
  {
   "cell_type": "markdown",
   "metadata": {},
   "source": [
    "Now we can compute the excess return on the managed portfolio (P).\n",
    "\n",
    "The return (not excess) on the managed portfolio is \n",
    "$$RP = weight \\times RM + (1-weight) \\times RF = RF + weight \\times (RM - RF) $$\n",
    "The excess return on the managed portfolio is therefore simply\n",
    "$$RPRF = weight \\times RMRF $$\n"
   ]
  },
  {
   "cell_type": "code",
   "execution_count": 13,
   "metadata": {},
   "outputs": [],
   "source": [
    "ffdata['RPRF']=ffdata['weight']*ffdata['RMRF']"
   ]
  },
  {
   "cell_type": "markdown",
   "metadata": {},
   "source": [
    "Let's get rid of all rows with missing values so we are comparing RMRF (which has no missing values) to RP (which does have missing values) in a fair way."
   ]
  },
  {
   "cell_type": "code",
   "execution_count": 14,
   "metadata": {},
   "outputs": [
    {
     "data": {
      "text/html": [
       "<div>\n",
       "<style scoped>\n",
       "    .dataframe tbody tr th:only-of-type {\n",
       "        vertical-align: middle;\n",
       "    }\n",
       "\n",
       "    .dataframe tbody tr th {\n",
       "        vertical-align: top;\n",
       "    }\n",
       "\n",
       "    .dataframe thead th {\n",
       "        text-align: right;\n",
       "    }\n",
       "</style>\n",
       "<table border=\"1\" class=\"dataframe\">\n",
       "  <thead>\n",
       "    <tr style=\"text-align: right;\">\n",
       "      <th></th>\n",
       "      <th>RMRF</th>\n",
       "      <th>SMB</th>\n",
       "      <th>HML</th>\n",
       "      <th>RF</th>\n",
       "      <th>RM</th>\n",
       "      <th>GRM</th>\n",
       "      <th>M</th>\n",
       "      <th>MA</th>\n",
       "      <th>weight</th>\n",
       "      <th>RPRF</th>\n",
       "    </tr>\n",
       "    <tr>\n",
       "      <th>Date</th>\n",
       "      <th></th>\n",
       "      <th></th>\n",
       "      <th></th>\n",
       "      <th></th>\n",
       "      <th></th>\n",
       "      <th></th>\n",
       "      <th></th>\n",
       "      <th></th>\n",
       "      <th></th>\n",
       "      <th></th>\n",
       "    </tr>\n",
       "  </thead>\n",
       "  <tbody>\n",
       "    <tr>\n",
       "      <th>1950-11-30</th>\n",
       "      <td>0.0276</td>\n",
       "      <td>-0.0084</td>\n",
       "      <td>0.0317</td>\n",
       "      <td>0.0011</td>\n",
       "      <td>0.0287</td>\n",
       "      <td>1.0287</td>\n",
       "      <td>1.230911</td>\n",
       "      <td>1.123547</td>\n",
       "      <td>1.0</td>\n",
       "      <td>0.0276</td>\n",
       "    </tr>\n",
       "    <tr>\n",
       "      <th>1950-12-31</th>\n",
       "      <td>0.0554</td>\n",
       "      <td>0.0149</td>\n",
       "      <td>0.0723</td>\n",
       "      <td>0.0011</td>\n",
       "      <td>0.0565</td>\n",
       "      <td>1.0565</td>\n",
       "      <td>1.300457</td>\n",
       "      <td>1.150204</td>\n",
       "      <td>1.0</td>\n",
       "      <td>0.0554</td>\n",
       "    </tr>\n",
       "    <tr>\n",
       "      <th>1951-01-31</th>\n",
       "      <td>0.0570</td>\n",
       "      <td>0.0173</td>\n",
       "      <td>0.0372</td>\n",
       "      <td>0.0013</td>\n",
       "      <td>0.0583</td>\n",
       "      <td>1.0583</td>\n",
       "      <td>1.376274</td>\n",
       "      <td>1.183038</td>\n",
       "      <td>1.0</td>\n",
       "      <td>0.0570</td>\n",
       "    </tr>\n",
       "    <tr>\n",
       "      <th>1951-02-28</th>\n",
       "      <td>0.0141</td>\n",
       "      <td>0.0009</td>\n",
       "      <td>-0.0283</td>\n",
       "      <td>0.0010</td>\n",
       "      <td>0.0151</td>\n",
       "      <td>1.0151</td>\n",
       "      <td>1.397056</td>\n",
       "      <td>1.213726</td>\n",
       "      <td>1.0</td>\n",
       "      <td>0.0141</td>\n",
       "    </tr>\n",
       "    <tr>\n",
       "      <th>1951-03-31</th>\n",
       "      <td>-0.0215</td>\n",
       "      <td>-0.0064</td>\n",
       "      <td>-0.0422</td>\n",
       "      <td>0.0011</td>\n",
       "      <td>-0.0204</td>\n",
       "      <td>0.9796</td>\n",
       "      <td>1.368556</td>\n",
       "      <td>1.236756</td>\n",
       "      <td>1.0</td>\n",
       "      <td>-0.0215</td>\n",
       "    </tr>\n",
       "  </tbody>\n",
       "</table>\n",
       "</div>"
      ],
      "text/plain": [
       "              RMRF     SMB     HML      RF      RM     GRM         M  \\\n",
       "Date                                                                   \n",
       "1950-11-30  0.0276 -0.0084  0.0317  0.0011  0.0287  1.0287  1.230911   \n",
       "1950-12-31  0.0554  0.0149  0.0723  0.0011  0.0565  1.0565  1.300457   \n",
       "1951-01-31  0.0570  0.0173  0.0372  0.0013  0.0583  1.0583  1.376274   \n",
       "1951-02-28  0.0141  0.0009 -0.0283  0.0010  0.0151  1.0151  1.397056   \n",
       "1951-03-31 -0.0215 -0.0064 -0.0422  0.0011 -0.0204  0.9796  1.368556   \n",
       "\n",
       "                  MA  weight    RPRF  \n",
       "Date                                  \n",
       "1950-11-30  1.123547     1.0  0.0276  \n",
       "1950-12-31  1.150204     1.0  0.0554  \n",
       "1951-01-31  1.183038     1.0  0.0570  \n",
       "1951-02-28  1.213726     1.0  0.0141  \n",
       "1951-03-31  1.236756     1.0 -0.0215  "
      ]
     },
     "execution_count": 14,
     "metadata": {},
     "output_type": "execute_result"
    }
   ],
   "source": [
    "ffdata.dropna(inplace=True)\n",
    "ffdata.head()"
   ]
  },
  {
   "cell_type": "markdown",
   "metadata": {},
   "source": [
    "Let's take a look at the growth of the timing portfolio relative to the market.  I will use the cumprod method again.  \n",
    "\n",
    "When plotting here, I will specify colors.  I'll also use a log scale for the y axis, which makes the earlier part of the figure easier to see."
   ]
  },
  {
   "cell_type": "code",
   "execution_count": 15,
   "metadata": {},
   "outputs": [
    {
     "data": {
      "image/png": "[encoded data removed]",
      "text/plain": [
       "<Figure size 432x288 with 1 Axes>"
      ]
     },
     "metadata": {
      "needs_background": "light"
     },
     "output_type": "display_data"
    }
   ],
   "source": [
    "ffdata['P']=(ffdata['RPRF']+ffdata['RF']+1).cumprod()\n",
    "ffdata['P'].plot(logy=True, color='b')\n",
    "ffdata['M'].plot(logy=True, color='r')\n",
    "plt.legend()\n",
    "plt.show()"
   ]
  },
  {
   "cell_type": "markdown",
   "metadata": {},
   "source": [
    "Let's look to see how thinks look over the last five years.  I start by using tail to take the last five years of data, but I then have to divide by the starting level of each portfolio value so that I am looking at the growth of $1 starting five years ago."
   ]
  },
  {
   "cell_type": "code",
   "execution_count": 16,
   "metadata": {},
   "outputs": [
    {
     "name": "stderr",
     "output_type": "stream",
     "text": [
      "C:\\Users\\msft\\Anaconda3\\lib\\site-packages\\ipykernel_launcher.py:2: SettingWithCopyWarning: \n",
      "A value is trying to be set on a copy of a slice from a DataFrame.\n",
      "Try using .loc[row_indexer,col_indexer] = value instead\n",
      "\n",
      "See the caveats in the documentation: http://pandas.pydata.org/pandas-docs/stable/indexing.html#indexing-view-versus-copy\n",
      "  \n",
      "C:\\Users\\msft\\Anaconda3\\lib\\site-packages\\ipykernel_launcher.py:3: SettingWithCopyWarning: \n",
      "A value is trying to be set on a copy of a slice from a DataFrame.\n",
      "Try using .loc[row_indexer,col_indexer] = value instead\n",
      "\n",
      "See the caveats in the documentation: http://pandas.pydata.org/pandas-docs/stable/indexing.html#indexing-view-versus-copy\n",
      "  This is separate from the ipykernel package so we can avoid doing imports until\n"
     ]
    },
    {
     "data": {
      "image/png": "[encoded data removed]",
      "text/plain": [
       "<Figure size 432x288 with 1 Axes>"
      ]
     },
     "metadata": {
      "needs_background": "light"
     },
     "output_type": "display_data"
    }
   ],
   "source": [
    "last5y = ffdata.tail(60)\n",
    "last5y['P'] = last5y['P'] / last5y['P'].iloc[0]\n",
    "last5y['M'] = last5y['M'] / last5y['M'].iloc[0]\n",
    "last5y['P'].plot(logy=True, color='b')\n",
    "last5y['M'].plot(logy=True, color='r')\n",
    "plt.legend()\n",
    "plt.show()"
   ]
  },
  {
   "cell_type": "markdown",
   "metadata": {},
   "source": [
    "That's question 1.  Let's turn now to question 2.  The regression we want to run is \n",
    "$$ r_{m,t} - r_{f,t} = a + b \\times \\mbox{weight}_t + \\epsilon_t $$\n",
    "Note that the independent variable, weight, is not lagged in this regression.  That is because I have defined the time $t$ weight to depend on the time $t-1$ price and moving average.  So this regression is \"predictive\" in that I am using time $t-1$ information to predict returns in time $t$.\n",
    "\n",
    "The parameter of interest in this regression is $b$.  This is because $b$ measures the impact that the weight has on expected returns.  If this impact is significant, it indicates that returns can be predicted.  After all, predictability just means that a change in a variable you know before you invest (weight) changes your prediction of the subsequent rate of return.  That's exactly what $b$ measures."
   ]
  },
  {
   "cell_type": "code",
   "execution_count": 17,
   "metadata": {},
   "outputs": [
    {
     "name": "stdout",
     "output_type": "stream",
     "text": [
      "                            OLS Regression Results                            \n",
      "==============================================================================\n",
      "Dep. Variable:                   RMRF   R-squared:                       0.001\n",
      "Model:                            OLS   Adj. R-squared:                  0.000\n",
      "Method:                 Least Squares   F-statistic:                     1.018\n",
      "Date:                Mon, 14 Sep 2020   Prob (F-statistic):              0.313\n",
      "Time:                        13:07:31   Log-Likelihood:                 1445.4\n",
      "No. Observations:                 836   AIC:                            -2887.\n",
      "Df Residuals:                     834   BIC:                            -2877.\n",
      "Df Model:                           1                                         \n",
      "Covariance Type:            nonrobust                                         \n",
      "==============================================================================\n",
      "                 coef    std err          t      P>|t|      [0.025      0.975]\n",
      "------------------------------------------------------------------------------\n",
      "Intercept      0.0037      0.003      1.222      0.222      -0.002       0.010\n",
      "weight         0.0035      0.003      1.009      0.313      -0.003       0.010\n",
      "==============================================================================\n",
      "Omnibus:                       71.251   Durbin-Watson:                   1.896\n",
      "Prob(Omnibus):                  0.000   Jarque-Bera (JB):              162.126\n",
      "Skew:                          -0.493   Prob(JB):                     6.24e-36\n",
      "Kurtosis:                       4.919   Cond. No.                         3.82\n",
      "==============================================================================\n",
      "\n",
      "Warnings:\n",
      "[1] Standard Errors assume that the covariance matrix of the errors is correctly specified.\n"
     ]
    }
   ],
   "source": [
    "results = smf.ols('RMRF ~ weight', data=ffdata).fit()\n",
    "print(results.summary())"
   ]
  },
  {
   "cell_type": "markdown",
   "metadata": {},
   "source": [
    "The coefficient on weight is positive, but with a t-statistic under 2 it is insignificant.  That tells me that the Faber strategy does not have a strong statistical justification.  "
   ]
  },
  {
   "cell_type": "markdown",
   "metadata": {},
   "source": [
    "Moving on to question 3, we're going to start working with the HML column of the dataframe.  This column contains the excess returns on a portfolio that goes long value stocks (High book-to-market ratios) and goes short growth stocks (Low book-to-market).\n",
    "\n",
    "This portfolio, which is often called \"value minus growth\", is really 100% long value (H for high B/P), 100% short growth (L for low B/P), and 100% long risk-free.  The weights add up to 1, and the return is equal to \n",
    "$$ 1 \\times R_H - 1 \\times R_L + 1 \\times R_F $$\n",
    "\n",
    "The HML column in our dataframe measures the excess return, which is $R_H - R_L$.  We can therefore write this return as\n",
    "\n",
    "ffdata['HML'] + ffdata['RF'].\n",
    "\n",
    "We'll compute this return and use cumprod to convert returns into portfolio values:"
   ]
  },
  {
   "cell_type": "code",
   "execution_count": 18,
   "metadata": {},
   "outputs": [],
   "source": [
    "ffdata['HML portval'] = (1 + ffdata['HML'] + ffdata['RF']).cumprod()"
   ]
  },
  {
   "cell_type": "markdown",
   "metadata": {},
   "source": [
    "As in Faber's paper, we will choose a portfolio weight based on whether this portfolio value is above or below the 10-month moving average, and I will go long the HML portfolio when it is above it.\n",
    "\n",
    "Differently from Faber, I will short HML when the portfolio is below the MA.  When I do this, I will be buying growth stocks and shorting value stocks. "
   ]
  },
  {
   "cell_type": "code",
   "execution_count": 19,
   "metadata": {},
   "outputs": [],
   "source": [
    "ffdata['HML MA'] = ffdata['HML portval'].rolling(ma_length).mean()\n",
    "\n",
    "ffdata['HML weight'] = 0\n",
    "ffdata.loc[ffdata['HML portval'].shift(1) > ffdata['HML MA'].shift(1), 'HML weight'] = 1\n",
    "ffdata.loc[ffdata['HML portval'].shift(1) < ffdata['HML MA'].shift(1), 'HML weight'] = -1"
   ]
  },
  {
   "cell_type": "markdown",
   "metadata": {},
   "source": [
    "Excess returns on the timing strategy are"
   ]
  },
  {
   "cell_type": "code",
   "execution_count": 20,
   "metadata": {},
   "outputs": [],
   "source": [
    "ffdata['HML_timing']=ffdata['HML weight']*ffdata['HML']"
   ]
  },
  {
   "cell_type": "markdown",
   "metadata": {},
   "source": [
    "To compare the plain HML strategy with the timing HML strategy, we compute some basic summary statistics:"
   ]
  },
  {
   "cell_type": "code",
   "execution_count": 21,
   "metadata": {},
   "outputs": [
    {
     "data": {
      "text/html": [
       "<div>\n",
       "<style scoped>\n",
       "    .dataframe tbody tr th:only-of-type {\n",
       "        vertical-align: middle;\n",
       "    }\n",
       "\n",
       "    .dataframe tbody tr th {\n",
       "        vertical-align: top;\n",
       "    }\n",
       "\n",
       "    .dataframe thead th {\n",
       "        text-align: right;\n",
       "    }\n",
       "</style>\n",
       "<table border=\"1\" class=\"dataframe\">\n",
       "  <thead>\n",
       "    <tr style=\"text-align: right;\">\n",
       "      <th></th>\n",
       "      <th>HML</th>\n",
       "      <th>HML_timing</th>\n",
       "    </tr>\n",
       "  </thead>\n",
       "  <tbody>\n",
       "    <tr>\n",
       "      <th>count</th>\n",
       "      <td>836.000000</td>\n",
       "      <td>836.000000</td>\n",
       "    </tr>\n",
       "    <tr>\n",
       "      <th>mean</th>\n",
       "      <td>0.002607</td>\n",
       "      <td>0.004288</td>\n",
       "    </tr>\n",
       "    <tr>\n",
       "      <th>std</th>\n",
       "      <td>0.027280</td>\n",
       "      <td>0.026768</td>\n",
       "    </tr>\n",
       "    <tr>\n",
       "      <th>min</th>\n",
       "      <td>-0.141200</td>\n",
       "      <td>-0.099900</td>\n",
       "    </tr>\n",
       "    <tr>\n",
       "      <th>25%</th>\n",
       "      <td>-0.012200</td>\n",
       "      <td>-0.009625</td>\n",
       "    </tr>\n",
       "    <tr>\n",
       "      <th>50%</th>\n",
       "      <td>0.001800</td>\n",
       "      <td>0.003350</td>\n",
       "    </tr>\n",
       "    <tr>\n",
       "      <th>75%</th>\n",
       "      <td>0.016900</td>\n",
       "      <td>0.017550</td>\n",
       "    </tr>\n",
       "    <tr>\n",
       "      <th>max</th>\n",
       "      <td>0.128700</td>\n",
       "      <td>0.141200</td>\n",
       "    </tr>\n",
       "  </tbody>\n",
       "</table>\n",
       "</div>"
      ],
      "text/plain": [
       "              HML  HML_timing\n",
       "count  836.000000  836.000000\n",
       "mean     0.002607    0.004288\n",
       "std      0.027280    0.026768\n",
       "min     -0.141200   -0.099900\n",
       "25%     -0.012200   -0.009625\n",
       "50%      0.001800    0.003350\n",
       "75%      0.016900    0.017550\n",
       "max      0.128700    0.141200"
      ]
     },
     "execution_count": 21,
     "metadata": {},
     "output_type": "execute_result"
    }
   ],
   "source": [
    "stats = ffdata[['HML','HML_timing']].describe()\n",
    "stats"
   ]
  },
  {
   "cell_type": "markdown",
   "metadata": {},
   "source": [
    "Annualized sharpe ratios are therefore"
   ]
  },
  {
   "cell_type": "code",
   "execution_count": 22,
   "metadata": {},
   "outputs": [
    {
     "data": {
      "text/plain": [
       "HML           0.331081\n",
       "HML_timing    0.554860\n",
       "dtype: float64"
      ]
     },
     "execution_count": 22,
     "metadata": {},
     "output_type": "execute_result"
    }
   ],
   "source": [
    "stats.loc['mean'] / stats.loc['std'] * np.sqrt(12)"
   ]
  },
  {
   "cell_type": "markdown",
   "metadata": {},
   "source": [
    "The timing strategy works well.  Let's look at its alpha:"
   ]
  },
  {
   "cell_type": "code",
   "execution_count": 23,
   "metadata": {},
   "outputs": [
    {
     "name": "stdout",
     "output_type": "stream",
     "text": [
      "                            OLS Regression Results                            \n",
      "==============================================================================\n",
      "Dep. Variable:             HML_timing   R-squared:                       0.039\n",
      "Model:                            OLS   Adj. R-squared:                  0.038\n",
      "Method:                 Least Squares   F-statistic:                     33.63\n",
      "Date:                Mon, 14 Sep 2020   Prob (F-statistic):           9.44e-09\n",
      "Time:                        13:07:31   Log-Likelihood:                 1857.6\n",
      "No. Observations:                 836   AIC:                            -3711.\n",
      "Df Residuals:                     834   BIC:                            -3702.\n",
      "Df Model:                           1                                         \n",
      "Covariance Type:            nonrobust                                         \n",
      "==============================================================================\n",
      "                 coef    std err          t      P>|t|      [0.025      0.975]\n",
      "------------------------------------------------------------------------------\n",
      "Intercept      0.0051      0.001      5.512      0.000       0.003       0.007\n",
      "RMRF          -0.1226      0.021     -5.799      0.000      -0.164      -0.081\n",
      "==============================================================================\n",
      "Omnibus:                       60.199   Durbin-Watson:                   1.728\n",
      "Prob(Omnibus):                  0.000   Jarque-Bera (JB):              228.034\n",
      "Skew:                           0.212   Prob(JB):                     3.04e-50\n",
      "Kurtosis:                       5.523   Cond. No.                         23.3\n",
      "==============================================================================\n",
      "\n",
      "Warnings:\n",
      "[1] Standard Errors assume that the covariance matrix of the errors is correctly specified.\n"
     ]
    }
   ],
   "source": [
    "results = smf.ols('HML_timing ~ RMRF', data=ffdata).fit()\n",
    "print(results.summary())"
   ]
  },
  {
   "cell_type": "markdown",
   "metadata": {},
   "source": [
    "A 51 basis point per month alpha is not bad.  And it is _highly_ significant.  \n",
    "\n",
    "Let's compare to the plain HML strategy:"
   ]
  },
  {
   "cell_type": "code",
   "execution_count": 24,
   "metadata": {},
   "outputs": [
    {
     "name": "stdout",
     "output_type": "stream",
     "text": [
      "                            OLS Regression Results                            \n",
      "==============================================================================\n",
      "Dep. Variable:                    HML   R-squared:                       0.032\n",
      "Model:                            OLS   Adj. R-squared:                  0.031\n",
      "Method:                 Least Squares   F-statistic:                     27.95\n",
      "Date:                Mon, 14 Sep 2020   Prob (F-statistic):           1.59e-07\n",
      "Time:                        13:07:31   Log-Likelihood:                 1839.0\n",
      "No. Observations:                 836   AIC:                            -3674.\n",
      "Df Residuals:                     834   BIC:                            -3665.\n",
      "Df Model:                           1                                         \n",
      "Covariance Type:            nonrobust                                         \n",
      "==============================================================================\n",
      "                 coef    std err          t      P>|t|      [0.025      0.975]\n",
      "------------------------------------------------------------------------------\n",
      "Intercept      0.0033      0.001      3.545      0.000       0.001       0.005\n",
      "RMRF          -0.1143      0.022     -5.287      0.000      -0.157      -0.072\n",
      "==============================================================================\n",
      "Omnibus:                       71.867   Durbin-Watson:                   1.649\n",
      "Prob(Omnibus):                  0.000   Jarque-Bera (JB):              373.651\n",
      "Skew:                          -0.134   Prob(JB):                     7.29e-82\n",
      "Kurtosis:                       6.264   Cond. No.                         23.3\n",
      "==============================================================================\n",
      "\n",
      "Warnings:\n",
      "[1] Standard Errors assume that the covariance matrix of the errors is correctly specified.\n"
     ]
    }
   ],
   "source": [
    "results = smf.ols('HML ~ RMRF', data=ffdata).fit()\n",
    "print(results.summary())"
   ]
  },
  {
   "cell_type": "markdown",
   "metadata": {},
   "source": [
    "Plain HML is good, but not as good as HML with timing.\n",
    "\n",
    "Last, let's look at the performance of the two strategies over time:"
   ]
  },
  {
   "cell_type": "code",
   "execution_count": 25,
   "metadata": {},
   "outputs": [
    {
     "data": {
      "image/png": "[encoded data removed]",
      "text/plain": [
       "<Figure size 432x288 with 1 Axes>"
      ]
     },
     "metadata": {
      "needs_background": "light"
     },
     "output_type": "display_data"
    }
   ],
   "source": [
    "(ffdata['HML']+ffdata['RF']+1).cumprod().plot(logy=True, color='b')\n",
    "(ffdata['HML_timing']+ffdata['RF']+1).cumprod().plot(logy=True, color='r')\n",
    "plt.show()"
   ]
  },
  {
   "cell_type": "markdown",
   "metadata": {},
   "source": [
    "The big result seems to be that the HML with timing strategy does well in the last decade, when it goes long growth stocks.  It therefore avoided the terrible performance of value over this period and benefitted from the rise of growth stocks (like FANG stocks)."
   ]
  },
  {
   "cell_type": "code",
   "execution_count": null,
   "metadata": {},
   "outputs": [],
   "source": []
  }
 ],
 "metadata": {
  "kernelspec": {
   "display_name": "Python 3",
   "language": "python",
   "name": "python3"
  },
  "language_info": {
   "codemirror_mode": {
    "name": "ipython",
    "version": 3
   },
   "file_extension": ".py",
   "mimetype": "text/x-python",
   "name": "python",
   "nbconvert_exporter": "python",
   "pygments_lexer": "ipython3",
   "version": "3.8.3"
  }
 },
 "nbformat": 4,
 "nbformat_minor": 2
}
