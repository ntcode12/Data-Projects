{
 "cells": [
  {
   "cell_type": "markdown",
   "metadata": {},
   "source": []
  },
  {
   "cell_type": "code",
   "execution_count": 2,
   "metadata": {},
   "outputs": [],
   "source": [
    "library(BiocManager)"
   ]
  },
  {
   "cell_type": "code",
   "execution_count": 3,
   "metadata": {},
   "outputs": [],
   "source": [
    "library(caret)"
   ]
  },
  {
   "cell_type": "code",
   "execution_count": 4,
   "metadata": {},
   "outputs": [
    {
     "name": "stderr",
     "output_type": "stream",
     "text": [
      "also installing the dependencies ‘pillar’, ‘R.methodsS3’, ‘R.oo’, ‘R.utils’, ‘bitops’, ‘glue’, ‘tibble’, ‘ellipsis’, ‘R.cache’, ‘rematch2’, ‘haven’, ‘caTools’, ‘TH.data’, ‘dplyr’, ‘tidyselect’, ‘vctrs’, ‘cpp11’, ‘profileModel’, ‘minqa’, ‘nloptr’, ‘statmod’, ‘RcppEigen’, ‘plotrix’, ‘miniUI’, ‘styler’, ‘classInt’, ‘labelled’, ‘gplots’, ‘libcoin’, ‘matrixStats’, ‘multcomp’, ‘desc’, ‘pkgbuild’, ‘rprojroot’, ‘lifecycle’, ‘rlang’, ‘tidyr’, ‘brglm’, ‘gtools’, ‘lme4’, ‘qvcalc’, ‘Formula’, ‘plotmo’, ‘TeachingDemos’, ‘combinat’, ‘questionr’, ‘ROCR’, ‘mvtnorm’, ‘modeltools’, ‘strucchange’, ‘coin’, ‘sandwich’, ‘ISwR’, ‘corpcor’, ‘pkgload’, ‘praise’, ‘rex’, ‘ModelMetrics’, ‘recipes’, ‘pROC’, ‘BradleyTerry2’, ‘e1071’, ‘earth’, ‘fastICA’, ‘gam’, ‘kernlab’, ‘klaR’, ‘ellipse’, ‘mda’, ‘mlbench’, ‘MLmetrics’, ‘party’, ‘pls’, ‘proxy’, ‘RANN’, ‘spls’, ‘subselect’, ‘pamr’, ‘superpc’, ‘Cubist’, ‘testthat’, ‘covr’\n",
      "\n",
      "Updating HTML index of packages in '.Library'\n",
      "Making 'packages.html' ... done\n"
     ]
    }
   ],
   "source": [
    "install.packages(\"caret\",dependencies=TRUE)"
   ]
  },
  {
   "cell_type": "raw",
   "metadata": {},
   "source": [
    "library(DNAshapeR)"
   ]
  },
  {
   "cell_type": "code",
   "execution_count": 5,
   "metadata": {},
   "outputs": [
    {
     "name": "stderr",
     "output_type": "stream",
     "text": [
      "Bioconductor version 3.10 (BiocManager 1.30.4), R 3.6.1 (2019-07-05)\n",
      "Installing package(s) 'BiocVersion'\n",
      "Updating HTML index of packages in '.Library'\n",
      "Making 'packages.html' ... done\n",
      "Update old packages: 'BH', 'BiocManager', 'DBI', 'IRkernel', 'KernSmooth',\n",
      "  'MASS', 'Matrix', 'R6', 'Rcpp', 'SQUAREM', 'TTR', 'askpass', 'backports',\n",
      "  'boot', 'broom', 'callr', 'class', 'cli', 'clipr', 'cluster', 'curl',\n",
      "  'data.table', 'dbplyr', 'digest', 'evaluate', 'fansi', 'forcats', 'foreach',\n",
      "  'formatR', 'fs', 'ggplot2', 'glmnet', 'gower', 'hexbin', 'hms', 'htmltools',\n",
      "  'htmlwidgets', 'httpuv', 'httr', 'ipred', 'iterators', 'jsonlite', 'knitr',\n",
      "  'labeling', 'later', 'lattice', 'lava', 'lubridate', 'markdown', 'mgcv',\n",
      "  'mime', 'modelr', 'nlme', 'nnet', 'numDeriv', 'openssl', 'pbdZMQ',\n",
      "  'pkgconfig', 'plyr', 'prettyunits', 'processx', 'prodlim', 'progress',\n",
      "  'promises', 'ps', 'purrr', 'quantmod', 'readr', 'repr', 'reprex', 'reshape2',\n",
      "  'rmarkdown', 'rstudioapi', 'rvest', 'scales', 'selectr', 'shiny', 'spatial',\n",
      "  'stringi', 'survival', 'sys', 'tidyverse', 'tinytex', 'uuid', 'whisker',\n",
      "  'withr', 'xfun', 'xml2', 'xts', 'yaml', 'zoo'\n"
     ]
    }
   ],
   "source": [
    "BiocManager::install()"
   ]
  },
  {
   "cell_type": "code",
   "execution_count": 1,
   "metadata": {},
   "outputs": [
    {
     "name": "stderr",
     "output_type": "stream",
     "text": [
      "Loading required package: lattice\n",
      "Loading required package: ggplot2\n",
      "Registered S3 methods overwritten by 'ggplot2':\n",
      "  method         from \n",
      "  [.quosures     rlang\n",
      "  c.quosures     rlang\n",
      "  print.quosures rlang\n"
     ]
    },
    {
     "ename": "ERROR",
     "evalue": "Error in library(DNAshapeR): there is no package called ‘DNAshapeR’\n",
     "output_type": "error",
     "traceback": [
      "Error in library(DNAshapeR): there is no package called ‘DNAshapeR’\nTraceback:\n",
      "1. library(DNAshapeR)"
     ]
    }
   ],
   "source": [
    "# initialization\n",
    "library(caret)\n",
    "library(DNAshapeR)\n",
    "library(ggplot2)\n",
    "library(grid)"
   ]
  },
  {
   "cell_type": "code",
   "execution_count": 6,
   "metadata": {},
   "outputs": [
    {
     "name": "stderr",
     "output_type": "stream",
     "text": [
      "Bioconductor version 3.10 (BiocManager 1.30.4), R 3.6.1 (2019-07-05)\n",
      "Installing package(s) 'DNAshapeR'\n",
      "also installing the dependencies ‘RCurl’, ‘GenomeInfoDbData’, ‘zlibbioc’, ‘dotCall64’, ‘BiocGenerics’, ‘S4Vectors’, ‘IRanges’, ‘GenomeInfoDb’, ‘XVector’, ‘spam’, ‘GenomicRanges’, ‘Biostrings’, ‘fields’\n",
      "\n",
      "Updating HTML index of packages in '.Library'\n",
      "Making 'packages.html' ... done\n",
      "Update old packages: 'BH', 'BiocManager', 'DBI', 'IRkernel', 'KernSmooth',\n",
      "  'MASS', 'Matrix', 'R6', 'Rcpp', 'SQUAREM', 'TTR', 'askpass', 'backports',\n",
      "  'boot', 'broom', 'callr', 'class', 'cli', 'clipr', 'cluster', 'curl',\n",
      "  'data.table', 'dbplyr', 'digest', 'evaluate', 'fansi', 'forcats', 'foreach',\n",
      "  'formatR', 'fs', 'ggplot2', 'glmnet', 'gower', 'hexbin', 'hms', 'htmltools',\n",
      "  'htmlwidgets', 'httpuv', 'httr', 'ipred', 'iterators', 'jsonlite', 'knitr',\n",
      "  'labeling', 'later', 'lattice', 'lava', 'lubridate', 'markdown', 'mgcv',\n",
      "  'mime', 'modelr', 'nlme', 'nnet', 'numDeriv', 'openssl', 'pbdZMQ',\n",
      "  'pkgconfig', 'plyr', 'prettyunits', 'processx', 'prodlim', 'progress',\n",
      "  'promises', 'ps', 'purrr', 'quantmod', 'readr', 'repr', 'reprex', 'reshape2',\n",
      "  'rmarkdown', 'rstudioapi', 'rvest', 'scales', 'selectr', 'shiny', 'spatial',\n",
      "  'stringi', 'survival', 'sys', 'tidyverse', 'tinytex', 'uuid', 'whisker',\n",
      "  'withr', 'xfun', 'xml2', 'xts', 'yaml', 'zoo'\n"
     ]
    }
   ],
   "source": [
    "BiocManager::install(\"DNAshapeR\")"
   ]
  },
  {
   "cell_type": "code",
   "execution_count": null,
   "metadata": {},
   "outputs": [],
   "source": [
    "# set working directory and read bracken files in\n",
    "setwd(\"/Users/nicktidow/\")\n"
   ]
  }
 ],
 "metadata": {
  "kernelspec": {
   "display_name": "R",
   "language": "R",
   "name": "ir"
  },
  "language_info": {
   "codemirror_mode": "r",
   "file_extension": ".r",
   "mimetype": "text/x-r-source",
   "name": "R",
   "pygments_lexer": "r",
   "version": "3.6.1"
  }
 },
 "nbformat": 4,
 "nbformat_minor": 4
}
