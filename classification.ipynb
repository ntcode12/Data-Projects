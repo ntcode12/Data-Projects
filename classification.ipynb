{
 "cells": [
  {
   "cell_type": "markdown",
   "metadata": {},
   "source": [
    "## Classification model\n",
    "1. How to explore the data\n",
    "2. How to build a classification model\n",
    "3. How to assess a classification model\n",
    "4. How to compare classification models"
   ]
  },
  {
   "cell_type": "code",
   "execution_count": 224,
   "metadata": {},
   "outputs": [],
   "source": [
    "# Initialization\n",
    "library(\"caret\")\n",
    "library(\"e1071\")\n",
    "library(\"ROCR\")\n",
    "library(\"Biostrings\")\n",
    "library(\"DNAshapeR\")\n",
    "\n",
    "set.seed(168)"
   ]
  },
  {
   "cell_type": "markdown",
   "metadata": {},
   "source": [
    "## 1. How to explore the data\n",
    "\n",
    "#### Breast Cancer Wisconsin (Diagnostic) Data Set"
   ]
  },
  {
   "cell_type": "code",
   "execution_count": 302,
   "metadata": {},
   "outputs": [
    {
     "data": {
      "text/html": [
       "<table>\n",
       "<thead><tr><th scope=col>id</th><th scope=col>diagnosis</th><th scope=col>radius_mean</th><th scope=col>texture_mean</th><th scope=col>perimeter_mean</th><th scope=col>area_mean</th><th scope=col>smoothness_mean</th><th scope=col>compactness_mean</th><th scope=col>concavity_mean</th><th scope=col>concave_points_mean</th><th scope=col>...</th><th scope=col>radius_worst</th><th scope=col>texture_worst</th><th scope=col>perimeter_worst</th><th scope=col>area_worst</th><th scope=col>smoothness_worst</th><th scope=col>compactness_worst</th><th scope=col>concavity_worst</th><th scope=col>concave_points_worst</th><th scope=col>symmetry_worst</th><th scope=col>fractal_dimension_worst</th></tr></thead>\n",
       "<tbody>\n",
       "\t<tr><td>  842302</td><td>M       </td><td>17.99   </td><td>10.38   </td><td>122.80  </td><td>1001.0  </td><td>0.11840 </td><td>0.27760 </td><td>0.3001  </td><td>0.14710 </td><td>...     </td><td>25.38   </td><td>17.33   </td><td>184.60  </td><td>2019.0  </td><td>0.1622  </td><td>0.6656  </td><td>0.7119  </td><td>0.2654  </td><td>0.4601  </td><td>0.11890 </td></tr>\n",
       "\t<tr><td>  842517</td><td>M       </td><td>20.57   </td><td>17.77   </td><td>132.90  </td><td>1326.0  </td><td>0.08474 </td><td>0.07864 </td><td>0.0869  </td><td>0.07017 </td><td>...     </td><td>24.99   </td><td>23.41   </td><td>158.80  </td><td>1956.0  </td><td>0.1238  </td><td>0.1866  </td><td>0.2416  </td><td>0.1860  </td><td>0.2750  </td><td>0.08902 </td></tr>\n",
       "\t<tr><td>84300903</td><td>M       </td><td>19.69   </td><td>21.25   </td><td>130.00  </td><td>1203.0  </td><td>0.10960 </td><td>0.15990 </td><td>0.1974  </td><td>0.12790 </td><td>...     </td><td>23.57   </td><td>25.53   </td><td>152.50  </td><td>1709.0  </td><td>0.1444  </td><td>0.4245  </td><td>0.4504  </td><td>0.2430  </td><td>0.3613  </td><td>0.08758 </td></tr>\n",
       "\t<tr><td>84348301</td><td>M       </td><td>11.42   </td><td>20.38   </td><td> 77.58  </td><td> 386.1  </td><td>0.14250 </td><td>0.28390 </td><td>0.2414  </td><td>0.10520 </td><td>...     </td><td>14.91   </td><td>26.50   </td><td> 98.87  </td><td> 567.7  </td><td>0.2098  </td><td>0.8663  </td><td>0.6869  </td><td>0.2575  </td><td>0.6638  </td><td>0.17300 </td></tr>\n",
       "\t<tr><td>84358402</td><td>M       </td><td>20.29   </td><td>14.34   </td><td>135.10  </td><td>1297.0  </td><td>0.10030 </td><td>0.13280 </td><td>0.1980  </td><td>0.10430 </td><td>...     </td><td>22.54   </td><td>16.67   </td><td>152.20  </td><td>1575.0  </td><td>0.1374  </td><td>0.2050  </td><td>0.4000  </td><td>0.1625  </td><td>0.2364  </td><td>0.07678 </td></tr>\n",
       "\t<tr><td>  843786</td><td>M       </td><td>12.45   </td><td>15.70   </td><td> 82.57  </td><td> 477.1  </td><td>0.12780 </td><td>0.17000 </td><td>0.1578  </td><td>0.08089 </td><td>...     </td><td>15.47   </td><td>23.75   </td><td>103.40  </td><td> 741.6  </td><td>0.1791  </td><td>0.5249  </td><td>0.5355  </td><td>0.1741  </td><td>0.3985  </td><td>0.12440 </td></tr>\n",
       "</tbody>\n",
       "</table>\n"
      ],
      "text/latex": [
       "\\begin{tabular}{r|llllllllllllllllllllllllllllllll}\n",
       " id & diagnosis & radius\\_mean & texture\\_mean & perimeter\\_mean & area\\_mean & smoothness\\_mean & compactness\\_mean & concavity\\_mean & concave\\_points\\_mean & ... & radius\\_worst & texture\\_worst & perimeter\\_worst & area\\_worst & smoothness\\_worst & compactness\\_worst & concavity\\_worst & concave\\_points\\_worst & symmetry\\_worst & fractal\\_dimension\\_worst\\\\\n",
       "\\hline\n",
       "\t   842302 & M        & 17.99    & 10.38    & 122.80   & 1001.0   & 0.11840  & 0.27760  & 0.3001   & 0.14710  & ...      & 25.38    & 17.33    & 184.60   & 2019.0   & 0.1622   & 0.6656   & 0.7119   & 0.2654   & 0.4601   & 0.11890 \\\\\n",
       "\t   842517 & M        & 20.57    & 17.77    & 132.90   & 1326.0   & 0.08474  & 0.07864  & 0.0869   & 0.07017  & ...      & 24.99    & 23.41    & 158.80   & 1956.0   & 0.1238   & 0.1866   & 0.2416   & 0.1860   & 0.2750   & 0.08902 \\\\\n",
       "\t 84300903 & M        & 19.69    & 21.25    & 130.00   & 1203.0   & 0.10960  & 0.15990  & 0.1974   & 0.12790  & ...      & 23.57    & 25.53    & 152.50   & 1709.0   & 0.1444   & 0.4245   & 0.4504   & 0.2430   & 0.3613   & 0.08758 \\\\\n",
       "\t 84348301 & M        & 11.42    & 20.38    &  77.58   &  386.1   & 0.14250  & 0.28390  & 0.2414   & 0.10520  & ...      & 14.91    & 26.50    &  98.87   &  567.7   & 0.2098   & 0.8663   & 0.6869   & 0.2575   & 0.6638   & 0.17300 \\\\\n",
       "\t 84358402 & M        & 20.29    & 14.34    & 135.10   & 1297.0   & 0.10030  & 0.13280  & 0.1980   & 0.10430  & ...      & 22.54    & 16.67    & 152.20   & 1575.0   & 0.1374   & 0.2050   & 0.4000   & 0.1625   & 0.2364   & 0.07678 \\\\\n",
       "\t   843786 & M        & 12.45    & 15.70    &  82.57   &  477.1   & 0.12780  & 0.17000  & 0.1578   & 0.08089  & ...      & 15.47    & 23.75    & 103.40   &  741.6   & 0.1791   & 0.5249   & 0.5355   & 0.1741   & 0.3985   & 0.12440 \\\\\n",
       "\\end{tabular}\n"
      ],
      "text/markdown": [
       "\n",
       "| id | diagnosis | radius_mean | texture_mean | perimeter_mean | area_mean | smoothness_mean | compactness_mean | concavity_mean | concave_points_mean | ... | radius_worst | texture_worst | perimeter_worst | area_worst | smoothness_worst | compactness_worst | concavity_worst | concave_points_worst | symmetry_worst | fractal_dimension_worst |\n",
       "|---|---|---|---|---|---|---|---|---|---|---|---|---|---|---|---|---|---|---|---|---|\n",
       "|   842302 | M        | 17.99    | 10.38    | 122.80   | 1001.0   | 0.11840  | 0.27760  | 0.3001   | 0.14710  | ...      | 25.38    | 17.33    | 184.60   | 2019.0   | 0.1622   | 0.6656   | 0.7119   | 0.2654   | 0.4601   | 0.11890  |\n",
       "|   842517 | M        | 20.57    | 17.77    | 132.90   | 1326.0   | 0.08474  | 0.07864  | 0.0869   | 0.07017  | ...      | 24.99    | 23.41    | 158.80   | 1956.0   | 0.1238   | 0.1866   | 0.2416   | 0.1860   | 0.2750   | 0.08902  |\n",
       "| 84300903 | M        | 19.69    | 21.25    | 130.00   | 1203.0   | 0.10960  | 0.15990  | 0.1974   | 0.12790  | ...      | 23.57    | 25.53    | 152.50   | 1709.0   | 0.1444   | 0.4245   | 0.4504   | 0.2430   | 0.3613   | 0.08758  |\n",
       "| 84348301 | M        | 11.42    | 20.38    |  77.58   |  386.1   | 0.14250  | 0.28390  | 0.2414   | 0.10520  | ...      | 14.91    | 26.50    |  98.87   |  567.7   | 0.2098   | 0.8663   | 0.6869   | 0.2575   | 0.6638   | 0.17300  |\n",
       "| 84358402 | M        | 20.29    | 14.34    | 135.10   | 1297.0   | 0.10030  | 0.13280  | 0.1980   | 0.10430  | ...      | 22.54    | 16.67    | 152.20   | 1575.0   | 0.1374   | 0.2050   | 0.4000   | 0.1625   | 0.2364   | 0.07678  |\n",
       "|   843786 | M        | 12.45    | 15.70    |  82.57   |  477.1   | 0.12780  | 0.17000  | 0.1578   | 0.08089  | ...      | 15.47    | 23.75    | 103.40   |  741.6   | 0.1791   | 0.5249   | 0.5355   | 0.1741   | 0.3985   | 0.12440  |\n",
       "\n"
      ],
      "text/plain": [
       "  id       diagnosis radius_mean texture_mean perimeter_mean area_mean\n",
       "1   842302 M         17.99       10.38        122.80         1001.0   \n",
       "2   842517 M         20.57       17.77        132.90         1326.0   \n",
       "3 84300903 M         19.69       21.25        130.00         1203.0   \n",
       "4 84348301 M         11.42       20.38         77.58          386.1   \n",
       "5 84358402 M         20.29       14.34        135.10         1297.0   \n",
       "6   843786 M         12.45       15.70         82.57          477.1   \n",
       "  smoothness_mean compactness_mean concavity_mean concave_points_mean ...\n",
       "1 0.11840         0.27760          0.3001         0.14710             ...\n",
       "2 0.08474         0.07864          0.0869         0.07017             ...\n",
       "3 0.10960         0.15990          0.1974         0.12790             ...\n",
       "4 0.14250         0.28390          0.2414         0.10520             ...\n",
       "5 0.10030         0.13280          0.1980         0.10430             ...\n",
       "6 0.12780         0.17000          0.1578         0.08089             ...\n",
       "  radius_worst texture_worst perimeter_worst area_worst smoothness_worst\n",
       "1 25.38        17.33         184.60          2019.0     0.1622          \n",
       "2 24.99        23.41         158.80          1956.0     0.1238          \n",
       "3 23.57        25.53         152.50          1709.0     0.1444          \n",
       "4 14.91        26.50          98.87           567.7     0.2098          \n",
       "5 22.54        16.67         152.20          1575.0     0.1374          \n",
       "6 15.47        23.75         103.40           741.6     0.1791          \n",
       "  compactness_worst concavity_worst concave_points_worst symmetry_worst\n",
       "1 0.6656            0.7119          0.2654               0.4601        \n",
       "2 0.1866            0.2416          0.1860               0.2750        \n",
       "3 0.4245            0.4504          0.2430               0.3613        \n",
       "4 0.8663            0.6869          0.2575               0.6638        \n",
       "5 0.2050            0.4000          0.1625               0.2364        \n",
       "6 0.5249            0.5355          0.1741               0.3985        \n",
       "  fractal_dimension_worst\n",
       "1 0.11890                \n",
       "2 0.08902                \n",
       "3 0.08758                \n",
       "4 0.17300                \n",
       "5 0.07678                \n",
       "6 0.12440                "
      ]
     },
     "metadata": {},
     "output_type": "display_data"
    },
    {
     "data": {
      "text/plain": [
       "       id            diagnosis  radius_mean      texture_mean  \n",
       " Min.   :     8670   B:357     Min.   : 6.981   Min.   : 9.71  \n",
       " 1st Qu.:   869218   M:212     1st Qu.:11.700   1st Qu.:16.17  \n",
       " Median :   906024             Median :13.370   Median :18.84  \n",
       " Mean   : 30371831             Mean   :14.127   Mean   :19.29  \n",
       " 3rd Qu.:  8813129             3rd Qu.:15.780   3rd Qu.:21.80  \n",
       " Max.   :911320502             Max.   :28.110   Max.   :39.28  \n",
       " perimeter_mean     area_mean      smoothness_mean   compactness_mean \n",
       " Min.   : 43.79   Min.   : 143.5   Min.   :0.05263   Min.   :0.01938  \n",
       " 1st Qu.: 75.17   1st Qu.: 420.3   1st Qu.:0.08637   1st Qu.:0.06492  \n",
       " Median : 86.24   Median : 551.1   Median :0.09587   Median :0.09263  \n",
       " Mean   : 91.97   Mean   : 654.9   Mean   :0.09636   Mean   :0.10434  \n",
       " 3rd Qu.:104.10   3rd Qu.: 782.7   3rd Qu.:0.10530   3rd Qu.:0.13040  \n",
       " Max.   :188.50   Max.   :2501.0   Max.   :0.16340   Max.   :0.34540  \n",
       " concavity_mean    concave_points_mean symmetry_mean    fractal_dimension_mean\n",
       " Min.   :0.00000   Min.   :0.00000     Min.   :0.1060   Min.   :0.04996       \n",
       " 1st Qu.:0.02956   1st Qu.:0.02031     1st Qu.:0.1619   1st Qu.:0.05770       \n",
       " Median :0.06154   Median :0.03350     Median :0.1792   Median :0.06154       \n",
       " Mean   :0.08880   Mean   :0.04892     Mean   :0.1812   Mean   :0.06280       \n",
       " 3rd Qu.:0.13070   3rd Qu.:0.07400     3rd Qu.:0.1957   3rd Qu.:0.06612       \n",
       " Max.   :0.42680   Max.   :0.20120     Max.   :0.3040   Max.   :0.09744       \n",
       "   radius_se        texture_se      perimeter_se       area_se       \n",
       " Min.   :0.1115   Min.   :0.3602   Min.   : 0.757   Min.   :  6.802  \n",
       " 1st Qu.:0.2324   1st Qu.:0.8339   1st Qu.: 1.606   1st Qu.: 17.850  \n",
       " Median :0.3242   Median :1.1080   Median : 2.287   Median : 24.530  \n",
       " Mean   :0.4052   Mean   :1.2169   Mean   : 2.866   Mean   : 40.337  \n",
       " 3rd Qu.:0.4789   3rd Qu.:1.4740   3rd Qu.: 3.357   3rd Qu.: 45.190  \n",
       " Max.   :2.8730   Max.   :4.8850   Max.   :21.980   Max.   :542.200  \n",
       " smoothness_se      compactness_se      concavity_se     concave_points_se \n",
       " Min.   :0.001713   Min.   :0.002252   Min.   :0.00000   Min.   :0.000000  \n",
       " 1st Qu.:0.005169   1st Qu.:0.013080   1st Qu.:0.01509   1st Qu.:0.007638  \n",
       " Median :0.006380   Median :0.020450   Median :0.02589   Median :0.010930  \n",
       " Mean   :0.007041   Mean   :0.025478   Mean   :0.03189   Mean   :0.011796  \n",
       " 3rd Qu.:0.008146   3rd Qu.:0.032450   3rd Qu.:0.04205   3rd Qu.:0.014710  \n",
       " Max.   :0.031130   Max.   :0.135400   Max.   :0.39600   Max.   :0.052790  \n",
       "  symmetry_se       fractal_dimension_se  radius_worst   texture_worst  \n",
       " Min.   :0.007882   Min.   :0.0008948    Min.   : 7.93   Min.   :12.02  \n",
       " 1st Qu.:0.015160   1st Qu.:0.0022480    1st Qu.:13.01   1st Qu.:21.08  \n",
       " Median :0.018730   Median :0.0031870    Median :14.97   Median :25.41  \n",
       " Mean   :0.020542   Mean   :0.0037949    Mean   :16.27   Mean   :25.68  \n",
       " 3rd Qu.:0.023480   3rd Qu.:0.0045580    3rd Qu.:18.79   3rd Qu.:29.72  \n",
       " Max.   :0.078950   Max.   :0.0298400    Max.   :36.04   Max.   :49.54  \n",
       " perimeter_worst    area_worst     smoothness_worst  compactness_worst\n",
       " Min.   : 50.41   Min.   : 185.2   Min.   :0.07117   Min.   :0.02729  \n",
       " 1st Qu.: 84.11   1st Qu.: 515.3   1st Qu.:0.11660   1st Qu.:0.14720  \n",
       " Median : 97.66   Median : 686.5   Median :0.13130   Median :0.21190  \n",
       " Mean   :107.26   Mean   : 880.6   Mean   :0.13237   Mean   :0.25427  \n",
       " 3rd Qu.:125.40   3rd Qu.:1084.0   3rd Qu.:0.14600   3rd Qu.:0.33910  \n",
       " Max.   :251.20   Max.   :4254.0   Max.   :0.22260   Max.   :1.05800  \n",
       " concavity_worst  concave_points_worst symmetry_worst   fractal_dimension_worst\n",
       " Min.   :0.0000   Min.   :0.00000      Min.   :0.1565   Min.   :0.05504        \n",
       " 1st Qu.:0.1145   1st Qu.:0.06493      1st Qu.:0.2504   1st Qu.:0.07146        \n",
       " Median :0.2267   Median :0.09993      Median :0.2822   Median :0.08004        \n",
       " Mean   :0.2722   Mean   :0.11461      Mean   :0.2901   Mean   :0.08395        \n",
       " 3rd Qu.:0.3829   3rd Qu.:0.16140      3rd Qu.:0.3179   3rd Qu.:0.09208        \n",
       " Max.   :1.2520   Max.   :0.29100      Max.   :0.6638   Max.   :0.20750        "
      ]
     },
     "metadata": {},
     "output_type": "display_data"
    },
    {
     "data": {
      "text/html": [
       "212"
      ],
      "text/latex": [
       "212"
      ],
      "text/markdown": [
       "212"
      ],
      "text/plain": [
       "[1] 212"
      ]
     },
     "metadata": {},
     "output_type": "display_data"
    },
    {
     "data": {
      "text/html": [
       "357"
      ],
      "text/latex": [
       "357"
      ],
      "text/markdown": [
       "357"
      ],
      "text/plain": [
       "[1] 357"
      ]
     },
     "metadata": {},
     "output_type": "display_data"
    },
    {
     "data": {
      "text/html": [
       "<table>\n",
       "<thead><tr><th scope=col>diagnosis</th><th scope=col>radius_mean</th><th scope=col>texture_mean</th><th scope=col>perimeter_mean</th><th scope=col>area_mean</th><th scope=col>smoothness_mean</th><th scope=col>compactness_mean</th><th scope=col>concavity_mean</th><th scope=col>concave_points_mean</th><th scope=col>symmetry_mean</th><th scope=col>fractal_dimension_mean</th></tr></thead>\n",
       "<tbody>\n",
       "\t<tr><td>M      </td><td>17.99  </td><td>10.38  </td><td>122.80 </td><td>1001.0 </td><td>0.11840</td><td>0.27760</td><td>0.3001 </td><td>0.14710</td><td>0.2419 </td><td>0.07871</td></tr>\n",
       "\t<tr><td>M      </td><td>20.57  </td><td>17.77  </td><td>132.90 </td><td>1326.0 </td><td>0.08474</td><td>0.07864</td><td>0.0869 </td><td>0.07017</td><td>0.1812 </td><td>0.05667</td></tr>\n",
       "\t<tr><td>M      </td><td>19.69  </td><td>21.25  </td><td>130.00 </td><td>1203.0 </td><td>0.10960</td><td>0.15990</td><td>0.1974 </td><td>0.12790</td><td>0.2069 </td><td>0.05999</td></tr>\n",
       "\t<tr><td>M      </td><td>11.42  </td><td>20.38  </td><td> 77.58 </td><td> 386.1 </td><td>0.14250</td><td>0.28390</td><td>0.2414 </td><td>0.10520</td><td>0.2597 </td><td>0.09744</td></tr>\n",
       "\t<tr><td>M      </td><td>20.29  </td><td>14.34  </td><td>135.10 </td><td>1297.0 </td><td>0.10030</td><td>0.13280</td><td>0.1980 </td><td>0.10430</td><td>0.1809 </td><td>0.05883</td></tr>\n",
       "\t<tr><td>M      </td><td>12.45  </td><td>15.70  </td><td> 82.57 </td><td> 477.1 </td><td>0.12780</td><td>0.17000</td><td>0.1578 </td><td>0.08089</td><td>0.2087 </td><td>0.07613</td></tr>\n",
       "</tbody>\n",
       "</table>\n"
      ],
      "text/latex": [
       "\\begin{tabular}{r|lllllllllll}\n",
       " diagnosis & radius\\_mean & texture\\_mean & perimeter\\_mean & area\\_mean & smoothness\\_mean & compactness\\_mean & concavity\\_mean & concave\\_points\\_mean & symmetry\\_mean & fractal\\_dimension\\_mean\\\\\n",
       "\\hline\n",
       "\t M       & 17.99   & 10.38   & 122.80  & 1001.0  & 0.11840 & 0.27760 & 0.3001  & 0.14710 & 0.2419  & 0.07871\\\\\n",
       "\t M       & 20.57   & 17.77   & 132.90  & 1326.0  & 0.08474 & 0.07864 & 0.0869  & 0.07017 & 0.1812  & 0.05667\\\\\n",
       "\t M       & 19.69   & 21.25   & 130.00  & 1203.0  & 0.10960 & 0.15990 & 0.1974  & 0.12790 & 0.2069  & 0.05999\\\\\n",
       "\t M       & 11.42   & 20.38   &  77.58  &  386.1  & 0.14250 & 0.28390 & 0.2414  & 0.10520 & 0.2597  & 0.09744\\\\\n",
       "\t M       & 20.29   & 14.34   & 135.10  & 1297.0  & 0.10030 & 0.13280 & 0.1980  & 0.10430 & 0.1809  & 0.05883\\\\\n",
       "\t M       & 12.45   & 15.70   &  82.57  &  477.1  & 0.12780 & 0.17000 & 0.1578  & 0.08089 & 0.2087  & 0.07613\\\\\n",
       "\\end{tabular}\n"
      ],
      "text/markdown": [
       "\n",
       "| diagnosis | radius_mean | texture_mean | perimeter_mean | area_mean | smoothness_mean | compactness_mean | concavity_mean | concave_points_mean | symmetry_mean | fractal_dimension_mean |\n",
       "|---|---|---|---|---|---|---|---|---|---|---|\n",
       "| M       | 17.99   | 10.38   | 122.80  | 1001.0  | 0.11840 | 0.27760 | 0.3001  | 0.14710 | 0.2419  | 0.07871 |\n",
       "| M       | 20.57   | 17.77   | 132.90  | 1326.0  | 0.08474 | 0.07864 | 0.0869  | 0.07017 | 0.1812  | 0.05667 |\n",
       "| M       | 19.69   | 21.25   | 130.00  | 1203.0  | 0.10960 | 0.15990 | 0.1974  | 0.12790 | 0.2069  | 0.05999 |\n",
       "| M       | 11.42   | 20.38   |  77.58  |  386.1  | 0.14250 | 0.28390 | 0.2414  | 0.10520 | 0.2597  | 0.09744 |\n",
       "| M       | 20.29   | 14.34   | 135.10  | 1297.0  | 0.10030 | 0.13280 | 0.1980  | 0.10430 | 0.1809  | 0.05883 |\n",
       "| M       | 12.45   | 15.70   |  82.57  |  477.1  | 0.12780 | 0.17000 | 0.1578  | 0.08089 | 0.2087  | 0.07613 |\n",
       "\n"
      ],
      "text/plain": [
       "  diagnosis radius_mean texture_mean perimeter_mean area_mean smoothness_mean\n",
       "1 M         17.99       10.38        122.80         1001.0    0.11840        \n",
       "2 M         20.57       17.77        132.90         1326.0    0.08474        \n",
       "3 M         19.69       21.25        130.00         1203.0    0.10960        \n",
       "4 M         11.42       20.38         77.58          386.1    0.14250        \n",
       "5 M         20.29       14.34        135.10         1297.0    0.10030        \n",
       "6 M         12.45       15.70         82.57          477.1    0.12780        \n",
       "  compactness_mean concavity_mean concave_points_mean symmetry_mean\n",
       "1 0.27760          0.3001         0.14710             0.2419       \n",
       "2 0.07864          0.0869         0.07017             0.1812       \n",
       "3 0.15990          0.1974         0.12790             0.2069       \n",
       "4 0.28390          0.2414         0.10520             0.2597       \n",
       "5 0.13280          0.1980         0.10430             0.1809       \n",
       "6 0.17000          0.1578         0.08089             0.2087       \n",
       "  fractal_dimension_mean\n",
       "1 0.07871               \n",
       "2 0.05667               \n",
       "3 0.05999               \n",
       "4 0.09744               \n",
       "5 0.05883               \n",
       "6 0.07613               "
      ]
     },
     "metadata": {},
     "output_type": "display_data"
    },
    {
     "data": {
      "text/html": [
       "<table>\n",
       "<thead><tr><th scope=col>diagnosis</th><th scope=col>radius_worst</th><th scope=col>texture_worst</th><th scope=col>perimeter_worst</th><th scope=col>area_worst</th><th scope=col>smoothness_worst</th><th scope=col>compactness_worst</th><th scope=col>concavity_worst</th><th scope=col>concave_points_worst</th><th scope=col>symmetry_worst</th><th scope=col>fractal_dimension_worst</th></tr></thead>\n",
       "<tbody>\n",
       "\t<tr><td>M      </td><td>25.38  </td><td>17.33  </td><td>184.60 </td><td>2019.0 </td><td>0.1622 </td><td>0.6656 </td><td>0.7119 </td><td>0.2654 </td><td>0.4601 </td><td>0.11890</td></tr>\n",
       "\t<tr><td>M      </td><td>24.99  </td><td>23.41  </td><td>158.80 </td><td>1956.0 </td><td>0.1238 </td><td>0.1866 </td><td>0.2416 </td><td>0.1860 </td><td>0.2750 </td><td>0.08902</td></tr>\n",
       "\t<tr><td>M      </td><td>23.57  </td><td>25.53  </td><td>152.50 </td><td>1709.0 </td><td>0.1444 </td><td>0.4245 </td><td>0.4504 </td><td>0.2430 </td><td>0.3613 </td><td>0.08758</td></tr>\n",
       "\t<tr><td>M      </td><td>14.91  </td><td>26.50  </td><td> 98.87 </td><td> 567.7 </td><td>0.2098 </td><td>0.8663 </td><td>0.6869 </td><td>0.2575 </td><td>0.6638 </td><td>0.17300</td></tr>\n",
       "\t<tr><td>M      </td><td>22.54  </td><td>16.67  </td><td>152.20 </td><td>1575.0 </td><td>0.1374 </td><td>0.2050 </td><td>0.4000 </td><td>0.1625 </td><td>0.2364 </td><td>0.07678</td></tr>\n",
       "\t<tr><td>M      </td><td>15.47  </td><td>23.75  </td><td>103.40 </td><td> 741.6 </td><td>0.1791 </td><td>0.5249 </td><td>0.5355 </td><td>0.1741 </td><td>0.3985 </td><td>0.12440</td></tr>\n",
       "</tbody>\n",
       "</table>\n"
      ],
      "text/latex": [
       "\\begin{tabular}{r|lllllllllll}\n",
       " diagnosis & radius\\_worst & texture\\_worst & perimeter\\_worst & area\\_worst & smoothness\\_worst & compactness\\_worst & concavity\\_worst & concave\\_points\\_worst & symmetry\\_worst & fractal\\_dimension\\_worst\\\\\n",
       "\\hline\n",
       "\t M       & 25.38   & 17.33   & 184.60  & 2019.0  & 0.1622  & 0.6656  & 0.7119  & 0.2654  & 0.4601  & 0.11890\\\\\n",
       "\t M       & 24.99   & 23.41   & 158.80  & 1956.0  & 0.1238  & 0.1866  & 0.2416  & 0.1860  & 0.2750  & 0.08902\\\\\n",
       "\t M       & 23.57   & 25.53   & 152.50  & 1709.0  & 0.1444  & 0.4245  & 0.4504  & 0.2430  & 0.3613  & 0.08758\\\\\n",
       "\t M       & 14.91   & 26.50   &  98.87  &  567.7  & 0.2098  & 0.8663  & 0.6869  & 0.2575  & 0.6638  & 0.17300\\\\\n",
       "\t M       & 22.54   & 16.67   & 152.20  & 1575.0  & 0.1374  & 0.2050  & 0.4000  & 0.1625  & 0.2364  & 0.07678\\\\\n",
       "\t M       & 15.47   & 23.75   & 103.40  &  741.6  & 0.1791  & 0.5249  & 0.5355  & 0.1741  & 0.3985  & 0.12440\\\\\n",
       "\\end{tabular}\n"
      ],
      "text/markdown": [
       "\n",
       "| diagnosis | radius_worst | texture_worst | perimeter_worst | area_worst | smoothness_worst | compactness_worst | concavity_worst | concave_points_worst | symmetry_worst | fractal_dimension_worst |\n",
       "|---|---|---|---|---|---|---|---|---|---|---|\n",
       "| M       | 25.38   | 17.33   | 184.60  | 2019.0  | 0.1622  | 0.6656  | 0.7119  | 0.2654  | 0.4601  | 0.11890 |\n",
       "| M       | 24.99   | 23.41   | 158.80  | 1956.0  | 0.1238  | 0.1866  | 0.2416  | 0.1860  | 0.2750  | 0.08902 |\n",
       "| M       | 23.57   | 25.53   | 152.50  | 1709.0  | 0.1444  | 0.4245  | 0.4504  | 0.2430  | 0.3613  | 0.08758 |\n",
       "| M       | 14.91   | 26.50   |  98.87  |  567.7  | 0.2098  | 0.8663  | 0.6869  | 0.2575  | 0.6638  | 0.17300 |\n",
       "| M       | 22.54   | 16.67   | 152.20  | 1575.0  | 0.1374  | 0.2050  | 0.4000  | 0.1625  | 0.2364  | 0.07678 |\n",
       "| M       | 15.47   | 23.75   | 103.40  |  741.6  | 0.1791  | 0.5249  | 0.5355  | 0.1741  | 0.3985  | 0.12440 |\n",
       "\n"
      ],
      "text/plain": [
       "  diagnosis radius_worst texture_worst perimeter_worst area_worst\n",
       "1 M         25.38        17.33         184.60          2019.0    \n",
       "2 M         24.99        23.41         158.80          1956.0    \n",
       "3 M         23.57        25.53         152.50          1709.0    \n",
       "4 M         14.91        26.50          98.87           567.7    \n",
       "5 M         22.54        16.67         152.20          1575.0    \n",
       "6 M         15.47        23.75         103.40           741.6    \n",
       "  smoothness_worst compactness_worst concavity_worst concave_points_worst\n",
       "1 0.1622           0.6656            0.7119          0.2654              \n",
       "2 0.1238           0.1866            0.2416          0.1860              \n",
       "3 0.1444           0.4245            0.4504          0.2430              \n",
       "4 0.2098           0.8663            0.6869          0.2575              \n",
       "5 0.1374           0.2050            0.4000          0.1625              \n",
       "6 0.1791           0.5249            0.5355          0.1741              \n",
       "  symmetry_worst fractal_dimension_worst\n",
       "1 0.4601         0.11890                \n",
       "2 0.2750         0.08902                \n",
       "3 0.3613         0.08758                \n",
       "4 0.6638         0.17300                \n",
       "5 0.2364         0.07678                \n",
       "6 0.3985         0.12440                "
      ]
     },
     "metadata": {},
     "output_type": "display_data"
    }
   ],
   "source": [
    "## read data\n",
    "df <- read.csv(\"breast_cancer_data.csv\")\n",
    "head(df)\n",
    "summary(df)\n",
    "\n",
    "## count positive and negative samples\n",
    "nrow(subset(df, diagnosis=='M'))\n",
    "nrow(subset(df, diagnosis=='B'))\n",
    "\n",
    "## mean data\n",
    "df_mean <- df[,2:12]\n",
    "head(df_mean)\n",
    "\n",
    "## worst data\n",
    "df_worst <- cbind(df[,1:2], df[,23:32])\n",
    "df_worst <- df_worst[,2:12]\n",
    "head(df_worst)"
   ]
  },
  {
   "cell_type": "code",
   "execution_count": 303,
   "metadata": {},
   "outputs": [
    {
     "data": {
      "text/html": [
       "<table>\n",
       "<thead><tr><th></th><th scope=col>radius_mean</th><th scope=col>texture_mean</th><th scope=col>perimeter_mean</th><th scope=col>area_mean</th><th scope=col>smoothness_mean</th><th scope=col>compactness_mean</th><th scope=col>concavity_mean</th><th scope=col>concave_points_mean</th><th scope=col>symmetry_mean</th><th scope=col>fractal_dimension_mean</th></tr></thead>\n",
       "<tbody>\n",
       "\t<tr><th scope=row>radius_mean</th><td> 1.0000000 </td><td> 0.32378189</td><td> 0.9978553 </td><td> 0.9873572 </td><td> 0.17058119</td><td>0.5061236  </td><td>0.6767636  </td><td>0.8225285  </td><td>0.14774124 </td><td>-0.31163083</td></tr>\n",
       "\t<tr><th scope=row>texture_mean</th><td> 0.3237819 </td><td> 1.00000000</td><td> 0.3295331 </td><td> 0.3210857 </td><td>-0.02338852</td><td>0.2367022  </td><td>0.3024178  </td><td>0.2934641  </td><td>0.07140098 </td><td>-0.07643718</td></tr>\n",
       "\t<tr><th scope=row>perimeter_mean</th><td> 0.9978553 </td><td> 0.32953306</td><td> 1.0000000 </td><td> 0.9865068 </td><td> 0.20727816</td><td>0.5569362  </td><td>0.7161357  </td><td>0.8509770  </td><td>0.18302721 </td><td>-0.26147691</td></tr>\n",
       "\t<tr><th scope=row>area_mean</th><td> 0.9873572 </td><td> 0.32108570</td><td> 0.9865068 </td><td> 1.0000000 </td><td> 0.17702838</td><td>0.4985017  </td><td>0.6859828  </td><td>0.8232689  </td><td>0.15129308 </td><td>-0.28310981</td></tr>\n",
       "\t<tr><th scope=row>smoothness_mean</th><td> 0.1705812 </td><td>-0.02338852</td><td> 0.2072782 </td><td> 0.1770284 </td><td> 1.00000000</td><td>0.6591232  </td><td>0.5219838  </td><td>0.5536952  </td><td>0.55777479 </td><td> 0.58479200</td></tr>\n",
       "\t<tr><th scope=row>compactness_mean</th><td> 0.5061236 </td><td> 0.23670222</td><td> 0.5569362 </td><td> 0.4985017 </td><td> 0.65912322</td><td>1.0000000  </td><td>0.8831207  </td><td>0.8311350  </td><td>0.60264105 </td><td> 0.56536866</td></tr>\n",
       "\t<tr><th scope=row>concavity_mean</th><td> 0.6767636 </td><td> 0.30241783</td><td> 0.7161357 </td><td> 0.6859828 </td><td> 0.52198377</td><td>0.8831207  </td><td>1.0000000  </td><td>0.9213910  </td><td>0.50066662 </td><td> 0.33678336</td></tr>\n",
       "\t<tr><th scope=row>concave_points_mean</th><td> 0.8225285 </td><td> 0.29346405</td><td> 0.8509770 </td><td> 0.8232689 </td><td> 0.55369517</td><td>0.8311350  </td><td>0.9213910  </td><td>1.0000000  </td><td>0.46249739 </td><td> 0.16691738</td></tr>\n",
       "\t<tr><th scope=row>symmetry_mean</th><td> 0.1477412 </td><td> 0.07140098</td><td> 0.1830272 </td><td> 0.1512931 </td><td> 0.55777479</td><td>0.6026410  </td><td>0.5006666  </td><td>0.4624974  </td><td>1.00000000 </td><td> 0.47992133</td></tr>\n",
       "\t<tr><th scope=row>fractal_dimension_mean</th><td>-0.3116308 </td><td>-0.07643718</td><td>-0.2614769 </td><td>-0.2831098 </td><td> 0.58479200</td><td>0.5653687  </td><td>0.3367834  </td><td>0.1669174  </td><td>0.47992133 </td><td> 1.00000000</td></tr>\n",
       "</tbody>\n",
       "</table>\n"
      ],
      "text/latex": [
       "\\begin{tabular}{r|llllllllll}\n",
       "  & radius\\_mean & texture\\_mean & perimeter\\_mean & area\\_mean & smoothness\\_mean & compactness\\_mean & concavity\\_mean & concave\\_points\\_mean & symmetry\\_mean & fractal\\_dimension\\_mean\\\\\n",
       "\\hline\n",
       "\tradius\\_mean &  1.0000000  &  0.32378189 &  0.9978553  &  0.9873572  &  0.17058119 & 0.5061236   & 0.6767636   & 0.8225285   & 0.14774124  & -0.31163083\\\\\n",
       "\ttexture\\_mean &  0.3237819  &  1.00000000 &  0.3295331  &  0.3210857  & -0.02338852 & 0.2367022   & 0.3024178   & 0.2934641   & 0.07140098  & -0.07643718\\\\\n",
       "\tperimeter\\_mean &  0.9978553  &  0.32953306 &  1.0000000  &  0.9865068  &  0.20727816 & 0.5569362   & 0.7161357   & 0.8509770   & 0.18302721  & -0.26147691\\\\\n",
       "\tarea\\_mean &  0.9873572  &  0.32108570 &  0.9865068  &  1.0000000  &  0.17702838 & 0.4985017   & 0.6859828   & 0.8232689   & 0.15129308  & -0.28310981\\\\\n",
       "\tsmoothness\\_mean &  0.1705812  & -0.02338852 &  0.2072782  &  0.1770284  &  1.00000000 & 0.6591232   & 0.5219838   & 0.5536952   & 0.55777479  &  0.58479200\\\\\n",
       "\tcompactness\\_mean &  0.5061236  &  0.23670222 &  0.5569362  &  0.4985017  &  0.65912322 & 1.0000000   & 0.8831207   & 0.8311350   & 0.60264105  &  0.56536866\\\\\n",
       "\tconcavity\\_mean &  0.6767636  &  0.30241783 &  0.7161357  &  0.6859828  &  0.52198377 & 0.8831207   & 1.0000000   & 0.9213910   & 0.50066662  &  0.33678336\\\\\n",
       "\tconcave\\_points\\_mean &  0.8225285  &  0.29346405 &  0.8509770  &  0.8232689  &  0.55369517 & 0.8311350   & 0.9213910   & 1.0000000   & 0.46249739  &  0.16691738\\\\\n",
       "\tsymmetry\\_mean &  0.1477412  &  0.07140098 &  0.1830272  &  0.1512931  &  0.55777479 & 0.6026410   & 0.5006666   & 0.4624974   & 1.00000000  &  0.47992133\\\\\n",
       "\tfractal\\_dimension\\_mean & -0.3116308  & -0.07643718 & -0.2614769  & -0.2831098  &  0.58479200 & 0.5653687   & 0.3367834   & 0.1669174   & 0.47992133  &  1.00000000\\\\\n",
       "\\end{tabular}\n"
      ],
      "text/markdown": [
       "\n",
       "| <!--/--> | radius_mean | texture_mean | perimeter_mean | area_mean | smoothness_mean | compactness_mean | concavity_mean | concave_points_mean | symmetry_mean | fractal_dimension_mean |\n",
       "|---|---|---|---|---|---|---|---|---|---|---|\n",
       "| radius_mean |  1.0000000  |  0.32378189 |  0.9978553  |  0.9873572  |  0.17058119 | 0.5061236   | 0.6767636   | 0.8225285   | 0.14774124  | -0.31163083 |\n",
       "| texture_mean |  0.3237819  |  1.00000000 |  0.3295331  |  0.3210857  | -0.02338852 | 0.2367022   | 0.3024178   | 0.2934641   | 0.07140098  | -0.07643718 |\n",
       "| perimeter_mean |  0.9978553  |  0.32953306 |  1.0000000  |  0.9865068  |  0.20727816 | 0.5569362   | 0.7161357   | 0.8509770   | 0.18302721  | -0.26147691 |\n",
       "| area_mean |  0.9873572  |  0.32108570 |  0.9865068  |  1.0000000  |  0.17702838 | 0.4985017   | 0.6859828   | 0.8232689   | 0.15129308  | -0.28310981 |\n",
       "| smoothness_mean |  0.1705812  | -0.02338852 |  0.2072782  |  0.1770284  |  1.00000000 | 0.6591232   | 0.5219838   | 0.5536952   | 0.55777479  |  0.58479200 |\n",
       "| compactness_mean |  0.5061236  |  0.23670222 |  0.5569362  |  0.4985017  |  0.65912322 | 1.0000000   | 0.8831207   | 0.8311350   | 0.60264105  |  0.56536866 |\n",
       "| concavity_mean |  0.6767636  |  0.30241783 |  0.7161357  |  0.6859828  |  0.52198377 | 0.8831207   | 1.0000000   | 0.9213910   | 0.50066662  |  0.33678336 |\n",
       "| concave_points_mean |  0.8225285  |  0.29346405 |  0.8509770  |  0.8232689  |  0.55369517 | 0.8311350   | 0.9213910   | 1.0000000   | 0.46249739  |  0.16691738 |\n",
       "| symmetry_mean |  0.1477412  |  0.07140098 |  0.1830272  |  0.1512931  |  0.55777479 | 0.6026410   | 0.5006666   | 0.4624974   | 1.00000000  |  0.47992133 |\n",
       "| fractal_dimension_mean | -0.3116308  | -0.07643718 | -0.2614769  | -0.2831098  |  0.58479200 | 0.5653687   | 0.3367834   | 0.1669174   | 0.47992133  |  1.00000000 |\n",
       "\n"
      ],
      "text/plain": [
       "                       radius_mean texture_mean perimeter_mean area_mean \n",
       "radius_mean             1.0000000   0.32378189   0.9978553      0.9873572\n",
       "texture_mean            0.3237819   1.00000000   0.3295331      0.3210857\n",
       "perimeter_mean          0.9978553   0.32953306   1.0000000      0.9865068\n",
       "area_mean               0.9873572   0.32108570   0.9865068      1.0000000\n",
       "smoothness_mean         0.1705812  -0.02338852   0.2072782      0.1770284\n",
       "compactness_mean        0.5061236   0.23670222   0.5569362      0.4985017\n",
       "concavity_mean          0.6767636   0.30241783   0.7161357      0.6859828\n",
       "concave_points_mean     0.8225285   0.29346405   0.8509770      0.8232689\n",
       "symmetry_mean           0.1477412   0.07140098   0.1830272      0.1512931\n",
       "fractal_dimension_mean -0.3116308  -0.07643718  -0.2614769     -0.2831098\n",
       "                       smoothness_mean compactness_mean concavity_mean\n",
       "radius_mean             0.17058119     0.5061236        0.6767636     \n",
       "texture_mean           -0.02338852     0.2367022        0.3024178     \n",
       "perimeter_mean          0.20727816     0.5569362        0.7161357     \n",
       "area_mean               0.17702838     0.4985017        0.6859828     \n",
       "smoothness_mean         1.00000000     0.6591232        0.5219838     \n",
       "compactness_mean        0.65912322     1.0000000        0.8831207     \n",
       "concavity_mean          0.52198377     0.8831207        1.0000000     \n",
       "concave_points_mean     0.55369517     0.8311350        0.9213910     \n",
       "symmetry_mean           0.55777479     0.6026410        0.5006666     \n",
       "fractal_dimension_mean  0.58479200     0.5653687        0.3367834     \n",
       "                       concave_points_mean symmetry_mean fractal_dimension_mean\n",
       "radius_mean            0.8225285           0.14774124    -0.31163083           \n",
       "texture_mean           0.2934641           0.07140098    -0.07643718           \n",
       "perimeter_mean         0.8509770           0.18302721    -0.26147691           \n",
       "area_mean              0.8232689           0.15129308    -0.28310981           \n",
       "smoothness_mean        0.5536952           0.55777479     0.58479200           \n",
       "compactness_mean       0.8311350           0.60264105     0.56536866           \n",
       "concavity_mean         0.9213910           0.50066662     0.33678336           \n",
       "concave_points_mean    1.0000000           0.46249739     0.16691738           \n",
       "symmetry_mean          0.4624974           1.00000000     0.47992133           \n",
       "fractal_dimension_mean 0.1669174           0.47992133     1.00000000           "
      ]
     },
     "metadata": {},
     "output_type": "display_data"
    },
    {
     "data": {
      "image/png": "[encoded data removed]",
      "text/plain": [
       "plot without title"
      ]
     },
     "metadata": {},
     "output_type": "display_data"
    }
   ],
   "source": [
    "## calculate correlations between features\n",
    "plot(df_mean[,2:11])\n",
    "cor(df_mean[,2:11], df_mean[,2:11])"
   ]
  },
  {
   "cell_type": "code",
   "execution_count": 304,
   "metadata": {},
   "outputs": [
    {
     "data": {
      "text/html": [],
      "text/latex": [],
      "text/markdown": [],
      "text/plain": [
       "character(0)"
      ]
     },
     "metadata": {},
     "output_type": "display_data"
    }
   ],
   "source": [
    "## check is there is missing data\n",
    "df[is.na(df)]"
   ]
  },
  {
   "cell_type": "code",
   "execution_count": 305,
   "metadata": {},
   "outputs": [
    {
     "data": {
      "image/png": "[encoded data removed]",
      "text/plain": [
       "Plot with title \"Diagnosis vs. Radius\""
      ]
     },
     "metadata": {},
     "output_type": "display_data"
    }
   ],
   "source": [
    "plot(df$diagnosis, df$radius_mean, main=\"Diagnosis vs. Radius\", xlab=\"Diagnosis\", ylab=\"Radius\")"
   ]
  },
  {
   "cell_type": "markdown",
   "metadata": {},
   "source": [
    "## 2. How to build a classification model"
   ]
  },
  {
   "cell_type": "code",
   "execution_count": 306,
   "metadata": {},
   "outputs": [
    {
     "data": {
      "text/html": [
       "<table>\n",
       "<thead><tr><th scope=col>diagnosis</th><th scope=col>radius_mean</th><th scope=col>texture_mean</th><th scope=col>perimeter_mean</th><th scope=col>area_mean</th><th scope=col>smoothness_mean</th><th scope=col>compactness_mean</th><th scope=col>concavity_mean</th><th scope=col>concave_points_mean</th><th scope=col>symmetry_mean</th><th scope=col>fractal_dimension_mean</th></tr></thead>\n",
       "<tbody>\n",
       "\t<tr><td>M      </td><td>17.99  </td><td>10.38  </td><td>122.80 </td><td>1001.0 </td><td>0.11840</td><td>0.27760</td><td>0.3001 </td><td>0.14710</td><td>0.2419 </td><td>0.07871</td></tr>\n",
       "\t<tr><td>M      </td><td>20.57  </td><td>17.77  </td><td>132.90 </td><td>1326.0 </td><td>0.08474</td><td>0.07864</td><td>0.0869 </td><td>0.07017</td><td>0.1812 </td><td>0.05667</td></tr>\n",
       "\t<tr><td>M      </td><td>19.69  </td><td>21.25  </td><td>130.00 </td><td>1203.0 </td><td>0.10960</td><td>0.15990</td><td>0.1974 </td><td>0.12790</td><td>0.2069 </td><td>0.05999</td></tr>\n",
       "\t<tr><td>M      </td><td>11.42  </td><td>20.38  </td><td> 77.58 </td><td> 386.1 </td><td>0.14250</td><td>0.28390</td><td>0.2414 </td><td>0.10520</td><td>0.2597 </td><td>0.09744</td></tr>\n",
       "\t<tr><td>M      </td><td>20.29  </td><td>14.34  </td><td>135.10 </td><td>1297.0 </td><td>0.10030</td><td>0.13280</td><td>0.1980 </td><td>0.10430</td><td>0.1809 </td><td>0.05883</td></tr>\n",
       "\t<tr><td>M      </td><td>12.45  </td><td>15.70  </td><td> 82.57 </td><td> 477.1 </td><td>0.12780</td><td>0.17000</td><td>0.1578 </td><td>0.08089</td><td>0.2087 </td><td>0.07613</td></tr>\n",
       "</tbody>\n",
       "</table>\n"
      ],
      "text/latex": [
       "\\begin{tabular}{r|lllllllllll}\n",
       " diagnosis & radius\\_mean & texture\\_mean & perimeter\\_mean & area\\_mean & smoothness\\_mean & compactness\\_mean & concavity\\_mean & concave\\_points\\_mean & symmetry\\_mean & fractal\\_dimension\\_mean\\\\\n",
       "\\hline\n",
       "\t M       & 17.99   & 10.38   & 122.80  & 1001.0  & 0.11840 & 0.27760 & 0.3001  & 0.14710 & 0.2419  & 0.07871\\\\\n",
       "\t M       & 20.57   & 17.77   & 132.90  & 1326.0  & 0.08474 & 0.07864 & 0.0869  & 0.07017 & 0.1812  & 0.05667\\\\\n",
       "\t M       & 19.69   & 21.25   & 130.00  & 1203.0  & 0.10960 & 0.15990 & 0.1974  & 0.12790 & 0.2069  & 0.05999\\\\\n",
       "\t M       & 11.42   & 20.38   &  77.58  &  386.1  & 0.14250 & 0.28390 & 0.2414  & 0.10520 & 0.2597  & 0.09744\\\\\n",
       "\t M       & 20.29   & 14.34   & 135.10  & 1297.0  & 0.10030 & 0.13280 & 0.1980  & 0.10430 & 0.1809  & 0.05883\\\\\n",
       "\t M       & 12.45   & 15.70   &  82.57  &  477.1  & 0.12780 & 0.17000 & 0.1578  & 0.08089 & 0.2087  & 0.07613\\\\\n",
       "\\end{tabular}\n"
      ],
      "text/markdown": [
       "\n",
       "| diagnosis | radius_mean | texture_mean | perimeter_mean | area_mean | smoothness_mean | compactness_mean | concavity_mean | concave_points_mean | symmetry_mean | fractal_dimension_mean |\n",
       "|---|---|---|---|---|---|---|---|---|---|---|\n",
       "| M       | 17.99   | 10.38   | 122.80  | 1001.0  | 0.11840 | 0.27760 | 0.3001  | 0.14710 | 0.2419  | 0.07871 |\n",
       "| M       | 20.57   | 17.77   | 132.90  | 1326.0  | 0.08474 | 0.07864 | 0.0869  | 0.07017 | 0.1812  | 0.05667 |\n",
       "| M       | 19.69   | 21.25   | 130.00  | 1203.0  | 0.10960 | 0.15990 | 0.1974  | 0.12790 | 0.2069  | 0.05999 |\n",
       "| M       | 11.42   | 20.38   |  77.58  |  386.1  | 0.14250 | 0.28390 | 0.2414  | 0.10520 | 0.2597  | 0.09744 |\n",
       "| M       | 20.29   | 14.34   | 135.10  | 1297.0  | 0.10030 | 0.13280 | 0.1980  | 0.10430 | 0.1809  | 0.05883 |\n",
       "| M       | 12.45   | 15.70   |  82.57  |  477.1  | 0.12780 | 0.17000 | 0.1578  | 0.08089 | 0.2087  | 0.07613 |\n",
       "\n"
      ],
      "text/plain": [
       "  diagnosis radius_mean texture_mean perimeter_mean area_mean smoothness_mean\n",
       "1 M         17.99       10.38        122.80         1001.0    0.11840        \n",
       "2 M         20.57       17.77        132.90         1326.0    0.08474        \n",
       "3 M         19.69       21.25        130.00         1203.0    0.10960        \n",
       "4 M         11.42       20.38         77.58          386.1    0.14250        \n",
       "5 M         20.29       14.34        135.10         1297.0    0.10030        \n",
       "6 M         12.45       15.70         82.57          477.1    0.12780        \n",
       "  compactness_mean concavity_mean concave_points_mean symmetry_mean\n",
       "1 0.27760          0.3001         0.14710             0.2419       \n",
       "2 0.07864          0.0869         0.07017             0.1812       \n",
       "3 0.15990          0.1974         0.12790             0.2069       \n",
       "4 0.28390          0.2414         0.10520             0.2597       \n",
       "5 0.13280          0.1980         0.10430             0.1809       \n",
       "6 0.17000          0.1578         0.08089             0.2087       \n",
       "  fractal_dimension_mean\n",
       "1 0.07871               \n",
       "2 0.05667               \n",
       "3 0.05999               \n",
       "4 0.09744               \n",
       "5 0.05883               \n",
       "6 0.07613               "
      ]
     },
     "metadata": {},
     "output_type": "display_data"
    },
    {
     "data": {
      "text/plain": [
       "  radius_mean      texture_mean    perimeter_mean     area_mean     \n",
       " Min.   :0.0000   Min.   :0.0000   Min.   :0.0000   Min.   :0.0000  \n",
       " 1st Qu.:0.2233   1st Qu.:0.2185   1st Qu.:0.2168   1st Qu.:0.1174  \n",
       " Median :0.3024   Median :0.3088   Median :0.2933   Median :0.1729  \n",
       " Mean   :0.3382   Mean   :0.3240   Mean   :0.3329   Mean   :0.2169  \n",
       " 3rd Qu.:0.4164   3rd Qu.:0.4089   3rd Qu.:0.4168   3rd Qu.:0.2711  \n",
       " Max.   :1.0000   Max.   :1.0000   Max.   :1.0000   Max.   :1.0000  \n",
       " smoothness_mean  compactness_mean concavity_mean    concave_points_mean\n",
       " Min.   :0.0000   Min.   :0.0000   Min.   :0.00000   Min.   :0.0000     \n",
       " 1st Qu.:0.3046   1st Qu.:0.1397   1st Qu.:0.06926   1st Qu.:0.1009     \n",
       " Median :0.3904   Median :0.2247   Median :0.14419   Median :0.1665     \n",
       " Mean   :0.3948   Mean   :0.2606   Mean   :0.20806   Mean   :0.2431     \n",
       " 3rd Qu.:0.4755   3rd Qu.:0.3405   3rd Qu.:0.30623   3rd Qu.:0.3678     \n",
       " Max.   :1.0000   Max.   :1.0000   Max.   :1.00000   Max.   :1.0000     \n",
       " symmetry_mean    fractal_dimension_mean\n",
       " Min.   :0.0000   Min.   :0.0000        \n",
       " 1st Qu.:0.2823   1st Qu.:0.1630        \n",
       " Median :0.3697   Median :0.2439        \n",
       " Mean   :0.3796   Mean   :0.2704        \n",
       " 3rd Qu.:0.4530   3rd Qu.:0.3404        \n",
       " Max.   :1.0000   Max.   :1.0000        "
      ]
     },
     "metadata": {},
     "output_type": "display_data"
    },
    {
     "data": {
      "text/html": [
       "<table>\n",
       "<thead><tr><th scope=col>diagnosis</th><th scope=col>radius_mean</th><th scope=col>texture_mean</th><th scope=col>perimeter_mean</th><th scope=col>area_mean</th><th scope=col>smoothness_mean</th><th scope=col>compactness_mean</th><th scope=col>concavity_mean</th><th scope=col>concave_points_mean</th><th scope=col>symmetry_mean</th><th scope=col>fractal_dimension_mean</th></tr></thead>\n",
       "<tbody>\n",
       "\t<tr><td>M        </td><td>0.5210374</td><td>0.0226581</td><td>0.5459885</td><td>0.3637328</td><td>0.5937528</td><td>0.7920373</td><td>0.7031396</td><td>0.7311133</td><td>0.6863636</td><td>0.6055181</td></tr>\n",
       "\t<tr><td>M        </td><td>0.6431445</td><td>0.2725736</td><td>0.6157833</td><td>0.5015907</td><td>0.2898799</td><td>0.1817680</td><td>0.2036082</td><td>0.3487575</td><td>0.3797980</td><td>0.1413227</td></tr>\n",
       "\t<tr><td>M        </td><td>0.6014956</td><td>0.3902604</td><td>0.5957432</td><td>0.4494168</td><td>0.5143089</td><td>0.4310165</td><td>0.4625117</td><td>0.6356859</td><td>0.5095960</td><td>0.2112468</td></tr>\n",
       "\t<tr><td>M        </td><td>0.2100904</td><td>0.3608387</td><td>0.2335015</td><td>0.1029056</td><td>0.8113208</td><td>0.8113613</td><td>0.5656045</td><td>0.5228628</td><td>0.7762626</td><td>1.0000000</td></tr>\n",
       "\t<tr><td>M        </td><td>0.6298926</td><td>0.1565776</td><td>0.6309861</td><td>0.4892895</td><td>0.4303512</td><td>0.3478928</td><td>0.4639175</td><td>0.5183897</td><td>0.3782828</td><td>0.1868155</td></tr>\n",
       "\t<tr><td>M        </td><td>0.2588386</td><td>0.2025702</td><td>0.2679842</td><td>0.1415058</td><td>0.6786133</td><td>0.4619962</td><td>0.3697282</td><td>0.4020378</td><td>0.5186869</td><td>0.5511794</td></tr>\n",
       "</tbody>\n",
       "</table>\n"
      ],
      "text/latex": [
       "\\begin{tabular}{r|lllllllllll}\n",
       " diagnosis & radius\\_mean & texture\\_mean & perimeter\\_mean & area\\_mean & smoothness\\_mean & compactness\\_mean & concavity\\_mean & concave\\_points\\_mean & symmetry\\_mean & fractal\\_dimension\\_mean\\\\\n",
       "\\hline\n",
       "\t M         & 0.5210374 & 0.0226581 & 0.5459885 & 0.3637328 & 0.5937528 & 0.7920373 & 0.7031396 & 0.7311133 & 0.6863636 & 0.6055181\\\\\n",
       "\t M         & 0.6431445 & 0.2725736 & 0.6157833 & 0.5015907 & 0.2898799 & 0.1817680 & 0.2036082 & 0.3487575 & 0.3797980 & 0.1413227\\\\\n",
       "\t M         & 0.6014956 & 0.3902604 & 0.5957432 & 0.4494168 & 0.5143089 & 0.4310165 & 0.4625117 & 0.6356859 & 0.5095960 & 0.2112468\\\\\n",
       "\t M         & 0.2100904 & 0.3608387 & 0.2335015 & 0.1029056 & 0.8113208 & 0.8113613 & 0.5656045 & 0.5228628 & 0.7762626 & 1.0000000\\\\\n",
       "\t M         & 0.6298926 & 0.1565776 & 0.6309861 & 0.4892895 & 0.4303512 & 0.3478928 & 0.4639175 & 0.5183897 & 0.3782828 & 0.1868155\\\\\n",
       "\t M         & 0.2588386 & 0.2025702 & 0.2679842 & 0.1415058 & 0.6786133 & 0.4619962 & 0.3697282 & 0.4020378 & 0.5186869 & 0.5511794\\\\\n",
       "\\end{tabular}\n"
      ],
      "text/markdown": [
       "\n",
       "| diagnosis | radius_mean | texture_mean | perimeter_mean | area_mean | smoothness_mean | compactness_mean | concavity_mean | concave_points_mean | symmetry_mean | fractal_dimension_mean |\n",
       "|---|---|---|---|---|---|---|---|---|---|---|\n",
       "| M         | 0.5210374 | 0.0226581 | 0.5459885 | 0.3637328 | 0.5937528 | 0.7920373 | 0.7031396 | 0.7311133 | 0.6863636 | 0.6055181 |\n",
       "| M         | 0.6431445 | 0.2725736 | 0.6157833 | 0.5015907 | 0.2898799 | 0.1817680 | 0.2036082 | 0.3487575 | 0.3797980 | 0.1413227 |\n",
       "| M         | 0.6014956 | 0.3902604 | 0.5957432 | 0.4494168 | 0.5143089 | 0.4310165 | 0.4625117 | 0.6356859 | 0.5095960 | 0.2112468 |\n",
       "| M         | 0.2100904 | 0.3608387 | 0.2335015 | 0.1029056 | 0.8113208 | 0.8113613 | 0.5656045 | 0.5228628 | 0.7762626 | 1.0000000 |\n",
       "| M         | 0.6298926 | 0.1565776 | 0.6309861 | 0.4892895 | 0.4303512 | 0.3478928 | 0.4639175 | 0.5183897 | 0.3782828 | 0.1868155 |\n",
       "| M         | 0.2588386 | 0.2025702 | 0.2679842 | 0.1415058 | 0.6786133 | 0.4619962 | 0.3697282 | 0.4020378 | 0.5186869 | 0.5511794 |\n",
       "\n"
      ],
      "text/plain": [
       "  diagnosis radius_mean texture_mean perimeter_mean area_mean smoothness_mean\n",
       "1 M         0.5210374   0.0226581    0.5459885      0.3637328 0.5937528      \n",
       "2 M         0.6431445   0.2725736    0.6157833      0.5015907 0.2898799      \n",
       "3 M         0.6014956   0.3902604    0.5957432      0.4494168 0.5143089      \n",
       "4 M         0.2100904   0.3608387    0.2335015      0.1029056 0.8113208      \n",
       "5 M         0.6298926   0.1565776    0.6309861      0.4892895 0.4303512      \n",
       "6 M         0.2588386   0.2025702    0.2679842      0.1415058 0.6786133      \n",
       "  compactness_mean concavity_mean concave_points_mean symmetry_mean\n",
       "1 0.7920373        0.7031396      0.7311133           0.6863636    \n",
       "2 0.1817680        0.2036082      0.3487575           0.3797980    \n",
       "3 0.4310165        0.4625117      0.6356859           0.5095960    \n",
       "4 0.8113613        0.5656045      0.5228628           0.7762626    \n",
       "5 0.3478928        0.4639175      0.5183897           0.3782828    \n",
       "6 0.4619962        0.3697282      0.4020378           0.5186869    \n",
       "  fractal_dimension_mean\n",
       "1 0.6055181             \n",
       "2 0.1413227             \n",
       "3 0.2112468             \n",
       "4 1.0000000             \n",
       "5 0.1868155             \n",
       "6 0.5511794             "
      ]
     },
     "metadata": {},
     "output_type": "display_data"
    },
    {
     "data": {
      "text/html": [
       "<table>\n",
       "<thead><tr><th scope=col>diagnosis</th><th scope=col>radius_worst</th><th scope=col>texture_worst</th><th scope=col>perimeter_worst</th><th scope=col>area_worst</th><th scope=col>smoothness_worst</th><th scope=col>compactness_worst</th><th scope=col>concavity_worst</th><th scope=col>concave_points_worst</th><th scope=col>symmetry_worst</th><th scope=col>fractal_dimension_worst</th></tr></thead>\n",
       "<tbody>\n",
       "\t<tr><td>M      </td><td>25.38  </td><td>17.33  </td><td>184.60 </td><td>2019.0 </td><td>0.1622 </td><td>0.6656 </td><td>0.7119 </td><td>0.2654 </td><td>0.4601 </td><td>0.11890</td></tr>\n",
       "\t<tr><td>M      </td><td>24.99  </td><td>23.41  </td><td>158.80 </td><td>1956.0 </td><td>0.1238 </td><td>0.1866 </td><td>0.2416 </td><td>0.1860 </td><td>0.2750 </td><td>0.08902</td></tr>\n",
       "\t<tr><td>M      </td><td>23.57  </td><td>25.53  </td><td>152.50 </td><td>1709.0 </td><td>0.1444 </td><td>0.4245 </td><td>0.4504 </td><td>0.2430 </td><td>0.3613 </td><td>0.08758</td></tr>\n",
       "\t<tr><td>M      </td><td>14.91  </td><td>26.50  </td><td> 98.87 </td><td> 567.7 </td><td>0.2098 </td><td>0.8663 </td><td>0.6869 </td><td>0.2575 </td><td>0.6638 </td><td>0.17300</td></tr>\n",
       "\t<tr><td>M      </td><td>22.54  </td><td>16.67  </td><td>152.20 </td><td>1575.0 </td><td>0.1374 </td><td>0.2050 </td><td>0.4000 </td><td>0.1625 </td><td>0.2364 </td><td>0.07678</td></tr>\n",
       "\t<tr><td>M      </td><td>15.47  </td><td>23.75  </td><td>103.40 </td><td> 741.6 </td><td>0.1791 </td><td>0.5249 </td><td>0.5355 </td><td>0.1741 </td><td>0.3985 </td><td>0.12440</td></tr>\n",
       "</tbody>\n",
       "</table>\n"
      ],
      "text/latex": [
       "\\begin{tabular}{r|lllllllllll}\n",
       " diagnosis & radius\\_worst & texture\\_worst & perimeter\\_worst & area\\_worst & smoothness\\_worst & compactness\\_worst & concavity\\_worst & concave\\_points\\_worst & symmetry\\_worst & fractal\\_dimension\\_worst\\\\\n",
       "\\hline\n",
       "\t M       & 25.38   & 17.33   & 184.60  & 2019.0  & 0.1622  & 0.6656  & 0.7119  & 0.2654  & 0.4601  & 0.11890\\\\\n",
       "\t M       & 24.99   & 23.41   & 158.80  & 1956.0  & 0.1238  & 0.1866  & 0.2416  & 0.1860  & 0.2750  & 0.08902\\\\\n",
       "\t M       & 23.57   & 25.53   & 152.50  & 1709.0  & 0.1444  & 0.4245  & 0.4504  & 0.2430  & 0.3613  & 0.08758\\\\\n",
       "\t M       & 14.91   & 26.50   &  98.87  &  567.7  & 0.2098  & 0.8663  & 0.6869  & 0.2575  & 0.6638  & 0.17300\\\\\n",
       "\t M       & 22.54   & 16.67   & 152.20  & 1575.0  & 0.1374  & 0.2050  & 0.4000  & 0.1625  & 0.2364  & 0.07678\\\\\n",
       "\t M       & 15.47   & 23.75   & 103.40  &  741.6  & 0.1791  & 0.5249  & 0.5355  & 0.1741  & 0.3985  & 0.12440\\\\\n",
       "\\end{tabular}\n"
      ],
      "text/markdown": [
       "\n",
       "| diagnosis | radius_worst | texture_worst | perimeter_worst | area_worst | smoothness_worst | compactness_worst | concavity_worst | concave_points_worst | symmetry_worst | fractal_dimension_worst |\n",
       "|---|---|---|---|---|---|---|---|---|---|---|\n",
       "| M       | 25.38   | 17.33   | 184.60  | 2019.0  | 0.1622  | 0.6656  | 0.7119  | 0.2654  | 0.4601  | 0.11890 |\n",
       "| M       | 24.99   | 23.41   | 158.80  | 1956.0  | 0.1238  | 0.1866  | 0.2416  | 0.1860  | 0.2750  | 0.08902 |\n",
       "| M       | 23.57   | 25.53   | 152.50  | 1709.0  | 0.1444  | 0.4245  | 0.4504  | 0.2430  | 0.3613  | 0.08758 |\n",
       "| M       | 14.91   | 26.50   |  98.87  |  567.7  | 0.2098  | 0.8663  | 0.6869  | 0.2575  | 0.6638  | 0.17300 |\n",
       "| M       | 22.54   | 16.67   | 152.20  | 1575.0  | 0.1374  | 0.2050  | 0.4000  | 0.1625  | 0.2364  | 0.07678 |\n",
       "| M       | 15.47   | 23.75   | 103.40  |  741.6  | 0.1791  | 0.5249  | 0.5355  | 0.1741  | 0.3985  | 0.12440 |\n",
       "\n"
      ],
      "text/plain": [
       "  diagnosis radius_worst texture_worst perimeter_worst area_worst\n",
       "1 M         25.38        17.33         184.60          2019.0    \n",
       "2 M         24.99        23.41         158.80          1956.0    \n",
       "3 M         23.57        25.53         152.50          1709.0    \n",
       "4 M         14.91        26.50          98.87           567.7    \n",
       "5 M         22.54        16.67         152.20          1575.0    \n",
       "6 M         15.47        23.75         103.40           741.6    \n",
       "  smoothness_worst compactness_worst concavity_worst concave_points_worst\n",
       "1 0.1622           0.6656            0.7119          0.2654              \n",
       "2 0.1238           0.1866            0.2416          0.1860              \n",
       "3 0.1444           0.4245            0.4504          0.2430              \n",
       "4 0.2098           0.8663            0.6869          0.2575              \n",
       "5 0.1374           0.2050            0.4000          0.1625              \n",
       "6 0.1791           0.5249            0.5355          0.1741              \n",
       "  symmetry_worst fractal_dimension_worst\n",
       "1 0.4601         0.11890                \n",
       "2 0.2750         0.08902                \n",
       "3 0.3613         0.08758                \n",
       "4 0.6638         0.17300                \n",
       "5 0.2364         0.07678                \n",
       "6 0.3985         0.12440                "
      ]
     },
     "metadata": {},
     "output_type": "display_data"
    },
    {
     "data": {
      "text/plain": [
       "  radius_worst    texture_worst    perimeter_worst    area_worst     \n",
       " Min.   :0.0000   Min.   :0.0000   Min.   :0.0000   Min.   :0.00000  \n",
       " 1st Qu.:0.1807   1st Qu.:0.2415   1st Qu.:0.1678   1st Qu.:0.08113  \n",
       " Median :0.2504   Median :0.3569   Median :0.2353   Median :0.12321  \n",
       " Mean   :0.2967   Mean   :0.3640   Mean   :0.2831   Mean   :0.17091  \n",
       " 3rd Qu.:0.3863   3rd Qu.:0.4717   3rd Qu.:0.3735   3rd Qu.:0.22090  \n",
       " Max.   :1.0000   Max.   :1.0000   Max.   :1.0000   Max.   :1.00000  \n",
       " smoothness_worst compactness_worst concavity_worst   concave_points_worst\n",
       " Min.   :0.0000   Min.   :0.0000    Min.   :0.00000   Min.   :0.0000      \n",
       " 1st Qu.:0.3000   1st Qu.:0.1163    1st Qu.:0.09145   1st Qu.:0.2231      \n",
       " Median :0.3971   Median :0.1791    Median :0.18107   Median :0.3434      \n",
       " Mean   :0.4041   Mean   :0.2202    Mean   :0.21740   Mean   :0.3938      \n",
       " 3rd Qu.:0.4942   3rd Qu.:0.3025    3rd Qu.:0.30583   3rd Qu.:0.5546      \n",
       " Max.   :1.0000   Max.   :1.0000    Max.   :1.00000   Max.   :1.0000      \n",
       " symmetry_worst   fractal_dimension_worst\n",
       " Min.   :0.0000   Min.   :0.0000         \n",
       " 1st Qu.:0.1851   1st Qu.:0.1077         \n",
       " Median :0.2478   Median :0.1640         \n",
       " Mean   :0.2633   Mean   :0.1896         \n",
       " 3rd Qu.:0.3182   3rd Qu.:0.2429         \n",
       " Max.   :1.0000   Max.   :1.0000         "
      ]
     },
     "metadata": {},
     "output_type": "display_data"
    },
    {
     "data": {
      "text/html": [
       "<table>\n",
       "<thead><tr><th scope=col>diagnosis</th><th scope=col>radius_worst</th><th scope=col>texture_worst</th><th scope=col>perimeter_worst</th><th scope=col>area_worst</th><th scope=col>smoothness_worst</th><th scope=col>compactness_worst</th><th scope=col>concavity_worst</th><th scope=col>concave_points_worst</th><th scope=col>symmetry_worst</th><th scope=col>fractal_dimension_worst</th></tr></thead>\n",
       "<tbody>\n",
       "\t<tr><td>M         </td><td>0.6207755 </td><td>0.1415245 </td><td>0.6683102 </td><td>0.45069799</td><td>0.6011358 </td><td>0.6192916 </td><td>0.5686102 </td><td>0.9120275 </td><td>0.5984624 </td><td>0.4188640 </td></tr>\n",
       "\t<tr><td>M         </td><td>0.6069015 </td><td>0.3035714 </td><td>0.5398177 </td><td>0.43521431</td><td>0.3475533 </td><td>0.1545634 </td><td>0.1929712 </td><td>0.6391753 </td><td>0.2335896 </td><td>0.2228781 </td></tr>\n",
       "\t<tr><td>M         </td><td>0.5563856 </td><td>0.3600746 </td><td>0.5084417 </td><td>0.37450845</td><td>0.4835898 </td><td>0.3853751 </td><td>0.3597444 </td><td>0.8350515 </td><td>0.4037059 </td><td>0.2134330 </td></tr>\n",
       "\t<tr><td>M         </td><td>0.2483102 </td><td>0.3859275 </td><td>0.2413467 </td><td>0.09400806</td><td>0.9154725 </td><td>0.8140117 </td><td>0.5486422 </td><td>0.8848797 </td><td>1.0000000 </td><td>0.7737111 </td></tr>\n",
       "\t<tr><td>M         </td><td>0.5197439 </td><td>0.1239339 </td><td>0.5069476 </td><td>0.34157491</td><td>0.4373638 </td><td>0.1724151 </td><td>0.3194888 </td><td>0.5584192 </td><td>0.1575005 </td><td>0.1425948 </td></tr>\n",
       "\t<tr><td>M         </td><td>0.2682319 </td><td>0.3126333 </td><td>0.2639076 </td><td>0.13674794</td><td>0.7127386 </td><td>0.4827837 </td><td>0.4277157 </td><td>0.5982818 </td><td>0.4770353 </td><td>0.4549390 </td></tr>\n",
       "</tbody>\n",
       "</table>\n"
      ],
      "text/latex": [
       "\\begin{tabular}{r|lllllllllll}\n",
       " diagnosis & radius\\_worst & texture\\_worst & perimeter\\_worst & area\\_worst & smoothness\\_worst & compactness\\_worst & concavity\\_worst & concave\\_points\\_worst & symmetry\\_worst & fractal\\_dimension\\_worst\\\\\n",
       "\\hline\n",
       "\t M          & 0.6207755  & 0.1415245  & 0.6683102  & 0.45069799 & 0.6011358  & 0.6192916  & 0.5686102  & 0.9120275  & 0.5984624  & 0.4188640 \\\\\n",
       "\t M          & 0.6069015  & 0.3035714  & 0.5398177  & 0.43521431 & 0.3475533  & 0.1545634  & 0.1929712  & 0.6391753  & 0.2335896  & 0.2228781 \\\\\n",
       "\t M          & 0.5563856  & 0.3600746  & 0.5084417  & 0.37450845 & 0.4835898  & 0.3853751  & 0.3597444  & 0.8350515  & 0.4037059  & 0.2134330 \\\\\n",
       "\t M          & 0.2483102  & 0.3859275  & 0.2413467  & 0.09400806 & 0.9154725  & 0.8140117  & 0.5486422  & 0.8848797  & 1.0000000  & 0.7737111 \\\\\n",
       "\t M          & 0.5197439  & 0.1239339  & 0.5069476  & 0.34157491 & 0.4373638  & 0.1724151  & 0.3194888  & 0.5584192  & 0.1575005  & 0.1425948 \\\\\n",
       "\t M          & 0.2682319  & 0.3126333  & 0.2639076  & 0.13674794 & 0.7127386  & 0.4827837  & 0.4277157  & 0.5982818  & 0.4770353  & 0.4549390 \\\\\n",
       "\\end{tabular}\n"
      ],
      "text/markdown": [
       "\n",
       "| diagnosis | radius_worst | texture_worst | perimeter_worst | area_worst | smoothness_worst | compactness_worst | concavity_worst | concave_points_worst | symmetry_worst | fractal_dimension_worst |\n",
       "|---|---|---|---|---|---|---|---|---|---|---|\n",
       "| M          | 0.6207755  | 0.1415245  | 0.6683102  | 0.45069799 | 0.6011358  | 0.6192916  | 0.5686102  | 0.9120275  | 0.5984624  | 0.4188640  |\n",
       "| M          | 0.6069015  | 0.3035714  | 0.5398177  | 0.43521431 | 0.3475533  | 0.1545634  | 0.1929712  | 0.6391753  | 0.2335896  | 0.2228781  |\n",
       "| M          | 0.5563856  | 0.3600746  | 0.5084417  | 0.37450845 | 0.4835898  | 0.3853751  | 0.3597444  | 0.8350515  | 0.4037059  | 0.2134330  |\n",
       "| M          | 0.2483102  | 0.3859275  | 0.2413467  | 0.09400806 | 0.9154725  | 0.8140117  | 0.5486422  | 0.8848797  | 1.0000000  | 0.7737111  |\n",
       "| M          | 0.5197439  | 0.1239339  | 0.5069476  | 0.34157491 | 0.4373638  | 0.1724151  | 0.3194888  | 0.5584192  | 0.1575005  | 0.1425948  |\n",
       "| M          | 0.2682319  | 0.3126333  | 0.2639076  | 0.13674794 | 0.7127386  | 0.4827837  | 0.4277157  | 0.5982818  | 0.4770353  | 0.4549390  |\n",
       "\n"
      ],
      "text/plain": [
       "  diagnosis radius_worst texture_worst perimeter_worst area_worst\n",
       "1 M         0.6207755    0.1415245     0.6683102       0.45069799\n",
       "2 M         0.6069015    0.3035714     0.5398177       0.43521431\n",
       "3 M         0.5563856    0.3600746     0.5084417       0.37450845\n",
       "4 M         0.2483102    0.3859275     0.2413467       0.09400806\n",
       "5 M         0.5197439    0.1239339     0.5069476       0.34157491\n",
       "6 M         0.2682319    0.3126333     0.2639076       0.13674794\n",
       "  smoothness_worst compactness_worst concavity_worst concave_points_worst\n",
       "1 0.6011358        0.6192916         0.5686102       0.9120275           \n",
       "2 0.3475533        0.1545634         0.1929712       0.6391753           \n",
       "3 0.4835898        0.3853751         0.3597444       0.8350515           \n",
       "4 0.9154725        0.8140117         0.5486422       0.8848797           \n",
       "5 0.4373638        0.1724151         0.3194888       0.5584192           \n",
       "6 0.7127386        0.4827837         0.4277157       0.5982818           \n",
       "  symmetry_worst fractal_dimension_worst\n",
       "1 0.5984624      0.4188640              \n",
       "2 0.2335896      0.2228781              \n",
       "3 0.4037059      0.2134330              \n",
       "4 1.0000000      0.7737111              \n",
       "5 0.1575005      0.1425948              \n",
       "6 0.4770353      0.4549390              "
      ]
     },
     "metadata": {},
     "output_type": "display_data"
    },
    {
     "data": {
      "text/html": [
       "<table>\n",
       "<thead><tr><th scope=col>diagnosis</th><th scope=col>radius_mean</th><th scope=col>texture_mean</th><th scope=col>perimeter_mean</th><th scope=col>area_mean</th><th scope=col>smoothness_mean</th><th scope=col>compactness_mean</th><th scope=col>concavity_mean</th><th scope=col>concave_points_mean</th><th scope=col>symmetry_mean</th><th scope=col>fractal_dimension_mean</th></tr></thead>\n",
       "<tbody>\n",
       "\t<tr><td>M      </td><td>17.99  </td><td>10.38  </td><td>122.80 </td><td>1001.0 </td><td>0.11840</td><td>0.27760</td><td>0.3001 </td><td>0.14710</td><td>0.2419 </td><td>0.07871</td></tr>\n",
       "\t<tr><td>M      </td><td>20.57  </td><td>17.77  </td><td>132.90 </td><td>1326.0 </td><td>0.08474</td><td>0.07864</td><td>0.0869 </td><td>0.07017</td><td>0.1812 </td><td>0.05667</td></tr>\n",
       "\t<tr><td>M      </td><td>19.69  </td><td>21.25  </td><td>130.00 </td><td>1203.0 </td><td>0.10960</td><td>0.15990</td><td>0.1974 </td><td>0.12790</td><td>0.2069 </td><td>0.05999</td></tr>\n",
       "\t<tr><td>M      </td><td>11.42  </td><td>20.38  </td><td> 77.58 </td><td> 386.1 </td><td>0.14250</td><td>0.28390</td><td>0.2414 </td><td>0.10520</td><td>0.2597 </td><td>0.09744</td></tr>\n",
       "\t<tr><td>M      </td><td>20.29  </td><td>14.34  </td><td>135.10 </td><td>1297.0 </td><td>0.10030</td><td>0.13280</td><td>0.1980 </td><td>0.10430</td><td>0.1809 </td><td>0.05883</td></tr>\n",
       "\t<tr><td>M      </td><td>12.45  </td><td>15.70  </td><td> 82.57 </td><td> 477.1 </td><td>0.12780</td><td>0.17000</td><td>0.1578 </td><td>0.08089</td><td>0.2087 </td><td>0.07613</td></tr>\n",
       "</tbody>\n",
       "</table>\n"
      ],
      "text/latex": [
       "\\begin{tabular}{r|lllllllllll}\n",
       " diagnosis & radius\\_mean & texture\\_mean & perimeter\\_mean & area\\_mean & smoothness\\_mean & compactness\\_mean & concavity\\_mean & concave\\_points\\_mean & symmetry\\_mean & fractal\\_dimension\\_mean\\\\\n",
       "\\hline\n",
       "\t M       & 17.99   & 10.38   & 122.80  & 1001.0  & 0.11840 & 0.27760 & 0.3001  & 0.14710 & 0.2419  & 0.07871\\\\\n",
       "\t M       & 20.57   & 17.77   & 132.90  & 1326.0  & 0.08474 & 0.07864 & 0.0869  & 0.07017 & 0.1812  & 0.05667\\\\\n",
       "\t M       & 19.69   & 21.25   & 130.00  & 1203.0  & 0.10960 & 0.15990 & 0.1974  & 0.12790 & 0.2069  & 0.05999\\\\\n",
       "\t M       & 11.42   & 20.38   &  77.58  &  386.1  & 0.14250 & 0.28390 & 0.2414  & 0.10520 & 0.2597  & 0.09744\\\\\n",
       "\t M       & 20.29   & 14.34   & 135.10  & 1297.0  & 0.10030 & 0.13280 & 0.1980  & 0.10430 & 0.1809  & 0.05883\\\\\n",
       "\t M       & 12.45   & 15.70   &  82.57  &  477.1  & 0.12780 & 0.17000 & 0.1578  & 0.08089 & 0.2087  & 0.07613\\\\\n",
       "\\end{tabular}\n"
      ],
      "text/markdown": [
       "\n",
       "| diagnosis | radius_mean | texture_mean | perimeter_mean | area_mean | smoothness_mean | compactness_mean | concavity_mean | concave_points_mean | symmetry_mean | fractal_dimension_mean |\n",
       "|---|---|---|---|---|---|---|---|---|---|---|\n",
       "| M       | 17.99   | 10.38   | 122.80  | 1001.0  | 0.11840 | 0.27760 | 0.3001  | 0.14710 | 0.2419  | 0.07871 |\n",
       "| M       | 20.57   | 17.77   | 132.90  | 1326.0  | 0.08474 | 0.07864 | 0.0869  | 0.07017 | 0.1812  | 0.05667 |\n",
       "| M       | 19.69   | 21.25   | 130.00  | 1203.0  | 0.10960 | 0.15990 | 0.1974  | 0.12790 | 0.2069  | 0.05999 |\n",
       "| M       | 11.42   | 20.38   |  77.58  |  386.1  | 0.14250 | 0.28390 | 0.2414  | 0.10520 | 0.2597  | 0.09744 |\n",
       "| M       | 20.29   | 14.34   | 135.10  | 1297.0  | 0.10030 | 0.13280 | 0.1980  | 0.10430 | 0.1809  | 0.05883 |\n",
       "| M       | 12.45   | 15.70   |  82.57  |  477.1  | 0.12780 | 0.17000 | 0.1578  | 0.08089 | 0.2087  | 0.07613 |\n",
       "\n"
      ],
      "text/plain": [
       "  diagnosis radius_mean texture_mean perimeter_mean area_mean smoothness_mean\n",
       "1 M         17.99       10.38        122.80         1001.0    0.11840        \n",
       "2 M         20.57       17.77        132.90         1326.0    0.08474        \n",
       "3 M         19.69       21.25        130.00         1203.0    0.10960        \n",
       "4 M         11.42       20.38         77.58          386.1    0.14250        \n",
       "5 M         20.29       14.34        135.10         1297.0    0.10030        \n",
       "6 M         12.45       15.70         82.57          477.1    0.12780        \n",
       "  compactness_mean concavity_mean concave_points_mean symmetry_mean\n",
       "1 0.27760          0.3001         0.14710             0.2419       \n",
       "2 0.07864          0.0869         0.07017             0.1812       \n",
       "3 0.15990          0.1974         0.12790             0.2069       \n",
       "4 0.28390          0.2414         0.10520             0.2597       \n",
       "5 0.13280          0.1980         0.10430             0.1809       \n",
       "6 0.17000          0.1578         0.08089             0.2087       \n",
       "  fractal_dimension_mean\n",
       "1 0.07871               \n",
       "2 0.05667               \n",
       "3 0.05999               \n",
       "4 0.09744               \n",
       "5 0.05883               \n",
       "6 0.07613               "
      ]
     },
     "metadata": {},
     "output_type": "display_data"
    },
    {
     "data": {
      "text/plain": [
       " diagnosis  radius_mean       texture_mean     perimeter_mean   \n",
       " B:357     Min.   :-2.0279   Min.   :-2.2273   Min.   :-1.9828  \n",
       " M:212     1st Qu.:-0.6888   1st Qu.:-0.7253   1st Qu.:-0.6913  \n",
       "           Median :-0.2149   Median :-0.1045   Median :-0.2358  \n",
       "           Mean   : 0.0000   Mean   : 0.0000   Mean   : 0.0000  \n",
       "           3rd Qu.: 0.4690   3rd Qu.: 0.5837   3rd Qu.: 0.4992  \n",
       "           Max.   : 3.9678   Max.   : 4.6478   Max.   : 3.9726  \n",
       "   area_mean       smoothness_mean    compactness_mean  concavity_mean   \n",
       " Min.   :-1.4532   Min.   :-3.10935   Min.   :-1.6087   Min.   :-1.1139  \n",
       " 1st Qu.:-0.6666   1st Qu.:-0.71034   1st Qu.:-0.7464   1st Qu.:-0.7431  \n",
       " Median :-0.2949   Median :-0.03486   Median :-0.2217   Median :-0.3419  \n",
       " Mean   : 0.0000   Mean   : 0.00000   Mean   : 0.0000   Mean   : 0.0000  \n",
       " 3rd Qu.: 0.3632   3rd Qu.: 0.63564   3rd Qu.: 0.4934   3rd Qu.: 0.5256  \n",
       " Max.   : 5.2459   Max.   : 4.76672   Max.   : 4.5644   Max.   : 4.2399  \n",
       " concave_points_mean symmetry_mean      fractal_dimension_mean\n",
       " Min.   :-1.2607     Min.   :-2.74171   Min.   :-1.8183       \n",
       " 1st Qu.:-0.7373     1st Qu.:-0.70262   1st Qu.:-0.7220       \n",
       " Median :-0.3974     Median :-0.07156   Median :-0.1781       \n",
       " Mean   : 0.0000     Mean   : 0.00000   Mean   : 0.0000       \n",
       " 3rd Qu.: 0.6464     3rd Qu.: 0.53031   3rd Qu.: 0.4706       \n",
       " Max.   : 3.9245     Max.   : 4.48081   Max.   : 4.9066       "
      ]
     },
     "metadata": {},
     "output_type": "display_data"
    },
    {
     "data": {
      "text/html": [
       "<table>\n",
       "<thead><tr><th scope=col>diagnosis</th><th scope=col>radius_mean</th><th scope=col>texture_mean</th><th scope=col>perimeter_mean</th><th scope=col>area_mean</th><th scope=col>smoothness_mean</th><th scope=col>compactness_mean</th><th scope=col>concavity_mean</th><th scope=col>concave_points_mean</th><th scope=col>symmetry_mean</th><th scope=col>fractal_dimension_mean</th></tr></thead>\n",
       "<tbody>\n",
       "\t<tr><td>M           </td><td> 1.0960995  </td><td>-2.0715123  </td><td> 1.2688173  </td><td> 0.9835095  </td><td> 1.5670875  </td><td> 3.2806281  </td><td> 2.65054179 </td><td>2.5302489   </td><td> 2.215565542</td><td> 2.2537638  </td></tr>\n",
       "\t<tr><td>M           </td><td> 1.8282120  </td><td>-0.3533215  </td><td> 1.6844726  </td><td> 1.9070303  </td><td>-0.8262354  </td><td>-0.4866435  </td><td>-0.02382489 </td><td>0.5476623   </td><td> 0.001391139</td><td>-0.8678888  </td></tr>\n",
       "\t<tr><td>M           </td><td> 1.5784992  </td><td> 0.4557859  </td><td> 1.5651260  </td><td> 1.5575132  </td><td> 0.9413821  </td><td> 1.0519999  </td><td> 1.36227979 </td><td>2.0354398   </td><td> 0.938858720</td><td>-0.3976580  </td></tr>\n",
       "\t<tr><td>M           </td><td>-0.7682333  </td><td> 0.2535091  </td><td>-0.5921661  </td><td>-0.7637917  </td><td> 3.2806668  </td><td> 3.3999174  </td><td> 1.91421287 </td><td>1.4504311   </td><td> 2.864862154</td><td> 4.9066020  </td></tr>\n",
       "\t<tr><td>M           </td><td> 1.7487579  </td><td>-1.1508038  </td><td> 1.7750113  </td><td> 1.8246238  </td><td> 0.2801253  </td><td> 0.5388663  </td><td> 1.36980615 </td><td>1.4272370   </td><td>-0.009552062</td><td>-0.5619555  </td></tr>\n",
       "\t<tr><td>M           </td><td>-0.4759559  </td><td>-0.8346009  </td><td>-0.3868077  </td><td>-0.5052059  </td><td> 2.2354545  </td><td> 1.2432416  </td><td> 0.86554001 </td><td>0.8239307   </td><td> 1.004517928</td><td> 1.8883435  </td></tr>\n",
       "</tbody>\n",
       "</table>\n"
      ],
      "text/latex": [
       "\\begin{tabular}{r|lllllllllll}\n",
       " diagnosis & radius\\_mean & texture\\_mean & perimeter\\_mean & area\\_mean & smoothness\\_mean & compactness\\_mean & concavity\\_mean & concave\\_points\\_mean & symmetry\\_mean & fractal\\_dimension\\_mean\\\\\n",
       "\\hline\n",
       "\t M            &  1.0960995   & -2.0715123   &  1.2688173   &  0.9835095   &  1.5670875   &  3.2806281   &  2.65054179  & 2.5302489    &  2.215565542 &  2.2537638  \\\\\n",
       "\t M            &  1.8282120   & -0.3533215   &  1.6844726   &  1.9070303   & -0.8262354   & -0.4866435   & -0.02382489  & 0.5476623    &  0.001391139 & -0.8678888  \\\\\n",
       "\t M            &  1.5784992   &  0.4557859   &  1.5651260   &  1.5575132   &  0.9413821   &  1.0519999   &  1.36227979  & 2.0354398    &  0.938858720 & -0.3976580  \\\\\n",
       "\t M            & -0.7682333   &  0.2535091   & -0.5921661   & -0.7637917   &  3.2806668   &  3.3999174   &  1.91421287  & 1.4504311    &  2.864862154 &  4.9066020  \\\\\n",
       "\t M            &  1.7487579   & -1.1508038   &  1.7750113   &  1.8246238   &  0.2801253   &  0.5388663   &  1.36980615  & 1.4272370    & -0.009552062 & -0.5619555  \\\\\n",
       "\t M            & -0.4759559   & -0.8346009   & -0.3868077   & -0.5052059   &  2.2354545   &  1.2432416   &  0.86554001  & 0.8239307    &  1.004517928 &  1.8883435  \\\\\n",
       "\\end{tabular}\n"
      ],
      "text/markdown": [
       "\n",
       "| diagnosis | radius_mean | texture_mean | perimeter_mean | area_mean | smoothness_mean | compactness_mean | concavity_mean | concave_points_mean | symmetry_mean | fractal_dimension_mean |\n",
       "|---|---|---|---|---|---|---|---|---|---|---|\n",
       "| M            |  1.0960995   | -2.0715123   |  1.2688173   |  0.9835095   |  1.5670875   |  3.2806281   |  2.65054179  | 2.5302489    |  2.215565542 |  2.2537638   |\n",
       "| M            |  1.8282120   | -0.3533215   |  1.6844726   |  1.9070303   | -0.8262354   | -0.4866435   | -0.02382489  | 0.5476623    |  0.001391139 | -0.8678888   |\n",
       "| M            |  1.5784992   |  0.4557859   |  1.5651260   |  1.5575132   |  0.9413821   |  1.0519999   |  1.36227979  | 2.0354398    |  0.938858720 | -0.3976580   |\n",
       "| M            | -0.7682333   |  0.2535091   | -0.5921661   | -0.7637917   |  3.2806668   |  3.3999174   |  1.91421287  | 1.4504311    |  2.864862154 |  4.9066020   |\n",
       "| M            |  1.7487579   | -1.1508038   |  1.7750113   |  1.8246238   |  0.2801253   |  0.5388663   |  1.36980615  | 1.4272370    | -0.009552062 | -0.5619555   |\n",
       "| M            | -0.4759559   | -0.8346009   | -0.3868077   | -0.5052059   |  2.2354545   |  1.2432416   |  0.86554001  | 0.8239307    |  1.004517928 |  1.8883435   |\n",
       "\n"
      ],
      "text/plain": [
       "  diagnosis radius_mean texture_mean perimeter_mean area_mean  smoothness_mean\n",
       "1 M          1.0960995  -2.0715123    1.2688173      0.9835095  1.5670875     \n",
       "2 M          1.8282120  -0.3533215    1.6844726      1.9070303 -0.8262354     \n",
       "3 M          1.5784992   0.4557859    1.5651260      1.5575132  0.9413821     \n",
       "4 M         -0.7682333   0.2535091   -0.5921661     -0.7637917  3.2806668     \n",
       "5 M          1.7487579  -1.1508038    1.7750113      1.8246238  0.2801253     \n",
       "6 M         -0.4759559  -0.8346009   -0.3868077     -0.5052059  2.2354545     \n",
       "  compactness_mean concavity_mean concave_points_mean symmetry_mean\n",
       "1  3.2806281        2.65054179    2.5302489            2.215565542 \n",
       "2 -0.4866435       -0.02382489    0.5476623            0.001391139 \n",
       "3  1.0519999        1.36227979    2.0354398            0.938858720 \n",
       "4  3.3999174        1.91421287    1.4504311            2.864862154 \n",
       "5  0.5388663        1.36980615    1.4272370           -0.009552062 \n",
       "6  1.2432416        0.86554001    0.8239307            1.004517928 \n",
       "  fractal_dimension_mean\n",
       "1  2.2537638            \n",
       "2 -0.8678888            \n",
       "3 -0.3976580            \n",
       "4  4.9066020            \n",
       "5 -0.5619555            \n",
       "6  1.8883435            "
      ]
     },
     "metadata": {},
     "output_type": "display_data"
    },
    {
     "data": {
      "text/html": [
       "<table>\n",
       "<thead><tr><th scope=col>diagnosis</th><th scope=col>radius_worst</th><th scope=col>texture_worst</th><th scope=col>perimeter_worst</th><th scope=col>area_worst</th><th scope=col>smoothness_worst</th><th scope=col>compactness_worst</th><th scope=col>concavity_worst</th><th scope=col>concave_points_worst</th><th scope=col>symmetry_worst</th><th scope=col>fractal_dimension_worst</th></tr></thead>\n",
       "<tbody>\n",
       "\t<tr><td>M      </td><td>25.38  </td><td>17.33  </td><td>184.60 </td><td>2019.0 </td><td>0.1622 </td><td>0.6656 </td><td>0.7119 </td><td>0.2654 </td><td>0.4601 </td><td>0.11890</td></tr>\n",
       "\t<tr><td>M      </td><td>24.99  </td><td>23.41  </td><td>158.80 </td><td>1956.0 </td><td>0.1238 </td><td>0.1866 </td><td>0.2416 </td><td>0.1860 </td><td>0.2750 </td><td>0.08902</td></tr>\n",
       "\t<tr><td>M      </td><td>23.57  </td><td>25.53  </td><td>152.50 </td><td>1709.0 </td><td>0.1444 </td><td>0.4245 </td><td>0.4504 </td><td>0.2430 </td><td>0.3613 </td><td>0.08758</td></tr>\n",
       "\t<tr><td>M      </td><td>14.91  </td><td>26.50  </td><td> 98.87 </td><td> 567.7 </td><td>0.2098 </td><td>0.8663 </td><td>0.6869 </td><td>0.2575 </td><td>0.6638 </td><td>0.17300</td></tr>\n",
       "\t<tr><td>M      </td><td>22.54  </td><td>16.67  </td><td>152.20 </td><td>1575.0 </td><td>0.1374 </td><td>0.2050 </td><td>0.4000 </td><td>0.1625 </td><td>0.2364 </td><td>0.07678</td></tr>\n",
       "\t<tr><td>M      </td><td>15.47  </td><td>23.75  </td><td>103.40 </td><td> 741.6 </td><td>0.1791 </td><td>0.5249 </td><td>0.5355 </td><td>0.1741 </td><td>0.3985 </td><td>0.12440</td></tr>\n",
       "</tbody>\n",
       "</table>\n"
      ],
      "text/latex": [
       "\\begin{tabular}{r|lllllllllll}\n",
       " diagnosis & radius\\_worst & texture\\_worst & perimeter\\_worst & area\\_worst & smoothness\\_worst & compactness\\_worst & concavity\\_worst & concave\\_points\\_worst & symmetry\\_worst & fractal\\_dimension\\_worst\\\\\n",
       "\\hline\n",
       "\t M       & 25.38   & 17.33   & 184.60  & 2019.0  & 0.1622  & 0.6656  & 0.7119  & 0.2654  & 0.4601  & 0.11890\\\\\n",
       "\t M       & 24.99   & 23.41   & 158.80  & 1956.0  & 0.1238  & 0.1866  & 0.2416  & 0.1860  & 0.2750  & 0.08902\\\\\n",
       "\t M       & 23.57   & 25.53   & 152.50  & 1709.0  & 0.1444  & 0.4245  & 0.4504  & 0.2430  & 0.3613  & 0.08758\\\\\n",
       "\t M       & 14.91   & 26.50   &  98.87  &  567.7  & 0.2098  & 0.8663  & 0.6869  & 0.2575  & 0.6638  & 0.17300\\\\\n",
       "\t M       & 22.54   & 16.67   & 152.20  & 1575.0  & 0.1374  & 0.2050  & 0.4000  & 0.1625  & 0.2364  & 0.07678\\\\\n",
       "\t M       & 15.47   & 23.75   & 103.40  &  741.6  & 0.1791  & 0.5249  & 0.5355  & 0.1741  & 0.3985  & 0.12440\\\\\n",
       "\\end{tabular}\n"
      ],
      "text/markdown": [
       "\n",
       "| diagnosis | radius_worst | texture_worst | perimeter_worst | area_worst | smoothness_worst | compactness_worst | concavity_worst | concave_points_worst | symmetry_worst | fractal_dimension_worst |\n",
       "|---|---|---|---|---|---|---|---|---|---|---|\n",
       "| M       | 25.38   | 17.33   | 184.60  | 2019.0  | 0.1622  | 0.6656  | 0.7119  | 0.2654  | 0.4601  | 0.11890 |\n",
       "| M       | 24.99   | 23.41   | 158.80  | 1956.0  | 0.1238  | 0.1866  | 0.2416  | 0.1860  | 0.2750  | 0.08902 |\n",
       "| M       | 23.57   | 25.53   | 152.50  | 1709.0  | 0.1444  | 0.4245  | 0.4504  | 0.2430  | 0.3613  | 0.08758 |\n",
       "| M       | 14.91   | 26.50   |  98.87  |  567.7  | 0.2098  | 0.8663  | 0.6869  | 0.2575  | 0.6638  | 0.17300 |\n",
       "| M       | 22.54   | 16.67   | 152.20  | 1575.0  | 0.1374  | 0.2050  | 0.4000  | 0.1625  | 0.2364  | 0.07678 |\n",
       "| M       | 15.47   | 23.75   | 103.40  |  741.6  | 0.1791  | 0.5249  | 0.5355  | 0.1741  | 0.3985  | 0.12440 |\n",
       "\n"
      ],
      "text/plain": [
       "  diagnosis radius_worst texture_worst perimeter_worst area_worst\n",
       "1 M         25.38        17.33         184.60          2019.0    \n",
       "2 M         24.99        23.41         158.80          1956.0    \n",
       "3 M         23.57        25.53         152.50          1709.0    \n",
       "4 M         14.91        26.50          98.87           567.7    \n",
       "5 M         22.54        16.67         152.20          1575.0    \n",
       "6 M         15.47        23.75         103.40           741.6    \n",
       "  smoothness_worst compactness_worst concavity_worst concave_points_worst\n",
       "1 0.1622           0.6656            0.7119          0.2654              \n",
       "2 0.1238           0.1866            0.2416          0.1860              \n",
       "3 0.1444           0.4245            0.4504          0.2430              \n",
       "4 0.2098           0.8663            0.6869          0.2575              \n",
       "5 0.1374           0.2050            0.4000          0.1625              \n",
       "6 0.1791           0.5249            0.5355          0.1741              \n",
       "  symmetry_worst fractal_dimension_worst\n",
       "1 0.4601         0.11890                \n",
       "2 0.2750         0.08902                \n",
       "3 0.3613         0.08758                \n",
       "4 0.6638         0.17300                \n",
       "5 0.2364         0.07678                \n",
       "6 0.3985         0.12440                "
      ]
     },
     "metadata": {},
     "output_type": "display_data"
    },
    {
     "data": {
      "text/html": [
       "<table>\n",
       "<thead><tr><th scope=col>diagnosis</th><th scope=col>radius_worst</th><th scope=col>texture_worst</th><th scope=col>perimeter_worst</th><th scope=col>area_worst</th><th scope=col>smoothness_worst</th><th scope=col>compactness_worst</th><th scope=col>concavity_worst</th><th scope=col>concave_points_worst</th><th scope=col>symmetry_worst</th><th scope=col>fractal_dimension_worst</th></tr></thead>\n",
       "<tbody>\n",
       "\t<tr><td>M          </td><td> 1.8850310 </td><td>-1.35809849</td><td> 2.3015755 </td><td> 1.9994782 </td><td> 1.3065367 </td><td> 2.6143647 </td><td> 2.1076718 </td><td>2.2940576  </td><td> 2.7482041 </td><td> 1.9353117 </td></tr>\n",
       "\t<tr><td>M          </td><td> 1.8043398 </td><td>-0.36887865</td><td> 1.5337764 </td><td> 1.8888270 </td><td>-0.3752817 </td><td>-0.4300658 </td><td>-0.1466200 </td><td>1.0861286  </td><td>-0.2436753 </td><td> 0.2809428 </td></tr>\n",
       "\t<tr><td>M          </td><td> 1.5105411 </td><td>-0.02395331</td><td> 1.3462906 </td><td> 1.4550043 </td><td> 0.5269438 </td><td> 1.0819801 </td><td> 0.8542223 </td><td>1.9532817  </td><td> 1.1512420 </td><td> 0.2012142 </td></tr>\n",
       "\t<tr><td>M          </td><td>-0.2812170 </td><td> 0.13386631</td><td>-0.2497196 </td><td>-0.5495377 </td><td> 3.3912907 </td><td> 3.8899747 </td><td> 1.9878392 </td><td>2.1738732  </td><td> 6.0407261 </td><td> 4.9306719 </td></tr>\n",
       "\t<tr><td>M          </td><td> 1.2974336 </td><td>-1.46548091</td><td> 1.3373627 </td><td> 1.2196511 </td><td> 0.2203623 </td><td>-0.3131190 </td><td> 0.6126397 </td><td>0.7286181  </td><td>-0.8675896 </td><td>-0.3967505 </td></tr>\n",
       "\t<tr><td>M          </td><td>-0.1653528 </td><td>-0.31356043</td><td>-0.1149083 </td><td>-0.2441054 </td><td> 2.0467119 </td><td> 1.7201029 </td><td> 1.2621327 </td><td>0.9050914  </td><td> 1.7525273 </td><td> 2.2398308 </td></tr>\n",
       "</tbody>\n",
       "</table>\n"
      ],
      "text/latex": [
       "\\begin{tabular}{r|lllllllllll}\n",
       " diagnosis & radius\\_worst & texture\\_worst & perimeter\\_worst & area\\_worst & smoothness\\_worst & compactness\\_worst & concavity\\_worst & concave\\_points\\_worst & symmetry\\_worst & fractal\\_dimension\\_worst\\\\\n",
       "\\hline\n",
       "\t M           &  1.8850310  & -1.35809849 &  2.3015755  &  1.9994782  &  1.3065367  &  2.6143647  &  2.1076718  & 2.2940576   &  2.7482041  &  1.9353117 \\\\\n",
       "\t M           &  1.8043398  & -0.36887865 &  1.5337764  &  1.8888270  & -0.3752817  & -0.4300658  & -0.1466200  & 1.0861286   & -0.2436753  &  0.2809428 \\\\\n",
       "\t M           &  1.5105411  & -0.02395331 &  1.3462906  &  1.4550043  &  0.5269438  &  1.0819801  &  0.8542223  & 1.9532817   &  1.1512420  &  0.2012142 \\\\\n",
       "\t M           & -0.2812170  &  0.13386631 & -0.2497196  & -0.5495377  &  3.3912907  &  3.8899747  &  1.9878392  & 2.1738732   &  6.0407261  &  4.9306719 \\\\\n",
       "\t M           &  1.2974336  & -1.46548091 &  1.3373627  &  1.2196511  &  0.2203623  & -0.3131190  &  0.6126397  & 0.7286181   & -0.8675896  & -0.3967505 \\\\\n",
       "\t M           & -0.1653528  & -0.31356043 & -0.1149083  & -0.2441054  &  2.0467119  &  1.7201029  &  1.2621327  & 0.9050914   &  1.7525273  &  2.2398308 \\\\\n",
       "\\end{tabular}\n"
      ],
      "text/markdown": [
       "\n",
       "| diagnosis | radius_worst | texture_worst | perimeter_worst | area_worst | smoothness_worst | compactness_worst | concavity_worst | concave_points_worst | symmetry_worst | fractal_dimension_worst |\n",
       "|---|---|---|---|---|---|---|---|---|---|---|\n",
       "| M           |  1.8850310  | -1.35809849 |  2.3015755  |  1.9994782  |  1.3065367  |  2.6143647  |  2.1076718  | 2.2940576   |  2.7482041  |  1.9353117  |\n",
       "| M           |  1.8043398  | -0.36887865 |  1.5337764  |  1.8888270  | -0.3752817  | -0.4300658  | -0.1466200  | 1.0861286   | -0.2436753  |  0.2809428  |\n",
       "| M           |  1.5105411  | -0.02395331 |  1.3462906  |  1.4550043  |  0.5269438  |  1.0819801  |  0.8542223  | 1.9532817   |  1.1512420  |  0.2012142  |\n",
       "| M           | -0.2812170  |  0.13386631 | -0.2497196  | -0.5495377  |  3.3912907  |  3.8899747  |  1.9878392  | 2.1738732   |  6.0407261  |  4.9306719  |\n",
       "| M           |  1.2974336  | -1.46548091 |  1.3373627  |  1.2196511  |  0.2203623  | -0.3131190  |  0.6126397  | 0.7286181   | -0.8675896  | -0.3967505  |\n",
       "| M           | -0.1653528  | -0.31356043 | -0.1149083  | -0.2441054  |  2.0467119  |  1.7201029  |  1.2621327  | 0.9050914   |  1.7525273  |  2.2398308  |\n",
       "\n"
      ],
      "text/plain": [
       "  diagnosis radius_worst texture_worst perimeter_worst area_worst\n",
       "1 M          1.8850310   -1.35809849    2.3015755       1.9994782\n",
       "2 M          1.8043398   -0.36887865    1.5337764       1.8888270\n",
       "3 M          1.5105411   -0.02395331    1.3462906       1.4550043\n",
       "4 M         -0.2812170    0.13386631   -0.2497196      -0.5495377\n",
       "5 M          1.2974336   -1.46548091    1.3373627       1.2196511\n",
       "6 M         -0.1653528   -0.31356043   -0.1149083      -0.2441054\n",
       "  smoothness_worst compactness_worst concavity_worst concave_points_worst\n",
       "1  1.3065367        2.6143647         2.1076718      2.2940576           \n",
       "2 -0.3752817       -0.4300658        -0.1466200      1.0861286           \n",
       "3  0.5269438        1.0819801         0.8542223      1.9532817           \n",
       "4  3.3912907        3.8899747         1.9878392      2.1738732           \n",
       "5  0.2203623       -0.3131190         0.6126397      0.7286181           \n",
       "6  2.0467119        1.7201029         1.2621327      0.9050914           \n",
       "  symmetry_worst fractal_dimension_worst\n",
       "1  2.7482041      1.9353117             \n",
       "2 -0.2436753      0.2809428             \n",
       "3  1.1512420      0.2012142             \n",
       "4  6.0407261      4.9306719             \n",
       "5 -0.8675896     -0.3967505             \n",
       "6  1.7525273      2.2398308             "
      ]
     },
     "metadata": {},
     "output_type": "display_data"
    }
   ],
   "source": [
    "## Scaling\n",
    "## for \"mean\" data\n",
    "df_mean <- df[,2:12]\n",
    "head(df_mean)\n",
    "preproc1 <- preProcess(df_mean[,2:11], method=c(\"range\")) \n",
    "norm1 <- predict(preproc1, df_mean[,2:11]) \n",
    "summary(norm1)\n",
    "df_mean[2:11] <- norm1\n",
    "head(df_mean)\n",
    "\n",
    "## for \"worst\" data\n",
    "df_worst <- cbind(df[,1:2], df[,23:32])\n",
    "df_worst <- df_worst[,2:12]\n",
    "head(df_worst)\n",
    "preproc1 <- preProcess(df_worst[,2:11], method=c(\"range\")) \n",
    "norm1 <- predict(preproc1, df_worst[,2:11]) \n",
    "summary(norm1)\n",
    "df_worst[2:11] <- norm1\n",
    "head(df_worst)\n",
    "\n",
    "## Standardization\n",
    "## for \"mean\" data\n",
    "df_mean <- df[,2:12]\n",
    "head(df_mean)\n",
    "preproc2 <- preProcess(df_mean[,2:11], method=c(\"center\", \"scale\"))\n",
    "norm2 <- predict(preproc2, df_mean[,2:11])\n",
    "df_mean[2:11] <- norm2\n",
    "summary(df_mean)\n",
    "head(df_mean)\n",
    "\n",
    "## for \"worst\" data\n",
    "df_worst <- cbind(df[,1:2], df[,23:32])\n",
    "df_worst <- df_worst[,2:12]\n",
    "head(df_worst)\n",
    "preproc2 <- preProcess(df_worst[,2:11], method=c(\"center\", \"scale\"))\n",
    "norm2 <- predict(preproc2, df_worst[,2:11])\n",
    "df_worst[2:11] <- norm2\n",
    "head(df_worst)"
   ]
  },
  {
   "cell_type": "code",
   "execution_count": 323,
   "metadata": {},
   "outputs": [
    {
     "data": {
      "text/html": [
       "399"
      ],
      "text/latex": [
       "399"
      ],
      "text/markdown": [
       "399"
      ],
      "text/plain": [
       "[1] 399"
      ]
     },
     "metadata": {},
     "output_type": "display_data"
    },
    {
     "data": {
      "text/html": [
       "170"
      ],
      "text/latex": [
       "170"
      ],
      "text/markdown": [
       "170"
      ],
      "text/plain": [
       "[1] 170"
      ]
     },
     "metadata": {},
     "output_type": "display_data"
    },
    {
     "data": {
      "text/html": [
       "<table>\n",
       "<thead><tr><th></th><th scope=col>diagnosis</th><th scope=col>radius_mean</th><th scope=col>texture_mean</th><th scope=col>perimeter_mean</th><th scope=col>area_mean</th><th scope=col>smoothness_mean</th><th scope=col>compactness_mean</th><th scope=col>concavity_mean</th><th scope=col>concave_points_mean</th><th scope=col>symmetry_mean</th><th scope=col>fractal_dimension_mean</th></tr></thead>\n",
       "<tbody>\n",
       "\t<tr><th scope=row>3</th><td>M           </td><td> 1.5784992  </td><td> 0.4557859  </td><td> 1.5651260  </td><td> 1.5575132  </td><td> 0.9413821  </td><td>1.05199990  </td><td>1.3622798   </td><td>2.0354398   </td><td> 0.938858720</td><td>-0.3976580  </td></tr>\n",
       "\t<tr><th scope=row>4</th><td>M           </td><td>-0.7682333  </td><td> 0.2535091  </td><td>-0.5921661  </td><td>-0.7637917  </td><td> 3.2806668  </td><td>3.39991742  </td><td>1.9142129   </td><td>1.4504311   </td><td> 2.864862154</td><td> 4.9066020  </td></tr>\n",
       "\t<tr><th scope=row>5</th><td>M           </td><td> 1.7487579  </td><td>-1.1508038  </td><td> 1.7750113  </td><td> 1.8246238  </td><td> 0.2801253  </td><td>0.53886631  </td><td>1.3698061   </td><td>1.4272370   </td><td>-0.009552062</td><td>-0.5619555  </td></tr>\n",
       "\t<tr><th scope=row>7</th><td>M           </td><td> 1.1698783  </td><td> 0.1605082  </td><td> 1.1371245  </td><td> 1.0943320  </td><td>-0.1230280  </td><td>0.08821762  </td><td>0.2998086   </td><td>0.6463664   </td><td>-0.064268069</td><td>-0.7616620  </td></tr>\n",
       "\t<tr><th scope=row>9</th><td>M           </td><td>-0.3198854  </td><td> 0.5883121  </td><td>-0.1839186  </td><td>-0.3838695  </td><td> 2.1999031  </td><td>1.68252936  </td><td>1.2180246   </td><td>1.1496800   </td><td> 1.963871911</td><td> 1.5710793  </td></tr>\n",
       "\t<tr><th scope=row>10</th><td>M           </td><td>-0.4731182  </td><td> 1.1044669  </td><td>-0.3291921  </td><td>-0.5086158  </td><td> 1.5813080  </td><td>2.56110495  </td><td>1.7373434   </td><td>0.9409324   </td><td> 0.796597103</td><td> 2.7806489  </td></tr>\n",
       "</tbody>\n",
       "</table>\n"
      ],
      "text/latex": [
       "\\begin{tabular}{r|lllllllllll}\n",
       "  & diagnosis & radius\\_mean & texture\\_mean & perimeter\\_mean & area\\_mean & smoothness\\_mean & compactness\\_mean & concavity\\_mean & concave\\_points\\_mean & symmetry\\_mean & fractal\\_dimension\\_mean\\\\\n",
       "\\hline\n",
       "\t3 & M            &  1.5784992   &  0.4557859   &  1.5651260   &  1.5575132   &  0.9413821   & 1.05199990   & 1.3622798    & 2.0354398    &  0.938858720 & -0.3976580  \\\\\n",
       "\t4 & M            & -0.7682333   &  0.2535091   & -0.5921661   & -0.7637917   &  3.2806668   & 3.39991742   & 1.9142129    & 1.4504311    &  2.864862154 &  4.9066020  \\\\\n",
       "\t5 & M            &  1.7487579   & -1.1508038   &  1.7750113   &  1.8246238   &  0.2801253   & 0.53886631   & 1.3698061    & 1.4272370    & -0.009552062 & -0.5619555  \\\\\n",
       "\t7 & M            &  1.1698783   &  0.1605082   &  1.1371245   &  1.0943320   & -0.1230280   & 0.08821762   & 0.2998086    & 0.6463664    & -0.064268069 & -0.7616620  \\\\\n",
       "\t9 & M            & -0.3198854   &  0.5883121   & -0.1839186   & -0.3838695   &  2.1999031   & 1.68252936   & 1.2180246    & 1.1496800    &  1.963871911 &  1.5710793  \\\\\n",
       "\t10 & M            & -0.4731182   &  1.1044669   & -0.3291921   & -0.5086158   &  1.5813080   & 2.56110495   & 1.7373434    & 0.9409324    &  0.796597103 &  2.7806489  \\\\\n",
       "\\end{tabular}\n"
      ],
      "text/markdown": [
       "\n",
       "| <!--/--> | diagnosis | radius_mean | texture_mean | perimeter_mean | area_mean | smoothness_mean | compactness_mean | concavity_mean | concave_points_mean | symmetry_mean | fractal_dimension_mean |\n",
       "|---|---|---|---|---|---|---|---|---|---|---|---|\n",
       "| 3 | M            |  1.5784992   |  0.4557859   |  1.5651260   |  1.5575132   |  0.9413821   | 1.05199990   | 1.3622798    | 2.0354398    |  0.938858720 | -0.3976580   |\n",
       "| 4 | M            | -0.7682333   |  0.2535091   | -0.5921661   | -0.7637917   |  3.2806668   | 3.39991742   | 1.9142129    | 1.4504311    |  2.864862154 |  4.9066020   |\n",
       "| 5 | M            |  1.7487579   | -1.1508038   |  1.7750113   |  1.8246238   |  0.2801253   | 0.53886631   | 1.3698061    | 1.4272370    | -0.009552062 | -0.5619555   |\n",
       "| 7 | M            |  1.1698783   |  0.1605082   |  1.1371245   |  1.0943320   | -0.1230280   | 0.08821762   | 0.2998086    | 0.6463664    | -0.064268069 | -0.7616620   |\n",
       "| 9 | M            | -0.3198854   |  0.5883121   | -0.1839186   | -0.3838695   |  2.1999031   | 1.68252936   | 1.2180246    | 1.1496800    |  1.963871911 |  1.5710793   |\n",
       "| 10 | M            | -0.4731182   |  1.1044669   | -0.3291921   | -0.5086158   |  1.5813080   | 2.56110495   | 1.7373434    | 0.9409324    |  0.796597103 |  2.7806489   |\n",
       "\n"
      ],
      "text/plain": [
       "   diagnosis radius_mean texture_mean perimeter_mean area_mean  smoothness_mean\n",
       "3  M          1.5784992   0.4557859    1.5651260      1.5575132  0.9413821     \n",
       "4  M         -0.7682333   0.2535091   -0.5921661     -0.7637917  3.2806668     \n",
       "5  M          1.7487579  -1.1508038    1.7750113      1.8246238  0.2801253     \n",
       "7  M          1.1698783   0.1605082    1.1371245      1.0943320 -0.1230280     \n",
       "9  M         -0.3198854   0.5883121   -0.1839186     -0.3838695  2.1999031     \n",
       "10 M         -0.4731182   1.1044669   -0.3291921     -0.5086158  1.5813080     \n",
       "   compactness_mean concavity_mean concave_points_mean symmetry_mean\n",
       "3  1.05199990       1.3622798      2.0354398            0.938858720 \n",
       "4  3.39991742       1.9142129      1.4504311            2.864862154 \n",
       "5  0.53886631       1.3698061      1.4272370           -0.009552062 \n",
       "7  0.08821762       0.2998086      0.6463664           -0.064268069 \n",
       "9  1.68252936       1.2180246      1.1496800            1.963871911 \n",
       "10 2.56110495       1.7373434      0.9409324            0.796597103 \n",
       "   fractal_dimension_mean\n",
       "3  -0.3976580            \n",
       "4   4.9066020            \n",
       "5  -0.5619555            \n",
       "7  -0.7616620            \n",
       "9   1.5710793            \n",
       "10  2.7806489            "
      ]
     },
     "metadata": {},
     "output_type": "display_data"
    },
    {
     "data": {
      "text/html": [
       "<table>\n",
       "<thead><tr><th></th><th scope=col>diagnosis</th><th scope=col>radius_mean</th><th scope=col>texture_mean</th><th scope=col>perimeter_mean</th><th scope=col>area_mean</th><th scope=col>smoothness_mean</th><th scope=col>compactness_mean</th><th scope=col>concavity_mean</th><th scope=col>concave_points_mean</th><th scope=col>symmetry_mean</th><th scope=col>fractal_dimension_mean</th></tr></thead>\n",
       "<tbody>\n",
       "\t<tr><th scope=row>1</th><td>M          </td><td> 1.0960995 </td><td>-2.0715123 </td><td> 1.26881726</td><td> 0.98350952</td><td> 1.5670875 </td><td> 3.28062806</td><td> 2.65054179</td><td>2.5302489  </td><td>2.215565542</td><td> 2.2537638 </td></tr>\n",
       "\t<tr><th scope=row>2</th><td>M          </td><td> 1.8282120 </td><td>-0.3533215 </td><td> 1.68447255</td><td> 1.90703027</td><td>-0.8262354 </td><td>-0.48664348</td><td>-0.02382489</td><td>0.5476623  </td><td>0.001391139</td><td>-0.8678888 </td></tr>\n",
       "\t<tr><th scope=row>6</th><td>M          </td><td>-0.4759559 </td><td>-0.8346009 </td><td>-0.38680772</td><td>-0.50520593</td><td> 2.2354545 </td><td> 1.24324156</td><td> 0.86554001</td><td>0.8239307  </td><td>1.004517928</td><td> 1.8883435 </td></tr>\n",
       "\t<tr><th scope=row>8</th><td>M          </td><td>-0.1184126 </td><td> 0.3581350 </td><td>-0.07280278</td><td>-0.21877241</td><td> 1.6026389 </td><td> 1.13910006</td><td> 0.06097210</td><td>0.2817024  </td><td>1.402120910</td><td> 1.6588935 </td></tr>\n",
       "\t<tr><th scope=row>14</th><td>M          </td><td> 0.4888435 </td><td> 1.0835417 </td><td> 0.48277607</td><td> 0.36318774</td><td>-0.8781405 </td><td>-0.07840879</td><td> 0.13272340</td><td>0.1216626  </td><td>0.129061821</td><td>-1.3338705 </td></tr>\n",
       "\t<tr><th scope=row>16</th><td>M          </td><td> 0.1171120 </td><td> 1.9182243 </td><td> 0.19593277</td><td> 0.01111321</td><td> 1.2471245 </td><td> 1.04442597</td><td> 0.94205801</td><td>0.6370887  </td><td>1.792428424</td><td> 1.1291757 </td></tr>\n",
       "</tbody>\n",
       "</table>\n"
      ],
      "text/latex": [
       "\\begin{tabular}{r|lllllllllll}\n",
       "  & diagnosis & radius\\_mean & texture\\_mean & perimeter\\_mean & area\\_mean & smoothness\\_mean & compactness\\_mean & concavity\\_mean & concave\\_points\\_mean & symmetry\\_mean & fractal\\_dimension\\_mean\\\\\n",
       "\\hline\n",
       "\t1 & M           &  1.0960995  & -2.0715123  &  1.26881726 &  0.98350952 &  1.5670875  &  3.28062806 &  2.65054179 & 2.5302489   & 2.215565542 &  2.2537638 \\\\\n",
       "\t2 & M           &  1.8282120  & -0.3533215  &  1.68447255 &  1.90703027 & -0.8262354  & -0.48664348 & -0.02382489 & 0.5476623   & 0.001391139 & -0.8678888 \\\\\n",
       "\t6 & M           & -0.4759559  & -0.8346009  & -0.38680772 & -0.50520593 &  2.2354545  &  1.24324156 &  0.86554001 & 0.8239307   & 1.004517928 &  1.8883435 \\\\\n",
       "\t8 & M           & -0.1184126  &  0.3581350  & -0.07280278 & -0.21877241 &  1.6026389  &  1.13910006 &  0.06097210 & 0.2817024   & 1.402120910 &  1.6588935 \\\\\n",
       "\t14 & M           &  0.4888435  &  1.0835417  &  0.48277607 &  0.36318774 & -0.8781405  & -0.07840879 &  0.13272340 & 0.1216626   & 0.129061821 & -1.3338705 \\\\\n",
       "\t16 & M           &  0.1171120  &  1.9182243  &  0.19593277 &  0.01111321 &  1.2471245  &  1.04442597 &  0.94205801 & 0.6370887   & 1.792428424 &  1.1291757 \\\\\n",
       "\\end{tabular}\n"
      ],
      "text/markdown": [
       "\n",
       "| <!--/--> | diagnosis | radius_mean | texture_mean | perimeter_mean | area_mean | smoothness_mean | compactness_mean | concavity_mean | concave_points_mean | symmetry_mean | fractal_dimension_mean |\n",
       "|---|---|---|---|---|---|---|---|---|---|---|---|\n",
       "| 1 | M           |  1.0960995  | -2.0715123  |  1.26881726 |  0.98350952 |  1.5670875  |  3.28062806 |  2.65054179 | 2.5302489   | 2.215565542 |  2.2537638  |\n",
       "| 2 | M           |  1.8282120  | -0.3533215  |  1.68447255 |  1.90703027 | -0.8262354  | -0.48664348 | -0.02382489 | 0.5476623   | 0.001391139 | -0.8678888  |\n",
       "| 6 | M           | -0.4759559  | -0.8346009  | -0.38680772 | -0.50520593 |  2.2354545  |  1.24324156 |  0.86554001 | 0.8239307   | 1.004517928 |  1.8883435  |\n",
       "| 8 | M           | -0.1184126  |  0.3581350  | -0.07280278 | -0.21877241 |  1.6026389  |  1.13910006 |  0.06097210 | 0.2817024   | 1.402120910 |  1.6588935  |\n",
       "| 14 | M           |  0.4888435  |  1.0835417  |  0.48277607 |  0.36318774 | -0.8781405  | -0.07840879 |  0.13272340 | 0.1216626   | 0.129061821 | -1.3338705  |\n",
       "| 16 | M           |  0.1171120  |  1.9182243  |  0.19593277 |  0.01111321 |  1.2471245  |  1.04442597 |  0.94205801 | 0.6370887   | 1.792428424 |  1.1291757  |\n",
       "\n"
      ],
      "text/plain": [
       "   diagnosis radius_mean texture_mean perimeter_mean area_mean  \n",
       "1  M          1.0960995  -2.0715123    1.26881726     0.98350952\n",
       "2  M          1.8282120  -0.3533215    1.68447255     1.90703027\n",
       "6  M         -0.4759559  -0.8346009   -0.38680772    -0.50520593\n",
       "8  M         -0.1184126   0.3581350   -0.07280278    -0.21877241\n",
       "14 M          0.4888435   1.0835417    0.48277607     0.36318774\n",
       "16 M          0.1171120   1.9182243    0.19593277     0.01111321\n",
       "   smoothness_mean compactness_mean concavity_mean concave_points_mean\n",
       "1   1.5670875       3.28062806       2.65054179    2.5302489          \n",
       "2  -0.8262354      -0.48664348      -0.02382489    0.5476623          \n",
       "6   2.2354545       1.24324156       0.86554001    0.8239307          \n",
       "8   1.6026389       1.13910006       0.06097210    0.2817024          \n",
       "14 -0.8781405      -0.07840879       0.13272340    0.1216626          \n",
       "16  1.2471245       1.04442597       0.94205801    0.6370887          \n",
       "   symmetry_mean fractal_dimension_mean\n",
       "1  2.215565542    2.2537638            \n",
       "2  0.001391139   -0.8678888            \n",
       "6  1.004517928    1.8883435            \n",
       "8  1.402120910    1.6588935            \n",
       "14 0.129061821   -1.3338705            \n",
       "16 1.792428424    1.1291757            "
      ]
     },
     "metadata": {},
     "output_type": "display_data"
    },
    {
     "data": {
      "text/html": [
       "<table>\n",
       "<thead><tr><th></th><th scope=col>diagnosis</th><th scope=col>radius_worst</th><th scope=col>texture_worst</th><th scope=col>perimeter_worst</th><th scope=col>area_worst</th><th scope=col>smoothness_worst</th><th scope=col>compactness_worst</th><th scope=col>concavity_worst</th><th scope=col>concave_points_worst</th><th scope=col>symmetry_worst</th><th scope=col>fractal_dimension_worst</th></tr></thead>\n",
       "<tbody>\n",
       "\t<tr><th scope=row>3</th><td>M          </td><td> 1.5105411 </td><td>-0.02395331</td><td> 1.34629062</td><td> 1.4550043 </td><td>0.5269438  </td><td> 1.08198014</td><td>0.8542223  </td><td>1.9532817  </td><td> 1.1512420 </td><td> 0.20121416</td></tr>\n",
       "\t<tr><th scope=row>4</th><td>M          </td><td>-0.2812170 </td><td> 0.13386631</td><td>-0.24971958</td><td>-0.5495377 </td><td>3.3912907  </td><td> 3.88997467</td><td>1.9878392  </td><td>2.1738732  </td><td> 6.0407261 </td><td> 4.93067187</td></tr>\n",
       "\t<tr><th scope=row>5</th><td>M          </td><td> 1.2974336 </td><td>-1.46548091</td><td> 1.33736272</td><td> 1.2196511 </td><td>0.2203623  </td><td>-0.31311900</td><td>0.6126397  </td><td>0.7286181  </td><td>-0.8675896 </td><td>-0.39675052</td></tr>\n",
       "\t<tr><th scope=row>7</th><td>M          </td><td> 1.3677798 </td><td> 0.32259904</td><td> 1.36712237</td><td> 1.2740985 </td><td>0.5181843  </td><td> 0.02119633</td><td>0.5091043  </td><td>1.1956637  </td><td> 0.2622449 </td><td>-0.01471753</td></tr>\n",
       "\t<tr><th scope=row>9</th><td>M          </td><td>-0.1612147 </td><td> 0.82208998</td><td>-0.03158132</td><td>-0.2481451 </td><td>1.6612952  </td><td> 1.81671116</td><td>1.2789092  </td><td>1.3903928  </td><td> 2.3877562 </td><td> 1.28751667</td></tr>\n",
       "\t<tr><th scope=row>10</th><td>M          </td><td>-0.2439749 </td><td> 2.44096127</td><td>-0.28602635</td><td>-0.2971477 </td><td>2.3182555  </td><td> 5.10838243</td><td>3.9919204  </td><td>1.6185910  </td><td> 2.3683599 </td><td> 6.84083682</td></tr>\n",
       "</tbody>\n",
       "</table>\n"
      ],
      "text/latex": [
       "\\begin{tabular}{r|lllllllllll}\n",
       "  & diagnosis & radius\\_worst & texture\\_worst & perimeter\\_worst & area\\_worst & smoothness\\_worst & compactness\\_worst & concavity\\_worst & concave\\_points\\_worst & symmetry\\_worst & fractal\\_dimension\\_worst\\\\\n",
       "\\hline\n",
       "\t3 & M           &  1.5105411  & -0.02395331 &  1.34629062 &  1.4550043  & 0.5269438   &  1.08198014 & 0.8542223   & 1.9532817   &  1.1512420  &  0.20121416\\\\\n",
       "\t4 & M           & -0.2812170  &  0.13386631 & -0.24971958 & -0.5495377  & 3.3912907   &  3.88997467 & 1.9878392   & 2.1738732   &  6.0407261  &  4.93067187\\\\\n",
       "\t5 & M           &  1.2974336  & -1.46548091 &  1.33736272 &  1.2196511  & 0.2203623   & -0.31311900 & 0.6126397   & 0.7286181   & -0.8675896  & -0.39675052\\\\\n",
       "\t7 & M           &  1.3677798  &  0.32259904 &  1.36712237 &  1.2740985  & 0.5181843   &  0.02119633 & 0.5091043   & 1.1956637   &  0.2622449  & -0.01471753\\\\\n",
       "\t9 & M           & -0.1612147  &  0.82208998 & -0.03158132 & -0.2481451  & 1.6612952   &  1.81671116 & 1.2789092   & 1.3903928   &  2.3877562  &  1.28751667\\\\\n",
       "\t10 & M           & -0.2439749  &  2.44096127 & -0.28602635 & -0.2971477  & 2.3182555   &  5.10838243 & 3.9919204   & 1.6185910   &  2.3683599  &  6.84083682\\\\\n",
       "\\end{tabular}\n"
      ],
      "text/markdown": [
       "\n",
       "| <!--/--> | diagnosis | radius_worst | texture_worst | perimeter_worst | area_worst | smoothness_worst | compactness_worst | concavity_worst | concave_points_worst | symmetry_worst | fractal_dimension_worst |\n",
       "|---|---|---|---|---|---|---|---|---|---|---|---|\n",
       "| 3 | M           |  1.5105411  | -0.02395331 |  1.34629062 |  1.4550043  | 0.5269438   |  1.08198014 | 0.8542223   | 1.9532817   |  1.1512420  |  0.20121416 |\n",
       "| 4 | M           | -0.2812170  |  0.13386631 | -0.24971958 | -0.5495377  | 3.3912907   |  3.88997467 | 1.9878392   | 2.1738732   |  6.0407261  |  4.93067187 |\n",
       "| 5 | M           |  1.2974336  | -1.46548091 |  1.33736272 |  1.2196511  | 0.2203623   | -0.31311900 | 0.6126397   | 0.7286181   | -0.8675896  | -0.39675052 |\n",
       "| 7 | M           |  1.3677798  |  0.32259904 |  1.36712237 |  1.2740985  | 0.5181843   |  0.02119633 | 0.5091043   | 1.1956637   |  0.2622449  | -0.01471753 |\n",
       "| 9 | M           | -0.1612147  |  0.82208998 | -0.03158132 | -0.2481451  | 1.6612952   |  1.81671116 | 1.2789092   | 1.3903928   |  2.3877562  |  1.28751667 |\n",
       "| 10 | M           | -0.2439749  |  2.44096127 | -0.28602635 | -0.2971477  | 2.3182555   |  5.10838243 | 3.9919204   | 1.6185910   |  2.3683599  |  6.84083682 |\n",
       "\n"
      ],
      "text/plain": [
       "   diagnosis radius_worst texture_worst perimeter_worst area_worst\n",
       "3  M          1.5105411   -0.02395331    1.34629062      1.4550043\n",
       "4  M         -0.2812170    0.13386631   -0.24971958     -0.5495377\n",
       "5  M          1.2974336   -1.46548091    1.33736272      1.2196511\n",
       "7  M          1.3677798    0.32259904    1.36712237      1.2740985\n",
       "9  M         -0.1612147    0.82208998   -0.03158132     -0.2481451\n",
       "10 M         -0.2439749    2.44096127   -0.28602635     -0.2971477\n",
       "   smoothness_worst compactness_worst concavity_worst concave_points_worst\n",
       "3  0.5269438         1.08198014       0.8542223       1.9532817           \n",
       "4  3.3912907         3.88997467       1.9878392       2.1738732           \n",
       "5  0.2203623        -0.31311900       0.6126397       0.7286181           \n",
       "7  0.5181843         0.02119633       0.5091043       1.1956637           \n",
       "9  1.6612952         1.81671116       1.2789092       1.3903928           \n",
       "10 2.3182555         5.10838243       3.9919204       1.6185910           \n",
       "   symmetry_worst fractal_dimension_worst\n",
       "3   1.1512420      0.20121416            \n",
       "4   6.0407261      4.93067187            \n",
       "5  -0.8675896     -0.39675052            \n",
       "7   0.2622449     -0.01471753            \n",
       "9   2.3877562      1.28751667            \n",
       "10  2.3683599      6.84083682            "
      ]
     },
     "metadata": {},
     "output_type": "display_data"
    },
    {
     "data": {
      "text/html": [
       "<table>\n",
       "<thead><tr><th></th><th scope=col>diagnosis</th><th scope=col>radius_worst</th><th scope=col>texture_worst</th><th scope=col>perimeter_worst</th><th scope=col>area_worst</th><th scope=col>smoothness_worst</th><th scope=col>compactness_worst</th><th scope=col>concavity_worst</th><th scope=col>concave_points_worst</th><th scope=col>symmetry_worst</th><th scope=col>fractal_dimension_worst</th></tr></thead>\n",
       "<tbody>\n",
       "\t<tr><th scope=row>1</th><td>M           </td><td> 1.8850310  </td><td>-1.3580985  </td><td> 2.30157548 </td><td> 1.999478159</td><td> 1.3065367  </td><td> 2.6143647  </td><td> 2.10767182 </td><td> 2.29405760 </td><td> 2.7482041  </td><td> 1.9353117  </td></tr>\n",
       "\t<tr><th scope=row>2</th><td>M           </td><td> 1.8043398  </td><td>-0.3688786  </td><td> 1.53377643 </td><td> 1.888827020</td><td>-0.3752817  </td><td>-0.4300658  </td><td>-0.14661996 </td><td> 1.08612862 </td><td>-0.2436753  </td><td> 0.2809428  </td></tr>\n",
       "\t<tr><th scope=row>6</th><td>M           </td><td>-0.1653528  </td><td>-0.3135604  </td><td>-0.11490835 </td><td>-0.244105421</td><td> 2.0467119  </td><td> 1.7201029  </td><td> 1.26213265 </td><td> 0.90509140 </td><td> 1.7525273  </td><td> 2.2398308  </td></tr>\n",
       "\t<tr><th scope=row>8</th><td>M           </td><td> 0.1636190  </td><td> 0.4006953  </td><td> 0.09936115 </td><td> 0.028834057</td><td> 1.4466882  </td><td> 0.7241483  </td><td>-0.02103534 </td><td> 0.62364699 </td><td> 0.4772206  </td><td> 1.7249168  </td></tr>\n",
       "\t<tr><th scope=row>14</th><td>M           </td><td> 0.1181009  </td><td> 0.3225990  </td><td> 0.14102467 </td><td>-0.007171473</td><td>-0.8439134  </td><td>-0.3932021  </td><td>-0.19167703 </td><td>-0.04117035 </td><td>-0.1483101  </td><td>-1.1669069  </td></tr>\n",
       "\t<tr><th scope=row>16</th><td>M           </td><td> 0.2463792  </td><td> 1.8633740  </td><td> 0.50111647 </td><td> 0.109978225</td><td> 1.5518018  </td><td> 2.5641538  </td><td> 2.06309407 </td><td> 0.86097309 </td><td> 2.1291389  </td><td> 2.7768917  </td></tr>\n",
       "</tbody>\n",
       "</table>\n"
      ],
      "text/latex": [
       "\\begin{tabular}{r|lllllllllll}\n",
       "  & diagnosis & radius\\_worst & texture\\_worst & perimeter\\_worst & area\\_worst & smoothness\\_worst & compactness\\_worst & concavity\\_worst & concave\\_points\\_worst & symmetry\\_worst & fractal\\_dimension\\_worst\\\\\n",
       "\\hline\n",
       "\t1 & M            &  1.8850310   & -1.3580985   &  2.30157548  &  1.999478159 &  1.3065367   &  2.6143647   &  2.10767182  &  2.29405760  &  2.7482041   &  1.9353117  \\\\\n",
       "\t2 & M            &  1.8043398   & -0.3688786   &  1.53377643  &  1.888827020 & -0.3752817   & -0.4300658   & -0.14661996  &  1.08612862  & -0.2436753   &  0.2809428  \\\\\n",
       "\t6 & M            & -0.1653528   & -0.3135604   & -0.11490835  & -0.244105421 &  2.0467119   &  1.7201029   &  1.26213265  &  0.90509140  &  1.7525273   &  2.2398308  \\\\\n",
       "\t8 & M            &  0.1636190   &  0.4006953   &  0.09936115  &  0.028834057 &  1.4466882   &  0.7241483   & -0.02103534  &  0.62364699  &  0.4772206   &  1.7249168  \\\\\n",
       "\t14 & M            &  0.1181009   &  0.3225990   &  0.14102467  & -0.007171473 & -0.8439134   & -0.3932021   & -0.19167703  & -0.04117035  & -0.1483101   & -1.1669069  \\\\\n",
       "\t16 & M            &  0.2463792   &  1.8633740   &  0.50111647  &  0.109978225 &  1.5518018   &  2.5641538   &  2.06309407  &  0.86097309  &  2.1291389   &  2.7768917  \\\\\n",
       "\\end{tabular}\n"
      ],
      "text/markdown": [
       "\n",
       "| <!--/--> | diagnosis | radius_worst | texture_worst | perimeter_worst | area_worst | smoothness_worst | compactness_worst | concavity_worst | concave_points_worst | symmetry_worst | fractal_dimension_worst |\n",
       "|---|---|---|---|---|---|---|---|---|---|---|---|\n",
       "| 1 | M            |  1.8850310   | -1.3580985   |  2.30157548  |  1.999478159 |  1.3065367   |  2.6143647   |  2.10767182  |  2.29405760  |  2.7482041   |  1.9353117   |\n",
       "| 2 | M            |  1.8043398   | -0.3688786   |  1.53377643  |  1.888827020 | -0.3752817   | -0.4300658   | -0.14661996  |  1.08612862  | -0.2436753   |  0.2809428   |\n",
       "| 6 | M            | -0.1653528   | -0.3135604   | -0.11490835  | -0.244105421 |  2.0467119   |  1.7201029   |  1.26213265  |  0.90509140  |  1.7525273   |  2.2398308   |\n",
       "| 8 | M            |  0.1636190   |  0.4006953   |  0.09936115  |  0.028834057 |  1.4466882   |  0.7241483   | -0.02103534  |  0.62364699  |  0.4772206   |  1.7249168   |\n",
       "| 14 | M            |  0.1181009   |  0.3225990   |  0.14102467  | -0.007171473 | -0.8439134   | -0.3932021   | -0.19167703  | -0.04117035  | -0.1483101   | -1.1669069   |\n",
       "| 16 | M            |  0.2463792   |  1.8633740   |  0.50111647  |  0.109978225 |  1.5518018   |  2.5641538   |  2.06309407  |  0.86097309  |  2.1291389   |  2.7768917   |\n",
       "\n"
      ],
      "text/plain": [
       "   diagnosis radius_worst texture_worst perimeter_worst area_worst  \n",
       "1  M          1.8850310   -1.3580985     2.30157548      1.999478159\n",
       "2  M          1.8043398   -0.3688786     1.53377643      1.888827020\n",
       "6  M         -0.1653528   -0.3135604    -0.11490835     -0.244105421\n",
       "8  M          0.1636190    0.4006953     0.09936115      0.028834057\n",
       "14 M          0.1181009    0.3225990     0.14102467     -0.007171473\n",
       "16 M          0.2463792    1.8633740     0.50111647      0.109978225\n",
       "   smoothness_worst compactness_worst concavity_worst concave_points_worst\n",
       "1   1.3065367        2.6143647         2.10767182      2.29405760         \n",
       "2  -0.3752817       -0.4300658        -0.14661996      1.08612862         \n",
       "6   2.0467119        1.7201029         1.26213265      0.90509140         \n",
       "8   1.4466882        0.7241483        -0.02103534      0.62364699         \n",
       "14 -0.8439134       -0.3932021        -0.19167703     -0.04117035         \n",
       "16  1.5518018        2.5641538         2.06309407      0.86097309         \n",
       "   symmetry_worst fractal_dimension_worst\n",
       "1   2.7482041      1.9353117             \n",
       "2  -0.2436753      0.2809428             \n",
       "6   1.7525273      2.2398308             \n",
       "8   0.4772206      1.7249168             \n",
       "14 -0.1483101     -1.1669069             \n",
       "16  2.1291389      2.7768917             "
      ]
     },
     "metadata": {},
     "output_type": "display_data"
    }
   ],
   "source": [
    "## Create training and test data\n",
    "train_index <- createDataPartition(df_mean$diagnosis, p=0.7, list=FALSE, times=1)\n",
    "df_mean_train <- df_mean[train_index,]\n",
    "df_mean_test <- df_mean[-train_index,]\n",
    "nrow(df_mean_train)\n",
    "nrow(df_mean_test)\n",
    "head(df_mean_train)\n",
    "head(df_mean_test)\n",
    "\n",
    "## for \"worst\"\n",
    "df_worst_train <- df_worst[train_index,]\n",
    "df_worst_test <- df_worst[-train_index,]\n",
    "head(df_worst_train)\n",
    "head(df_worst_test)"
   ]
  },
  {
   "cell_type": "code",
   "execution_count": 324,
   "metadata": {},
   "outputs": [
    {
     "name": "stderr",
     "output_type": "stream",
     "text": [
      "Warning message in train.default(x, y, weights = w, ...):\n",
      "\"The metric \"ROC\" was not in the result set. Accuracy will be used instead.\"Warning message:\n",
      "\"glm.fit: fitted probabilities numerically 0 or 1 occurred\"Warning message:\n",
      "\"glm.fit: fitted probabilities numerically 0 or 1 occurred\"Warning message:\n",
      "\"glm.fit: fitted probabilities numerically 0 or 1 occurred\"Warning message:\n",
      "\"glm.fit: fitted probabilities numerically 0 or 1 occurred\"Warning message:\n",
      "\"glm.fit: fitted probabilities numerically 0 or 1 occurred\"Warning message:\n",
      "\"glm.fit: fitted probabilities numerically 0 or 1 occurred\"Warning message:\n",
      "\"glm.fit: fitted probabilities numerically 0 or 1 occurred\"Warning message:\n",
      "\"glm.fit: fitted probabilities numerically 0 or 1 occurred\"Warning message:\n",
      "\"glm.fit: fitted probabilities numerically 0 or 1 occurred\"Warning message:\n",
      "\"glm.fit: fitted probabilities numerically 0 or 1 occurred\"Warning message:\n",
      "\"glm.fit: fitted probabilities numerically 0 or 1 occurred\""
     ]
    },
    {
     "data": {
      "text/plain": [
       "Generalized Linear Model \n",
       "\n",
       "399 samples\n",
       " 10 predictor\n",
       "  2 classes: 'B', 'M' \n",
       "\n",
       "No pre-processing\n",
       "Resampling: Cross-Validated (10 fold) \n",
       "Summary of sample sizes: 359, 360, 359, 359, 359, 359, ... \n",
       "Resampling results:\n",
       "\n",
       "  Accuracy   Kappa    \n",
       "  0.9246795  0.8393566\n"
      ]
     },
     "metadata": {},
     "output_type": "display_data"
    },
    {
     "data": {
      "text/plain": [
       "\n",
       "Call:\n",
       "NULL\n",
       "\n",
       "Deviance Residuals: \n",
       "     Min        1Q    Median        3Q       Max  \n",
       "-1.73416  -0.15087  -0.03894   0.00207   2.57066  \n",
       "\n",
       "Coefficients:\n",
       "                       Estimate Std. Error z value Pr(>|z|)    \n",
       "(Intercept)              0.4951     0.6913   0.716   0.4739    \n",
       "radius_mean            -13.4618    15.3081  -0.879   0.3792    \n",
       "texture_mean             1.5658     0.3253   4.814 1.48e-06 ***\n",
       "perimeter_mean           6.0179    14.6723   0.410   0.6817    \n",
       "area_mean               13.5404     7.3893   1.832   0.0669 .  \n",
       "smoothness_mean          0.9987     0.6007   1.663   0.0964 .  \n",
       "compactness_mean        -0.7065     1.3801  -0.512   0.6087    \n",
       "concavity_mean           0.5739     0.8216   0.698   0.4849    \n",
       "concave_points_mean      2.0024     1.4135   1.417   0.1566    \n",
       "symmetry_mean            0.9014     0.3938   2.289   0.0221 *  \n",
       "fractal_dimension_mean  -0.3596     0.7968  -0.451   0.6518    \n",
       "---\n",
       "Signif. codes:  0 '***' 0.001 '**' 0.01 '*' 0.05 '.' 0.1 ' ' 1\n",
       "\n",
       "(Dispersion parameter for binomial family taken to be 1)\n",
       "\n",
       "    Null deviance: 527.285  on 398  degrees of freedom\n",
       "Residual deviance:  95.257  on 388  degrees of freedom\n",
       "AIC: 117.26\n",
       "\n",
       "Number of Fisher Scoring iterations: 9\n"
      ]
     },
     "metadata": {},
     "output_type": "display_data"
    },
    {
     "data": {
      "text/plain": [
       "glm variable importance\n",
       "\n",
       "                       Overall\n",
       "texture_mean           100.000\n",
       "symmetry_mean           42.670\n",
       "area_mean               32.299\n",
       "smoothness_mean         28.443\n",
       "concave_points_mean     22.856\n",
       "radius_mean             10.656\n",
       "concavity_mean           6.547\n",
       "compactness_mean         2.311\n",
       "fractal_dimension_mean   0.934\n",
       "perimeter_mean           0.000"
      ]
     },
     "metadata": {},
     "output_type": "display_data"
    },
    {
     "data": {
      "image/png": "[encoded data removed]",
      "text/plain": [
       "plot without title"
      ]
     },
     "metadata": {},
     "output_type": "display_data"
    }
   ],
   "source": [
    "## Logistic regression\n",
    "## Set parameters for caret\n",
    "trainControl <- trainControl(method = \"cv\", number = 10, \n",
    "                              savePredictions = TRUE, classProbs = TRUE)\n",
    "\n",
    "# Perform prediction for \"mean\" data\n",
    "model_mean <- train(diagnosis~., data = df_mean_train, trControl = trainControl,\n",
    "                 method = \"glm\", family = binomial, metric =\"ROC\")\n",
    "model_mean\n",
    "summary(model_mean)\n",
    "varImp(model_mean)\n",
    "plot(varImp(model_mean), top=10)"
   ]
  },
  {
   "cell_type": "code",
   "execution_count": 325,
   "metadata": {},
   "outputs": [
    {
     "name": "stderr",
     "output_type": "stream",
     "text": [
      "Warning message in train.default(x, y, weights = w, ...):\n",
      "\"The metric \"ROC\" was not in the result set. Accuracy will be used instead.\"Warning message:\n",
      "\"glm.fit: algorithm did not converge\"Warning message:\n",
      "\"glm.fit: fitted probabilities numerically 0 or 1 occurred\"Warning message:\n",
      "\"glm.fit: fitted probabilities numerically 0 or 1 occurred\"Warning message:\n",
      "\"glm.fit: fitted probabilities numerically 0 or 1 occurred\"Warning message:\n",
      "\"glm.fit: fitted probabilities numerically 0 or 1 occurred\"Warning message:\n",
      "\"glm.fit: fitted probabilities numerically 0 or 1 occurred\"Warning message:\n",
      "\"glm.fit: fitted probabilities numerically 0 or 1 occurred\"Warning message:\n",
      "\"glm.fit: fitted probabilities numerically 0 or 1 occurred\"Warning message:\n",
      "\"glm.fit: fitted probabilities numerically 0 or 1 occurred\"Warning message:\n",
      "\"glm.fit: fitted probabilities numerically 0 or 1 occurred\"Warning message:\n",
      "\"glm.fit: fitted probabilities numerically 0 or 1 occurred\"Warning message:\n",
      "\"glm.fit: fitted probabilities numerically 0 or 1 occurred\""
     ]
    },
    {
     "data": {
      "text/plain": [
       "Generalized Linear Model \n",
       "\n",
       "399 samples\n",
       " 10 predictor\n",
       "  2 classes: 'B', 'M' \n",
       "\n",
       "No pre-processing\n",
       "Resampling: Cross-Validated (10 fold) \n",
       "Summary of sample sizes: 359, 359, 359, 359, 359, 359, ... \n",
       "Resampling results:\n",
       "\n",
       "  Accuracy   Kappa    \n",
       "  0.9673718  0.9290775\n"
      ]
     },
     "metadata": {},
     "output_type": "display_data"
    },
    {
     "data": {
      "text/plain": [
       "\n",
       "Call:\n",
       "NULL\n",
       "\n",
       "Deviance Residuals: \n",
       "    Min       1Q   Median       3Q      Max  \n",
       "-1.4465  -0.0431  -0.0055   0.0004   4.2970  \n",
       "\n",
       "Coefficients:\n",
       "                        Estimate Std. Error z value Pr(>|z|)    \n",
       "(Intercept)             -0.04034    1.08325  -0.037 0.970293    \n",
       "radius_worst            -1.77240    8.08404  -0.219 0.826458    \n",
       "texture_worst            1.63271    0.45820   3.563 0.000366 ***\n",
       "perimeter_worst          0.22823    5.33578   0.043 0.965882    \n",
       "area_worst              10.25855    9.53792   1.076 0.282127    \n",
       "smoothness_worst         0.92750    0.56794   1.633 0.102447    \n",
       "compactness_worst       -1.26908    1.69979  -0.747 0.455298    \n",
       "concavity_worst          0.80674    0.92526   0.872 0.383260    \n",
       "concave_points_worst     3.24075    1.54680   2.095 0.036159 *  \n",
       "symmetry_worst           0.56302    0.40554   1.388 0.165042    \n",
       "fractal_dimension_worst -0.09007    1.13212  -0.080 0.936591    \n",
       "---\n",
       "Signif. codes:  0 '***' 0.001 '**' 0.01 '*' 0.05 '.' 0.1 ' ' 1\n",
       "\n",
       "(Dispersion parameter for binomial family taken to be 1)\n",
       "\n",
       "    Null deviance: 527.285  on 398  degrees of freedom\n",
       "Residual deviance:  48.956  on 388  degrees of freedom\n",
       "AIC: 70.956\n",
       "\n",
       "Number of Fisher Scoring iterations: 10\n"
      ]
     },
     "metadata": {},
     "output_type": "display_data"
    },
    {
     "data": {
      "text/plain": [
       "glm variable importance\n",
       "\n",
       "                        Overall\n",
       "texture_worst           100.000\n",
       "concave_points_worst     58.297\n",
       "smoothness_worst         45.173\n",
       "symmetry_worst           38.220\n",
       "area_worst               29.336\n",
       "concavity_worst          23.551\n",
       "compactness_worst        19.992\n",
       "radius_worst              5.013\n",
       "fractal_dimension_worst   1.045\n",
       "perimeter_worst           0.000"
      ]
     },
     "metadata": {},
     "output_type": "display_data"
    },
    {
     "data": {
      "image/png": "[encoded data removed]",
      "text/plain": [
       "plot without title"
      ]
     },
     "metadata": {},
     "output_type": "display_data"
    }
   ],
   "source": [
    "## Perform prediction for \"worst\" data\n",
    "model_worst <- train(diagnosis~., data = df_worst_train, trControl = trainControl,\n",
    "                method = \"glm\", family = binomial, metric =\"ROC\")\n",
    "model_worst\n",
    "summary(model_worst)\n",
    "varImp(model_worst)\n",
    "plot(varImp(model_worst),top=10)"
   ]
  },
  {
   "cell_type": "markdown",
   "metadata": {},
   "source": [
    "## 3. How to assess a classification model"
   ]
  },
  {
   "cell_type": "markdown",
   "metadata": {},
   "source": [
    "### 3.1 Confusion matrix"
   ]
  },
  {
   "cell_type": "code",
   "execution_count": 327,
   "metadata": {},
   "outputs": [
    {
     "data": {
      "text/plain": [
       "Confusion Matrix and Statistics\n",
       "\n",
       "          Reference\n",
       "Prediction   B   M\n",
       "         B 104   7\n",
       "         M   3  56\n",
       "                                          \n",
       "               Accuracy : 0.9412          \n",
       "                 95% CI : (0.8945, 0.9714)\n",
       "    No Information Rate : 0.6294          \n",
       "    P-Value [Acc > NIR] : <2e-16          \n",
       "                                          \n",
       "                  Kappa : 0.8722          \n",
       "                                          \n",
       " Mcnemar's Test P-Value : 0.3428          \n",
       "                                          \n",
       "            Sensitivity : 0.9720          \n",
       "            Specificity : 0.8889          \n",
       "         Pos Pred Value : 0.9369          \n",
       "         Neg Pred Value : 0.9492          \n",
       "             Prevalence : 0.6294          \n",
       "         Detection Rate : 0.6118          \n",
       "   Detection Prevalence : 0.6529          \n",
       "      Balanced Accuracy : 0.9304          \n",
       "                                          \n",
       "       'Positive' Class : B               \n",
       "                                          "
      ]
     },
     "metadata": {},
     "output_type": "display_data"
    }
   ],
   "source": [
    "pred_mean <- predict(model_mean,df_mean_test)\n",
    "confusionMatrix(pred_mean,df_mean_test$diagnosis)"
   ]
  },
  {
   "cell_type": "code",
   "execution_count": 328,
   "metadata": {},
   "outputs": [
    {
     "data": {
      "text/plain": [
       "Confusion Matrix and Statistics\n",
       "\n",
       "          Reference\n",
       "Prediction   B   M\n",
       "         B 107   4\n",
       "         M   0  59\n",
       "                                          \n",
       "               Accuracy : 0.9765          \n",
       "                 95% CI : (0.9409, 0.9936)\n",
       "    No Information Rate : 0.6294          \n",
       "    P-Value [Acc > NIR] : <2e-16          \n",
       "                                          \n",
       "                  Kappa : 0.9489          \n",
       "                                          \n",
       " Mcnemar's Test P-Value : 0.1336          \n",
       "                                          \n",
       "            Sensitivity : 1.0000          \n",
       "            Specificity : 0.9365          \n",
       "         Pos Pred Value : 0.9640          \n",
       "         Neg Pred Value : 1.0000          \n",
       "             Prevalence : 0.6294          \n",
       "         Detection Rate : 0.6294          \n",
       "   Detection Prevalence : 0.6529          \n",
       "      Balanced Accuracy : 0.9683          \n",
       "                                          \n",
       "       'Positive' Class : B               \n",
       "                                          "
      ]
     },
     "metadata": {},
     "output_type": "display_data"
    }
   ],
   "source": [
    "pred_worst <- predict(model_worst,df_worst_test)\n",
    "confusionMatrix(pred_worst,df_worst_test$diagnosis)"
   ]
  },
  {
   "cell_type": "markdown",
   "metadata": {},
   "source": [
    "### 3.2 AUROC\n",
    "Calculate the area under the ROC (Receiver operating characteristic) curve."
   ]
  },
  {
   "cell_type": "code",
   "execution_count": 331,
   "metadata": {},
   "outputs": [
    {
     "data": {
      "text/html": [
       "<table>\n",
       "<thead><tr><th scope=col>pred</th><th scope=col>obs</th><th scope=col>B</th><th scope=col>M</th><th scope=col>rowIndex</th><th scope=col>parameter</th><th scope=col>Resample</th></tr></thead>\n",
       "<tbody>\n",
       "\t<tr><td>M           </td><td>M           </td><td>1.160818e-01</td><td>0.883918179 </td><td> 6          </td><td>none        </td><td>Fold01      </td></tr>\n",
       "\t<tr><td>M           </td><td>M           </td><td>7.377182e-05</td><td>0.999926228 </td><td>16          </td><td>none        </td><td>Fold01      </td></tr>\n",
       "\t<tr><td>M           </td><td>M           </td><td>2.639492e-02</td><td>0.973605079 </td><td>17          </td><td>none        </td><td>Fold01      </td></tr>\n",
       "\t<tr><td>M           </td><td>M           </td><td>3.569738e-06</td><td>0.999996430 </td><td>21          </td><td>none        </td><td>Fold01      </td></tr>\n",
       "\t<tr><td>B           </td><td>B           </td><td>9.875811e-01</td><td>0.012418943 </td><td>36          </td><td>none        </td><td>Fold01      </td></tr>\n",
       "\t<tr><td>B           </td><td>B           </td><td>9.982338e-01</td><td>0.001766228 </td><td>41          </td><td>none        </td><td>Fold01      </td></tr>\n",
       "</tbody>\n",
       "</table>\n"
      ],
      "text/latex": [
       "\\begin{tabular}{r|lllllll}\n",
       " pred & obs & B & M & rowIndex & parameter & Resample\\\\\n",
       "\\hline\n",
       "\t M            & M            & 1.160818e-01 & 0.883918179  &  6           & none         & Fold01      \\\\\n",
       "\t M            & M            & 7.377182e-05 & 0.999926228  & 16           & none         & Fold01      \\\\\n",
       "\t M            & M            & 2.639492e-02 & 0.973605079  & 17           & none         & Fold01      \\\\\n",
       "\t M            & M            & 3.569738e-06 & 0.999996430  & 21           & none         & Fold01      \\\\\n",
       "\t B            & B            & 9.875811e-01 & 0.012418943  & 36           & none         & Fold01      \\\\\n",
       "\t B            & B            & 9.982338e-01 & 0.001766228  & 41           & none         & Fold01      \\\\\n",
       "\\end{tabular}\n"
      ],
      "text/markdown": [
       "\n",
       "| pred | obs | B | M | rowIndex | parameter | Resample |\n",
       "|---|---|---|---|---|---|---|\n",
       "| M            | M            | 1.160818e-01 | 0.883918179  |  6           | none         | Fold01       |\n",
       "| M            | M            | 7.377182e-05 | 0.999926228  | 16           | none         | Fold01       |\n",
       "| M            | M            | 2.639492e-02 | 0.973605079  | 17           | none         | Fold01       |\n",
       "| M            | M            | 3.569738e-06 | 0.999996430  | 21           | none         | Fold01       |\n",
       "| B            | B            | 9.875811e-01 | 0.012418943  | 36           | none         | Fold01       |\n",
       "| B            | B            | 9.982338e-01 | 0.001766228  | 41           | none         | Fold01       |\n",
       "\n"
      ],
      "text/plain": [
       "  pred obs B            M           rowIndex parameter Resample\n",
       "1 M    M   1.160818e-01 0.883918179  6       none      Fold01  \n",
       "2 M    M   7.377182e-05 0.999926228 16       none      Fold01  \n",
       "3 M    M   2.639492e-02 0.973605079 17       none      Fold01  \n",
       "4 M    M   3.569738e-06 0.999996430 21       none      Fold01  \n",
       "5 B    B   9.875811e-01 0.012418943 36       none      Fold01  \n",
       "6 B    B   9.982338e-01 0.001766228 41       none      Fold01  "
      ]
     },
     "metadata": {},
     "output_type": "display_data"
    },
    {
     "data": {
      "text/html": [
       "0.984671140939597"
      ],
      "text/latex": [
       "0.984671140939597"
      ],
      "text/markdown": [
       "0.984671140939597"
      ],
      "text/plain": [
       "[1] 0.9846711"
      ]
     },
     "metadata": {},
     "output_type": "display_data"
    },
    {
     "data": {
      "text/html": [
       "<table>\n",
       "<thead><tr><th></th><th scope=col>B</th><th scope=col>M</th></tr></thead>\n",
       "<tbody>\n",
       "\t<tr><th scope=row>1</th><td>2.836365e-05</td><td>0.9999716   </td></tr>\n",
       "\t<tr><th scope=row>2</th><td>5.007290e-06</td><td>0.9999950   </td></tr>\n",
       "\t<tr><th scope=row>6</th><td>4.614811e-01</td><td>0.5385189   </td></tr>\n",
       "\t<tr><th scope=row>8</th><td>2.121733e-01</td><td>0.7878267   </td></tr>\n",
       "\t<tr><th scope=row>14</th><td>2.852257e-02</td><td>0.9714774   </td></tr>\n",
       "\t<tr><th scope=row>16</th><td>1.128878e-03</td><td>0.9988711   </td></tr>\n",
       "</tbody>\n",
       "</table>\n"
      ],
      "text/latex": [
       "\\begin{tabular}{r|ll}\n",
       "  & B & M\\\\\n",
       "\\hline\n",
       "\t1 & 2.836365e-05 & 0.9999716   \\\\\n",
       "\t2 & 5.007290e-06 & 0.9999950   \\\\\n",
       "\t6 & 4.614811e-01 & 0.5385189   \\\\\n",
       "\t8 & 2.121733e-01 & 0.7878267   \\\\\n",
       "\t14 & 2.852257e-02 & 0.9714774   \\\\\n",
       "\t16 & 1.128878e-03 & 0.9988711   \\\\\n",
       "\\end{tabular}\n"
      ],
      "text/markdown": [
       "\n",
       "| <!--/--> | B | M |\n",
       "|---|---|---|\n",
       "| 1 | 2.836365e-05 | 0.9999716    |\n",
       "| 2 | 5.007290e-06 | 0.9999950    |\n",
       "| 6 | 4.614811e-01 | 0.5385189    |\n",
       "| 8 | 2.121733e-01 | 0.7878267    |\n",
       "| 14 | 2.852257e-02 | 0.9714774    |\n",
       "| 16 | 1.128878e-03 | 0.9988711    |\n",
       "\n"
      ],
      "text/plain": [
       "   B            M        \n",
       "1  2.836365e-05 0.9999716\n",
       "2  5.007290e-06 0.9999950\n",
       "6  4.614811e-01 0.5385189\n",
       "8  2.121733e-01 0.7878267\n",
       "14 2.852257e-02 0.9714774\n",
       "16 1.128878e-03 0.9988711"
      ]
     },
     "metadata": {},
     "output_type": "display_data"
    },
    {
     "data": {
      "text/html": [
       "0.979231568016614"
      ],
      "text/latex": [
       "0.979231568016614"
      ],
      "text/markdown": [
       "0.979231568016614"
      ],
      "text/plain": [
       "[1] 0.9792316"
      ]
     },
     "metadata": {},
     "output_type": "display_data"
    }
   ],
   "source": [
    "## Calculate AUROC for \"mean\" data\n",
    "## Training performance\n",
    "head(model_mean$pred)\n",
    "prediction_mean <- prediction(model_mean$pred$M, model_mean$pred$obs)\n",
    "performance_mean <- performance(prediction_mean, \"tpr\", \"fpr\")\n",
    "auc_mean <- performance(prediction_mean, \"auc\")\n",
    "auc_mean <- unlist(slot(auc_mean, \"y.values\"))\n",
    "auc_mean\n",
    "\n",
    "## Test performance\n",
    "pred_mean_test <- predict(model_mean, df_mean_test, type=\"prob\")\n",
    "head(pred_mean_test)\n",
    "prediction_mean_test <- prediction(pred_mean_test$M, df_mean_test$diagnosis)\n",
    "performance_mean_test <- performance(prediction_mean_test, \"tpr\", \"fpr\")\n",
    "auc_mean_test <- performance(prediction_mean_test, \"auc\")\n",
    "auc_mean_test <- unlist(slot(auc_mean_test, \"y.values\"))\n",
    "auc_mean_test"
   ]
  },
  {
   "cell_type": "code",
   "execution_count": 333,
   "metadata": {},
   "outputs": [
    {
     "data": {
      "text/html": [
       "<table>\n",
       "<thead><tr><th scope=col>pred</th><th scope=col>obs</th><th scope=col>B</th><th scope=col>M</th><th scope=col>rowIndex</th><th scope=col>parameter</th><th scope=col>Resample</th></tr></thead>\n",
       "<tbody>\n",
       "\t<tr><td>M           </td><td>M           </td><td>2.220446e-16</td><td>1.000000e+00</td><td> 3          </td><td>none        </td><td>Fold01      </td></tr>\n",
       "\t<tr><td>M           </td><td>M           </td><td>2.220446e-16</td><td>1.000000e+00</td><td> 4          </td><td>none        </td><td>Fold01      </td></tr>\n",
       "\t<tr><td>M           </td><td>M           </td><td>2.220446e-16</td><td>1.000000e+00</td><td>11          </td><td>none        </td><td>Fold01      </td></tr>\n",
       "\t<tr><td>B           </td><td>M           </td><td>1.000000e+00</td><td>2.220446e-16</td><td>24          </td><td>none        </td><td>Fold01      </td></tr>\n",
       "\t<tr><td>B           </td><td>M           </td><td>1.000000e+00</td><td>2.220446e-16</td><td>25          </td><td>none        </td><td>Fold01      </td></tr>\n",
       "\t<tr><td>B           </td><td>B           </td><td>1.000000e+00</td><td>2.220446e-16</td><td>38          </td><td>none        </td><td>Fold01      </td></tr>\n",
       "</tbody>\n",
       "</table>\n"
      ],
      "text/latex": [
       "\\begin{tabular}{r|lllllll}\n",
       " pred & obs & B & M & rowIndex & parameter & Resample\\\\\n",
       "\\hline\n",
       "\t M            & M            & 2.220446e-16 & 1.000000e+00 &  3           & none         & Fold01      \\\\\n",
       "\t M            & M            & 2.220446e-16 & 1.000000e+00 &  4           & none         & Fold01      \\\\\n",
       "\t M            & M            & 2.220446e-16 & 1.000000e+00 & 11           & none         & Fold01      \\\\\n",
       "\t B            & M            & 1.000000e+00 & 2.220446e-16 & 24           & none         & Fold01      \\\\\n",
       "\t B            & M            & 1.000000e+00 & 2.220446e-16 & 25           & none         & Fold01      \\\\\n",
       "\t B            & B            & 1.000000e+00 & 2.220446e-16 & 38           & none         & Fold01      \\\\\n",
       "\\end{tabular}\n"
      ],
      "text/markdown": [
       "\n",
       "| pred | obs | B | M | rowIndex | parameter | Resample |\n",
       "|---|---|---|---|---|---|---|\n",
       "| M            | M            | 2.220446e-16 | 1.000000e+00 |  3           | none         | Fold01       |\n",
       "| M            | M            | 2.220446e-16 | 1.000000e+00 |  4           | none         | Fold01       |\n",
       "| M            | M            | 2.220446e-16 | 1.000000e+00 | 11           | none         | Fold01       |\n",
       "| B            | M            | 1.000000e+00 | 2.220446e-16 | 24           | none         | Fold01       |\n",
       "| B            | M            | 1.000000e+00 | 2.220446e-16 | 25           | none         | Fold01       |\n",
       "| B            | B            | 1.000000e+00 | 2.220446e-16 | 38           | none         | Fold01       |\n",
       "\n"
      ],
      "text/plain": [
       "  pred obs B            M            rowIndex parameter Resample\n",
       "1 M    M   2.220446e-16 1.000000e+00  3       none      Fold01  \n",
       "2 M    M   2.220446e-16 1.000000e+00  4       none      Fold01  \n",
       "3 M    M   2.220446e-16 1.000000e+00 11       none      Fold01  \n",
       "4 B    M   1.000000e+00 2.220446e-16 24       none      Fold01  \n",
       "5 B    M   1.000000e+00 2.220446e-16 25       none      Fold01  \n",
       "6 B    B   1.000000e+00 2.220446e-16 38       none      Fold01  "
      ]
     },
     "metadata": {},
     "output_type": "display_data"
    },
    {
     "data": {
      "text/html": [
       "0.969530201342281"
      ],
      "text/latex": [
       "0.969530201342281"
      ],
      "text/markdown": [
       "0.969530201342281"
      ],
      "text/plain": [
       "[1] 0.9695302"
      ]
     },
     "metadata": {},
     "output_type": "display_data"
    },
    {
     "data": {
      "text/html": [
       "<table>\n",
       "<thead><tr><th></th><th scope=col>B</th><th scope=col>M</th></tr></thead>\n",
       "<tbody>\n",
       "\t<tr><th scope=row>1</th><td>4.429934e-11</td><td>1.0000000   </td></tr>\n",
       "\t<tr><th scope=row>2</th><td>4.056878e-09</td><td>1.0000000   </td></tr>\n",
       "\t<tr><th scope=row>6</th><td>1.594768e-01</td><td>0.8405232   </td></tr>\n",
       "\t<tr><th scope=row>8</th><td>3.982606e-02</td><td>0.9601739   </td></tr>\n",
       "\t<tr><th scope=row>14</th><td>5.779888e-01</td><td>0.4220112   </td></tr>\n",
       "\t<tr><th scope=row>16</th><td>6.131381e-04</td><td>0.9993869   </td></tr>\n",
       "</tbody>\n",
       "</table>\n"
      ],
      "text/latex": [
       "\\begin{tabular}{r|ll}\n",
       "  & B & M\\\\\n",
       "\\hline\n",
       "\t1 & 4.429934e-11 & 1.0000000   \\\\\n",
       "\t2 & 4.056878e-09 & 1.0000000   \\\\\n",
       "\t6 & 1.594768e-01 & 0.8405232   \\\\\n",
       "\t8 & 3.982606e-02 & 0.9601739   \\\\\n",
       "\t14 & 5.779888e-01 & 0.4220112   \\\\\n",
       "\t16 & 6.131381e-04 & 0.9993869   \\\\\n",
       "\\end{tabular}\n"
      ],
      "text/markdown": [
       "\n",
       "| <!--/--> | B | M |\n",
       "|---|---|---|\n",
       "| 1 | 4.429934e-11 | 1.0000000    |\n",
       "| 2 | 4.056878e-09 | 1.0000000    |\n",
       "| 6 | 1.594768e-01 | 0.8405232    |\n",
       "| 8 | 3.982606e-02 | 0.9601739    |\n",
       "| 14 | 5.779888e-01 | 0.4220112    |\n",
       "| 16 | 6.131381e-04 | 0.9993869    |\n",
       "\n"
      ],
      "text/plain": [
       "   B            M        \n",
       "1  4.429934e-11 1.0000000\n",
       "2  4.056878e-09 1.0000000\n",
       "6  1.594768e-01 0.8405232\n",
       "8  3.982606e-02 0.9601739\n",
       "14 5.779888e-01 0.4220112\n",
       "16 6.131381e-04 0.9993869"
      ]
     },
     "metadata": {},
     "output_type": "display_data"
    },
    {
     "data": {
      "text/html": [
       "0.988429016466399"
      ],
      "text/latex": [
       "0.988429016466399"
      ],
      "text/markdown": [
       "0.988429016466399"
      ],
      "text/plain": [
       "[1] 0.988429"
      ]
     },
     "metadata": {},
     "output_type": "display_data"
    }
   ],
   "source": [
    "## calculate for \"worst\" data\n",
    "## Training performance\n",
    "head(model_worst$pred)\n",
    "prediction_worst <- prediction(model_worst$pred$M, model_worst$pred$obs)\n",
    "performance_worst <- performance(prediction_worst, \"tpr\", \"fpr\")\n",
    "auc_worst <- performance(prediction_worst, \"auc\")\n",
    "auc_worst <- unlist(slot(auc_worst, \"y.values\"))\n",
    "auc_worst\n",
    "\n",
    "## Test performance\n",
    "pred_worst_test <- predict(model_worst, df_worst_test, type=\"prob\")\n",
    "head(pred_worst_test)\n",
    "prediction_worst_test <- prediction(pred_worst_test$M, df_worst_test$diagnosis)\n",
    "performance_worst_test <- performance(prediction_worst_test, \"tpr\", \"fpr\")\n",
    "auc_worst_test <- performance(prediction_worst_test, \"auc\")\n",
    "auc_worst_test <- unlist(slot(auc_worst_test, \"y.values\"))\n",
    "auc_worst_test"
   ]
  },
  {
   "cell_type": "markdown",
   "metadata": {},
   "source": [
    "## 4. How to compare classification models"
   ]
  },
  {
   "cell_type": "code",
   "execution_count": 334,
   "metadata": {},
   "outputs": [
    {
     "data": {
      "image/png": "[encoded data removed]",
      "text/plain": [
       "plot without title"
      ]
     },
     "metadata": {},
     "output_type": "display_data"
    }
   ],
   "source": [
    "plot(performance_mean_test, col=\"blue\" )\n",
    "plot(performance_worst_test, col=\"red\", add = TRUE)\n",
    "plot(performance_mean, col=\"cyan\", add = TRUE)\n",
    "plot(performance_worst, col=\"pink\", add = TRUE)\n",
    "\n",
    "legend(\"bottomright\", c(\"mean test\",\"worst test\", \"mean_train\", \"worst_train\"), fill=c(\"blue\",\"red\", \"cyan\", \"pink\"))"
   ]
  },
  {
   "cell_type": "markdown",
   "metadata": {},
   "source": [
    "## 5. Molecular biology example - TF-DNA binding analysis on ChIP-seq data"
   ]
  },
  {
   "cell_type": "code",
   "execution_count": 335,
   "metadata": {},
   "outputs": [
    {
     "data": {
      "text/html": [
       "<table>\n",
       "<thead><tr><th scope=col>seq</th><th scope=col>isBound</th></tr></thead>\n",
       "<tbody>\n",
       "\t<tr><td>GCCGGCAGGTGGCGCCCGACCTGGCGTTCT</td><td>Y                             </td></tr>\n",
       "\t<tr><td>GGCCAGCCTGCAGCGGAGAAAACCACCTTT</td><td>Y                             </td></tr>\n",
       "\t<tr><td>CCTGGGACCTGCAGCCTGAAAAGCTGGACT</td><td>Y                             </td></tr>\n",
       "\t<tr><td>AGGTTGGTCAGTAGAGGGCGCCCTGGTCAT</td><td>Y                             </td></tr>\n",
       "\t<tr><td>GGTGGACAGTGGACAATAGCGTGCCTTTCT</td><td>Y                             </td></tr>\n",
       "\t<tr><td>TAGCCGAGACAGCAGAGGGCGCCCAGATTC</td><td>Y                             </td></tr>\n",
       "</tbody>\n",
       "</table>\n"
      ],
      "text/latex": [
       "\\begin{tabular}{r|ll}\n",
       " seq & isBound\\\\\n",
       "\\hline\n",
       "\t GCCGGCAGGTGGCGCCCGACCTGGCGTTCT & Y                             \\\\\n",
       "\t GGCCAGCCTGCAGCGGAGAAAACCACCTTT & Y                             \\\\\n",
       "\t CCTGGGACCTGCAGCCTGAAAAGCTGGACT & Y                             \\\\\n",
       "\t AGGTTGGTCAGTAGAGGGCGCCCTGGTCAT & Y                             \\\\\n",
       "\t GGTGGACAGTGGACAATAGCGTGCCTTTCT & Y                             \\\\\n",
       "\t TAGCCGAGACAGCAGAGGGCGCCCAGATTC & Y                             \\\\\n",
       "\\end{tabular}\n"
      ],
      "text/markdown": [
       "\n",
       "| seq | isBound |\n",
       "|---|---|\n",
       "| GCCGGCAGGTGGCGCCCGACCTGGCGTTCT | Y                              |\n",
       "| GGCCAGCCTGCAGCGGAGAAAACCACCTTT | Y                              |\n",
       "| CCTGGGACCTGCAGCCTGAAAAGCTGGACT | Y                              |\n",
       "| AGGTTGGTCAGTAGAGGGCGCCCTGGTCAT | Y                              |\n",
       "| GGTGGACAGTGGACAATAGCGTGCCTTTCT | Y                              |\n",
       "| TAGCCGAGACAGCAGAGGGCGCCCAGATTC | Y                              |\n",
       "\n"
      ],
      "text/plain": [
       "  seq                            isBound\n",
       "1 GCCGGCAGGTGGCGCCCGACCTGGCGTTCT Y      \n",
       "2 GGCCAGCCTGCAGCGGAGAAAACCACCTTT Y      \n",
       "3 CCTGGGACCTGCAGCCTGAAAAGCTGGACT Y      \n",
       "4 AGGTTGGTCAGTAGAGGGCGCCCTGGTCAT Y      \n",
       "5 GGTGGACAGTGGACAATAGCGTGCCTTTCT Y      \n",
       "6 TAGCCGAGACAGCAGAGGGCGCCCAGATTC Y      "
      ]
     },
     "metadata": {},
     "output_type": "display_data"
    }
   ],
   "source": [
    "## Generate data for the classifcation (assign Y to bound and N to non-bound)\n",
    "# bound\n",
    "fn_bound <- \"bound.fa\"\n",
    "boundFasta <- readDNAStringSet(fn_bound)\n",
    "sequences <- paste(boundFasta)\n",
    "boundTxt <- data.frame(seq=sequences, isBound=\"Y\")\n",
    "\n",
    "# non-bound\n",
    "fn_unbound <- \"unbound.fa\"\n",
    "nonboundFasta <- readDNAStringSet(fn_unbound)\n",
    "sequences <- paste(nonboundFasta)\n",
    "nonboundTxt <- data.frame(seq=sequences, isBound=\"N\")\n",
    "\n",
    "# merge two datasets\n",
    "writeXStringSet(c(boundFasta, nonboundFasta), \"ctcf.fa\")\n",
    "exp_data <- rbind(boundTxt, nonboundTxt)\n",
    "head(exp_data)"
   ]
  },
  {
   "cell_type": "code",
   "execution_count": 336,
   "metadata": {},
   "outputs": [
    {
     "name": "stdout",
     "output_type": "stream",
     "text": [
      "Reading the input sequence......\n",
      "Reading the input sequence......\n",
      "Reading the input sequence......\n",
      "Reading the input sequence......\n",
      "Reading the input sequence......\n"
     ]
    },
    {
     "name": "stderr",
     "output_type": "stream",
     "text": [
      "Parsing files......\n",
      "Record length: 30\n",
      "Record length: 29\n",
      "Record length: 30\n",
      "Record length: 29\n",
      "Record length: 30\n",
      "Done\n"
     ]
    }
   ],
   "source": [
    "## DNAshapeR prediction\n",
    "pred <- getShape(\"ctcf.fa\")\n",
    "\n",
    "## Encode feature vectors\n",
    "featureType <- c(\"1-mer\", \"1-shape\")\n",
    "featureVector <- encodeSeqShape(\"ctcf.fa\", pred, featureType)\n",
    "df <- data.frame(isBound = exp_data$isBound, featureVector)"
   ]
  },
  {
   "cell_type": "code",
   "execution_count": 337,
   "metadata": {},
   "outputs": [
    {
     "name": "stderr",
     "output_type": "stream",
     "text": [
      "Warning message in train.default(x, y, weights = w, ...):\n",
      "\"The metric \"ROC\" was not in the result set. Accuracy will be used instead.\"Warning message in predict.lm(object, newdata, se.fit, scale = 1, type = if (type == :\n",
      "\"prediction from a rank-deficient fit may be misleading\"Warning message in predict.lm(object, newdata, se.fit, scale = 1, type = if (type == :\n",
      "\"prediction from a rank-deficient fit may be misleading\"Warning message in predict.lm(object, newdata, se.fit, scale = 1, type = if (type == :\n",
      "\"prediction from a rank-deficient fit may be misleading\"Warning message in predict.lm(object, newdata, se.fit, scale = 1, type = if (type == :\n",
      "\"prediction from a rank-deficient fit may be misleading\"Warning message in predict.lm(object, newdata, se.fit, scale = 1, type = if (type == :\n",
      "\"prediction from a rank-deficient fit may be misleading\"Warning message in predict.lm(object, newdata, se.fit, scale = 1, type = if (type == :\n",
      "\"prediction from a rank-deficient fit may be misleading\"Warning message in predict.lm(object, newdata, se.fit, scale = 1, type = if (type == :\n",
      "\"prediction from a rank-deficient fit may be misleading\"Warning message in predict.lm(object, newdata, se.fit, scale = 1, type = if (type == :\n",
      "\"prediction from a rank-deficient fit may be misleading\"Warning message in predict.lm(object, newdata, se.fit, scale = 1, type = if (type == :\n",
      "\"prediction from a rank-deficient fit may be misleading\"Warning message in predict.lm(object, newdata, se.fit, scale = 1, type = if (type == :\n",
      "\"prediction from a rank-deficient fit may be misleading\"Warning message in predict.lm(object, newdata, se.fit, scale = 1, type = if (type == :\n",
      "\"prediction from a rank-deficient fit may be misleading\"Warning message in predict.lm(object, newdata, se.fit, scale = 1, type = if (type == :\n",
      "\"prediction from a rank-deficient fit may be misleading\"Warning message in predict.lm(object, newdata, se.fit, scale = 1, type = if (type == :\n",
      "\"prediction from a rank-deficient fit may be misleading\"Warning message in predict.lm(object, newdata, se.fit, scale = 1, type = if (type == :\n",
      "\"prediction from a rank-deficient fit may be misleading\"Warning message in predict.lm(object, newdata, se.fit, scale = 1, type = if (type == :\n",
      "\"prediction from a rank-deficient fit may be misleading\"Warning message in predict.lm(object, newdata, se.fit, scale = 1, type = if (type == :\n",
      "\"prediction from a rank-deficient fit may be misleading\"Warning message in predict.lm(object, newdata, se.fit, scale = 1, type = if (type == :\n",
      "\"prediction from a rank-deficient fit may be misleading\"Warning message in predict.lm(object, newdata, se.fit, scale = 1, type = if (type == :\n",
      "\"prediction from a rank-deficient fit may be misleading\"Warning message in predict.lm(object, newdata, se.fit, scale = 1, type = if (type == :\n",
      "\"prediction from a rank-deficient fit may be misleading\"Warning message in predict.lm(object, newdata, se.fit, scale = 1, type = if (type == :\n",
      "\"prediction from a rank-deficient fit may be misleading\""
     ]
    },
    {
     "data": {
      "text/plain": [
       "Generalized Linear Model \n",
       "\n",
       "3999 samples\n",
       " 226 predictor\n",
       "   2 classes: 'Y', 'N' \n",
       "\n",
       "No pre-processing\n",
       "Resampling: Cross-Validated (10 fold) \n",
       "Summary of sample sizes: 3599, 3599, 3599, 3599, 3599, 3599, ... \n",
       "Resampling results:\n",
       "\n",
       "  Accuracy  Kappa    \n",
       "  0.762693  0.5253817\n"
      ]
     },
     "metadata": {},
     "output_type": "display_data"
    },
    {
     "data": {
      "text/plain": [
       "\n",
       "Call:\n",
       "NULL\n",
       "\n",
       "Deviance Residuals: \n",
       "    Min       1Q   Median       3Q      Max  \n",
       "-2.9741  -0.7173  -0.0636   0.6744   3.4455  \n",
       "\n",
       "Coefficients: (29 not defined because of singularities)\n",
       "             Estimate Std. Error z value Pr(>|z|)    \n",
       "(Intercept)  50.39336  309.81843   0.163 0.870790    \n",
       "X1          -13.01304  309.78071  -0.042 0.966493    \n",
       "X2          -13.40134  309.78069  -0.043 0.965494    \n",
       "X3          -13.09565  309.78070  -0.042 0.966280    \n",
       "X4          -12.92946  309.78068  -0.042 0.966708    \n",
       "X5           -0.09948    0.24253  -0.410 0.681683    \n",
       "X6           -0.37238    0.19749  -1.886 0.059356 .  \n",
       "X7           -0.33568    0.16933  -1.982 0.047438 *  \n",
       "X8                 NA         NA      NA       NA    \n",
       "X9            0.14591    0.31658   0.461 0.644862    \n",
       "X10           0.06940    0.31470   0.221 0.825453    \n",
       "X11           0.21123    0.33399   0.632 0.527101    \n",
       "X12                NA         NA      NA       NA    \n",
       "X13          -0.03665    0.32616  -0.112 0.910525    \n",
       "X14          -0.21690    0.34396  -0.631 0.528310    \n",
       "X15          -0.49303    0.32857  -1.501 0.133479    \n",
       "X16                NA         NA      NA       NA    \n",
       "X17          -0.51653    0.33416  -1.546 0.122167    \n",
       "X18          -0.68888    0.34047  -2.023 0.043037 *  \n",
       "X19          -0.98947    0.33323  -2.969 0.002984 ** \n",
       "X20                NA         NA      NA       NA    \n",
       "X21           0.31586    0.32608   0.969 0.332709    \n",
       "X22          -0.38566    0.33274  -1.159 0.246445    \n",
       "X23          -0.29941    0.32375  -0.925 0.355067    \n",
       "X24                NA         NA      NA       NA    \n",
       "X25          -0.13811    0.32267  -0.428 0.668648    \n",
       "X26          -0.40604    0.34083  -1.191 0.233528    \n",
       "X27          -0.47879    0.32671  -1.465 0.142791    \n",
       "X28                NA         NA      NA       NA    \n",
       "X29           0.77936    0.33131   2.352 0.018653 *  \n",
       "X30           0.13868    0.34048   0.407 0.683779    \n",
       "X31           0.15395    0.33088   0.465 0.641723    \n",
       "X32                NA         NA      NA       NA    \n",
       "X33          -0.08839    0.33312  -0.265 0.790737    \n",
       "X34          -0.28681    0.34497  -0.831 0.405741    \n",
       "X35          -0.67831    0.33447  -2.028 0.042561 *  \n",
       "X36                NA         NA      NA       NA    \n",
       "X37          -0.12947    0.32849  -0.394 0.693474    \n",
       "X38          -0.47741    0.33777  -1.413 0.157538    \n",
       "X39          -0.52790    0.33288  -1.586 0.112780    \n",
       "X40                NA         NA      NA       NA    \n",
       "X41          -0.17716    0.33123  -0.535 0.592753    \n",
       "X42          -0.15469    0.34000  -0.455 0.649123    \n",
       "X43           0.14100    0.32473   0.434 0.664144    \n",
       "X44                NA         NA      NA       NA    \n",
       "X45          -0.28451    0.32544  -0.874 0.381995    \n",
       "X46          -0.10895    0.33953  -0.321 0.748292    \n",
       "X47          -0.65809    0.32927  -1.999 0.045650 *  \n",
       "X48                NA         NA      NA       NA    \n",
       "X49           0.55609    0.32866   1.692 0.090647 .  \n",
       "X50          -0.08553    0.34513  -0.248 0.804281    \n",
       "X51          -0.23018    0.33131  -0.695 0.487210    \n",
       "X52                NA         NA      NA       NA    \n",
       "X53          -0.32673    0.33316  -0.981 0.326750    \n",
       "X54          -1.22243    0.34223  -3.572 0.000354 ***\n",
       "X55          -0.92217    0.33239  -2.774 0.005531 ** \n",
       "X56                NA         NA      NA       NA    \n",
       "X57           0.37794    0.32556   1.161 0.245683    \n",
       "X58           0.21063    0.34515   0.610 0.541698    \n",
       "X59          -0.18510    0.33899  -0.546 0.585040    \n",
       "X60                NA         NA      NA       NA    \n",
       "X61          -0.07624    0.31818  -0.240 0.810635    \n",
       "X62          -0.20646    0.34110  -0.605 0.544993    \n",
       "X63          -0.35488    0.33152  -1.070 0.284408    \n",
       "X64                NA         NA      NA       NA    \n",
       "X65          -0.12877    0.33133  -0.389 0.697549    \n",
       "X66          -0.01255    0.33575  -0.037 0.970171    \n",
       "X67          -0.37322    0.33165  -1.125 0.260452    \n",
       "X68                NA         NA      NA       NA    \n",
       "X69           0.42186    0.32858   1.284 0.199184    \n",
       "X70           0.10557    0.33302   0.317 0.751234    \n",
       "X71           0.38117    0.33404   1.141 0.253832    \n",
       "X72                NA         NA      NA       NA    \n",
       "X73          -0.02001    0.33134  -0.060 0.951846    \n",
       "X74           0.09100    0.33946   0.268 0.788654    \n",
       "X75           0.23563    0.33149   0.711 0.477203    \n",
       "X76                NA         NA      NA       NA    \n",
       "X77          -0.25808    0.32402  -0.797 0.425739    \n",
       "X78          -0.05069    0.32879  -0.154 0.877469    \n",
       "X79          -0.35328    0.32570  -1.085 0.278065    \n",
       "X80                NA         NA      NA       NA    \n",
       "X81           0.08288    0.32707   0.253 0.799966    \n",
       "X82          -0.20751    0.33851  -0.613 0.539862    \n",
       "X83          -0.22286    0.32720  -0.681 0.495787    \n",
       "X84                NA         NA      NA       NA    \n",
       "X85           0.13475    0.32219   0.418 0.675789    \n",
       "X86          -0.23238    0.33844  -0.687 0.492322    \n",
       "X87          -0.06025    0.33337  -0.181 0.856586    \n",
       "X88                NA         NA      NA       NA    \n",
       "X89          -0.38745    0.32893  -1.178 0.238833    \n",
       "X90          -0.14516    0.33695  -0.431 0.666616    \n",
       "X91          -0.49772    0.32780  -1.518 0.128928    \n",
       "X92                NA         NA      NA       NA    \n",
       "X93           0.59044    0.31848   1.854 0.063746 .  \n",
       "X94          -0.15177    0.33313  -0.456 0.648681    \n",
       "X95          -0.10153    0.32812  -0.309 0.757004    \n",
       "X96                NA         NA      NA       NA    \n",
       "X97           0.01343    0.32407   0.041 0.966942    \n",
       "X98          -0.69231    0.33747  -2.051 0.040219 *  \n",
       "X99          -0.52023    0.32910  -1.581 0.113934    \n",
       "X100               NA         NA      NA       NA    \n",
       "X101          0.31659    0.33005   0.959 0.337449    \n",
       "X102          0.07808    0.34106   0.229 0.818911    \n",
       "X103         -0.17232    0.33202  -0.519 0.603766    \n",
       "X104               NA         NA      NA       NA    \n",
       "X105         -0.19931    0.32556  -0.612 0.540403    \n",
       "X106         -0.43561    0.33615  -1.296 0.195025    \n",
       "X107         -0.19277    0.32854  -0.587 0.557373    \n",
       "X108               NA         NA      NA       NA    \n",
       "X109         -0.59791    0.30506  -1.960 0.049999 *  \n",
       "X110         -0.40459    0.34440  -1.175 0.240089    \n",
       "X111         -0.57932    0.30764  -1.883 0.059691 .  \n",
       "X112               NA         NA      NA       NA    \n",
       "X113          0.56601    0.23818   2.376 0.017481 *  \n",
       "X114          0.23204    0.20884   1.111 0.266515    \n",
       "X115         -0.02642    0.18910  -0.140 0.888896    \n",
       "X116               NA         NA      NA       NA    \n",
       "X117          0.15579    0.16348   0.953 0.340617    \n",
       "X118         -0.37962    0.15591  -2.435 0.014900 *  \n",
       "X119         -0.34818    0.16623  -2.095 0.036206 *  \n",
       "X120               NA         NA      NA       NA    \n",
       "X121         -0.55521    1.00100  -0.555 0.579131    \n",
       "X122         -0.59433    1.06482  -0.558 0.576741    \n",
       "X123         -0.92042    1.08338  -0.850 0.395554    \n",
       "X124         -0.15408    1.06557  -0.145 0.885028    \n",
       "X125         -2.28864    1.11612  -2.051 0.040313 *  \n",
       "X126          0.30134    1.10930   0.272 0.785894    \n",
       "X127         -1.48738    1.10135  -1.351 0.176855    \n",
       "X128          0.34662    1.08952   0.318 0.750377    \n",
       "X129         -0.15566    1.12118  -0.139 0.889583    \n",
       "X130         -1.68177    1.08644  -1.548 0.121634    \n",
       "X131         -0.58246    1.13188  -0.515 0.606836    \n",
       "X132         -2.33484    1.12991  -2.066 0.038792 *  \n",
       "X133         -0.58400    1.08556  -0.538 0.590594    \n",
       "X134         -1.46627    1.11868  -1.311 0.189954    \n",
       "X135          0.06672    1.10041   0.061 0.951654    \n",
       "X136          0.54946    1.08964   0.504 0.614083    \n",
       "X137          1.84273    1.11418   1.654 0.098149 .  \n",
       "X138         -0.03619    1.09865  -0.033 0.973723    \n",
       "X139         -1.57360    1.11708  -1.409 0.158933    \n",
       "X140         -0.56704    1.11521  -0.508 0.611131    \n",
       "X141          0.81290    1.08364   0.750 0.453159    \n",
       "X142         -2.42780    1.08370  -2.240 0.025073 *  \n",
       "X143         -0.67014    1.08858  -0.616 0.538150    \n",
       "X144         -0.68770    1.10979  -0.620 0.535473    \n",
       "X145         -0.83447    1.07884  -0.773 0.439237    \n",
       "X146         -1.35012    1.00286  -1.346 0.178213    \n",
       "X147         -0.91937    0.68106  -1.350 0.177047    \n",
       "X148         -0.25429    0.71435  -0.356 0.721863    \n",
       "X149          0.80034    0.72017   1.111 0.266435    \n",
       "X150         -0.10490    0.70881  -0.148 0.882343    \n",
       "X151         -0.55876    0.69638  -0.802 0.422331    \n",
       "X152         -0.24890    0.69031  -0.361 0.718433    \n",
       "X153         -0.56717    0.70474  -0.805 0.420936    \n",
       "X154          0.28508    0.69014   0.413 0.679556    \n",
       "X155         -1.67377    0.70436  -2.376 0.017487 *  \n",
       "X156         -0.61459    0.70350  -0.874 0.382326    \n",
       "X157         -1.13499    0.72200  -1.572 0.115950    \n",
       "X158          1.12503    0.69434   1.620 0.105171    \n",
       "X159         -1.43673    0.70211  -2.046 0.040727 *  \n",
       "X160         -0.56655    0.72358  -0.783 0.433640    \n",
       "X161         -1.03413    0.70286  -1.471 0.141204    \n",
       "X162         -1.52381    0.70755  -2.154 0.031269 *  \n",
       "X163         -1.70928    0.69610  -2.456 0.014069 *  \n",
       "X164         -1.03645    0.68204  -1.520 0.128599    \n",
       "X165         -0.56038    0.69602  -0.805 0.420753    \n",
       "X166         -0.70704    0.71429  -0.990 0.322247    \n",
       "X167         -0.61644    0.70887  -0.870 0.384511    \n",
       "X168         -0.66457    0.70107  -0.948 0.343165    \n",
       "X169          0.56200    0.69020   0.814 0.415503    \n",
       "X170         -0.43090    0.69890  -0.617 0.537536    \n",
       "X171         -1.26986    0.70198  -1.809 0.070456 .  \n",
       "X172         -0.67414    0.67916  -0.993 0.320897    \n",
       "X173         -0.27842    0.81303  -0.342 0.732016    \n",
       "X174          0.26540    0.94052   0.282 0.777799    \n",
       "X175          0.51999    0.98382   0.529 0.597126    \n",
       "X176         -0.37752    0.96636  -0.391 0.696042    \n",
       "X177          0.30299    1.01181   0.299 0.764594    \n",
       "X178          0.05648    0.98346   0.057 0.954204    \n",
       "X179          1.34503    0.99637   1.350 0.177038    \n",
       "X180          0.09737    0.99116   0.098 0.921746    \n",
       "X181         -0.58250    1.03065  -0.565 0.571955    \n",
       "X182         -0.49799    0.99573  -0.500 0.616989    \n",
       "X183         -0.05889    1.00418  -0.059 0.953237    \n",
       "X184          1.58450    1.02214   1.550 0.121096    \n",
       "X185          0.95794    1.02574   0.934 0.350356    \n",
       "X186          0.92606    1.00489   0.922 0.356762    \n",
       "X187         -0.22751    0.99965  -0.228 0.819966    \n",
       "X188         -2.82574    0.99825  -2.831 0.004645 ** \n",
       "X189         -3.11675    0.99414  -3.135 0.001718 ** \n",
       "X190         -1.63702    0.99080  -1.652 0.098489 .  \n",
       "X191         -0.34257    0.99727  -0.344 0.731214    \n",
       "X192          0.09780    1.00877   0.097 0.922769    \n",
       "X193         -0.22514    0.99836  -0.226 0.821586    \n",
       "X194         -0.73698    0.98952  -0.745 0.456398    \n",
       "X195          1.01168    0.99839   1.013 0.310912    \n",
       "X196          0.87890    1.01927   0.862 0.388529    \n",
       "X197          0.15774    1.00642   0.157 0.875458    \n",
       "X198          0.89591    0.94650   0.947 0.343871    \n",
       "X199         -0.45875    0.80022  -0.573 0.566453    \n",
       "X200         -0.84091    0.53043  -1.585 0.112889    \n",
       "X201         -1.07121    0.63266  -1.693 0.090422 .  \n",
       "X202         -0.36404    0.62055  -0.587 0.557448    \n",
       "X203         -0.19564    0.61461  -0.318 0.750246    \n",
       "X204         -0.30726    0.63966  -0.480 0.630979    \n",
       "X205         -0.97640    0.62031  -1.574 0.115479    \n",
       "X206         -0.39431    0.62299  -0.633 0.526783    \n",
       "X207         -0.01082    0.63732  -0.017 0.986451    \n",
       "X208         -0.83835    0.63299  -1.324 0.185364    \n",
       "X209         -2.27732    0.62073  -3.669 0.000244 ***\n",
       "X210         -1.51658    0.62697  -2.419 0.015568 *  \n",
       "X211         -0.25441    0.62224  -0.409 0.682638    \n",
       "X212         -1.36771    0.63021  -2.170 0.029988 *  \n",
       "X213         -1.12453    0.63402  -1.774 0.076119 .  \n",
       "X214         -1.02097    0.61550  -1.659 0.097164 .  \n",
       "X215         -1.46001    0.63840  -2.287 0.022197 *  \n",
       "X216         -1.59370    0.62655  -2.544 0.010971 *  \n",
       "X217         -1.67835    0.62749  -2.675 0.007480 ** \n",
       "X218         -0.82205    0.62210  -1.321 0.186363    \n",
       "X219         -0.99160    0.62991  -1.574 0.115441    \n",
       "X220         -0.87573    0.62375  -1.404 0.160325    \n",
       "X221         -1.26398    0.62724  -2.015 0.043891 *  \n",
       "X222         -0.52521    0.61705  -0.851 0.394684    \n",
       "X223         -0.98724    0.60975  -1.619 0.105426    \n",
       "X224         -0.54439    0.63488  -0.857 0.391180    \n",
       "X225         -1.21589    0.64216  -1.893 0.058299 .  \n",
       "X226         -1.37666    0.52534  -2.621 0.008780 ** \n",
       "---\n",
       "Signif. codes:  0 '***' 0.001 '**' 0.01 '*' 0.05 '.' 0.1 ' ' 1\n",
       "\n",
       "(Dispersion parameter for binomial family taken to be 1)\n",
       "\n",
       "    Null deviance: 5543.8  on 3998  degrees of freedom\n",
       "Residual deviance: 3550.2  on 3801  degrees of freedom\n",
       "AIC: 3946.2\n",
       "\n",
       "Number of Fisher Scoring iterations: 15\n"
      ]
     },
     "metadata": {},
     "output_type": "display_data"
    }
   ],
   "source": [
    "## Logistic regression\n",
    "# Set parameters for Caret\n",
    "trainControl <- trainControl(method = \"cv\", number = 10, \n",
    "                              savePredictions = TRUE, classProbs = TRUE)\n",
    "# Perform prediction\n",
    "model <- train(isBound~ ., data = df, trControl = trainControl,\n",
    "                method = \"glm\", family = binomial, metric =\"ROC\")\n",
    "model\n",
    "summary(model)"
   ]
  },
  {
   "cell_type": "code",
   "execution_count": 295,
   "metadata": {},
   "outputs": [
    {
     "data": {
      "text/html": [
       "0.838876188094045"
      ],
      "text/latex": [
       "0.838876188094045"
      ],
      "text/markdown": [
       "0.838876188094045"
      ],
      "text/plain": [
       "[1] 0.8388762"
      ]
     },
     "metadata": {},
     "output_type": "display_data"
    },
    {
     "data": {
      "image/png": "[encoded data removed]",
      "text/plain": [
       "plot without title"
      ]
     },
     "metadata": {},
     "output_type": "display_data"
    }
   ],
   "source": [
    "# ## Plot AUROC\n",
    "prediction <- prediction( model$pred$Y, model$pred$obs )\n",
    "performance <- performance( prediction, \"tpr\", \"fpr\" )\n",
    "plot(performance)\n",
    "\n",
    "## Caluculate AUROC\n",
    "auc <- performance(prediction, \"auc\")\n",
    "auc <- unlist(slot(auc, \"y.values\"))\n",
    "auc"
   ]
  },
  {
   "cell_type": "code",
   "execution_count": null,
   "metadata": {},
   "outputs": [],
   "source": []
  }
 ],
 "metadata": {
  "kernelspec": {
   "display_name": "R",
   "language": "R",
   "name": "ir"
  },
  "language_info": {
   "codemirror_mode": "r",
   "file_extension": ".r",
   "mimetype": "text/x-r-source",
   "name": "R",
   "pygments_lexer": "r",
   "version": "3.6.1"
  }
 },
 "nbformat": 4,
 "nbformat_minor": 4
}
