{
 "cells": [
  {
   "cell_type": "markdown",
   "metadata": {},
   "source": [
    "# QBIO 401: Introduction to Computational Analysis of Biological Data \n",
    "\n",
    "# Gene prediction I"
   ]
  },
  {
   "cell_type": "code",
   "execution_count": 2,
   "metadata": {},
   "outputs": [],
   "source": [
    "from scipy import stats\n",
    "import numpy as np\n",
    "import matplotlib.pyplot as plt"
   ]
  },
  {
   "cell_type": "code",
   "execution_count": 3,
   "metadata": {},
   "outputs": [],
   "source": [
    "# Generate geometric random variables\n",
    "X = stats.geom(1/6)\n",
    "Y = stats.geom(3/64)"
   ]
  },
  {
   "cell_type": "code",
   "execution_count": 4,
   "metadata": {},
   "outputs": [
    {
     "name": "stdout",
     "output_type": "stream",
     "text": [
      "[ 4  1 10  7 13  3  1  2 12  1  2 10 12  4  3  8  2  1  2  1]\n",
      "[ 31  58   9  13   5   3  50  31   7  13  11  43   3  31  24 138  20   4\n",
      "  17  39]\n"
     ]
    },
    {
     "data": {
      "text/plain": [
       "(array([9., 3., 5., 1., 1., 0., 0., 0., 0., 1.]),\n",
       " array([  3. ,  16.5,  30. ,  43.5,  57. ,  70.5,  84. ,  97.5, 111. ,\n",
       "        124.5, 138. ]),\n",
       " <a list of 10 Patch objects>)"
      ]
     },
     "execution_count": 4,
     "metadata": {},
     "output_type": "execute_result"
    },
    {
     "data": {
      "image/png": "[encoded data removed]",
      "text/plain": [
       "<Figure size 432x288 with 1 Axes>"
      ]
     },
     "metadata": {
      "needs_background": "light"
     },
     "output_type": "display_data"
    }
   ],
   "source": [
    "# Sample 20 geometric random variables\n",
    "s=X.rvs(20)\n",
    "print(s)\n",
    "\n",
    "# Sample 20 geometric random variables for codons\n",
    "u=Y.rvs(20)\n",
    "print(u)\n",
    "\n",
    "plt.hist(u)"
   ]
  },
  {
   "cell_type": "code",
   "execution_count": 7,
   "metadata": {},
   "outputs": [
    {
     "name": "stdout",
     "output_type": "stream",
     "text": [
      "0.11574074074074076\n",
      "2.4149346944827437e-09\n",
      "0.042583465576171875\n",
      "0.00040436869122008616\n"
     ]
    }
   ],
   "source": [
    "# Calculate the probablity P(X=k)\n",
    "print(X.pmf(3))\n",
    "print(X.pmf(100))\n",
    "\n",
    "print(Y.pmf(3))\n",
    "print(Y.pmf(100))"
   ]
  },
  {
   "cell_type": "code",
   "execution_count": 9,
   "metadata": {},
   "outputs": [
    {
     "name": "stdout",
     "output_type": "stream",
     "text": [
      "6.0\n",
      "21.333333333333332\n"
     ]
    }
   ],
   "source": [
    "# Calculate the expected value E[X]\n",
    "print(X.mean())\n",
    "print(Y.mean())"
   ]
  },
  {
   "cell_type": "code",
   "execution_count": 10,
   "metadata": {
    "scrolled": true
   },
   "outputs": [
    {
     "name": "stdout",
     "output_type": "stream",
     "text": [
      "0.4212962962962962\n",
      "0.9999999879253265\n",
      "1.2074673483297715e-08\n",
      "0.9917778366118583\n",
      "0.9999323960292187\n",
      "0.008222163388141746\n",
      "6.760397078131586e-05\n",
      "0.3382103947253505\n",
      "0.00337460597641448\n"
     ]
    }
   ],
   "source": [
    "# Calculate the probability P(X<=k) and P(X>k)\n",
    "print(X.cdf(3))\n",
    "print(X.cdf(100))\n",
    "print(1-X.cdf(100))\n",
    "\n",
    "\n",
    "print(Y.cdf(100))\n",
    "print(Y.cdf(200))\n",
    "print(1-(Y.cdf(100)))\n",
    "print(1-Y.cdf(200))\n",
    "print(1-(Y.cdf(100)**50))\n",
    "print(1-Y.cdf(200)**50)"
   ]
  },
  {
   "cell_type": "code",
   "execution_count": 11,
   "metadata": {},
   "outputs": [
    {
     "name": "stdout",
     "output_type": "stream",
     "text": [
      "0.0008832631063572707\n",
      "73.14285714285714\n",
      "0.06372112410148878\n",
      "0.9628241204521619\n"
     ]
    }
   ],
   "source": [
    "g=0.75\n",
    "pc=pg=g/2\n",
    "pa=pt=(1-(pc*2))/2\n",
    "p=(pa**3)+2*((pa**2)*pc) #TAA,TAG,TGA\n",
    "\n",
    "Z = stats.geom(p)\n",
    "print(Z.pmf(200))\n",
    "print(Z.mean())\n",
    "print(1-Z.cdf(200))\n",
    "print(1-(Z.cdf(200)**50))\n"
   ]
  },
  {
   "cell_type": "code",
   "execution_count": null,
   "metadata": {},
   "outputs": [],
   "source": []
  }
 ],
 "metadata": {
  "kernelspec": {
   "display_name": "Python 3",
   "language": "python",
   "name": "python3"
  },
  "language_info": {
   "codemirror_mode": {
    "name": "ipython",
    "version": 3
   },
   "file_extension": ".py",
   "mimetype": "text/x-python",
   "name": "python",
   "nbconvert_exporter": "python",
   "pygments_lexer": "ipython3",
   "version": "3.7.6"
  }
 },
 "nbformat": 4,
 "nbformat_minor": 4
}
