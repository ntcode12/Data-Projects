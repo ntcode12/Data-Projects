{
 "cells": [
  {
   "cell_type": "code",
   "execution_count": 1,
   "metadata": {},
   "outputs": [
    {
     "data": {
      "text/html": [
       "<div>\n",
       "<style scoped>\n",
       "    .dataframe tbody tr th:only-of-type {\n",
       "        vertical-align: middle;\n",
       "    }\n",
       "\n",
       "    .dataframe tbody tr th {\n",
       "        vertical-align: top;\n",
       "    }\n",
       "\n",
       "    .dataframe thead th {\n",
       "        text-align: right;\n",
       "    }\n",
       "</style>\n",
       "<table border=\"1\" class=\"dataframe\">\n",
       "  <thead>\n",
       "    <tr style=\"text-align: right;\">\n",
       "      <th></th>\n",
       "      <th>Rank</th>\n",
       "      <th>Sales</th>\n",
       "      <th>Units</th>\n",
       "      <th>Unit_Volume</th>\n",
       "    </tr>\n",
       "  </thead>\n",
       "  <tbody>\n",
       "    <tr>\n",
       "      <th>count</th>\n",
       "      <td>50.00000</td>\n",
       "      <td>50.000000</td>\n",
       "      <td>50.000000</td>\n",
       "      <td>50.00000</td>\n",
       "    </tr>\n",
       "    <tr>\n",
       "      <th>mean</th>\n",
       "      <td>25.50000</td>\n",
       "      <td>33.780000</td>\n",
       "      <td>34.700000</td>\n",
       "      <td>1592.60000</td>\n",
       "    </tr>\n",
       "    <tr>\n",
       "      <th>std</th>\n",
       "      <td>14.57738</td>\n",
       "      <td>9.596534</td>\n",
       "      <td>24.527577</td>\n",
       "      <td>994.67677</td>\n",
       "    </tr>\n",
       "    <tr>\n",
       "      <th>min</th>\n",
       "      <td>1.00000</td>\n",
       "      <td>20.000000</td>\n",
       "      <td>7.000000</td>\n",
       "      <td>465.00000</td>\n",
       "    </tr>\n",
       "    <tr>\n",
       "      <th>25%</th>\n",
       "      <td>13.25000</td>\n",
       "      <td>24.250000</td>\n",
       "      <td>16.000000</td>\n",
       "      <td>867.50000</td>\n",
       "    </tr>\n",
       "    <tr>\n",
       "      <th>50%</th>\n",
       "      <td>25.50000</td>\n",
       "      <td>34.500000</td>\n",
       "      <td>27.000000</td>\n",
       "      <td>1260.00000</td>\n",
       "    </tr>\n",
       "    <tr>\n",
       "      <th>75%</th>\n",
       "      <td>37.75000</td>\n",
       "      <td>42.000000</td>\n",
       "      <td>45.500000</td>\n",
       "      <td>2020.00000</td>\n",
       "    </tr>\n",
       "    <tr>\n",
       "      <th>max</th>\n",
       "      <td>50.00000</td>\n",
       "      <td>49.000000</td>\n",
       "      <td>105.000000</td>\n",
       "      <td>4300.00000</td>\n",
       "    </tr>\n",
       "  </tbody>\n",
       "</table>\n",
       "</div>"
      ],
      "text/plain": [
       "           Rank      Sales       Units  Unit_Volume\n",
       "count  50.00000  50.000000   50.000000     50.00000\n",
       "mean   25.50000  33.780000   34.700000   1592.60000\n",
       "std    14.57738   9.596534   24.527577    994.67677\n",
       "min     1.00000  20.000000    7.000000    465.00000\n",
       "25%    13.25000  24.250000   16.000000    867.50000\n",
       "50%    25.50000  34.500000   27.000000   1260.00000\n",
       "75%    37.75000  42.000000   45.500000   2020.00000\n",
       "max    50.00000  49.000000  105.000000   4300.00000"
      ]
     },
     "execution_count": 1,
     "metadata": {},
     "output_type": "execute_result"
    }
   ],
   "source": [
    "# import data set \n",
    "import pandas as pd # import pandas\n",
    "restaurant_df = pd.read_csv(r\"/Users/nicktidow/Downloads/Future50.csv\")\n",
    "\n",
    "restaurant_df.describe() # summary statistics"
   ]
  },
  {
   "cell_type": "code",
   "execution_count": 2,
   "metadata": {},
   "outputs": [
    {
     "data": {
      "text/plain": [
       "False"
      ]
     },
     "execution_count": 2,
     "metadata": {},
     "output_type": "execute_result"
    }
   ],
   "source": [
    "# Remove NAs \n",
    "restaurant_df= restaurant_df.dropna(axis=0) #remove NA rows, if axis=1 it would remove columns\n",
    "restaurant_df.isnull().values.any() #check if there are any values "
   ]
  },
  {
   "cell_type": "code",
   "execution_count": 3,
   "metadata": {},
   "outputs": [],
   "source": [
    "y= restaurant_df.Rank"
   ]
  },
  {
   "cell_type": "code",
   "execution_count": 4,
   "metadata": {},
   "outputs": [],
   "source": [
    "restaurant_features = ['Sales','Units','Unit_Volume'] \n",
    "# select the features used to make the prediction\n",
    "X = restaurant_df[restaurant_features] #set features equal to X"
   ]
  },
  {
   "cell_type": "code",
   "execution_count": 6,
   "metadata": {},
   "outputs": [
    {
     "data": {
      "text/html": [
       "<div>\n",
       "<style scoped>\n",
       "    .dataframe tbody tr th:only-of-type {\n",
       "        vertical-align: middle;\n",
       "    }\n",
       "\n",
       "    .dataframe tbody tr th {\n",
       "        vertical-align: top;\n",
       "    }\n",
       "\n",
       "    .dataframe thead th {\n",
       "        text-align: right;\n",
       "    }\n",
       "</style>\n",
       "<table border=\"1\" class=\"dataframe\">\n",
       "  <thead>\n",
       "    <tr style=\"text-align: right;\">\n",
       "      <th></th>\n",
       "      <th>Sales</th>\n",
       "      <th>Units</th>\n",
       "      <th>Unit_Volume</th>\n",
       "    </tr>\n",
       "  </thead>\n",
       "  <tbody>\n",
       "    <tr>\n",
       "      <th>count</th>\n",
       "      <td>50.000000</td>\n",
       "      <td>50.000000</td>\n",
       "      <td>50.00000</td>\n",
       "    </tr>\n",
       "    <tr>\n",
       "      <th>mean</th>\n",
       "      <td>33.780000</td>\n",
       "      <td>34.700000</td>\n",
       "      <td>1592.60000</td>\n",
       "    </tr>\n",
       "    <tr>\n",
       "      <th>std</th>\n",
       "      <td>9.596534</td>\n",
       "      <td>24.527577</td>\n",
       "      <td>994.67677</td>\n",
       "    </tr>\n",
       "    <tr>\n",
       "      <th>min</th>\n",
       "      <td>20.000000</td>\n",
       "      <td>7.000000</td>\n",
       "      <td>465.00000</td>\n",
       "    </tr>\n",
       "    <tr>\n",
       "      <th>25%</th>\n",
       "      <td>24.250000</td>\n",
       "      <td>16.000000</td>\n",
       "      <td>867.50000</td>\n",
       "    </tr>\n",
       "    <tr>\n",
       "      <th>50%</th>\n",
       "      <td>34.500000</td>\n",
       "      <td>27.000000</td>\n",
       "      <td>1260.00000</td>\n",
       "    </tr>\n",
       "    <tr>\n",
       "      <th>75%</th>\n",
       "      <td>42.000000</td>\n",
       "      <td>45.500000</td>\n",
       "      <td>2020.00000</td>\n",
       "    </tr>\n",
       "    <tr>\n",
       "      <th>max</th>\n",
       "      <td>49.000000</td>\n",
       "      <td>105.000000</td>\n",
       "      <td>4300.00000</td>\n",
       "    </tr>\n",
       "  </tbody>\n",
       "</table>\n",
       "</div>"
      ],
      "text/plain": [
       "           Sales       Units  Unit_Volume\n",
       "count  50.000000   50.000000     50.00000\n",
       "mean   33.780000   34.700000   1592.60000\n",
       "std     9.596534   24.527577    994.67677\n",
       "min    20.000000    7.000000    465.00000\n",
       "25%    24.250000   16.000000    867.50000\n",
       "50%    34.500000   27.000000   1260.00000\n",
       "75%    42.000000   45.500000   2020.00000\n",
       "max    49.000000  105.000000   4300.00000"
      ]
     },
     "execution_count": 6,
     "metadata": {},
     "output_type": "execute_result"
    }
   ],
   "source": [
    "X.describe()"
   ]
  },
  {
   "cell_type": "code",
   "execution_count": 8,
   "metadata": {},
   "outputs": [
    {
     "data": {
      "text/plain": [
       "DecisionTreeRegressor(random_state=1)"
      ]
     },
     "execution_count": 8,
     "metadata": {},
     "output_type": "execute_result"
    }
   ],
   "source": [
    "from sklearn.tree import DecisionTreeRegressor # import sklearn \n",
    "rest_model_sk = DecisionTreeRegressor(random_state=1)\n",
    "rest_model_sk.fit(X,y)"
   ]
  },
  {
   "cell_type": "code",
   "execution_count": 14,
   "metadata": {},
   "outputs": [
    {
     "name": "stdout",
     "output_type": "stream",
     "text": [
      "Predictions of restaurant ranks for the last 5 restaurants in the data set:\n",
      "    Sales  Units  Unit_Volume\n",
      "0      24     26         1150\n",
      "1      44    105          560\n",
      "2      21     21         1370\n",
      "3      25     46          685\n",
      "4      49     50         1210\n",
      "5      39     76          580\n",
      "6      24     36          775\n",
      "7      20     19         1260\n",
      "8      24     60          465\n",
      "9      29     17         1930\n",
      "10     30     41          860\n",
      "11     39     50         1200\n",
      "12     41     63          890\n",
      "13     48     48         1175\n",
      "14     21     12         1930\n",
      "15     24     35          780\n",
      "16     44     71          700\n",
      "17     37     77          535\n",
      "18     22      7         3800\n",
      "19     39     33         1260\n",
      "20     32      8         4300\n",
      "21     44     90          530\n",
      "22     23     12         2230\n",
      "23     47     69          760\n",
      "24     37     14         2800\n",
      "25     39     15         2820\n",
      "26     44     37         1330\n",
      "27     28     31          970\n",
      "28     28     22         1375\n",
      "29     27     27         1130\n",
      "30     20     26          785\n",
      "31     42     38         1240\n",
      "32     42     44         1050\n",
      "33     27      7         4260\n",
      "34     22     25          985\n",
      "35     22     20         1230\n",
      "36     40     27         1540\n",
      "37     20      7         3120\n",
      "38     38     15         2755\n",
      "39     29     21         1510\n",
      "40     49     14         3500\n",
      "41     47     97          535\n",
      "42     28     11         2700\n",
      "43     25     16         1620\n",
      "44     38     32         1260\n",
      "45     48     25         2050\n",
      "46     45     35         1350\n",
      "47     39     16         2630\n",
      "48     31     13         2550\n",
      "49     44     28         1600\n",
      "\n",
      "\n",
      "The predictions are....\n",
      "[ 1.  2.  3.  4.  5.  6.  7.  8.  9. 10. 11. 12. 13. 14. 15. 16. 17. 18.\n",
      " 19. 20. 21. 22. 23. 24. 25. 26. 27. 28. 29. 30. 31. 32. 33. 34. 35. 36.\n",
      " 37. 38. 39. 40. 41. 42. 43. 44. 45. 46. 47. 48. 49. 50.]\n"
     ]
    }
   ],
   "source": [
    "print(\"Predictions of restaurant ranks for the last 5 restaurants in the data set:\")\n",
    "print(X)\n",
    "print(\"\")\n",
    "print(\"\")\n",
    "print(\"The predictions are....\")\n",
    "print(rest_model_sk.predict(X))\n"
   ]
  },
  {
   "cell_type": "code",
   "execution_count": 15,
   "metadata": {},
   "outputs": [
    {
     "data": {
      "text/plain": [
       "0.0"
      ]
     },
     "execution_count": 15,
     "metadata": {},
     "output_type": "execute_result"
    }
   ],
   "source": [
    "from sklearn.metrics import mean_absolute_error\n",
    "# Error is actual value minus predicted value \n",
    "predicted_rank = rest_model_sk.predict(X)\n",
    "mean_absolute_error(y, predicted_rank)"
   ]
  },
  {
   "cell_type": "code",
   "execution_count": 16,
   "metadata": {},
   "outputs": [
    {
     "name": "stdout",
     "output_type": "stream",
     "text": [
      "15.615384615384615\n"
     ]
    }
   ],
   "source": [
    "from sklearn.model_selection import train_test_split\n",
    "\n",
    "# split data into training and validation data, for both features and target\n",
    "# Split is based on a random number generator. Supplying a numeric value to\n",
    "# the random_state argument guarantees we get the same split every time we\n",
    "# run this script.\n",
    "train_X, val_X, train_y, val_y = train_test_split(X, y, random_state = 0)\n",
    "# Define model\n",
    "restaurant_model = DecisionTreeRegressor()\n",
    "# Fit model\n",
    "restaurant_model.fit(train_X, train_y)\n",
    "\n",
    "# get predicted prices on validation data\n",
    "val_predictions = restaurant_model.predict(val_X)\n",
    "print(mean_absolute_error(val_y, val_predictions))"
   ]
  },
  {
   "cell_type": "code",
   "execution_count": 17,
   "metadata": {},
   "outputs": [
    {
     "name": "stdout",
     "output_type": "stream",
     "text": [
      "9.574615384615385\n"
     ]
    }
   ],
   "source": [
    "### Random Forest Model\n",
    "from sklearn.ensemble import RandomForestRegressor\n",
    "from sklearn.metrics import mean_absolute_error\n",
    "\n",
    "forest_model = RandomForestRegressor(random_state=1)\n",
    "forest_model.fit(train_X, train_y)\n",
    "rest_preds = forest_model.predict(val_X)\n",
    "print(mean_absolute_error(val_y, rest_preds))"
   ]
  },
  {
   "cell_type": "code",
   "execution_count": null,
   "metadata": {},
   "outputs": [],
   "source": []
  }
 ],
 "metadata": {
  "kernelspec": {
   "display_name": "Python 3",
   "language": "python",
   "name": "python3"
  },
  "language_info": {
   "codemirror_mode": {
    "name": "ipython",
    "version": 3
   },
   "file_extension": ".py",
   "mimetype": "text/x-python",
   "name": "python",
   "nbconvert_exporter": "python",
   "pygments_lexer": "ipython3",
   "version": "3.8.3"
  }
 },
 "nbformat": 4,
 "nbformat_minor": 4
}
