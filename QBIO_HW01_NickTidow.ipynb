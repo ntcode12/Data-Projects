{
 "cells": [
  {
   "cell_type": "markdown",
   "metadata": {},
   "source": [
    "#### Nichollas Tidow\n",
    "#### QBIO 401 \n",
    "#### August 26, 2020\n",
    "#### Homework 01"
   ]
  },
  {
   "cell_type": "markdown",
   "metadata": {},
   "source": [
    "#### Function 01\n",
    "Name: loadFASTA\n",
    "Purpose: load nucleotide data and return it as str\n",
    "Input: FASTA file\n",
    "Output: str sequence of nucleotides"
   ]
  },
  {
   "cell_type": "code",
   "execution_count": 138,
   "metadata": {},
   "outputs": [],
   "source": [
    "\n",
    "def loadFASTA(fName):\n",
    "    try: \n",
    "        with open(fName,\"r\") as dnaFile:\n",
    "            next(dnaFile)   \n",
    "            for line in dnaFile:\n",
    "                sequence1 = str(dnaFile.readlines())     \n",
    "        return sequence1\n",
    "    except IOError:\n",
    "        print(\"Could not open\\\"\" + fName + \"\\\"\")\n",
    "        return False\n",
    "    except IndexError:\n",
    "        print(\"Problem with index off split\")\n",
    "        print(\"Line:\\\"\" + str(i) + \"\\\"\")\n",
    "        return False\n",
    "    except Exception as e:\n",
    "        print(\"Error: \\\"\" + str(e) + \"\\\"\")\n",
    "        return False\n",
    "        "
   ]
  },
  {
   "cell_type": "markdown",
   "metadata": {},
   "source": [
    "#### Function 02\n",
    "Name: numSeq\n",
    "Purpose: counts number of each nucleotide\n",
    "Input: sequence str\n",
    "Output: list "
   ]
  },
  {
   "cell_type": "code",
   "execution_count": 139,
   "metadata": {},
   "outputs": [],
   "source": [
    "def numSeq(seqStr):\n",
    "    numBaseList = [0,0,0,0]\n",
    "    for i in seqStr:\n",
    "        if i == \"A\":\n",
    "            numBaseList[0] += 1\n",
    "        elif i == \"C\":\n",
    "            numBaseList[1] += 1\n",
    "        elif i == \"G\":\n",
    "            numBaseList[2] += 1\n",
    "        elif i == \"T\":\n",
    "            numBaseList[3] += 1\n",
    "    return numBaseList"
   ]
  },
  {
   "cell_type": "code",
   "execution_count": 120,
   "metadata": {},
   "outputs": [
    {
     "name": "stdout",
     "output_type": "stream",
     "text": [
      " A     C     G     T\n",
      "[1769, 1113, 1382, 1739]\n"
     ]
    }
   ],
   "source": [
    "print(\" A     C     G     T\")\n",
    "print(numSeq(loadFASTA(\"/Users/nicktidow/Downloads/sequence.fasta\")))"
   ]
  },
  {
   "cell_type": "markdown",
   "metadata": {},
   "source": [
    "#### Function 03\n",
    "Name: counter\n",
    "Purpose: counts number consecutive nucleotides\n",
    "Input: sequence str and two base pair str\n",
    "Output: int counter"
   ]
  },
  {
   "cell_type": "code",
   "execution_count": 140,
   "metadata": {},
   "outputs": [],
   "source": [
    "def counter(seqStr,letterStr):\n",
    "    repCounter = 0\n",
    "    for i in range (len(seqStr)-1):\n",
    "        if seqStr[i] == letterStr[0] and seqStr[i+1]== letterStr[1]:\n",
    "            repCounter += 1\n",
    "    return repCounter"
   ]
  },
  {
   "cell_type": "code",
   "execution_count": null,
   "metadata": {},
   "outputs": [],
   "source": [
    "# Testing counter function"
   ]
  },
  {
   "cell_type": "code",
   "execution_count": 141,
   "metadata": {},
   "outputs": [
    {
     "name": "stdout",
     "output_type": "stream",
     "text": [
      "6\n"
     ]
    }
   ],
   "source": [
    "# print(counter(\"AAAAACAAACC\",\"AA\"))"
   ]
  },
  {
   "cell_type": "code",
   "execution_count": 128,
   "metadata": {},
   "outputs": [],
   "source": [
    "# Comparing the CG occurences in human gene PTPN11 and its Drosophilia orthologue"
   ]
  },
  {
   "cell_type": "code",
   "execution_count": 142,
   "metadata": {},
   "outputs": [
    {
     "name": "stdout",
     "output_type": "stream",
     "text": [
      " A     C     G     T\n",
      "[1769, 1113, 1382, 1739]\n",
      " A     C     G     T\n",
      "[2374, 1851, 1663, 1706]\n"
     ]
    }
   ],
   "source": [
    "print(\" A     C     G     T\")\n",
    "print(numSeq(loadFASTA(\"/Users/nicktidow/Downloads/sequence.fasta\")))\n",
    "\n",
    "print(\" A     C     G     T\")\n",
    "print(numSeq(loadFASTA(\"/Users/nicktidow/Downloads/sequence-2.fasta\")))\n",
    "  \n",
    "    "
   ]
  },
  {
   "cell_type": "code",
   "execution_count": 143,
   "metadata": {},
   "outputs": [
    {
     "name": "stdout",
     "output_type": "stream",
     "text": [
      "CG nucleotide base pair occurrences\n",
      "Human gene PTPN11: 91\n",
      "Drosophilia orthologue: 446\n"
     ]
    }
   ],
   "source": [
    "print(\"CG nucleotide base pair occurrences\")\n",
    "print(\"Human gene PTPN11:\",counter(loadFASTA(\"/Users/nicktidow/Downloads/sequence.fasta\"),\"CG\"))\n",
    "print(\"Drosophilia orthologue:\",counter(loadFASTA(\"/Users/nicktidow/Downloads/sequence-2.fasta\"),\"CG\")) "
   ]
  },
  {
   "cell_type": "markdown",
   "metadata": {},
   "source": [
    "There are more occurrences of CG in the Drosophilia orthologue of the gene "
   ]
  },
  {
   "cell_type": "markdown",
   "metadata": {},
   "source": [
    "#### Function 04\n",
    "Name: bonus\n",
    "Purpose: counts the occurrence of each possible base pair\n",
    "Input: sequence str\n",
    "Output: list with occurrences"
   ]
  },
  {
   "cell_type": "code",
   "execution_count": 135,
   "metadata": {},
   "outputs": [],
   "source": [
    "def bonus(seqStr):\n",
    "    baseList = [0,0,0,0,0,0,0,0,0,0,0,0,0,0,0,0]\n",
    "    for i in range (len(seqStr)-1):\n",
    "        if seqStr[i] == \"A\" and seqStr[i+1]== \"A\":\n",
    "            baseList[0] += 1\n",
    "        if seqStr[i] == \"A\" and seqStr[i+1]== \"G\":\n",
    "            baseList[1] += 1\n",
    "        if seqStr[i] == \"A\" and seqStr[i+1]== \"T\":\n",
    "            baseList[2] += 1\n",
    "        if seqStr[i] == \"A\" and seqStr[i+1]== \"C\":\n",
    "            baseList[3] += 1\n",
    "        if seqStr[i] == \"G\" and seqStr[i+1]== \"G\":\n",
    "            baseList[4] += 1\n",
    "        if seqStr[i] == \"G\" and seqStr[i+1]== \"A\":\n",
    "            baseList[5] += 1\n",
    "        if seqStr[i] == \"G\" and seqStr[i+1]== \"T\":\n",
    "            baseList[6] += 1\n",
    "        if seqStr[i] == \"G\" and seqStr[i+1]== \"C\":\n",
    "            baseList[7] += 1\n",
    "        if seqStr[i] == \"T\" and seqStr[i+1]== \"T\":\n",
    "            baseList[8] += 1\n",
    "        if seqStr[i] == \"T\" and seqStr[i+1]== \"A\":\n",
    "            baseList[9] += 1\n",
    "        if seqStr[i] == \"T\" and seqStr[i+1]== \"G\":\n",
    "            baseList[10] += 1\n",
    "        if seqStr[i] == \"T\" and seqStr[i+1]== \"C\":\n",
    "            baseList[11] += 1\n",
    "        if seqStr[i] == \"C\" and seqStr[i+1]== \"C\":\n",
    "            baseList[12] += 1\n",
    "        if seqStr[i] == \"C\" and seqStr[i+1]== \"A\":\n",
    "            baseList[13] += 1\n",
    "        if seqStr[i] == \"C\" and seqStr[i+1]== \"G\":\n",
    "            baseList[14] += 1\n",
    "        if seqStr[i] == \"C\" and seqStr[i+1]== \"T\":\n",
    "            baseList[15] += 1\n",
    "    return baseList"
   ]
  },
  {
   "cell_type": "code",
   "execution_count": 146,
   "metadata": {},
   "outputs": [],
   "source": [
    "# print(bonus(\"AAAGATACGGGAGTGCTTTATGTCCCCACGCT\"))"
   ]
  },
  {
   "cell_type": "code",
   "execution_count": 137,
   "metadata": {},
   "outputs": [
    {
     "name": "stdout",
     "output_type": "stream",
     "text": [
      " AA   AG   AT   AC   GG   GA   GT   GC   TT   TA   TG   TC   CC   CA   CG   CT\n",
      "[582, 452, 429, 274, 337, 438, 325, 265, 601, 332, 485, 294, 260, 390, 91, 362]\n",
      "[858, 464, 506, 510, 319, 486, 343, 488, 485, 393, 410, 396, 435, 604, 446, 342]\n"
     ]
    }
   ],
   "source": [
    "print(\" AA   AG   AT   AC   GG   GA   GT   GC   TT   TA   TG   TC   CC   CA   CG   CT\")\n",
    "print(bonus(loadFASTA(\"/Users/nicktidow/Downloads/sequence.fasta\")))\n",
    "print(bonus(loadFASTA(\"/Users/nicktidow/Downloads/sequence-2.fasta\")))"
   ]
  }
 ],
 "metadata": {
  "kernelspec": {
   "display_name": "Python 3",
   "language": "python",
   "name": "python3"
  },
  "language_info": {
   "codemirror_mode": {
    "name": "ipython",
    "version": 3
   },
   "file_extension": ".py",
   "mimetype": "text/x-python",
   "name": "python",
   "nbconvert_exporter": "python",
   "pygments_lexer": "ipython3",
   "version": "3.8.3"
  }
 },
 "nbformat": 4,
 "nbformat_minor": 4
}
