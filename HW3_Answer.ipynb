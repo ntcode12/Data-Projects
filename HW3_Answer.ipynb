{
 "cells": [
  {
   "cell_type": "markdown",
   "metadata": {},
   "source": [
    "# Assignment 3\n",
    "\n",
    "## 1. \n",
    "Write a Python function that takes as input a DNA sequence string and returns its reverse complement string. For example, given an input string “CATGCCGGAATT”, the function returns the reverse complement string “AATTCCGGCATG” [2pt]."
   ]
  },
  {
   "cell_type": "code",
   "execution_count": 1,
   "metadata": {},
   "outputs": [],
   "source": [
    "def reverseComplement1(seq):\n",
    "    bp = {\"A\": \"T\", \"T\": \"A\", \"C\": \"G\", \"G\": \"C\"}\n",
    "    revseq = \"\"\n",
    "    for i in range(len(seq) - 1, -1, -1):\n",
    "        revseq += bp[seq[i]] # You can also use \"if\" statements to assign bases\n",
    "    return revseq\n",
    "        \n",
    "def reverseComplement2(seq):\n",
    "    bp = {\"A\": \"T\", \"T\": \"A\", \"C\": \"G\", \"G\": \"C\"}\n",
    "    return \"\".join(map(lambda x: bp[x], seq[::-1]))"
   ]
  },
  {
   "cell_type": "code",
   "execution_count": 2,
   "metadata": {},
   "outputs": [
    {
     "name": "stdout",
     "output_type": "stream",
     "text": [
      "AATTCCGGCATG\n",
      "AATTCCGGCATG\n"
     ]
    }
   ],
   "source": [
    "print(reverseComplement1(\"CATGCCGGAATT\"))\n",
    "print(reverseComplement2(\"CATGCCGGAATT\"))"
   ]
  },
  {
   "cell_type": "markdown",
   "metadata": {},
   "source": [
    "## 2. \n",
    "Write a Python function (or functions) to find all ORFs from six different reading frames (+1, +2, +3, -1, -2, -3) in a sequence string (you may need function #1 to get reverse complement string). Since we are only interested in relatively long ORFs, the function should only return those ORFs longer than an input threshold value. Compute the length of the ORFs as the number of codons (counting the start and stop codon). The start codon is “ATG” and the stop codons are “TAG”, “TAA”, and “TGA” [2pt].\n",
    "\n",
    "In the example below, there are two overlapping ORFs (the first three lines are the same sequence and the last three lines are the same reverse complement sequence, with the commas in different places to make it easier to read). The length of the ORF on the first line is seven. The length of the ORF on the second line is six. Each ORF starts with an “ATG”, ends up with a stop codon, and there is no in-frame stop codon in the sequence.\n",
    "\n",
    "\n",
    "The inputs to the function should be the sequence string and the threshold value. The output should be a list of lists. The length of the list should be the number of ORFs. Each element of the list should be another list with three numbers describing an individual ORF: the frame number, the nucleotide position of the first position of the start codon, and the nucleotide position of the first position of the in-frame stop codon. For the example above, with threshold 5, the output should be: [[1,9,27],[2,1,16]].\n"
   ]
  },
  {
   "cell_type": "code",
   "execution_count": 3,
   "metadata": {},
   "outputs": [],
   "source": [
    "# Brute force\n",
    "def findORF_bruteforce(seq, startPos, threshold):\n",
    "    #startPos = 0, 1, 2\n",
    "    stopcodons = {\"TAG\", \"TAA\", \"TGA\"}\n",
    "    result = []\n",
    "    for i in range(startPos, len(seq), 3):\n",
    "        subseq = seq[i:i+3]\n",
    "        if subseq == \"ATG\":\n",
    "            for j in range(i + 3, len(seq), 3):\n",
    "                if seq[j:j+3] in stopcodons:\n",
    "                    if (j - i) / 3 >= threshold:\n",
    "                        result.append([startPos+1, i, j])\n",
    "                    break\n",
    "    return result\n",
    "\n",
    "def findORFs_bf(seq, threshold):\n",
    "    result = []\n",
    "    for i in range(3):\n",
    "        subresult = findORF_bruteforce(seq, i, threshold)\n",
    "        result = result + subresult\n",
    "    revseq = reverseComplement2(seq)\n",
    "    for i in range(3):\n",
    "        subresult = findORF_bruteforce(revseq, i, threshold)\n",
    "        for j in range(len(subresult)):\n",
    "            subresult[j][0] = -subresult[j][0]\n",
    "        result = result + subresult\n",
    "    return result"
   ]
  },
  {
   "cell_type": "code",
   "execution_count": 4,
   "metadata": {},
   "outputs": [],
   "source": [
    "# An ORF can only contain one stop codon (in the end). \n",
    "# An ORF can have many start codons inside. \n",
    "## => Search the sequence to find all start codons and the first stop codon after them. \n",
    "def findORF(seq, threshold):\n",
    "    startCodon = \"ATG\"\n",
    "    stopCodons = {\"TAG\", \"TAA\", \"TGA\"} #Use set to directly match if a 3-mer is a stop codon\n",
    "    startPositions = {1: [], 2: [], 3: []} #You can also init it as a list: [[], [], []] with index 0,1,2 as frame 1,2,3\n",
    "    #startPositions = {1: collections.deque(), 2: [], 3: []}\n",
    "    #GATGGGGGGGCCCTAG\n",
    "    result = []\n",
    "    \n",
    "    for i in range(len(seq)-3):\n",
    "        frame = i % 3 + 1\n",
    "        if seq[i:i+3] == startCodon:\n",
    "            startPositions[frame].append(i)\n",
    "        elif seq[i:i+3] in stopCodons:\n",
    "            #A more neat way to the part below is to use collections.deque() to define values in startPositions\n",
    "            #while len(startPositions[frame]) != 0:\n",
    "            #    i = startPositions[frame].popleft()\n",
    "            for startPos in startPositions[frame]:\n",
    "                if (i - startPos) // 3 >= threshold:\n",
    "                    result.append([frame, startPos, i])\n",
    "                else:\n",
    "                    break\n",
    "            startPositions[frame] = []\n",
    "            \n",
    "    return result\n",
    "            \n",
    "\n",
    "def findORF_withRev(seq, threshold):\n",
    "    result = findORF(seq, threshold)\n",
    "    revResult = findORF(reverseComplement2(seq), threshold)\n",
    "    for i in range(len(revResult)):\n",
    "        revResult[i][0] = -revResult[i][0]\n",
    "    return result + revResult"
   ]
  },
  {
   "cell_type": "code",
   "execution_count": 6,
   "metadata": {},
   "outputs": [
    {
     "name": "stdout",
     "output_type": "stream",
     "text": [
      "[[2, 1, 16], [1, 9, 27]]\n",
      "[[1, 9, 27], [2, 1, 16]]\n"
     ]
    }
   ],
   "source": [
    "print(findORF_withRev(\"AATGCCCAAATGCTTTTAAAACCCATGTAGC\", 5))\n",
    "print(findORFs_bf(\"AATGCCCAAATGCTTTTAAAACCCATGTAGC\", 5))\n",
    "\n"
   ]
  },
  {
   "cell_type": "markdown",
   "metadata": {},
   "source": [
    "## 3. \n",
    "Download the FASTA file “ACE2.fasta” from Blackboard. Use function #2, with threshold 700, to find all ORFs. [2pt]."
   ]
  },
  {
   "cell_type": "code",
   "execution_count": 7,
   "metadata": {},
   "outputs": [],
   "source": [
    "#We use the same function in Assignment 1 to read fasta file.\n",
    "\n",
    "def readFASTA(filename):\n",
    "    seq = \"\"\n",
    "    with open(filename, \"r\") as fin: #open the file object as fin\n",
    "        for line in fin: \n",
    "            #iterate each line in the file\n",
    "            if line[0] == \">\": \n",
    "                #if the line starts with a \">\" then it means it is the description\n",
    "                continue \n",
    "                # we move to the next line\n",
    "                \n",
    "            #you can also skip the first line and read lines afterwards\n",
    "            seq += line.strip() # we add this line to the sequence string with \"\\n\" trimmed\n",
    "            \n",
    "    return seq"
   ]
  },
  {
   "cell_type": "code",
   "execution_count": 8,
   "metadata": {},
   "outputs": [],
   "source": [
    "seq = readFASTA(\"ACE2.fasta\")"
   ]
  },
  {
   "cell_type": "code",
   "execution_count": 16,
   "metadata": {},
   "outputs": [
    {
     "name": "stdout",
     "output_type": "stream",
     "text": [
      "[[2, 49, 2464], [2, 232, 2464], [2, 292, 2464]]\n"
     ]
    }
   ],
   "source": [
    "print(findORF_withRev(seq, 700))"
   ]
  },
  {
   "cell_type": "markdown",
   "metadata": {},
   "source": [
    "## 4.\n",
    "Write a Python function that takes two inputs: a float gc and an integer l. This function returns the expected value E[X] and the probability P(X>L), where X is a geometric random variable representing the number of codons until getting a stop codon [2pt].\n",
    "\n",
    "For example, with the inputs (gc=0.4, I=50):\n",
    "\n",
    "First, the function calculates p, the probability of getting a stop codon:\n",
    "\n",
    "𝑝 = 𝑃(𝑇𝐴𝐺 𝑜𝑟 𝑇𝐴𝐴 𝑜𝑟 𝑇𝐺𝐴) = (0.3 × 0.3 × 0.2) + (0.3 × 0.3 × 0.3) + (0.3 × 0.2 × 0.3) = 0.063\n",
    "\n",
    "Second, the function calculates 𝐸[𝑋] = 1⁄𝑝 = 15.873\n",
    "\n",
    "Third, the function calculates 𝑃(𝑋 > 𝐿) = 1 − 𝑃(𝑋 ≤ 50) = 1 − 0.961 = 0.039 Finally, the function returns 15.873 and 0.039"
   ]
  },
  {
   "cell_type": "code",
   "execution_count": 13,
   "metadata": {},
   "outputs": [],
   "source": [
    "from scipy.stats import geom\n",
    "def calc(gcContent, L):\n",
    "    prob_AT = (1 - gcContent) / 2\n",
    "    prob_CG = gcContent / 2\n",
    "    p = prob_AT*prob_AT*prob_CG + prob_AT*prob_AT*prob_AT + prob_AT*prob_CG*prob_AT\n",
    "    x = geom(p)\n",
    "    return x.mean(), 1 - x.cdf(L)"
   ]
  },
  {
   "cell_type": "code",
   "execution_count": 14,
   "metadata": {},
   "outputs": [
    {
     "name": "stdout",
     "output_type": "stream",
     "text": [
      "(15.873015873015873, 0.03863487792946596)\n"
     ]
    }
   ],
   "source": [
    "print(calc(0.4, 50))"
   ]
  },
  {
   "cell_type": "code",
   "execution_count": null,
   "metadata": {},
   "outputs": [],
   "source": []
  }
 ],
 "metadata": {
  "kernelspec": {
   "display_name": "Python 3",
   "language": "python",
   "name": "python3"
  },
  "language_info": {
   "codemirror_mode": {
    "name": "ipython",
    "version": 3
   },
   "file_extension": ".py",
   "mimetype": "text/x-python",
   "name": "python",
   "nbconvert_exporter": "python",
   "pygments_lexer": "ipython3",
   "version": "3.8.3"
  }
 },
 "nbformat": 4,
 "nbformat_minor": 4
}
