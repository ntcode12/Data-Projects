{
 "cells": [
  {
   "cell_type": "markdown",
   "metadata": {},
   "source": [
    "## Nichollas Tidow\n",
    "## QBIO 401 \n",
    "## September 10, 2020\n",
    "## HW 03"
   ]
  },
  {
   "cell_type": "markdown",
   "metadata": {},
   "source": [
    "## Function 01\n",
    "LoadFASTA file and \n",
    "Write a Python function that takes as input a DNA sequence string and returns its reverse complement string. For example, given an input string “CATGCCGGAATT”, the function returns the reverse complement string “AATTCCGGCATG”"
   ]
  },
  {
   "cell_type": "code",
   "execution_count": 1,
   "metadata": {},
   "outputs": [],
   "source": [
    "# Name: loadFASTA\n",
    "# Purpose: load FASTA file into notebook and turn sequence into str\n",
    "# Input: FASTA file\n",
    "# Output: DNA sequence str\n",
    "def loadFASTA(fName):\n",
    "    try: \n",
    "        with open(fName,\"r\") as dnaFile:\n",
    "            next(dnaFile)   \n",
    "            for line in dnaFile:\n",
    "                sequence1 = str(dnaFile.readlines())     \n",
    "        return sequence1\n",
    "    except IOError:\n",
    "        print(\"Could not open\\\"\" + fName + \"\\\"\")\n",
    "        return False\n",
    "    except IndexError:\n",
    "        print(\"Problem with index off split\")\n",
    "        print(\"Line:\\\"\" + str(i) + \"\\\"\")\n",
    "        return False\n",
    "    except Exception as e:\n",
    "        print(\"Error: \\\"\" + str(e) + \"\\\"\")\n",
    "        return False\n",
    "# Name: reverseDNA\n",
    "# Purpose: take a DNA sequence str and return its reverse complement str\n",
    "# Input: DNA seq str\n",
    "# Output: reverse complement str\n",
    "def reverseDNA(seqStr):\n",
    "    # flip the sequence order\n",
    "    reverseStr = seqStr[::-1]\n",
    "    # create complement str\n",
    "    complementStr = \"\"\n",
    "    # for each base in the reverse str, add the complement to a new str\n",
    "    for i in reverseStr:\n",
    "        if i == \"A\":\n",
    "            complementStr+= \"T\"\n",
    "        elif i == \"T\":\n",
    "            complementStr+= \"A\"\n",
    "        elif i == \"G\":\n",
    "            complementStr+= \"C\"\n",
    "        elif i == \"C\":\n",
    "            complementStr+= \"G\"\n",
    "    return complementStr\n",
    "            \n",
    "    "
   ]
  },
  {
   "cell_type": "code",
   "execution_count": 2,
   "metadata": {},
   "outputs": [
    {
     "name": "stdout",
     "output_type": "stream",
     "text": [
      "AATTCCGGCATG\n"
     ]
    }
   ],
   "source": [
    "#print(reverseDNA(loadFASTA(\"/Users/nicktidow/Downloads/ACE2.fasta\")))\n",
    "print(reverseDNA(\"CATGCCGGAATT\"))"
   ]
  },
  {
   "cell_type": "code",
   "execution_count": 3,
   "metadata": {},
   "outputs": [],
   "source": [
    "#print(readingFrames(reverseDNA(loadFASTA(\"/Users/nicktidow/Downloads/ACE2.fasta\"))))"
   ]
  },
  {
   "cell_type": "code",
   "execution_count": 4,
   "metadata": {},
   "outputs": [],
   "source": [
    "#print(readingFrames(reverseDNA(loadFASTA(\"/Users/nicktidow/Downloads/ACE2.fasta\"))))"
   ]
  },
  {
   "cell_type": "code",
   "execution_count": 5,
   "metadata": {},
   "outputs": [],
   "source": [
    "#print(readingFrames(\"CATGCCGGAATTCATGCCGGAATTCATGCCGGAATTCATGCCGGAATTCATGCCGGAATT\"))"
   ]
  },
  {
   "cell_type": "code",
   "execution_count": 6,
   "metadata": {},
   "outputs": [],
   "source": [
    "#print(orfInfo(readingFrames(reverseDNA(loadFASTA(\"/Users/nicktidow/Downloads/ACE2.fasta\")))))"
   ]
  },
  {
   "cell_type": "markdown",
   "metadata": {},
   "source": [
    "## Function 02\n",
    "Write a Python function (or functions) to find all ORFs from six different reading frames"
   ]
  },
  {
   "cell_type": "code",
   "execution_count": 42,
   "metadata": {},
   "outputs": [],
   "source": [
    "# Name: orfInfo\n",
    "# Purpose: take a DNA sequence str and threshold orf to return key info\n",
    "# Input: DNA seq str and threshold number\n",
    "# Output: list of lists with number of orfs, frame number, and position of start/stop codons\n",
    "def orfInfo(seq,threshold):\n",
    "    frame =[]\n",
    "    # Frame01\n",
    "    # iterate over seq starting at 0, to len(seq)-2, by 3 at a time\n",
    "    for i in range(0,len(seq)-2,3):\n",
    "        codon1 = seq[i:i+3]\n",
    "        # Start Codon\n",
    "        if codon1 == \"ATG\":\n",
    "            # iterate over seq starting at start codon, to len(seq)-2, by 3 at a time\n",
    "            for j in range(i,len(seq)-2,3):\n",
    "                codon2= seq[j:j+3]\n",
    "                # Stop Codon\n",
    "                if codon2 in (\"TAA\" , \"TAG\" , \"TGA\"):\n",
    "                    \n",
    "                    # calculate orf length by subtracting stop from start indeces and dividing by 3\n",
    "                    orflength =((j-i)/3)\n",
    "                    # Only return orfs equal to or longer than input threshold\n",
    "                    if orflength >= threshold:\n",
    "                        # append the frame, index of start codon, and index of stop codon\n",
    "                        frame.append([1,i,j])\n",
    "                    break\n",
    "                        \n",
    "    # iterate over seq starting at 1, to len(seq)-2, by 3 at a time                    \n",
    "    for i in range(1,len(seq)-2,3):\n",
    "        codon1 = seq[i:i+3]\n",
    "        # Start Codon\n",
    "        if codon1 == \"ATG\":\n",
    "            # iterate over seq starting at start codon, to len(seq)-2, by 3 at a time\n",
    "            for j in range(i,len(seq)-2,3):\n",
    "                codon2= seq[j:j+3]\n",
    "                # Stop Codon\n",
    "                if codon2 in (\"TAA\" , \"TAG\" , \"TGA\"):\n",
    "                    \n",
    "                    # calculate orf length by subtracting stop from start indeces and dividing by 3\n",
    "                    orflength =((j-i)/3)\n",
    "                    # Only return orfs equal to or longer than input threshold\n",
    "                    if orflength >= threshold:\n",
    "                        # append the frame, index of start codon, and index of stop codon\n",
    "                        frame.append([2,i,j])\n",
    "                    break\n",
    "                        \n",
    "    # iterate over seq starting at 2, to len(seq)-2, by 3 at a time                    \n",
    "    for i in range(2,len(seq)-2,3):\n",
    "        codon1 = seq[i:i+3]\n",
    "        # Start Codon\n",
    "        if codon1 == \"ATG\":\n",
    "            # iterate over seq starting at start codon, to len(seq)-2, by 3 at a time\n",
    "            for j in range(i,len(seq)-2,3):\n",
    "                codon2= seq[j:j+3]\n",
    "                # Stop Codon\n",
    "                if codon2 in (\"TAA\" , \"TAG\" , \"TGA\"):\n",
    "                    \n",
    "                    # calculate orf length by subtracting stop from start indeces and dividing by 3\n",
    "                    orflength =((j-i)/3)\n",
    "                    # Only return orfs equal to or longer than input threshold\n",
    "                    if orflength >= threshold:\n",
    "                        # append the frame, index of start codon, and index of stop codon\n",
    "                        frame.append([3,i,j])\n",
    "                    break\n",
    "    return frame\n",
    "\n",
    "                \n",
    "        \n",
    "          \n",
    "        \n",
    "    \n",
    "            \n",
    "    \n",
    "        \n",
    "        \n",
    "    "
   ]
  },
  {
   "cell_type": "markdown",
   "metadata": {},
   "source": [
    "#### Use orf function with a threshold of 700"
   ]
  },
  {
   "cell_type": "code",
   "execution_count": 41,
   "metadata": {},
   "outputs": [
    {
     "name": "stdout",
     "output_type": "stream",
     "text": [
      "[[1, 159, 2271], [1, 321, 2496], [1, 390, 2496], [1, 405, 2526], [1, 414, 2526], [1, 432, 2535], [1, 729, 2910], [1, 939, 3141], [1, 1014, 3141], [1, 1020, 3141], [1, 1068, 3168], [2, 229, 2365], [2, 262, 2365], [2, 700, 3010], [2, 706, 3010], [2, 712, 3010], [3, 176, 2291], [3, 428, 2582], [3, 527, 2753], [3, 782, 2930], [3, 815, 2930]]\n"
     ]
    }
   ],
   "source": [
    "print(orfInfo(reverseDNA(loadFASTA(\"/Users/nicktidow/Downloads/ACE2.fasta\")),700))"
   ]
  },
  {
   "cell_type": "markdown",
   "metadata": {},
   "source": [
    "## Function 03\n",
    "Write a Python function that takes two inputs: a float gc and an integer l. This function returns the expected value E[X] and the probability P(X>L), where X is a geometric random variable representing the number of codons until getting a stop codon"
   ]
  },
  {
   "cell_type": "code",
   "execution_count": 36,
   "metadata": {},
   "outputs": [],
   "source": [
    "from scipy import stats\n",
    "\n",
    "# Name: geneProb\n",
    "# Purpose: take gc content and i to produce prob of next stop codon\n",
    "# Input: \n",
    "# Output: list of lists with number of orfs, frame number, and position of start/stop codons\n",
    "def geneProb(g,i):\n",
    "    float(g)\n",
    "    int(i)\n",
    "    pc=pg=g/2\n",
    "    pa=pt=(1-(pc*2))/2\n",
    "    p =(pa**3)+2*((pa**2)*pc) #TAA,TAG,TGA\n",
    "    \n",
    "    Z = stats.geom(p)\n",
    "    \n",
    "    EV= Z.mean() # Expected Value 𝐸[𝑋] = 1⁄𝑝\n",
    "       \n",
    "    probStop= (1-Z.cdf(i))\n",
    "    Z.cdf(i)\n",
    "    \n",
    "    return EV,probStop\n",
    "    "
   ]
  },
  {
   "cell_type": "code",
   "execution_count": 37,
   "metadata": {},
   "outputs": [
    {
     "name": "stdout",
     "output_type": "stream",
     "text": [
      "𝐸[𝑋] = 1⁄𝑝: 15.873015873015873 \n",
      " 𝑃(𝑋 > 𝐿) 0.03863487792946585\n"
     ]
    }
   ],
   "source": [
    "EV,probStop = geneProb(.4,50)\n",
    "print(\"𝐸[𝑋] = 1⁄𝑝:\",EV,\"\\n\",\"𝑃(𝑋 > 𝐿)\",probStop)"
   ]
  },
  {
   "cell_type": "markdown",
   "metadata": {},
   "source": [
    "## Optimization Bonus\n",
    "##### I tried to optimize my code and improve my performance by: using exceptions when loading the FASTA file, using functions, using the scipy library, and by using for loops and conditionals"
   ]
  },
  {
   "cell_type": "code",
   "execution_count": null,
   "metadata": {},
   "outputs": [],
   "source": []
  }
 ],
 "metadata": {
  "kernelspec": {
   "display_name": "Python 3",
   "language": "python",
   "name": "python3"
  },
  "language_info": {
   "codemirror_mode": {
    "name": "ipython",
    "version": 3
   },
   "file_extension": ".py",
   "mimetype": "text/x-python",
   "name": "python",
   "nbconvert_exporter": "python",
   "pygments_lexer": "ipython3",
   "version": "3.8.3"
  }
 },
 "nbformat": 4,
 "nbformat_minor": 4
}
