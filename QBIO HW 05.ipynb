{
 "cells": [
  {
   "cell_type": "markdown",
   "metadata": {},
   "source": [
    "### Nichollas Tidow\n",
    "### QBIO 401 \n",
    "### Homework 05"
   ]
  },
  {
   "cell_type": "code",
   "execution_count": 3,
   "metadata": {},
   "outputs": [],
   "source": [
    "from upgmaData import *"
   ]
  },
  {
   "cell_type": "code",
   "execution_count": null,
   "metadata": {},
   "outputs": [],
   "source": [
    "#### CLASS 01\n",
    "##### Name: TreeNode\n",
    "##### Properties: key, distance, left, right"
   ]
  },
  {
   "cell_type": "code",
   "execution_count": 2,
   "metadata": {},
   "outputs": [],
   "source": [
    "class TreeNode:\n",
    "    def __init__(self, name = \"\", distance = -1):\n",
    "        self.name = name\n",
    "        self.distance = float(distance)\n",
    "        self.left = None\n",
    "        self.right = None\n",
    "    def getStr(self):\n",
    "        if self.left is None:\n",
    "            leftStr = \"()\"\n",
    "        else:\n",
    "            leftStr = self.left.getStr()\n",
    "        if self.right is None:\n",
    "            rightStr = \"()\"\n",
    "        else:\n",
    "            rightStr = self.right.getStr()\n",
    "        return \"({}, {}, {}, {})\".format(self.name, self.distance, leftStr, rightStr)\n",
    "    def print(self):\n",
    "        print(self.getStr())\n",
    "    def getChildrenSize(self): \n",
    "        #return self.size\n",
    "        if self.left is None and self.right is None:\n",
    "            count = 1\n",
    "        else:\n",
    "            count = self.left.getChildrenSize() + self.right.getChildrenSize()\n",
    "        return count"
   ]
  },
  {
   "cell_type": "code",
   "execution_count": null,
   "metadata": {},
   "outputs": [],
   "source": []
  }
 ],
 "metadata": {
  "kernelspec": {
   "display_name": "Python 3",
   "language": "python",
   "name": "python3"
  },
  "language_info": {
   "codemirror_mode": {
    "name": "ipython",
    "version": 3
   },
   "file_extension": ".py",
   "mimetype": "text/x-python",
   "name": "python",
   "nbconvert_exporter": "python",
   "pygments_lexer": "ipython3",
   "version": "3.8.2"
  }
 },
 "nbformat": 4,
 "nbformat_minor": 4
}
