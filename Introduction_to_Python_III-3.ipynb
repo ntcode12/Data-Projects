{
 "cells": [
  {
   "cell_type": "markdown",
   "metadata": {},
   "source": [
    "# QBIO 401: Introduction to Computational Analysis of Biological Data \n",
    "\n",
    "# Introduction to Python III\n",
    "## 1. Work with data\n",
    "### 1.1. Read files\n",
    "#### *Create a File object*"
   ]
  },
  {
   "cell_type": "code",
   "execution_count": 82,
   "metadata": {},
   "outputs": [
    {
     "name": "stdout",
     "output_type": "stream",
     "text": [
      "file_example.txt\n",
      "r\n",
      "This is line 1\n",
      "This is line 2\n",
      "This is line 3\n",
      "\n"
     ]
    }
   ],
   "source": [
    "File1=open(\"file_example.txt\",\"r\")\n",
    "\n",
    "# File attribute\n",
    "print(File1.name)\n",
    "print(File1.mode)\n",
    "\n",
    "# File methods\n",
    "file_content=File1.read()\n",
    "print(File1.read())\n",
    "File1.close()"
   ]
  },
  {
   "cell_type": "markdown",
   "metadata": {},
   "source": [
    "#### *With statement*"
   ]
  },
  {
   "cell_type": "code",
   "execution_count": 16,
   "metadata": {},
   "outputs": [
    {
     "name": "stdout",
     "output_type": "stream",
     "text": [
      "This is line 1\n",
      "This is line 2\n",
      "This is line 3\n",
      "\n"
     ]
    }
   ],
   "source": [
    "with open(\"file_example.txt\",\"r\") as File1:\n",
    "    file_stuff=File1.read()\n",
    "    print(file_stuff)"
   ]
  },
  {
   "cell_type": "markdown",
   "metadata": {},
   "source": [
    "#### *Read one line at a time*"
   ]
  },
  {
   "cell_type": "code",
   "execution_count": 6,
   "metadata": {},
   "outputs": [
    {
     "name": "stdout",
     "output_type": "stream",
     "text": [
      "This is line 1\n",
      "\n"
     ]
    }
   ],
   "source": [
    "with open(\"file_example.txt\",\"r\") as File1:\n",
    "    file_stuff=File1.readline()\n",
    "    print(file_stuff)"
   ]
  },
  {
   "cell_type": "code",
   "execution_count": 7,
   "metadata": {},
   "outputs": [
    {
     "name": "stdout",
     "output_type": "stream",
     "text": [
      "This is line 1\n",
      "\n",
      "This is line 2\n",
      "\n"
     ]
    }
   ],
   "source": [
    "with open(\"file_example.txt\",\"r\") as File1:\n",
    "    file_stuff=File1.readline()\n",
    "    print(file_stuff)\n",
    "    file_stuff=File1.readline()\n",
    "    print(file_stuff)"
   ]
  },
  {
   "cell_type": "code",
   "execution_count": 8,
   "metadata": {},
   "outputs": [
    {
     "name": "stdout",
     "output_type": "stream",
     "text": [
      "This is line 1\n",
      "\n",
      "This is line 2\n",
      "\n",
      "This is line 3\n"
     ]
    }
   ],
   "source": [
    "with open(\"file_example.txt\",\"r\") as File1:\n",
    "    for line in File1:\n",
    "        print(line)"
   ]
  },
  {
   "cell_type": "code",
   "execution_count": 83,
   "metadata": {},
   "outputs": [
    {
     "name": "stdout",
     "output_type": "stream",
     "text": [
      "['This is line 1\\n', 'This is line 2\\n', 'This is line 3\\n']\n"
     ]
    }
   ],
   "source": [
    "lines=[]\n",
    "with open(\"file_example.txt\",\"r\") as File1:\n",
    "    for line in File1:\n",
    "        lines.append(line)\n",
    "print(lines)        "
   ]
  },
  {
   "cell_type": "markdown",
   "metadata": {},
   "source": [
    "### 1.2 Write files"
   ]
  },
  {
   "cell_type": "code",
   "execution_count": 11,
   "metadata": {},
   "outputs": [],
   "source": [
    "with open(\"file_example.txt\", \"w\") as File1:   \n",
    "    File1.write(\"This is line 1\\n\")\n",
    "    File1.write(\"This is line 2\\n\") "
   ]
  },
  {
   "cell_type": "markdown",
   "metadata": {},
   "source": [
    "Write Strings in a Line into a file"
   ]
  },
  {
   "cell_type": "code",
   "execution_count": 15,
   "metadata": {},
   "outputs": [],
   "source": [
    "Lines=[\"This is line 1\\n\",\"This is line 2\\n\",\"This is line 3\\n\"]\n",
    "with open(\"file_example.txt\", \"w\") as File1:\n",
    "    for line in Lines:\n",
    "        File1.write(line)"
   ]
  },
  {
   "cell_type": "markdown",
   "metadata": {},
   "source": [
    "## 2. Pandas"
   ]
  },
  {
   "cell_type": "markdown",
   "metadata": {},
   "source": [
    "Libraries are pre-written code to help solve problem. Pandas is a popular library for data analysis. Pandas provides us with some powerful objects like DataFrames and Series which are very useful for working with and analyzing data."
   ]
  },
  {
   "cell_type": "code",
   "execution_count": 104,
   "metadata": {},
   "outputs": [
    {
     "name": "stdout",
     "output_type": "stream",
     "text": [
      "16\n",
      "   0  1\n",
      "0  A  1\n",
      "1  B  3\n",
      "2  C  5\n",
      "3  D  7\n",
      "0    ABCD\n",
      "1      16\n",
      "dtype: object\n",
      "1    4.0\n",
      "dtype: float64\n"
     ]
    }
   ],
   "source": [
    "data=[[\"A\",1],[\"B\",3],[\"C\",5],[\"D\",7]]\n",
    "\n",
    "# Convention way\n",
    "total=0\n",
    "for i in data:\n",
    "    total=total+i[1]\n",
    "print(total)\n",
    "\n",
    "# Pandas' way\n",
    "import pandas as pd\n",
    "df=pd.DataFrame(data)\n",
    "print(df)\n",
    "print(df.sum(0))\n",
    "print(df.mean(0))\n"
   ]
  },
  {
   "cell_type": "code",
   "execution_count": 110,
   "metadata": {},
   "outputs": [
    {
     "data": {
      "text/html": [
       "<div>\n",
       "<style scoped>\n",
       "    .dataframe tbody tr th:only-of-type {\n",
       "        vertical-align: middle;\n",
       "    }\n",
       "\n",
       "    .dataframe tbody tr th {\n",
       "        vertical-align: top;\n",
       "    }\n",
       "\n",
       "    .dataframe thead th {\n",
       "        text-align: right;\n",
       "    }\n",
       "</style>\n",
       "<table border=\"1\" class=\"dataframe\">\n",
       "  <thead>\n",
       "    <tr style=\"text-align: right;\">\n",
       "      <th></th>\n",
       "      <th>section</th>\n",
       "      <th>id</th>\n",
       "      <th>name</th>\n",
       "      <th>unit</th>\n",
       "    </tr>\n",
       "  </thead>\n",
       "  <tbody>\n",
       "    <tr>\n",
       "      <th>0</th>\n",
       "      <td>12951R</td>\n",
       "      <td>QBIO 401</td>\n",
       "      <td>Introduction to Computational Analysis of Biol...</td>\n",
       "      <td>4.0</td>\n",
       "    </tr>\n",
       "    <tr>\n",
       "      <th>1</th>\n",
       "      <td>29253R</td>\n",
       "      <td>QBIO 430</td>\n",
       "      <td>Principles and Applications of Systems Biology</td>\n",
       "      <td>4.0</td>\n",
       "    </tr>\n",
       "    <tr>\n",
       "      <th>2</th>\n",
       "      <td>13481R</td>\n",
       "      <td>QBIO 481</td>\n",
       "      <td>Structural Bioinformatics: From Atoms to Cells</td>\n",
       "      <td>4.0</td>\n",
       "    </tr>\n",
       "    <tr>\n",
       "      <th>3</th>\n",
       "      <td>12990D</td>\n",
       "      <td>QBIO 490x</td>\n",
       "      <td>Directed Research</td>\n",
       "      <td>8.0</td>\n",
       "    </tr>\n",
       "    <tr>\n",
       "      <th>4</th>\n",
       "      <td>12993D</td>\n",
       "      <td>QBIO 493</td>\n",
       "      <td>Quantitative Biology Honors Seminar</td>\n",
       "      <td>2.0</td>\n",
       "    </tr>\n",
       "    <tr>\n",
       "      <th>5</th>\n",
       "      <td>12970D</td>\n",
       "      <td>QBIO 590</td>\n",
       "      <td>Directed Research</td>\n",
       "      <td>1.0</td>\n",
       "    </tr>\n",
       "  </tbody>\n",
       "</table>\n",
       "</div>"
      ],
      "text/plain": [
       "  section         id                                               name  unit\n",
       "0  12951R   QBIO 401  Introduction to Computational Analysis of Biol...   4.0\n",
       "1  29253R   QBIO 430     Principles and Applications of Systems Biology   4.0\n",
       "2  13481R   QBIO 481     Structural Bioinformatics: From Atoms to Cells   4.0\n",
       "3  12990D  QBIO 490x                                  Directed Research   8.0\n",
       "4  12993D   QBIO 493                Quantitative Biology Honors Seminar   2.0\n",
       "5  12970D   QBIO 590                                  Directed Research   1.0"
      ]
     },
     "execution_count": 110,
     "metadata": {},
     "output_type": "execute_result"
    }
   ],
   "source": [
    "import pandas as pd\n",
    "csv_path=\"pandas_example.csv\"\n",
    "df=pd.read_csv(csv_path)\n",
    "df"
   ]
  },
  {
   "cell_type": "code",
   "execution_count": 111,
   "metadata": {},
   "outputs": [
    {
     "data": {
      "text/html": [
       "<div>\n",
       "<style scoped>\n",
       "    .dataframe tbody tr th:only-of-type {\n",
       "        vertical-align: middle;\n",
       "    }\n",
       "\n",
       "    .dataframe tbody tr th {\n",
       "        vertical-align: top;\n",
       "    }\n",
       "\n",
       "    .dataframe thead th {\n",
       "        text-align: right;\n",
       "    }\n",
       "</style>\n",
       "<table border=\"1\" class=\"dataframe\">\n",
       "  <thead>\n",
       "    <tr style=\"text-align: right;\">\n",
       "      <th></th>\n",
       "      <th>section</th>\n",
       "      <th>id</th>\n",
       "      <th>name</th>\n",
       "      <th>unit</th>\n",
       "    </tr>\n",
       "  </thead>\n",
       "  <tbody>\n",
       "    <tr>\n",
       "      <th>0</th>\n",
       "      <td>12951R</td>\n",
       "      <td>QBIO 401</td>\n",
       "      <td>Introduction to Computational Analysis of Biol...</td>\n",
       "      <td>4.0</td>\n",
       "    </tr>\n",
       "    <tr>\n",
       "      <th>1</th>\n",
       "      <td>29253R</td>\n",
       "      <td>QBIO 430</td>\n",
       "      <td>Principles and Applications of Systems Biology</td>\n",
       "      <td>4.0</td>\n",
       "    </tr>\n",
       "    <tr>\n",
       "      <th>2</th>\n",
       "      <td>13481R</td>\n",
       "      <td>QBIO 481</td>\n",
       "      <td>Structural Bioinformatics: From Atoms to Cells</td>\n",
       "      <td>4.0</td>\n",
       "    </tr>\n",
       "    <tr>\n",
       "      <th>3</th>\n",
       "      <td>12990D</td>\n",
       "      <td>QBIO 490x</td>\n",
       "      <td>Directed Research</td>\n",
       "      <td>8.0</td>\n",
       "    </tr>\n",
       "    <tr>\n",
       "      <th>4</th>\n",
       "      <td>12993D</td>\n",
       "      <td>QBIO 493</td>\n",
       "      <td>Quantitative Biology Honors Seminar</td>\n",
       "      <td>2.0</td>\n",
       "    </tr>\n",
       "  </tbody>\n",
       "</table>\n",
       "</div>"
      ],
      "text/plain": [
       "  section         id                                               name  unit\n",
       "0  12951R   QBIO 401  Introduction to Computational Analysis of Biol...   4.0\n",
       "1  29253R   QBIO 430     Principles and Applications of Systems Biology   4.0\n",
       "2  13481R   QBIO 481     Structural Bioinformatics: From Atoms to Cells   4.0\n",
       "3  12990D  QBIO 490x                                  Directed Research   8.0\n",
       "4  12993D   QBIO 493                Quantitative Biology Honors Seminar   2.0"
      ]
     },
     "execution_count": 111,
     "metadata": {},
     "output_type": "execute_result"
    }
   ],
   "source": [
    "df.head()"
   ]
  },
  {
   "cell_type": "code",
   "execution_count": 112,
   "metadata": {},
   "outputs": [
    {
     "data": {
      "text/html": [
       "<div>\n",
       "<style scoped>\n",
       "    .dataframe tbody tr th:only-of-type {\n",
       "        vertical-align: middle;\n",
       "    }\n",
       "\n",
       "    .dataframe tbody tr th {\n",
       "        vertical-align: top;\n",
       "    }\n",
       "\n",
       "    .dataframe thead th {\n",
       "        text-align: right;\n",
       "    }\n",
       "</style>\n",
       "<table border=\"1\" class=\"dataframe\">\n",
       "  <thead>\n",
       "    <tr style=\"text-align: right;\">\n",
       "      <th></th>\n",
       "      <th>section</th>\n",
       "      <th>id</th>\n",
       "      <th>name</th>\n",
       "      <th>unit</th>\n",
       "    </tr>\n",
       "  </thead>\n",
       "  <tbody>\n",
       "    <tr>\n",
       "      <th>4</th>\n",
       "      <td>12993D</td>\n",
       "      <td>QBIO 493</td>\n",
       "      <td>Quantitative Biology Honors Seminar</td>\n",
       "      <td>2.0</td>\n",
       "    </tr>\n",
       "    <tr>\n",
       "      <th>5</th>\n",
       "      <td>12970D</td>\n",
       "      <td>QBIO 590</td>\n",
       "      <td>Directed Research</td>\n",
       "      <td>1.0</td>\n",
       "    </tr>\n",
       "  </tbody>\n",
       "</table>\n",
       "</div>"
      ],
      "text/plain": [
       "  section        id                                 name  unit\n",
       "4  12993D  QBIO 493  Quantitative Biology Honors Seminar   2.0\n",
       "5  12970D  QBIO 590                    Directed Research   1.0"
      ]
     },
     "execution_count": 112,
     "metadata": {},
     "output_type": "execute_result"
    }
   ],
   "source": [
    "df.tail(2)"
   ]
  },
  {
   "cell_type": "code",
   "execution_count": 116,
   "metadata": {},
   "outputs": [
    {
     "name": "stdout",
     "output_type": "stream",
     "text": [
      "3.8333333333333335\n",
      "2.401388487243717\n"
     ]
    }
   ],
   "source": [
    "print(df['unit'].mean())\n",
    "print(df['unit'].std())"
   ]
  },
  {
   "cell_type": "code",
   "execution_count": 34,
   "metadata": {},
   "outputs": [
    {
     "data": {
      "text/html": [
       "<div>\n",
       "<style scoped>\n",
       "    .dataframe tbody tr th:only-of-type {\n",
       "        vertical-align: middle;\n",
       "    }\n",
       "\n",
       "    .dataframe tbody tr th {\n",
       "        vertical-align: top;\n",
       "    }\n",
       "\n",
       "    .dataframe thead th {\n",
       "        text-align: right;\n",
       "    }\n",
       "</style>\n",
       "<table border=\"1\" class=\"dataframe\">\n",
       "  <thead>\n",
       "    <tr style=\"text-align: right;\">\n",
       "      <th></th>\n",
       "      <th>section</th>\n",
       "      <th>unit</th>\n",
       "    </tr>\n",
       "  </thead>\n",
       "  <tbody>\n",
       "    <tr>\n",
       "      <th>0</th>\n",
       "      <td>12951R</td>\n",
       "      <td>4.0</td>\n",
       "    </tr>\n",
       "    <tr>\n",
       "      <th>1</th>\n",
       "      <td>29253R</td>\n",
       "      <td>4.0</td>\n",
       "    </tr>\n",
       "    <tr>\n",
       "      <th>2</th>\n",
       "      <td>13481R</td>\n",
       "      <td>4.0</td>\n",
       "    </tr>\n",
       "    <tr>\n",
       "      <th>3</th>\n",
       "      <td>12990D</td>\n",
       "      <td>8.0</td>\n",
       "    </tr>\n",
       "    <tr>\n",
       "      <th>4</th>\n",
       "      <td>12993D</td>\n",
       "      <td>2.0</td>\n",
       "    </tr>\n",
       "    <tr>\n",
       "      <th>5</th>\n",
       "      <td>12970D</td>\n",
       "      <td>1.0</td>\n",
       "    </tr>\n",
       "  </tbody>\n",
       "</table>\n",
       "</div>"
      ],
      "text/plain": [
       "  section  unit\n",
       "0  12951R   4.0\n",
       "1  29253R   4.0\n",
       "2  13481R   4.0\n",
       "3  12990D   8.0\n",
       "4  12993D   2.0\n",
       "5  12970D   1.0"
      ]
     },
     "execution_count": 34,
     "metadata": {},
     "output_type": "execute_result"
    }
   ],
   "source": [
    "df[['section','unit']]"
   ]
  },
  {
   "cell_type": "code",
   "execution_count": 129,
   "metadata": {},
   "outputs": [
    {
     "data": {
      "text/plain": [
       "1    Principles and Applications of Systems Biology\n",
       "Name: name, dtype: object"
      ]
     },
     "execution_count": 129,
     "metadata": {},
     "output_type": "execute_result"
    }
   ],
   "source": [
    "df.loc[1:2:2,'name']"
   ]
  },
  {
   "cell_type": "markdown",
   "metadata": {},
   "source": [
    "#### *Convertiton*"
   ]
  },
  {
   "cell_type": "code",
   "execution_count": 125,
   "metadata": {},
   "outputs": [
    {
     "data": {
      "text/html": [
       "<div>\n",
       "<style scoped>\n",
       "    .dataframe tbody tr th:only-of-type {\n",
       "        vertical-align: middle;\n",
       "    }\n",
       "\n",
       "    .dataframe tbody tr th {\n",
       "        vertical-align: top;\n",
       "    }\n",
       "\n",
       "    .dataframe thead th {\n",
       "        text-align: right;\n",
       "    }\n",
       "</style>\n",
       "<table border=\"1\" class=\"dataframe\">\n",
       "  <thead>\n",
       "    <tr style=\"text-align: right;\">\n",
       "      <th></th>\n",
       "      <th>section</th>\n",
       "      <th>id</th>\n",
       "      <th>name</th>\n",
       "      <th>unit</th>\n",
       "    </tr>\n",
       "  </thead>\n",
       "  <tbody>\n",
       "    <tr>\n",
       "      <th>0</th>\n",
       "      <td>12951R</td>\n",
       "      <td>QBIO 401</td>\n",
       "      <td>Introduction to Computational Analysis of Biol...</td>\n",
       "      <td>4.0</td>\n",
       "    </tr>\n",
       "    <tr>\n",
       "      <th>1</th>\n",
       "      <td>29253R</td>\n",
       "      <td>QBIO 430</td>\n",
       "      <td>Principles and Applications of Systems Biology</td>\n",
       "      <td>4.0</td>\n",
       "    </tr>\n",
       "    <tr>\n",
       "      <th>2</th>\n",
       "      <td>13481R</td>\n",
       "      <td>QBIO 481</td>\n",
       "      <td>Structural Bioinformatics: From Atoms to Cells</td>\n",
       "      <td>4.0</td>\n",
       "    </tr>\n",
       "    <tr>\n",
       "      <th>3</th>\n",
       "      <td>12990D</td>\n",
       "      <td>QBIO 490x</td>\n",
       "      <td>Directed Research</td>\n",
       "      <td>8.0</td>\n",
       "    </tr>\n",
       "    <tr>\n",
       "      <th>4</th>\n",
       "      <td>12993D</td>\n",
       "      <td>QBIO 493</td>\n",
       "      <td>Quantitative Biology Honors Seminar</td>\n",
       "      <td>2.0</td>\n",
       "    </tr>\n",
       "    <tr>\n",
       "      <th>5</th>\n",
       "      <td>12970D</td>\n",
       "      <td>QBIO 590</td>\n",
       "      <td>Directed Research</td>\n",
       "      <td>1.0</td>\n",
       "    </tr>\n",
       "  </tbody>\n",
       "</table>\n",
       "</div>"
      ],
      "text/plain": [
       "  section         id                                               name  unit\n",
       "0  12951R   QBIO 401  Introduction to Computational Analysis of Biol...   4.0\n",
       "1  29253R   QBIO 430     Principles and Applications of Systems Biology   4.0\n",
       "2  13481R   QBIO 481     Structural Bioinformatics: From Atoms to Cells   4.0\n",
       "3  12990D  QBIO 490x                                  Directed Research   8.0\n",
       "4  12993D   QBIO 493                Quantitative Biology Honors Seminar   2.0\n",
       "5  12970D   QBIO 590                                  Directed Research   1.0"
      ]
     },
     "execution_count": 125,
     "metadata": {},
     "output_type": "execute_result"
    }
   ],
   "source": [
    "list1=df.values.tolist()\n",
    "list1\n",
    "dic1=df.to_dict()\n",
    "dic1\n",
    "a = pd.DataFrame(dic1)\n",
    "a"
   ]
  },
  {
   "cell_type": "markdown",
   "metadata": {},
   "source": [
    "## 3. Numpy "
   ]
  },
  {
   "cell_type": "markdown",
   "metadata": {},
   "source": [
    "Numpy is a library for scientific computing. Numpy provides objects for multi-dimensional arrays. It has many useful functions. There are many other advantages like speed and memory. Numpy is also the basis for pandas.\n",
    "\n",
    "A numpy array is similar to a list. It's usually fixed in size and each element is of the same type."
   ]
  },
  {
   "cell_type": "code",
   "execution_count": 35,
   "metadata": {},
   "outputs": [
    {
     "name": "stdout",
     "output_type": "stream",
     "text": [
      "a[0]: 0\n",
      "a[1]: 1\n"
     ]
    }
   ],
   "source": [
    "# Import numpy package\n",
    "import numpy as np\n",
    "\n",
    "# Create a numpy array from a List\n",
    "a = np.array([0,1,2,3,4])\n",
    "\n",
    "# Access an element in a numpy array\n",
    "print(\"a[0]:\",a[0])\n",
    "print(\"a[1]:\",a[1])"
   ]
  },
  {
   "cell_type": "markdown",
   "metadata": {},
   "source": [
    "#### *Assign value*"
   ]
  },
  {
   "cell_type": "code",
   "execution_count": 39,
   "metadata": {},
   "outputs": [
    {
     "name": "stdout",
     "output_type": "stream",
     "text": [
      "[  3.1   11.02   6.2  213.2    5.2 ]\n",
      "[100.    11.02   6.2  213.2    5.2 ]\n"
     ]
    }
   ],
   "source": [
    "a=np.array([3.1, 11.02, 6.2, 213.2, 5.2])\n",
    "print(b)\n",
    "a[0]=100\n",
    "print(b)"
   ]
  },
  {
   "cell_type": "markdown",
   "metadata": {},
   "source": [
    "#### *Slicing*"
   ]
  },
  {
   "cell_type": "code",
   "execution_count": 42,
   "metadata": {},
   "outputs": [
    {
     "data": {
      "text/plain": [
       "array([3.1, 6.2])"
      ]
     },
     "execution_count": 42,
     "metadata": {},
     "output_type": "execute_result"
    }
   ],
   "source": [
    "a=np.array([3.1, 11.02, 6.2, 213.2, 5.2])\n",
    "b=a[0:3:2]\n",
    "b"
   ]
  },
  {
   "cell_type": "markdown",
   "metadata": {},
   "source": [
    "#### *Numpy Attributes*"
   ]
  },
  {
   "cell_type": "code",
   "execution_count": 45,
   "metadata": {},
   "outputs": [
    {
     "name": "stdout",
     "output_type": "stream",
     "text": [
      "a.size: 5\n",
      "a.ndim: 1\n",
      "a.shape: (5,)\n"
     ]
    }
   ],
   "source": [
    "a=np.array([3.1, 11.02, 6.2, 213.2, 5.2])\n",
    "print(\"a.size:\",a.size)\n",
    "print(\"a.ndim:\",a.ndim)\n",
    "print(\"a.shape:\",a.shape)"
   ]
  },
  {
   "cell_type": "markdown",
   "metadata": {},
   "source": [
    "#### *Numpy methods*"
   ]
  },
  {
   "cell_type": "code",
   "execution_count": 49,
   "metadata": {},
   "outputs": [
    {
     "name": "stdout",
     "output_type": "stream",
     "text": [
      "a.mean(): 47.74399999999999\n",
      "a.std(): 82.76874134599365\n",
      "a.max(): 213.2\n",
      "a.min(): 3.1\n"
     ]
    }
   ],
   "source": [
    "a=np.array([3.1, 11.02, 6.2, 213.2, 5.2])\n",
    "print(\"a.mean():\",a.mean())\n",
    "print(\"a.std():\",a.std())\n",
    "print(\"a.max():\",a.max())\n",
    "print(\"a.min():\",a.min())"
   ]
  },
  {
   "cell_type": "markdown",
   "metadata": {},
   "source": [
    "#### *Numpy array operations*\n",
    "Addition"
   ]
  },
  {
   "cell_type": "code",
   "execution_count": 53,
   "metadata": {},
   "outputs": [
    {
     "data": {
      "text/plain": [
       "array([1, 1])"
      ]
     },
     "execution_count": 53,
     "metadata": {},
     "output_type": "execute_result"
    }
   ],
   "source": [
    "u = np.array([1, 0])\n",
    "v = np.array([0, 1])\n",
    "z=u+v\n",
    "z"
   ]
  },
  {
   "cell_type": "markdown",
   "metadata": {},
   "source": [
    "Multiplication"
   ]
  },
  {
   "cell_type": "code",
   "execution_count": 55,
   "metadata": {},
   "outputs": [
    {
     "data": {
      "text/plain": [
       "array([2, 4])"
      ]
     },
     "execution_count": 55,
     "metadata": {},
     "output_type": "execute_result"
    }
   ],
   "source": [
    "y = np.array([1, 2])\n",
    "z=y*2\n",
    "z"
   ]
  },
  {
   "cell_type": "markdown",
   "metadata": {},
   "source": [
    "Product of two numpy array"
   ]
  },
  {
   "cell_type": "code",
   "execution_count": 57,
   "metadata": {},
   "outputs": [
    {
     "data": {
      "text/plain": [
       "array([3, 4])"
      ]
     },
     "execution_count": 57,
     "metadata": {},
     "output_type": "execute_result"
    }
   ],
   "source": [
    "u = np.array([1, 2])\n",
    "v = np.array([3, 2])\n",
    "z=u*v\n",
    "z"
   ]
  },
  {
   "cell_type": "markdown",
   "metadata": {},
   "source": [
    "Dot product"
   ]
  },
  {
   "cell_type": "code",
   "execution_count": 59,
   "metadata": {},
   "outputs": [
    {
     "data": {
      "text/plain": [
       "7"
      ]
     },
     "execution_count": 59,
     "metadata": {},
     "output_type": "execute_result"
    }
   ],
   "source": [
    "u = np.array([1, 2])\n",
    "v = np.array([3, 2])\n",
    "np.dot(u, v)"
   ]
  },
  {
   "cell_type": "markdown",
   "metadata": {},
   "source": [
    "Add a constant"
   ]
  },
  {
   "cell_type": "code",
   "execution_count": 60,
   "metadata": {},
   "outputs": [
    {
     "data": {
      "text/plain": [
       "array([2, 3])"
      ]
     },
     "execution_count": 60,
     "metadata": {},
     "output_type": "execute_result"
    }
   ],
   "source": [
    "u = np.array([1, 2])\n",
    "u+1"
   ]
  },
  {
   "cell_type": "markdown",
   "metadata": {},
   "source": [
    "Mathematical functions"
   ]
  },
  {
   "cell_type": "code",
   "execution_count": 63,
   "metadata": {},
   "outputs": [
    {
     "name": "stdout",
     "output_type": "stream",
     "text": [
      "np.pi: 3.141592653589793\n",
      "np.sin(u): [0.84147098 0.90929743]\n"
     ]
    }
   ],
   "source": [
    "print(\"np.pi:\",np.pi)\n",
    "\n",
    "u = np.array([1, 2])\n",
    "print(\"np.sin(u):\",np.sin(u))"
   ]
  },
  {
   "cell_type": "markdown",
   "metadata": {},
   "source": [
    "## 2D array"
   ]
  },
  {
   "cell_type": "code",
   "execution_count": 64,
   "metadata": {},
   "outputs": [
    {
     "data": {
      "text/plain": [
       "[[11, 12, 13], [21, 22, 23], [31, 32, 33]]"
      ]
     },
     "execution_count": 64,
     "metadata": {},
     "output_type": "execute_result"
    }
   ],
   "source": [
    "a = [[11, 12, 13], [21, 22, 23], [31, 32, 33]]\n",
    "a"
   ]
  },
  {
   "cell_type": "markdown",
   "metadata": {},
   "source": [
    "Numpy attribute"
   ]
  },
  {
   "cell_type": "code",
   "execution_count": 68,
   "metadata": {},
   "outputs": [
    {
     "name": "stdout",
     "output_type": "stream",
     "text": [
      "[[11 12 13]\n",
      " [21 22 23]\n",
      " [31 32 33]]\n",
      "2\n",
      "(3, 3)\n",
      "9\n"
     ]
    }
   ],
   "source": [
    "b=np.array(a)\n",
    "print(b)\n",
    "print(b.ndim)\n",
    "print(b.shape)\n",
    "print(b.size)"
   ]
  },
  {
   "cell_type": "markdown",
   "metadata": {},
   "source": [
    "Access elements in numpy array"
   ]
  },
  {
   "cell_type": "code",
   "execution_count": 71,
   "metadata": {},
   "outputs": [
    {
     "name": "stdout",
     "output_type": "stream",
     "text": [
      "a[0][0]: 11\n",
      "a[0][0:2]: [11, 12]\n"
     ]
    }
   ],
   "source": [
    "print(\"a[0][0]:\",a[0][0])\n",
    "print(\"a[0][0:2]:\",a[0][0:2])"
   ]
  },
  {
   "cell_type": "markdown",
   "metadata": {},
   "source": [
    "Basic operation"
   ]
  },
  {
   "cell_type": "code",
   "execution_count": 75,
   "metadata": {},
   "outputs": [
    {
     "name": "stdout",
     "output_type": "stream",
     "text": [
      "X: [[1 0]\n",
      " [0 1]]\n",
      "Y: [[2 1]\n",
      " [1 2]]\n"
     ]
    }
   ],
   "source": [
    "X = np.array([[1, 0], [0, 1]]) \n",
    "Y = np.array([[2, 1], [1, 2]]) \n",
    "print(\"X:\",X)\n",
    "print(\"Y:\",Y)"
   ]
  },
  {
   "cell_type": "markdown",
   "metadata": {},
   "source": [
    "Addition"
   ]
  },
  {
   "cell_type": "code",
   "execution_count": 76,
   "metadata": {},
   "outputs": [
    {
     "data": {
      "text/plain": [
       "array([[3, 1],\n",
       "       [1, 3]])"
      ]
     },
     "execution_count": 76,
     "metadata": {},
     "output_type": "execute_result"
    }
   ],
   "source": [
    "Z=X+Y\n",
    "Z"
   ]
  },
  {
   "cell_type": "markdown",
   "metadata": {},
   "source": [
    "Multiplication"
   ]
  },
  {
   "cell_type": "code",
   "execution_count": 77,
   "metadata": {},
   "outputs": [
    {
     "name": "stdout",
     "output_type": "stream",
     "text": [
      "Y: [[2 1]\n",
      " [1 2]]\n",
      "Z: [[4 2]\n",
      " [2 4]]\n"
     ]
    }
   ],
   "source": [
    "Y = np.array([[2, 1], [1, 2]]) \n",
    "print(\"Y:\",Y)\n",
    "Z = 2 * Y\n",
    "print(\"Z:\",Z)"
   ]
  },
  {
   "cell_type": "markdown",
   "metadata": {},
   "source": [
    "Element-wise product"
   ]
  },
  {
   "cell_type": "code",
   "execution_count": 130,
   "metadata": {},
   "outputs": [
    {
     "data": {
      "text/plain": [
       "array([[2, 0],\n",
       "       [0, 2]])"
      ]
     },
     "execution_count": 130,
     "metadata": {},
     "output_type": "execute_result"
    }
   ],
   "source": [
    "X*Y"
   ]
  },
  {
   "cell_type": "markdown",
   "metadata": {},
   "source": [
    "Dot product"
   ]
  },
  {
   "cell_type": "code",
   "execution_count": 133,
   "metadata": {},
   "outputs": [
    {
     "data": {
      "text/plain": [
       "array([[0, 2],\n",
       "       [0, 2]])"
      ]
     },
     "execution_count": 133,
     "metadata": {},
     "output_type": "execute_result"
    }
   ],
   "source": [
    "A = np.array([[0, 1, 1], [1, 0, 1]])\n",
    "B = np.array([[1, 1], [1, 1], [-1, 1]])\n",
    "Z=np.dot(A,B)\n",
    "Z"
   ]
  },
  {
   "cell_type": "code",
   "execution_count": 135,
   "metadata": {},
   "outputs": [
    {
     "name": "stdout",
     "output_type": "stream",
     "text": [
      "[[1 1]\n",
      " [2 2]\n",
      " [3 3]]\n",
      "[[1 2 3]\n",
      " [1 2 3]]\n"
     ]
    }
   ],
   "source": [
    "C = np.array([[1,1],[2,2],[3,3]])\n",
    "print(C)\n",
    "print(C.T)"
   ]
  },
  {
   "cell_type": "code",
   "execution_count": null,
   "metadata": {},
   "outputs": [],
   "source": []
  }
 ],
 "metadata": {
  "kernelspec": {
   "display_name": "Python 3",
   "language": "python",
   "name": "python3"
  },
  "language_info": {
   "codemirror_mode": {
    "name": "ipython",
    "version": 3
   },
   "file_extension": ".py",
   "mimetype": "text/x-python",
   "name": "python",
   "nbconvert_exporter": "python",
   "pygments_lexer": "ipython3",
   "version": "3.8.3"
  }
 },
 "nbformat": 4,
 "nbformat_minor": 4
}
