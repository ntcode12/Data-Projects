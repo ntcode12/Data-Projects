{
 "cells": [
  {
   "cell_type": "markdown",
   "metadata": {},
   "source": [
    "### Nichollas Tidow\n",
    "### QBIO 401\n",
    "### HW07:  Metagenomics of LA River Bracken Before and After\n",
    "### October, 14, 2020"
   ]
  },
  {
   "cell_type": "code",
   "execution_count": 332,
   "metadata": {},
   "outputs": [],
   "source": [
    "# set working directory and read bracken files in\n",
    "setwd(\"/Users/nicktidow/\")\n",
    "beforeData <- read.csv(\"Downloads/beforerain.bracken\", sep=\"\\t\",stringsAsFactors = FALSE)\n",
    "afterData <- read.csv(\"Downloads/afterrain.bracken\",sep=\"\\t\",stringsAsFactors = FALSE)"
   ]
  },
  {
   "cell_type": "markdown",
   "metadata": {},
   "source": [
    "## Function 01"
   ]
  },
  {
   "cell_type": "markdown",
   "metadata": {},
   "source": [
    "Write an R program that takes as input one of these files and a threshold, and returns all “names” (1st column) and “fractions” (7th column) of those rows where the fraction is greater than the threshold. Run the program for each file with threshold 0.01\n"
   ]
  },
  {
   "cell_type": "code",
   "execution_count": null,
   "metadata": {},
   "outputs": [],
   "source": [
    "# Name: function01\n",
    "# Purpose: read through Bracken file and return names and rows greater than threshold \n",
    "# Input: bracken file and treshold value \n",
    "# Output: all names and fractions that meet the threshold "
   ]
  },
  {
   "cell_type": "code",
   "execution_count": 333,
   "metadata": {},
   "outputs": [],
   "source": [
    "function01 <- function(dataFile,threshold){\n",
    "    # create a subset that meets the fraction threshold \n",
    "    subset <- filter(dataFile, dataFile$fraction_total_reads > threshold)\n",
    "    # iterate over elements in the subset\n",
    "    for(i in subset){\n",
    "        # save names to vector\n",
    "        names <- (subset$name)\n",
    "        # save fraction reads to vector\n",
    "        fractions <- (subset$fraction_total_reads)\n",
    "        # save the two vectors to a data frame \n",
    "        df01 <- data.frame(names, fractions)\n",
    "    }\n",
    "    # return names\n",
    "    #print(subset$name)\n",
    "    #print(fractions)\n",
    "    return(df01) # return the data frame\n",
    "    # return fractions\n",
    "    #fractions\n",
    "    \n",
    "}"
   ]
  },
  {
   "cell_type": "code",
   "execution_count": 336,
   "metadata": {},
   "outputs": [
    {
     "data": {
      "text/html": [
       "<table>\n",
       "<thead><tr><th scope=col>names</th><th scope=col>fractions</th></tr></thead>\n",
       "<tbody>\n",
       "\t<tr><td>Polynucleobacter acidiphobus</td><td>0.01528                     </td></tr>\n",
       "\t<tr><td>Homo sapiens                </td><td>0.01831                     </td></tr>\n",
       "\t<tr><td>Limnohabitans sp. 63ED37-2  </td><td>0.11301                     </td></tr>\n",
       "\t<tr><td>Limnohabitans sp. 103DPR2   </td><td>0.01286                     </td></tr>\n",
       "\t<tr><td>Polynucleobacter necessarius</td><td>0.02691                     </td></tr>\n",
       "\t<tr><td>Hydrogenophaga sp. RAC07    </td><td>0.01211                     </td></tr>\n",
       "\t<tr><td>Cloacibacterium normanense  </td><td>0.02526                     </td></tr>\n",
       "\t<tr><td>beta proteobacterium CB     </td><td>0.02466                     </td></tr>\n",
       "</tbody>\n",
       "</table>\n"
      ],
      "text/latex": [
       "\\begin{tabular}{r|ll}\n",
       " names & fractions\\\\\n",
       "\\hline\n",
       "\t Polynucleobacter acidiphobus & 0.01528                     \\\\\n",
       "\t Homo sapiens                 & 0.01831                     \\\\\n",
       "\t Limnohabitans sp. 63ED37-2   & 0.11301                     \\\\\n",
       "\t Limnohabitans sp. 103DPR2    & 0.01286                     \\\\\n",
       "\t Polynucleobacter necessarius & 0.02691                     \\\\\n",
       "\t Hydrogenophaga sp. RAC07     & 0.01211                     \\\\\n",
       "\t Cloacibacterium normanense   & 0.02526                     \\\\\n",
       "\t beta proteobacterium CB      & 0.02466                     \\\\\n",
       "\\end{tabular}\n"
      ],
      "text/markdown": [
       "\n",
       "| names | fractions |\n",
       "|---|---|\n",
       "| Polynucleobacter acidiphobus | 0.01528                      |\n",
       "| Homo sapiens                 | 0.01831                      |\n",
       "| Limnohabitans sp. 63ED37-2   | 0.11301                      |\n",
       "| Limnohabitans sp. 103DPR2    | 0.01286                      |\n",
       "| Polynucleobacter necessarius | 0.02691                      |\n",
       "| Hydrogenophaga sp. RAC07     | 0.01211                      |\n",
       "| Cloacibacterium normanense   | 0.02526                      |\n",
       "| beta proteobacterium CB      | 0.02466                      |\n",
       "\n"
      ],
      "text/plain": [
       "  names                        fractions\n",
       "1 Polynucleobacter acidiphobus 0.01528  \n",
       "2 Homo sapiens                 0.01831  \n",
       "3 Limnohabitans sp. 63ED37-2   0.11301  \n",
       "4 Limnohabitans sp. 103DPR2    0.01286  \n",
       "5 Polynucleobacter necessarius 0.02691  \n",
       "6 Hydrogenophaga sp. RAC07     0.01211  \n",
       "7 Cloacibacterium normanense   0.02526  \n",
       "8 beta proteobacterium CB      0.02466  "
      ]
     },
     "metadata": {},
     "output_type": "display_data"
    },
    {
     "data": {
      "text/html": [
       "<table>\n",
       "<thead><tr><th scope=col>names</th><th scope=col>fractions</th></tr></thead>\n",
       "<tbody>\n",
       "\t<tr><td>Curvibacter sp. AEP1-3      </td><td>0.01170                     </td></tr>\n",
       "\t<tr><td>Polynucleobacter acidiphobus</td><td>0.01099                     </td></tr>\n",
       "\t<tr><td>Homo sapiens                </td><td>0.01187                     </td></tr>\n",
       "\t<tr><td>Limnohabitans sp. 63ED37-2  </td><td>0.05251                     </td></tr>\n",
       "\t<tr><td>Limnohabitans sp. 103DPR2   </td><td>0.01398                     </td></tr>\n",
       "\t<tr><td>Polynucleobacter necessarius</td><td>0.01792                     </td></tr>\n",
       "\t<tr><td>Hydrogenophaga sp. RAC07    </td><td>0.01938                     </td></tr>\n",
       "\t<tr><td>Cloacibacterium normanense  </td><td>0.01177                     </td></tr>\n",
       "\t<tr><td>Acidovorax sp. T1           </td><td>0.01068                     </td></tr>\n",
       "\t<tr><td>beta proteobacterium CB     </td><td>0.01040                     </td></tr>\n",
       "</tbody>\n",
       "</table>\n"
      ],
      "text/latex": [
       "\\begin{tabular}{r|ll}\n",
       " names & fractions\\\\\n",
       "\\hline\n",
       "\t Curvibacter sp. AEP1-3       & 0.01170                     \\\\\n",
       "\t Polynucleobacter acidiphobus & 0.01099                     \\\\\n",
       "\t Homo sapiens                 & 0.01187                     \\\\\n",
       "\t Limnohabitans sp. 63ED37-2   & 0.05251                     \\\\\n",
       "\t Limnohabitans sp. 103DPR2    & 0.01398                     \\\\\n",
       "\t Polynucleobacter necessarius & 0.01792                     \\\\\n",
       "\t Hydrogenophaga sp. RAC07     & 0.01938                     \\\\\n",
       "\t Cloacibacterium normanense   & 0.01177                     \\\\\n",
       "\t Acidovorax sp. T1            & 0.01068                     \\\\\n",
       "\t beta proteobacterium CB      & 0.01040                     \\\\\n",
       "\\end{tabular}\n"
      ],
      "text/markdown": [
       "\n",
       "| names | fractions |\n",
       "|---|---|\n",
       "| Curvibacter sp. AEP1-3       | 0.01170                      |\n",
       "| Polynucleobacter acidiphobus | 0.01099                      |\n",
       "| Homo sapiens                 | 0.01187                      |\n",
       "| Limnohabitans sp. 63ED37-2   | 0.05251                      |\n",
       "| Limnohabitans sp. 103DPR2    | 0.01398                      |\n",
       "| Polynucleobacter necessarius | 0.01792                      |\n",
       "| Hydrogenophaga sp. RAC07     | 0.01938                      |\n",
       "| Cloacibacterium normanense   | 0.01177                      |\n",
       "| Acidovorax sp. T1            | 0.01068                      |\n",
       "| beta proteobacterium CB      | 0.01040                      |\n",
       "\n"
      ],
      "text/plain": [
       "   names                        fractions\n",
       "1  Curvibacter sp. AEP1-3       0.01170  \n",
       "2  Polynucleobacter acidiphobus 0.01099  \n",
       "3  Homo sapiens                 0.01187  \n",
       "4  Limnohabitans sp. 63ED37-2   0.05251  \n",
       "5  Limnohabitans sp. 103DPR2    0.01398  \n",
       "6  Polynucleobacter necessarius 0.01792  \n",
       "7  Hydrogenophaga sp. RAC07     0.01938  \n",
       "8  Cloacibacterium normanense   0.01177  \n",
       "9  Acidovorax sp. T1            0.01068  \n",
       "10 beta proteobacterium CB      0.01040  "
      ]
     },
     "metadata": {},
     "output_type": "display_data"
    }
   ],
   "source": [
    "function01(beforeData,.01) \n",
    "function01(afterData,.01)"
   ]
  },
  {
   "cell_type": "markdown",
   "metadata": {},
   "source": [
    "## Function 02"
   ]
  },
  {
   "cell_type": "markdown",
   "metadata": {},
   "source": [
    "Write an R program that takes as input both of these files and a number n, and returns the “names” and “fractions” (the fractions in both files) for the n names with the greatest absolute difference in fractions between the two files. Note: some names might be present in one file but absent (not even listed) in the other file. The fraction for the name not listed in the file is zero. Run the program with the number n equal to 10"
   ]
  },
  {
   "cell_type": "code",
   "execution_count": 136,
   "metadata": {},
   "outputs": [],
   "source": [
    "# Name: function02\n",
    "# Purpose: read through Bracken files and return cases with greatest absolute difference in fractions\n",
    "# Input: before and after bracken files and number n \n",
    "# Output: all names and fractions with the greatest absolute difference in fractions b/w files"
   ]
  },
  {
   "cell_type": "code",
   "execution_count": 337,
   "metadata": {},
   "outputs": [],
   "source": [
    "function02 <- function(before,after,n){\n",
    "    # merge the two dataframes\n",
    "    mergedDf <- merge(before,after,by = \"name\", all=TRUE)\n",
    "    # remove all columns that are not names or fractions\n",
    "    df02 <- subset(mergedDf, select = -c(taxonomy_id.x, taxonomy_lvl.x,kraken_assigned_reads.x,added_reads.x,new_est_reads.x,taxonomy_id.y, taxonomy_lvl.y,kraken_assigned_reads.y,added_reads.y,new_est_reads.y))\n",
    "    # replace NAs with 0\n",
    "    df02[is.na(df02)] <- 0\n",
    "    # add column with abs difference to the data frame\n",
    "    df02$absolute_difference <- abs(df02$fraction_total_reads.x - df02$fraction_total_reads.y)\n",
    "    \n",
    "    # iterate over merged data frame\n",
    "    for(i in df02){\n",
    "        # sort the data frame by size of absolute difference from large to small\n",
    "        sorted <- df02[with(df02, order(absolute_difference, decreasing=TRUE)),]\n",
    "        # subset the sorted to show the greatest n objects\n",
    "        onlyN <- head(sorted, n)\n",
    "        }     \n",
    "    # return the greatest n objects\n",
    "    return(onlyN)\n",
    "}\n"
   ]
  },
  {
   "cell_type": "code",
   "execution_count": 338,
   "metadata": {},
   "outputs": [
    {
     "data": {
      "text/html": [
       "<table>\n",
       "<thead><tr><th></th><th scope=col>name</th><th scope=col>fraction_total_reads.x</th><th scope=col>fraction_total_reads.y</th><th scope=col>absolute_difference</th></tr></thead>\n",
       "<tbody>\n",
       "\t<tr><th scope=row>2190</th><td>Limnohabitans sp. 63ED37-2       </td><td>0.11301                          </td><td>0.05251                          </td><td>0.06050                          </td></tr>\n",
       "\t<tr><th scope=row>4631</th><td>beta proteobacterium CB          </td><td>0.02466                          </td><td>0.01040                          </td><td>0.01426                          </td></tr>\n",
       "\t<tr><th scope=row>1100</th><td>Cloacibacterium normanense       </td><td>0.02526                          </td><td>0.01177                          </td><td>0.01349                          </td></tr>\n",
       "\t<tr><th scope=row>3146</th><td>Polynucleobacter necessarius     </td><td>0.02691                          </td><td>0.01792                          </td><td>0.00899                          </td></tr>\n",
       "\t<tr><th scope=row>1279</th><td>Curvibacter sp. AEP1-3           </td><td>0.00278                          </td><td>0.01170                          </td><td>0.00892                          </td></tr>\n",
       "\t<tr><th scope=row>1909</th><td>Hydrogenophaga sp. RAC07         </td><td>0.01211                          </td><td>0.01938                          </td><td>0.00727                          </td></tr>\n",
       "\t<tr><th scope=row>52</th><td>Acidithiobacillus ferrivorans    </td><td>0.00009                          </td><td>0.00706                          </td><td>0.00697                          </td></tr>\n",
       "\t<tr><th scope=row>1894</th><td>Homo sapiens                     </td><td>0.01831                          </td><td>0.01187                          </td><td>0.00644                          </td></tr>\n",
       "\t<tr><th scope=row>893</th><td>Candidatus Planktophila sulfonica</td><td>0.00999                          </td><td>0.00455                          </td><td>0.00544                          </td></tr>\n",
       "\t<tr><th scope=row>3142</th><td>Polynucleobacter acidiphobus     </td><td>0.01528                          </td><td>0.01099                          </td><td>0.00429                          </td></tr>\n",
       "</tbody>\n",
       "</table>\n"
      ],
      "text/latex": [
       "\\begin{tabular}{r|llll}\n",
       "  & name & fraction\\_total\\_reads.x & fraction\\_total\\_reads.y & absolute\\_difference\\\\\n",
       "\\hline\n",
       "\t2190 & Limnohabitans sp. 63ED37-2        & 0.11301                           & 0.05251                           & 0.06050                          \\\\\n",
       "\t4631 & beta proteobacterium CB           & 0.02466                           & 0.01040                           & 0.01426                          \\\\\n",
       "\t1100 & Cloacibacterium normanense        & 0.02526                           & 0.01177                           & 0.01349                          \\\\\n",
       "\t3146 & Polynucleobacter necessarius      & 0.02691                           & 0.01792                           & 0.00899                          \\\\\n",
       "\t1279 & Curvibacter sp. AEP1-3            & 0.00278                           & 0.01170                           & 0.00892                          \\\\\n",
       "\t1909 & Hydrogenophaga sp. RAC07          & 0.01211                           & 0.01938                           & 0.00727                          \\\\\n",
       "\t52 & Acidithiobacillus ferrivorans     & 0.00009                           & 0.00706                           & 0.00697                          \\\\\n",
       "\t1894 & Homo sapiens                      & 0.01831                           & 0.01187                           & 0.00644                          \\\\\n",
       "\t893 & Candidatus Planktophila sulfonica & 0.00999                           & 0.00455                           & 0.00544                          \\\\\n",
       "\t3142 & Polynucleobacter acidiphobus      & 0.01528                           & 0.01099                           & 0.00429                          \\\\\n",
       "\\end{tabular}\n"
      ],
      "text/markdown": [
       "\n",
       "| <!--/--> | name | fraction_total_reads.x | fraction_total_reads.y | absolute_difference |\n",
       "|---|---|---|---|---|\n",
       "| 2190 | Limnohabitans sp. 63ED37-2        | 0.11301                           | 0.05251                           | 0.06050                           |\n",
       "| 4631 | beta proteobacterium CB           | 0.02466                           | 0.01040                           | 0.01426                           |\n",
       "| 1100 | Cloacibacterium normanense        | 0.02526                           | 0.01177                           | 0.01349                           |\n",
       "| 3146 | Polynucleobacter necessarius      | 0.02691                           | 0.01792                           | 0.00899                           |\n",
       "| 1279 | Curvibacter sp. AEP1-3            | 0.00278                           | 0.01170                           | 0.00892                           |\n",
       "| 1909 | Hydrogenophaga sp. RAC07          | 0.01211                           | 0.01938                           | 0.00727                           |\n",
       "| 52 | Acidithiobacillus ferrivorans     | 0.00009                           | 0.00706                           | 0.00697                           |\n",
       "| 1894 | Homo sapiens                      | 0.01831                           | 0.01187                           | 0.00644                           |\n",
       "| 893 | Candidatus Planktophila sulfonica | 0.00999                           | 0.00455                           | 0.00544                           |\n",
       "| 3142 | Polynucleobacter acidiphobus      | 0.01528                           | 0.01099                           | 0.00429                           |\n",
       "\n"
      ],
      "text/plain": [
       "     name                              fraction_total_reads.x\n",
       "2190 Limnohabitans sp. 63ED37-2        0.11301               \n",
       "4631 beta proteobacterium CB           0.02466               \n",
       "1100 Cloacibacterium normanense        0.02526               \n",
       "3146 Polynucleobacter necessarius      0.02691               \n",
       "1279 Curvibacter sp. AEP1-3            0.00278               \n",
       "1909 Hydrogenophaga sp. RAC07          0.01211               \n",
       "52   Acidithiobacillus ferrivorans     0.00009               \n",
       "1894 Homo sapiens                      0.01831               \n",
       "893  Candidatus Planktophila sulfonica 0.00999               \n",
       "3142 Polynucleobacter acidiphobus      0.01528               \n",
       "     fraction_total_reads.y absolute_difference\n",
       "2190 0.05251                0.06050            \n",
       "4631 0.01040                0.01426            \n",
       "1100 0.01177                0.01349            \n",
       "3146 0.01792                0.00899            \n",
       "1279 0.01170                0.00892            \n",
       "1909 0.01938                0.00727            \n",
       "52   0.00706                0.00697            \n",
       "1894 0.01187                0.00644            \n",
       "893  0.00455                0.00544            \n",
       "3142 0.01099                0.00429            "
      ]
     },
     "metadata": {},
     "output_type": "display_data"
    }
   ],
   "source": [
    "function02(beforeData,afterData, 10)"
   ]
  },
  {
   "cell_type": "markdown",
   "metadata": {},
   "source": [
    "## Function 03"
   ]
  },
  {
   "cell_type": "markdown",
   "metadata": {},
   "source": [
    "Let {𝑟 } be the “new_est_reads” numbers (6th column) in one of the files. Define {𝑝 = 𝑟 ⁄∑ 𝑟 }. 𝑖 𝑖𝑖𝑗\n",
    "The Shannon diversity for the file is defined as − ∑ 𝑝𝑖 𝑙𝑛(𝑝𝑖 ). Write an R program to compute the Shannon diversity. Run this program for both files and tell us what you find"
   ]
  },
  {
   "cell_type": "code",
   "execution_count": null,
   "metadata": {},
   "outputs": [],
   "source": [
    "# Name: function03\n",
    "# Purpose: compute shannon diversity for a bracken file\n",
    "# Input: a bracken file\n",
    "# Output: Shannon diversity result"
   ]
  },
  {
   "cell_type": "code",
   "execution_count": 339,
   "metadata": {},
   "outputs": [],
   "source": [
    "function03 <- function(file){\n",
    "    for(i in file){\n",
    "        # save fraction reads to vector\n",
    "        fractions <- c(file$fraction_total_reads)\n",
    "        # replace NAs with 0\n",
    "        fractions[is.na(fractions)] <- 0  \n",
    "    }\n",
    "    # compute shannon divesity \n",
    "    shannonDiversity <- ((fractions*log(fractions)))\n",
    "    # omit NAs from shannon diversity\n",
    "    shannonDiversity <- na.omit(shannonDiversity)\n",
    "    # complete shannon diversity summation\n",
    "    sum <- -sum(shannonDiversity)\n",
    "    return(sum)\n",
    "    \n",
    "}"
   ]
  },
  {
   "cell_type": "code",
   "execution_count": 340,
   "metadata": {},
   "outputs": [
    {
     "name": "stdout",
     "output_type": "stream",
     "text": [
      "[1] \"Metagenomic Shannon diversity in LA river before rain:\"\n"
     ]
    },
    {
     "data": {
      "text/html": [
       "6.30193087868807"
      ],
      "text/latex": [
       "6.30193087868807"
      ],
      "text/markdown": [
       "6.30193087868807"
      ],
      "text/plain": [
       "[1] 6.301931"
      ]
     },
     "metadata": {},
     "output_type": "display_data"
    }
   ],
   "source": [
    "# Running function03 for the before rain bracken data of LA River\n",
    "print(\"Metagenomic Shannon diversity in LA river before rain:\")\n",
    "function03(beforeData)"
   ]
  },
  {
   "cell_type": "code",
   "execution_count": 341,
   "metadata": {},
   "outputs": [
    {
     "name": "stdout",
     "output_type": "stream",
     "text": [
      "[1] \"Metagenomic Shannon diversity in LA river after rain:\"\n"
     ]
    },
    {
     "data": {
      "text/html": [
       "6.77666535039538"
      ],
      "text/latex": [
       "6.77666535039538"
      ],
      "text/markdown": [
       "6.77666535039538"
      ],
      "text/plain": [
       "[1] 6.776665"
      ]
     },
     "metadata": {},
     "output_type": "display_data"
    }
   ],
   "source": [
    "# Running function03 for the after rain bracken data of LA River\n",
    "print(\"Metagenomic Shannon diversity in LA river after rain:\")\n",
    "function03(afterData)"
   ]
  },
  {
   "cell_type": "markdown",
   "metadata": {},
   "source": [
    "The Shannon diversity calculation results demonstrate that the LA river had more metagenomic diversity after a period of rainfall"
   ]
  }
 ],
 "metadata": {
  "kernelspec": {
   "display_name": "R",
   "language": "R",
   "name": "ir"
  },
  "language_info": {
   "codemirror_mode": "r",
   "file_extension": ".r",
   "mimetype": "text/x-r-source",
   "name": "R",
   "pygments_lexer": "r",
   "version": "3.6.1"
  }
 },
 "nbformat": 4,
 "nbformat_minor": 4
}
