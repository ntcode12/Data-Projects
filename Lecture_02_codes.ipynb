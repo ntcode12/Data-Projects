{
 "cells": [
  {
   "cell_type": "markdown",
   "metadata": {},
   "source": [
    "# QBIO 401: Introduction to Computational Analysis of Biological Data \n",
    "\n",
    "# Introduction to Python II\n",
    "## 1. Data structures\n",
    "### 1.1. Tuples\n",
    "Tuples are ordered and immutable sequences that are written as comma-separated elements within parentheses."
   ]
  },
  {
   "cell_type": "code",
   "execution_count": 61,
   "metadata": {},
   "outputs": [
    {
     "data": {
      "text/plain": [
       "('QBIO', 401, 3.14, True)"
      ]
     },
     "execution_count": 61,
     "metadata": {},
     "output_type": "execute_result"
    }
   ],
   "source": [
    "# A tuple can include elements from different data types\n",
    "Tuple1=(\"QBIO\",401,3.14,True)\n",
    "Tuple1"
   ]
  },
  {
   "cell_type": "markdown",
   "metadata": {},
   "source": [
    "Each element of a tuple can be accessed via an index, similar to a String"
   ]
  },
  {
   "cell_type": "code",
   "execution_count": 62,
   "metadata": {},
   "outputs": [
    {
     "name": "stdout",
     "output_type": "stream",
     "text": [
      "Tuple1[0]: QBIO\n",
      "type(Tuple1[0]): <class 'str'>\n",
      "Tuple1[1]: 401\n",
      "type(Tuple1[1]): <class 'int'>\n",
      "Tuple1[-1]: True\n",
      "type(Tuple1[-1]): <class 'bool'>\n",
      "Tuple1[-2]: 3.14\n",
      "type(Tuple1[-2]): <class 'float'>\n"
     ]
    }
   ],
   "source": [
    "# Access the elements in a Tuple and print their data types\n",
    "print(\"Tuple1[0]:\",Tuple1[0])\n",
    "print(\"type(Tuple1[0]):\",type(Tuple1[0]))\n",
    "\n",
    "print(\"Tuple1[1]:\",Tuple1[1])\n",
    "print(\"type(Tuple1[1]):\",type(Tuple1[1]))\n",
    "\n",
    "print(\"Tuple1[-1]:\",Tuple1[-1])\n",
    "print(\"type(Tuple1[-1]):\",type(Tuple1[-1]))\n",
    "\n",
    "print(\"Tuple1[-2]:\",Tuple1[-2])\n",
    "print(\"type(Tuple1[-2]):\",type(Tuple1[-2]))"
   ]
  },
  {
   "cell_type": "markdown",
   "metadata": {},
   "source": [
    "#### *Tuple operations*"
   ]
  },
  {
   "cell_type": "code",
   "execution_count": 63,
   "metadata": {},
   "outputs": [
    {
     "data": {
      "text/plain": [
       "('QBIO', 401, 'BISC', 481, 'CHEM', 350)"
      ]
     },
     "execution_count": 63,
     "metadata": {},
     "output_type": "execute_result"
    }
   ],
   "source": [
    "Tuple2=(\"QBIO\",401,\"BISC\",481)\n",
    "\n",
    "# Combine Tuples\n",
    "Tuple3=Tuple2+(\"CHEM\",350)\n",
    "Tuple3"
   ]
  },
  {
   "cell_type": "code",
   "execution_count": 64,
   "metadata": {},
   "outputs": [
    {
     "data": {
      "text/plain": [
       "('QBIO', 401, 'BISC', 481, 'CHEM', 350, 'QBIO', 401, 'BISC', 481, 'CHEM', 350)"
      ]
     },
     "execution_count": 64,
     "metadata": {},
     "output_type": "execute_result"
    }
   ],
   "source": [
    "# Duplicate a Tuple\n",
    "Tuple3*2"
   ]
  },
  {
   "cell_type": "markdown",
   "metadata": {},
   "source": [
    "Tuples are immutable:"
   ]
  },
  {
   "cell_type": "code",
   "execution_count": 66,
   "metadata": {},
   "outputs": [
    {
     "ename": "TypeError",
     "evalue": "'tuple' object does not support item assignment",
     "output_type": "error",
     "traceback": [
      "\u001b[1;31m---------------------------------------------------------------------------\u001b[0m",
      "\u001b[1;31mTypeError\u001b[0m                                 Traceback (most recent call last)",
      "\u001b[1;32m<ipython-input-66-be2b9cf3abb3>\u001b[0m in \u001b[0;36m<module>\u001b[1;34m\u001b[0m\n\u001b[1;32m----> 1\u001b[1;33m \u001b[0mTuple3\u001b[0m\u001b[1;33m[\u001b[0m\u001b[1;36m0\u001b[0m\u001b[1;33m]\u001b[0m\u001b[1;33m=\u001b[0m\u001b[1;34m\"BISC\"\u001b[0m\u001b[1;33m\u001b[0m\u001b[1;33m\u001b[0m\u001b[0m\n\u001b[0m",
      "\u001b[1;31mTypeError\u001b[0m: 'tuple' object does not support item assignment"
     ]
    }
   ],
   "source": [
    "Tuple3[0]=\"BISC\""
   ]
  },
  {
   "cell_type": "markdown",
   "metadata": {},
   "source": [
    "#### *Tuple nesting* "
   ]
  },
  {
   "cell_type": "code",
   "execution_count": 67,
   "metadata": {},
   "outputs": [
    {
     "name": "stdout",
     "output_type": "stream",
     "text": [
      "Tuple4: (1, ('QBIO', 401), 2, ('BISC', 481))\n",
      "Tuple4[1]: ('QBIO', 401)\n",
      "Tuple4[1][0]: QBIO\n",
      "Tuple4[1][0][0]: Q\n"
     ]
    }
   ],
   "source": [
    "Tuple4=(1,(\"QBIO\",401),2,(\"BISC\",481))\n",
    "print(\"Tuple4:\",Tuple4)\n",
    "print(\"Tuple4[1]:\",Tuple4[1])\n",
    "print(\"Tuple4[1][0]:\",Tuple4[1][0])\n",
    "print(\"Tuple4[1][0][0]:\",Tuple4[1][0][0])"
   ]
  },
  {
   "cell_type": "markdown",
   "metadata": {},
   "source": [
    "### 1.2. Lists\n",
    "\n",
    "Lists are ordered and mutable sequences that are written as comma-separated elements within square brackets. Notice that the major difference between List and Tuple is the mutability: Lists are mutable, while Tuples are not."
   ]
  },
  {
   "cell_type": "code",
   "execution_count": 68,
   "metadata": {},
   "outputs": [
    {
     "data": {
      "text/plain": [
       "['QBIO', 401, 3.14, True]"
      ]
     },
     "execution_count": 68,
     "metadata": {},
     "output_type": "execute_result"
    }
   ],
   "source": [
    "List1=[\"QBIO\",401,3.14,True]\n",
    "List1"
   ]
  },
  {
   "cell_type": "markdown",
   "metadata": {},
   "source": [
    "Each element of a List can be accessed via an index, similar to a String"
   ]
  },
  {
   "cell_type": "code",
   "execution_count": 70,
   "metadata": {},
   "outputs": [
    {
     "name": "stdout",
     "output_type": "stream",
     "text": [
      "List1[0]: QBIO\n",
      "type(List1[0]): <class 'str'>\n",
      "List1[1]: 401\n",
      "type(List1[1]): <class 'int'>\n",
      "List1[-1]: True\n",
      "type(List1[-1]): <class 'bool'>\n",
      "List1[-2]: 3.14\n",
      "type(List1[-2]): <class 'float'>\n"
     ]
    }
   ],
   "source": [
    "# Access the elements in a List and print their data types\n",
    "print(\"List1[0]:\",List1[0])\n",
    "print(\"type(List1[0]):\",type(List1[0]))\n",
    "\n",
    "print(\"List1[1]:\",List1[1])\n",
    "print(\"type(List1[1]):\",type(List1[1]))\n",
    "\n",
    "print(\"List1[-1]:\",List1[-1])\n",
    "print(\"type(List1[-1]):\",type(List1[-1]))\n",
    "\n",
    "print(\"List1[-2]:\",List1[-2])\n",
    "print(\"type(List1[-2]):\",type(List1[-2]))"
   ]
  },
  {
   "cell_type": "markdown",
   "metadata": {},
   "source": [
    "#### *List operations*"
   ]
  },
  {
   "cell_type": "code",
   "execution_count": 71,
   "metadata": {},
   "outputs": [
    {
     "data": {
      "text/plain": [
       "['QBIO', 401, 'BISC', 481, 'CHEM', 350]"
      ]
     },
     "execution_count": 71,
     "metadata": {},
     "output_type": "execute_result"
    }
   ],
   "source": [
    "List2=[\"QBIO\",401,\"BISC\",481]\n",
    "\n",
    "# Combine Lists\n",
    "List3=List2+[\"CHEM\",350]\n",
    "List3"
   ]
  },
  {
   "cell_type": "code",
   "execution_count": 72,
   "metadata": {},
   "outputs": [
    {
     "data": {
      "text/plain": [
       "['QBIO', 401, 'BISC', 481, 'CHEM', 350, 'QBIO', 401, 'BISC', 481, 'CHEM', 350]"
      ]
     },
     "execution_count": 72,
     "metadata": {},
     "output_type": "execute_result"
    }
   ],
   "source": [
    "# Duplicate a List\n",
    "List3*2"
   ]
  },
  {
   "cell_type": "markdown",
   "metadata": {},
   "source": [
    "Lists are imutable:"
   ]
  },
  {
   "cell_type": "code",
   "execution_count": 73,
   "metadata": {},
   "outputs": [
    {
     "data": {
      "text/plain": [
       "['QBIO', 401, 'QBIO', 481]"
      ]
     },
     "execution_count": 73,
     "metadata": {},
     "output_type": "execute_result"
    }
   ],
   "source": [
    "List2[2]=\"QBIO\"\n",
    "List2"
   ]
  },
  {
   "cell_type": "markdown",
   "metadata": {},
   "source": [
    "List nesting\n"
   ]
  },
  {
   "cell_type": "code",
   "execution_count": 74,
   "metadata": {},
   "outputs": [
    {
     "name": "stdout",
     "output_type": "stream",
     "text": [
      "List4: [1, ('QBIO', 401), 2, ('BISC', 481)]\n",
      "List4[1]: ('QBIO', 401)\n",
      "List4[1][0]: QBIO\n",
      "List4[1][0][0]: Q\n"
     ]
    }
   ],
   "source": [
    "List4=[1,(\"QBIO\",401),2,(\"BISC\",481)]\n",
    "print(\"List4:\",List4)\n",
    "print(\"List4[1]:\",List4[1])\n",
    "print(\"List4[1][0]:\",List4[1][0])\n",
    "print(\"List4[1][0][0]:\",List4[1][0][0])"
   ]
  },
  {
   "cell_type": "markdown",
   "metadata": {},
   "source": [
    "#### *List methods*"
   ]
  },
  {
   "cell_type": "code",
   "execution_count": 81,
   "metadata": {},
   "outputs": [
    {
     "data": {
      "text/plain": [
       "['QBIO', 401, 'BISC', 481, 'CHEM', 350]"
      ]
     },
     "execution_count": 81,
     "metadata": {},
     "output_type": "execute_result"
    }
   ],
   "source": [
    "List2=[\"QBIO\",401,\"BISC\",481]\n",
    "\n",
    "# Extend a List\n",
    "List2.extend([\"CHEM\",350])\n",
    "List2"
   ]
  },
  {
   "cell_type": "code",
   "execution_count": 82,
   "metadata": {},
   "outputs": [
    {
     "data": {
      "text/plain": [
       "['QBIO', 401, 'BISC', 481, 'CHEM', 350, ['QBIO', 593]]"
      ]
     },
     "execution_count": 82,
     "metadata": {},
     "output_type": "execute_result"
    }
   ],
   "source": [
    "# Append an object into a List\n",
    "List2.append([\"QBIO\",593])\n",
    "List2"
   ]
  },
  {
   "cell_type": "markdown",
   "metadata": {},
   "source": [
    "Use Python built-in function to remove an element from a List"
   ]
  },
  {
   "cell_type": "code",
   "execution_count": 83,
   "metadata": {},
   "outputs": [
    {
     "data": {
      "text/plain": [
       "['QBIO', 'BISC', 481]"
      ]
     },
     "execution_count": 83,
     "metadata": {},
     "output_type": "execute_result"
    }
   ],
   "source": [
    "List2=[\"QBIO\",401,\"BISC\",481]\n",
    "del(List2[1])\n",
    "List2"
   ]
  },
  {
   "cell_type": "markdown",
   "metadata": {},
   "source": [
    "One can convert a String to a List"
   ]
  },
  {
   "cell_type": "code",
   "execution_count": 85,
   "metadata": {},
   "outputs": [
    {
     "data": {
      "text/plain": [
       "['QBIO', '401', 'BISC', '481']"
      ]
     },
     "execution_count": 85,
     "metadata": {},
     "output_type": "execute_result"
    }
   ],
   "source": [
    "# Split a String into a List\n",
    "String1=\"QBIO 401 BISC 481\"\n",
    "List2=String1.split()\n",
    "List2"
   ]
  },
  {
   "cell_type": "code",
   "execution_count": 86,
   "metadata": {},
   "outputs": [
    {
     "data": {
      "text/plain": [
       "['QBIO', '401', 'BISC', '481']"
      ]
     },
     "execution_count": 86,
     "metadata": {},
     "output_type": "execute_result"
    }
   ],
   "source": [
    "# Split a String into a List with a specific character\n",
    "String1=\"QBIO,401,BISC,481\"\n",
    "List2=String1.split(\",\")\n",
    "List2"
   ]
  },
  {
   "cell_type": "code",
   "execution_count": 87,
   "metadata": {},
   "outputs": [
    {
     "data": {
      "text/plain": [
       "4"
      ]
     },
     "execution_count": 87,
     "metadata": {},
     "output_type": "execute_result"
    }
   ],
   "source": [
    "# Python built-in function\n",
    "len(List2)"
   ]
  },
  {
   "cell_type": "markdown",
   "metadata": {},
   "source": [
    "#### *Aliasing*"
   ]
  },
  {
   "cell_type": "code",
   "execution_count": 88,
   "metadata": {},
   "outputs": [
    {
     "name": "stdout",
     "output_type": "stream",
     "text": [
      "A: ['QBIO', 401]\n",
      "B: ['QBIO', 401]\n",
      "A: ['BISC', 401]\n",
      "B: ['BISC', 401]\n"
     ]
    }
   ],
   "source": [
    "A=[\"QBIO\",401]\n",
    "B=A\n",
    "print(\"A:\",A)\n",
    "print(\"B:\",B)\n",
    "\n",
    "B[0]=\"BISC\"\n",
    "print(\"A:\",A)\n",
    "print(\"B:\",B)"
   ]
  },
  {
   "cell_type": "markdown",
   "metadata": {},
   "source": [
    "To avoid this, one can copy a List as a new List object"
   ]
  },
  {
   "cell_type": "code",
   "execution_count": 89,
   "metadata": {},
   "outputs": [
    {
     "name": "stdout",
     "output_type": "stream",
     "text": [
      "A: ['QBIO', 401]\n",
      "B: ['QBIO', 401]\n",
      "A: ['QBIO', 401]\n",
      "B: ['BISC', 401]\n",
      "['Hox5', 'Hox9', 'Hox10', 'Hox11']\n"
     ]
    }
   ],
   "source": [
    "A=[\"QBIO\",401]\n",
    "B=A[:] # Copy A as a new object\n",
    "print(\"A:\",A)\n",
    "print(\"B:\",B)\n",
    "\n",
    "B[0]=\"BISC\"\n",
    "print(\"A:\",A)\n",
    "print(\"B:\",B)\n",
    "\n",
    "A=[\"Hox5\"]\n",
    "A.extend([\"Hox9\",\"Hox10\",\"Hox11\"])\n",
    "print(A)"
   ]
  },
  {
   "cell_type": "markdown",
   "metadata": {},
   "source": [
    "### 1.3. Dictionaries\n",
    "\n",
    "A Dictionary is a type of collection which has keys and values and is written as comma-separated elements within curly brackets."
   ]
  },
  {
   "cell_type": "code",
   "execution_count": 90,
   "metadata": {},
   "outputs": [
    {
     "data": {
      "text/plain": [
       "{'12951R': 'QBIO401', '13481R': ['QBIO', 481]}"
      ]
     },
     "execution_count": 90,
     "metadata": {},
     "output_type": "execute_result"
    }
   ],
   "source": [
    "Dic1={\"12951R\":\"QBIO401\",\"13481R\":[\"QBIO\",481]}\n",
    "Dic1"
   ]
  },
  {
   "cell_type": "markdown",
   "metadata": {},
   "source": [
    "Access/add/delete elements in a Dictionary"
   ]
  },
  {
   "cell_type": "code",
   "execution_count": 91,
   "metadata": {},
   "outputs": [
    {
     "name": "stdout",
     "output_type": "stream",
     "text": [
      "Dic1: {'12951R': 'QBIO 401', '12953R': 'QBIO 430', '13481R': 'QBIO 481', '12990D': 'QBIO 490', '13993D': 'QBIO 493', '12970D': 'QBIO 590'}\n",
      "Dic1[\"12951R\"]: QBIO 401\n",
      "Dic1[\"12953R\"]: QBIO 430\n",
      "Dic1[\"13481R\"]: QBIO 481\n",
      "Dic1: {'12951R': 'QBIO 401', '12953R': 'QBIO 430', '13481R': 'QBIO 481', '12990D': 'QBIO 490', '13993D': 'QBIO 493', '12970D': 'QBIO 590', '17520R': 'CHEM 350'}\n",
      "Dic1 {'12951R': 'QBIO 401', '12953R': 'QBIO 430', '13481R': 'QBIO 481', '12990D': 'QBIO 490', '13993D': 'QBIO 493', '17520R': 'CHEM 350'}\n",
      "True\n",
      "False\n",
      "False\n",
      "Dic1.keys(): dict_keys(['12951R', '12953R', '13481R', '12990D', '13993D', '17520R'])\n",
      "Dic1.values(): dict_values(['QBIO 401', 'QBIO 430', 'QBIO 481', 'QBIO 490', 'QBIO 493', 'CHEM 350'])\n"
     ]
    }
   ],
   "source": [
    "Dic1={\"12951R\":\"QBIO 401\",\"12953R\":\"QBIO 430\",\"13481R\":\"QBIO 481\",\"12990D\":\"QBIO 490\",\"13993D\":\"QBIO 493\",\"12970D\":\"QBIO 590\"}\n",
    "print(\"Dic1:\",Dic1)\n",
    "\n",
    "# Access the value in Dictionary with a key\n",
    "print(\"Dic1[\\\"12951R\\\"]:\",Dic1[\"12951R\"])\n",
    "print(\"Dic1[\\\"12953R\\\"]:\",Dic1[\"12953R\"])\n",
    "print(\"Dic1[\\\"13481R\\\"]:\",Dic1[\"13481R\"])\n",
    "\n",
    "# Insert an element into a Dictionary\n",
    "Dic1[\"17520R\"]=\"CHEM 350\"\n",
    "print(\"Dic1:\",Dic1)\n",
    "\n",
    "# Delete an element from a Dictionary\n",
    "del(Dic1[\"12970D\"])\n",
    "print(\"Dic1\",Dic1)\n",
    "\n",
    "# Check if an element is in a Dictionary\n",
    "print(\"12951R\" in Dic1)\n",
    "print(\"12951D\" in Dic1)\n",
    "print(\"QBIO 401\" in Dic1)\n",
    "\n",
    "# Show all keys in a Dictionary\n",
    "print(\"Dic1.keys():\",Dic1.keys())\n",
    "\n",
    "# Show all values in a Dictionary\n",
    "print(\"Dic1.values():\",Dic1.values())"
   ]
  },
  {
   "cell_type": "markdown",
   "metadata": {},
   "source": [
    "### 1.4. Sets\n",
    "\n",
    "A Dictionary is a type of collection which has keys and values and is written as comma-separated elements within curly brackets."
   ]
  },
  {
   "cell_type": "code",
   "execution_count": 92,
   "metadata": {},
   "outputs": [
    {
     "data": {
      "text/plain": [
       "{'QBIO 401', 'QBIO 481', 'QBIO 493'}"
      ]
     },
     "execution_count": 92,
     "metadata": {},
     "output_type": "execute_result"
    }
   ],
   "source": [
    "Set1={\"QBIO 401\",\"QBIO 481\",\"QBIO 493\",\"QBIO 481\"}\n",
    "Set1"
   ]
  },
  {
   "cell_type": "markdown",
   "metadata": {},
   "source": [
    "Convert a List to a Set"
   ]
  },
  {
   "cell_type": "code",
   "execution_count": 93,
   "metadata": {},
   "outputs": [
    {
     "data": {
      "text/plain": [
       "{481, 'QBIO 401', 'QBIO 430', 'QBIO 481'}"
      ]
     },
     "execution_count": 93,
     "metadata": {},
     "output_type": "execute_result"
    }
   ],
   "source": [
    "List1=[\"QBIO 401\",\"QBIO 430\",\"QBIO 481\",\"QBIO 481\",481]\n",
    "Set1=set(List1)\n",
    "Set1"
   ]
  },
  {
   "cell_type": "markdown",
   "metadata": {},
   "source": [
    "#### *Set operations*\n",
    "Intersection"
   ]
  },
  {
   "cell_type": "code",
   "execution_count": 94,
   "metadata": {},
   "outputs": [
    {
     "name": "stdout",
     "output_type": "stream",
     "text": [
      "Set3: {'QBIO 401'}\n",
      "Set4: {'BISC 570', 'QBIO 481', 'QBIO 493', 'QBIO 401', 'QBIO 430'}\n"
     ]
    },
    {
     "data": {
      "text/plain": [
       "True"
      ]
     },
     "execution_count": 94,
     "metadata": {},
     "output_type": "execute_result"
    }
   ],
   "source": [
    "Set1={\"QBIO 401\",\"QBIO 481\",\"QBIO 493\"}\n",
    "Set2={\"QBIO 430\",\"BISC 570\",\"QBIO 401\"}\n",
    "Set3=Set1&Set2\n",
    "print(\"Set3:\",Set3)\n",
    "\n",
    "# Union\n",
    "Set4=Set1.union(Set2)\n",
    "print(\"Set4:\",Set4)\n",
    "\n",
    "# Check subset\n",
    "Set5={\"QBIO 401\", \"QBIO 493\"}\n",
    "Set5.issubset(Set1)"
   ]
  },
  {
   "cell_type": "markdown",
   "metadata": {},
   "source": [
    "## 2. Programming fundamentals\n",
    "### 2.1. Conditions\n",
    "#### *Comparison operations*\n",
    "Comparison operations compares particular value or operand. Based on some condition, they produce a Boolean."
   ]
  },
  {
   "cell_type": "code",
   "execution_count": 25,
   "metadata": {},
   "outputs": [
    {
     "name": "stdout",
     "output_type": "stream",
     "text": [
      "8==8: True\n",
      "8>8: False\n",
      "8>=8: True\n",
      "8!=8: False\n",
      "6==8: False\n",
      "6!=8: True\n"
     ]
    }
   ],
   "source": [
    "a=8\n",
    "print(\"8==8:\",a==8)\n",
    "print(\"8>8:\",a>8)\n",
    "print(\"8>=8:\",a>=8)\n",
    "print(\"8!=8:\",a!=8)\n",
    "a=6\n",
    "print(\"6==8:\",a==8)\n",
    "print(\"6!=8:\",a!=8)"
   ]
  },
  {
   "cell_type": "code",
   "execution_count": 26,
   "metadata": {},
   "outputs": [
    {
     "name": "stdout",
     "output_type": "stream",
     "text": [
      "\"QBIO\"==\"QBIO\": True\n",
      "\"BISC\"==\"QBIO\": False\n",
      "\"BISC\"!=\"QBIO\": True\n",
      "\"qbio\"==\"qbio\": False\n"
     ]
    }
   ],
   "source": [
    "a=\"QBIO\"\n",
    "print(\"\\\"QBIO\\\"==\\\"QBIO\\\":\",a==\"QBIO\")\n",
    "a=\"BISC\"\n",
    "print(\"\\\"BISC\\\"==\\\"QBIO\\\":\",a==\"QBIO\")\n",
    "print(\"\\\"BISC\\\"!=\\\"QBIO\\\":\",a!=\"QBIO\")\n",
    "a=\"qbio\"\n",
    "print(\"\\\"qbio\\\"==\\\"qbio\\\":\",a==\"QBIO\")"
   ]
  },
  {
   "cell_type": "markdown",
   "metadata": {},
   "source": [
    "### 2.2. Branchings\n",
    "Branchings allow us to run different statements for a different input.\n",
    "#### *If-elif-else*\n",
    "\"if\" statement:"
   ]
  },
  {
   "cell_type": "code",
   "execution_count": 27,
   "metadata": {},
   "outputs": [
    {
     "name": "stdout",
     "output_type": "stream",
     "text": [
      "You can enter the party \"WINOS\"\n",
      "Move on\n"
     ]
    }
   ],
   "source": [
    "age=22\n",
    "\n",
    "if(age>21):\n",
    "    print(\"You can enter the party \\\"WINOS\\\"\")\n",
    "print (\"Move on\")"
   ]
  },
  {
   "cell_type": "code",
   "execution_count": 28,
   "metadata": {},
   "outputs": [
    {
     "name": "stdout",
     "output_type": "stream",
     "text": [
      "Move on\n"
     ]
    }
   ],
   "source": [
    "age=20\n",
    "\n",
    "if(age>21):\n",
    "    print(\"You can enter the party \\\"WINOS\\\"\")\n",
    "print (\"Move on\")"
   ]
  },
  {
   "cell_type": "markdown",
   "metadata": {},
   "source": [
    "\"if-else\" statement:"
   ]
  },
  {
   "cell_type": "code",
   "execution_count": 30,
   "metadata": {},
   "outputs": [
    {
     "name": "stdout",
     "output_type": "stream",
     "text": [
      "Go see the party \"ILLEGAL WINOS\"\n",
      "Move on\n"
     ]
    }
   ],
   "source": [
    "age=20\n",
    "\n",
    "if(age>21):\n",
    "    print(\"You can enter the party \\\"ILLEGAL WINOS\\\"\")\n",
    "else:\n",
    "    print(\"Go see the party \\\"ILLEGAL WINOS\\\"\")\n",
    "print (\"Move on\")"
   ]
  },
  {
   "cell_type": "markdown",
   "metadata": {},
   "source": [
    "\"if-elif-else\" statement:"
   ]
  },
  {
   "cell_type": "code",
   "execution_count": 32,
   "metadata": {},
   "outputs": [
    {
     "name": "stdout",
     "output_type": "stream",
     "text": [
      "Go see the party \"NEVER TOUCHED IT\"\n",
      "Move on\n"
     ]
    }
   ],
   "source": [
    "age=14\n",
    "\n",
    "if(age>21):\n",
    "    print(\"You can enter the party \\\"ILLEGAL WINOS\\\"\")\n",
    "elif(age==18):\n",
    "    print(\"Go see the party \\\"ILLEGAL WINOS\\\"\")\n",
    "else:\n",
    "    print(\"Go see the party \\\"NEVER TOUCHED IT\\\"\")\n",
    "print (\"Move on\")"
   ]
  },
  {
   "cell_type": "markdown",
   "metadata": {},
   "source": [
    "#### *Logic operators*"
   ]
  },
  {
   "cell_type": "code",
   "execution_count": 35,
   "metadata": {},
   "outputs": [
    {
     "name": "stdout",
     "output_type": "stream",
     "text": [
      "not True: False\n",
      "not False: True\n"
     ]
    }
   ],
   "source": [
    "a=True\n",
    "print(\"not True:\",not a)\n",
    "a=False\n",
    "print(\"not False:\",not a)\n"
   ]
  },
  {
   "cell_type": "code",
   "execution_count": 38,
   "metadata": {},
   "outputs": [
    {
     "name": "stdout",
     "output_type": "stream",
     "text": [
      "Millennials\n"
     ]
    }
   ],
   "source": [
    "birth_year=1985\n",
    "\n",
    "if(birth_year<1980) or (birth_year>1994):\n",
    "    print(\"Baby Boomer, Generation X, or GenZ\")\n",
    "else:\n",
    "    print(\"Millennials\")"
   ]
  },
  {
   "cell_type": "code",
   "execution_count": 39,
   "metadata": {},
   "outputs": [
    {
     "name": "stdout",
     "output_type": "stream",
     "text": [
      "Millennials\n"
     ]
    }
   ],
   "source": [
    "birth_year=1985\n",
    "\n",
    "if(birth_year>1980) and (birth_year<1994):\n",
    "    print(\"Millennials\")"
   ]
  },
  {
   "cell_type": "markdown",
   "metadata": {},
   "source": [
    "### 2.3. Loops"
   ]
  },
  {
   "cell_type": "markdown",
   "metadata": {},
   "source": [
    "#### 2.3.1. For loops"
   ]
  },
  {
   "cell_type": "code",
   "execution_count": 45,
   "metadata": {},
   "outputs": [
    {
     "name": "stdout",
     "output_type": "stream",
     "text": [
      "red\n",
      "orange\n",
      "yellow\n",
      "green\n",
      "blue\n",
      "violet\n",
      "red\n",
      "orange\n",
      "yellow\n",
      "green\n",
      "blue\n",
      "violet\n",
      "red\n",
      "orange\n",
      "yellow\n",
      "green\n",
      "blue\n",
      "violet\n",
      "0 red\n",
      "1 orange\n",
      "2 yellow\n",
      "3 green\n",
      "4 blue\n",
      "5 violet\n"
     ]
    }
   ],
   "source": [
    "colors=[\"red\",\"orange\",\"yellow\",\"green\",\"blue\",\"violet\"]\n",
    "\n",
    "# Way 1\n",
    "for i in range(0,6):\n",
    "    print(colors[i])\n",
    "\n",
    "# Way 2\n",
    "for i in range(0,len(colors)):\n",
    "    print(colors[i])\n",
    "\n",
    "# Way 3\n",
    "for color in colors:\n",
    "    print(color)\n",
    "    \n",
    "# Way 4\n",
    "for i,color in enumerate(colors):\n",
    "    print(i,color)"
   ]
  },
  {
   "cell_type": "code",
   "execution_count": 42,
   "metadata": {},
   "outputs": [
    {
     "name": "stdout",
     "output_type": "stream",
     "text": [
      "['while', 'while', 'while', 'while', 'while', 'while']\n"
     ]
    }
   ],
   "source": [
    "for i in range(0,len(colors)):\n",
    "    colors[i]=\"while\"\n",
    "    \n",
    "print(colors)"
   ]
  },
  {
   "cell_type": "markdown",
   "metadata": {},
   "source": [
    "#### 2.3.2. While loops"
   ]
  },
  {
   "cell_type": "code",
   "execution_count": 59,
   "metadata": {},
   "outputs": [
    {
     "name": "stdout",
     "output_type": "stream",
     "text": [
      "red\n",
      "orange\n",
      "red\n",
      "green\n",
      "blue\n",
      "red\n",
      "['red', 'red', 'red']\n"
     ]
    }
   ],
   "source": [
    "colors=[\"red\",\"orange\",\"red\",\"green\",\"blue\",\"red\"]\n",
    "\n",
    "i=0\n",
    "while(i<len(colors)):\n",
    "    print(colors[i])\n",
    "    i=i+1\n",
    "    \n",
    "# Select color \"red\" using while loops\n",
    "selected_colors=[]\n",
    "\n",
    "i=0\n",
    "while(i<len(colors)):\n",
    "    if(colors[i]==\"red\"):\n",
    "        selected_colors.append(colors[i])\n",
    "    i=i+1    \n",
    "\n",
    "print(selected_colors)"
   ]
  },
  {
   "cell_type": "markdown",
   "metadata": {},
   "source": [
    "### 2.3. Functions"
   ]
  },
  {
   "cell_type": "code",
   "execution_count": 60,
   "metadata": {},
   "outputs": [
    {
     "data": {
      "text/plain": [
       "7"
      ]
     },
     "execution_count": 60,
     "metadata": {},
     "output_type": "execute_result"
    }
   ],
   "source": [
    "def add(a):\n",
    "    b=a+1\n",
    "    return b\n",
    "\n",
    "c=add(6)\n",
    "c"
   ]
  },
  {
   "cell_type": "code",
   "execution_count": null,
   "metadata": {},
   "outputs": [],
   "source": []
  }
 ],
 "metadata": {
  "kernelspec": {
   "display_name": "Python 3",
   "language": "python",
   "name": "python3"
  },
  "language_info": {
   "codemirror_mode": {
    "name": "ipython",
    "version": 3
   },
   "file_extension": ".py",
   "mimetype": "text/x-python",
   "name": "python",
   "nbconvert_exporter": "python",
   "pygments_lexer": "ipython3",
   "version": "3.8.3"
  }
 },
 "nbformat": 4,
 "nbformat_minor": 4
}
