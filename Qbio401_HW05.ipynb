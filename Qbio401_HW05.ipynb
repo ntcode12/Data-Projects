{
 "cells": [
  {
   "cell_type": "code",
   "execution_count": 2,
   "metadata": {},
   "outputs": [
    {
     "ename": "ModuleNotFoundError",
     "evalue": "No module named 'upgmaData'",
     "output_type": "error",
     "traceback": [
      "\u001b[0;31m---------------------------------------------------------------------------\u001b[0m",
      "\u001b[0;31mModuleNotFoundError\u001b[0m                       Traceback (most recent call last)",
      "\u001b[0;32m<ipython-input-2-73c9c2e167a2>\u001b[0m in \u001b[0;36m<module>\u001b[0;34m\u001b[0m\n\u001b[0;32m----> 1\u001b[0;31m \u001b[0;32mfrom\u001b[0m \u001b[0mupgmaData\u001b[0m\u001b[0;34m.\u001b[0m\u001b[0mpy\u001b[0m \u001b[0;32mimport\u001b[0m \u001b[0;34m*\u001b[0m\u001b[0;34m\u001b[0m\u001b[0;34m\u001b[0m\u001b[0m\n\u001b[0m\u001b[1;32m      2\u001b[0m \u001b[0;31m#Single node\u001b[0m\u001b[0;34m\u001b[0m\u001b[0;34m\u001b[0m\u001b[0;34m\u001b[0m\u001b[0m\n\u001b[1;32m      3\u001b[0m \u001b[0;32mclass\u001b[0m \u001b[0mNode\u001b[0m\u001b[0;34m:\u001b[0m\u001b[0;34m\u001b[0m\u001b[0;34m\u001b[0m\u001b[0m\n\u001b[1;32m      4\u001b[0m     \u001b[0;32mdef\u001b[0m \u001b[0m__init__\u001b[0m\u001b[0;34m(\u001b[0m\u001b[0mself\u001b[0m\u001b[0;34m,\u001b[0m \u001b[0mvalue\u001b[0m\u001b[0;34m)\u001b[0m\u001b[0;34m:\u001b[0m\u001b[0;34m\u001b[0m\u001b[0;34m\u001b[0m\u001b[0m\n\u001b[1;32m      5\u001b[0m         \u001b[0mself\u001b[0m\u001b[0;34m.\u001b[0m\u001b[0mvalue\u001b[0m \u001b[0;34m=\u001b[0m \u001b[0mvalue\u001b[0m\u001b[0;34m\u001b[0m\u001b[0;34m\u001b[0m\u001b[0m\n",
      "\u001b[0;31mModuleNotFoundError\u001b[0m: No module named 'upgmaData'"
     ]
    }
   ],
   "source": [
    "from upgmaData import *\n",
    "#Single node\n",
    "class Node:\n",
    "    def __init__(self, value):\n",
    "        self.value = value\n",
    "        self.next = None\n",
    "        \n",
    "#Linked List\n",
    "class LinkedList:\n",
    "    def __init__(self):\n",
    "        self.head = Node(None) #self.head = None\n",
    "        self.tail = self.head #head(None) -> None #tail = head\n",
    "        self.size = 0\n",
    "        \n",
    "    def appendValue(self, value):\n",
    "        node = Node(value)\n",
    "        self.append(node)\n",
    "        \n",
    "    def append(self, node):\n",
    "        self.tail.next = node #head(None) -> node1 -> None\n",
    "        self.tail = node #tail = node1\n",
    "        self.size += 1\n",
    "    def length(self):\n",
    "        return self.size\n",
    "    def query(self, nodeToQuery):\n",
    "        node = self.head\n",
    "        while node.next is not None:\n",
    "            node = node.next\n",
    "            if node == nodeToQuery:\n",
    "                return True\n",
    "        return False\n",
    "    def queryValue(self, value):\n",
    "        node = self.head\n",
    "        while node.next is not None:\n",
    "            node = node.next\n",
    "            if node.value == value:\n",
    "                return True\n",
    "        return False\n",
    "    def delete(self, node):\n",
    "        pass\n",
    "    \n",
    "    def merge(self, l2):\n",
    "        self.tail.next = l2.head.next\n",
    "        self.tail = l2.tail\n",
    "        \n",
    "    def print(self):\n",
    "        node = self.head\n",
    "        while node.next is not None:\n",
    "            node = node.next\n",
    "            print(node.value)"
   ]
  },
  {
   "cell_type": "code",
   "execution_count": 3,
   "metadata": {},
   "outputs": [
    {
     "ename": "SyntaxError",
     "evalue": "invalid syntax (<ipython-input-3-2e339b601a76>, line 86)",
     "output_type": "error",
     "traceback": [
      "\u001b[0;36m  File \u001b[0;32m\"<ipython-input-3-2e339b601a76>\"\u001b[0;36m, line \u001b[0;32m86\u001b[0m\n\u001b[0;31m    print \"cluster\"+str(i)\u001b[0m\n\u001b[0m          ^\u001b[0m\n\u001b[0;31mSyntaxError\u001b[0m\u001b[0;31m:\u001b[0m invalid syntax\n"
     ]
    }
   ],
   "source": [
    "\n",
    "import math\n",
    "import matplotlib.pyplot as plt\n",
    "\n",
    "class Node:\n",
    "    def __init__(self, p):\n",
    "        self.points = p\n",
    "        self.right = None\n",
    "        self.left = None\n",
    "    def \n",
    "\n"
   ]
  },
  {
   "cell_type": "code",
   "execution_count": null,
   "metadata": {},
   "outputs": [],
   "source": []
  }
 ],
 "metadata": {
  "kernelspec": {
   "display_name": "Python 3",
   "language": "python",
   "name": "python3"
  },
  "language_info": {
   "codemirror_mode": {
    "name": "ipython",
    "version": 3
   },
   "file_extension": ".py",
   "mimetype": "text/x-python",
   "name": "python",
   "nbconvert_exporter": "python",
   "pygments_lexer": "ipython3",
   "version": "3.8.3"
  }
 },
 "nbformat": 4,
 "nbformat_minor": 4
}
