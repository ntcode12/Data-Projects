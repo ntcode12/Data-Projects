{
 "cells": [
  {
   "cell_type": "markdown",
   "metadata": {},
   "source": [
    "Loading and starting ib_insync"
   ]
  },
  {
   "cell_type": "code",
   "execution_count": 1,
   "metadata": {},
   "outputs": [
    {
     "data": {
      "text/plain": [
       "<IB connected to 127.0.0.1:7496 clientId=3>"
      ]
     },
     "execution_count": 1,
     "metadata": {},
     "output_type": "execute_result"
    }
   ],
   "source": [
    "from ib_insync import *\n",
    "util.startLoop()\n",
    "\n",
    "ib = IB()\n",
    "ib.connect('127.0.0.1', 7496, clientId=3)"
   ]
  },
  {
   "cell_type": "markdown",
   "metadata": {},
   "source": [
    "Loading and starting the Redis database.\n",
    "\n",
    "The following line runs a script that contains the following two lines:\n",
    "1. import redis\n",
    "2. red = redis.Redis(password='mypassword')"
   ]
  },
  {
   "cell_type": "code",
   "execution_count": 2,
   "metadata": {},
   "outputs": [],
   "source": [
    "%run redis_start.py"
   ]
  },
  {
   "cell_type": "markdown",
   "metadata": {},
   "source": [
    "Reading in the current ask price from the Redis database (after setting the type to float)."
   ]
  },
  {
   "cell_type": "code",
   "execution_count": 4,
   "metadata": {},
   "outputs": [
    {
     "name": "stdout",
     "output_type": "stream",
     "text": [
      "spy bid price is 359.81\n",
      "spy ask price is 359.83\n"
     ]
    }
   ],
   "source": [
    "red.set_response_callback('GET',float)\n",
    "spy_bid = red.get('SPY_bid')\n",
    "spy_ask = red.get('SPY_ask')\n",
    "print('spy bid price is', spy_bid)\n",
    "print('spy ask price is', spy_ask)"
   ]
  },
  {
   "cell_type": "markdown",
   "metadata": {},
   "source": [
    "Buying 100 shares using a limit order.  Since the limit price is above the current ask, this should get filled immediately."
   ]
  },
  {
   "cell_type": "code",
   "execution_count": 5,
   "metadata": {},
   "outputs": [
    {
     "data": {
      "text/plain": [
       "Trade(contract=Stock(symbol='SPY', exchange='SMART', currency='USD'), order=LimitOrder(orderId=41, clientId=3, action='BUY', totalQuantity=1, lmtPrice=360.08, outsideRth=True, conditions=[], softDollarTier=SoftDollarTier()), orderStatus=OrderStatus(status='PendingSubmit'), fills=[], log=[TradeLogEntry(time=datetime.datetime(2020, 11, 9, 16, 48, 32, 660455, tzinfo=datetime.timezone.utc), status='PendingSubmit', message='')])"
      ]
     },
     "execution_count": 5,
     "metadata": {},
     "output_type": "execute_result"
    }
   ],
   "source": [
    "contract = Stock('SPY', 'SMART', 'USD')\n",
    "order = LimitOrder('BUY', 1, spy_ask+.25)\n",
    "order.outsideRth = True\n",
    "ib.placeOrder(contract, order)"
   ]
  },
  {
   "cell_type": "code",
   "execution_count": 6,
   "metadata": {},
   "outputs": [
    {
     "data": {
      "text/plain": [
       "True"
      ]
     },
     "execution_count": 6,
     "metadata": {},
     "output_type": "execute_result"
    }
   ],
   "source": [
    "ib.sleep(1)"
   ]
  },
  {
   "cell_type": "markdown",
   "metadata": {},
   "source": [
    "Now putting in a limit order to buy 100 shares.  Since the limit price is much lower, this order will not be filled immediately, if ever. "
   ]
  },
  {
   "cell_type": "code",
   "execution_count": 7,
   "metadata": {},
   "outputs": [
    {
     "data": {
      "text/plain": [
       "Trade(contract=Stock(symbol='SPY', exchange='SMART', currency='USD'), order=LimitOrder(orderId=42, clientId=3, action='BUY', totalQuantity=100, lmtPrice=349.81, outsideRth=True, conditions=[], softDollarTier=SoftDollarTier()), orderStatus=OrderStatus(status='PendingSubmit'), fills=[], log=[TradeLogEntry(time=datetime.datetime(2020, 11, 9, 16, 48, 51, 842923, tzinfo=datetime.timezone.utc), status='PendingSubmit', message='')])"
      ]
     },
     "execution_count": 7,
     "metadata": {},
     "output_type": "execute_result"
    }
   ],
   "source": [
    "contract = Stock('SPY', 'SMART', 'USD')\n",
    "order = LimitOrder('BUY', 100, spy_bid-10)\n",
    "order.outsideRth = True\n",
    "ib.placeOrder(contract, order)"
   ]
  },
  {
   "cell_type": "markdown",
   "metadata": {},
   "source": [
    "We should be able to see that the previous order is still open, meaning that our order has not been filled."
   ]
  },
  {
   "cell_type": "code",
   "execution_count": 8,
   "metadata": {},
   "outputs": [
    {
     "name": "stdout",
     "output_type": "stream",
     "text": [
      "[LimitOrder(orderId=42, clientId=3, permId=1710700177, action='BUY', totalQuantity=100.0, lmtPrice=349.81, auxPrice=0.0, tif='DAY', ocaType=3, outsideRth=True, trailStopPrice=350.81, volatilityType=0, deltaNeutralOrderType='None', referencePriceType=0, account='DU1457230', clearingIntent='IB', orderComboLegs=[], adjustedOrderType='None', conditions=[], softDollarTier=SoftDollarTier(), cashQty=0.0, dontUseAutoPriceForHedge=True)]\n"
     ]
    }
   ],
   "source": [
    "openOrders = ib.openOrders()\n",
    "print(openOrders)"
   ]
  },
  {
   "cell_type": "markdown",
   "metadata": {},
   "source": [
    "If we execute the following line, we will see our order cancelled."
   ]
  },
  {
   "cell_type": "code",
   "execution_count": 9,
   "metadata": {},
   "outputs": [
    {
     "data": {
      "text/plain": [
       "Trade(contract=Stock(symbol='SPY', exchange='SMART', currency='USD'), order=LimitOrder(orderId=42, clientId=3, permId=1710700177, action='BUY', totalQuantity=100.0, lmtPrice=349.81, auxPrice=0.0, tif='DAY', ocaType=3, outsideRth=True, trailStopPrice=350.81, volatilityType=0, deltaNeutralOrderType='None', referencePriceType=0, account='DU1457230', clearingIntent='IB', orderComboLegs=[], adjustedOrderType='None', conditions=[], softDollarTier=SoftDollarTier(), cashQty=0.0, dontUseAutoPriceForHedge=True), orderStatus=OrderStatus(status='PendingCancel', remaining=100.0, permId=1710700177, clientId=3), fills=[], log=[TradeLogEntry(time=datetime.datetime(2020, 11, 9, 16, 48, 51, 842923, tzinfo=datetime.timezone.utc), status='PendingSubmit', message=''), TradeLogEntry(time=datetime.datetime(2020, 11, 9, 16, 48, 51, 887307, tzinfo=datetime.timezone.utc), status='Submitted', message=''), TradeLogEntry(time=datetime.datetime(2020, 11, 9, 16, 49, 26, 444474, tzinfo=datetime.timezone.utc), status='PendingCancel', message='')])"
      ]
     },
     "execution_count": 9,
     "metadata": {},
     "output_type": "execute_result"
    }
   ],
   "source": [
    "ib.cancelOrder(openOrders[0])"
   ]
  },
  {
   "cell_type": "markdown",
   "metadata": {},
   "source": [
    "We can also see all our current positions:"
   ]
  },
  {
   "cell_type": "code",
   "execution_count": 10,
   "metadata": {},
   "outputs": [
    {
     "data": {
      "text/plain": [
       "[Position(account='DU1457230', contract=Forex('EURUSD', conId=12087792, localSymbol='EUR.USD', tradingClass='EUR.USD'), position=-20.0, avgCost=0.892755),\n",
       " Position(account='DU1457230', contract=Stock(conId=70282872, symbol='MINT', exchange='ARCA', currency='USD', localSymbol='MINT', tradingClass='MINT'), position=200.0, avgCost=101.72),\n",
       " Position(account='DU1457230', contract=Stock(conId=265598, symbol='AAPL', exchange='NASDAQ', currency='USD', localSymbol='AAPL', tradingClass='NMS'), position=68.0, avgCost=51.64201325),\n",
       " Position(account='DU1457230', contract=Stock(conId=208813720, symbol='GOOG', exchange='NASDAQ', currency='USD', localSymbol='GOOG', tradingClass='NMS'), position=10.0, avgCost=1215.81),\n",
       " Position(account='DU1457230', contract=Stock(conId=756733, symbol='SPY', exchange='ARCA', currency='USD', localSymbol='SPY', tradingClass='SPY'), position=101.0, avgCost=309.98871287128713)]"
      ]
     },
     "execution_count": 10,
     "metadata": {},
     "output_type": "execute_result"
    }
   ],
   "source": [
    "ib.positions()"
   ]
  },
  {
   "cell_type": "markdown",
   "metadata": {},
   "source": [
    "This will disconnect from IB."
   ]
  },
  {
   "cell_type": "code",
   "execution_count": 11,
   "metadata": {},
   "outputs": [],
   "source": [
    "ib.disconnect()"
   ]
  },
  {
   "cell_type": "code",
   "execution_count": null,
   "metadata": {},
   "outputs": [],
   "source": []
  }
 ],
 "metadata": {
  "kernelspec": {
   "display_name": "Python 3",
   "language": "python",
   "name": "python3"
  },
  "language_info": {
   "codemirror_mode": {
    "name": "ipython",
    "version": 3
   },
   "file_extension": ".py",
   "mimetype": "text/x-python",
   "name": "python",
   "nbconvert_exporter": "python",
   "pygments_lexer": "ipython3",
   "version": "3.8.3"
  }
 },
 "nbformat": 4,
 "nbformat_minor": 2
}
