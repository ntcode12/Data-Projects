{
 "cells": [
  {
   "cell_type": "code",
   "execution_count": 1,
   "metadata": {},
   "outputs": [],
   "source": [
    "geno = read.csv(\"geno.csv\", stringsAsFactors=F)\n",
    "pheno = read.csv(\"pheno.csv\", stringsAsFactors=F)"
   ]
  },
  {
   "cell_type": "code",
   "execution_count": 2,
   "metadata": {},
   "outputs": [
    {
     "data": {
      "text/html": [
       "<table>\n",
       "<thead><tr><th scope=col>CHROM</th><th scope=col>POS</th><th scope=col>ID</th><th scope=col>REF</th><th scope=col>ALT</th><th scope=col>QUAL</th><th scope=col>FILTER</th><th scope=col>INFO</th><th scope=col>FORMAT</th><th scope=col>NA06984</th><th scope=col>...</th><th scope=col>NA12762</th><th scope=col>NA12763</th><th scope=col>NA12775</th><th scope=col>NA12776</th><th scope=col>NA12777</th><th scope=col>NA12778</th><th scope=col>NA12812</th><th scope=col>NA12814</th><th scope=col>NA12815</th><th scope=col>NA12827</th></tr></thead>\n",
       "<tbody>\n",
       "\t<tr><td>22                                                                                                                                      </td><td>16053659                                                                                                                                </td><td>rs915675                                                                                                                                </td><td>A                                                                                                                                       </td><td>C                                                                                                                                       </td><td>100                                                                                                                                     </td><td>PASS                                                                                                                                    </td><td>AC=4295;AF=0.857628;AN=5008;NS=2504;DP=14514;EAS_AF=0.9167;AMR_AF=0.8329;AFR_AF=0.8994;EUR_AF=0.7296;SAS_AF=0.8896;AA=.|||;VT=SNP       </td><td>GT                                                                                                                                      </td><td>1|0                                                                                                                                     </td><td>...                                                                                                                                     </td><td>0|0                                                                                                                                     </td><td>0|1                                                                                                                                     </td><td>1|1                                                                                                                                     </td><td>1|1                                                                                                                                     </td><td>1|0                                                                                                                                     </td><td>1|0                                                                                                                                     </td><td>1|1                                                                                                                                     </td><td>1|0                                                                                                                                     </td><td>1|0                                                                                                                                     </td><td>0|1                                                                                                                                     </td></tr>\n",
       "\t<tr><td>22                                                                                                                                      </td><td>16460869                                                                                                                                </td><td>rs200741211                                                                                                                             </td><td>C                                                                                                                                       </td><td>T                                                                                                                                       </td><td>100                                                                                                                                     </td><td>PASS                                                                                                                                    </td><td>AC=1003;AF=0.20028;AN=5008;NS=2504;DP=20254;EAS_AF=0.245;AMR_AF=0.1844;AFR_AF=0.0666;EUR_AF=0.3459;SAS_AF=0.1963;AA=c|||;VT=SNP         </td><td>GT                                                                                                                                      </td><td>1|0                                                                                                                                     </td><td>...                                                                                                                                     </td><td>0|0                                                                                                                                     </td><td>1|1                                                                                                                                     </td><td>0|0                                                                                                                                     </td><td>0|0                                                                                                                                     </td><td>0|0                                                                                                                                     </td><td>0|1                                                                                                                                     </td><td>0|1                                                                                                                                     </td><td>1|1                                                                                                                                     </td><td>0|1                                                                                                                                     </td><td>0|0                                                                                                                                     </td></tr>\n",
       "\t<tr><td>22                                                                                                                                      </td><td>16860967                                                                                                                                </td><td>rs28807214                                                                                                                              </td><td>A                                                                                                                                       </td><td>G                                                                                                                                       </td><td>100                                                                                                                                     </td><td>PASS                                                                                                                                    </td><td>AC=2024;AF=0.404153;AN=5008;NS=2504;DP=26503;EAS_AF=0.4077;AMR_AF=0.4971;AFR_AF=0.3865;EUR_AF=0.4095;SAS_AF=0.3528;AA=.|||;VT=SNP       </td><td>GT                                                                                                                                      </td><td>0|0                                                                                                                                     </td><td>...                                                                                                                                     </td><td>1|1                                                                                                                                     </td><td>0|1                                                                                                                                     </td><td>0|0                                                                                                                                     </td><td>0|1                                                                                                                                     </td><td>1|0                                                                                                                                     </td><td>1|0                                                                                                                                     </td><td>0|1                                                                                                                                     </td><td>0|0                                                                                                                                     </td><td>0|1                                                                                                                                     </td><td>1|0                                                                                                                                     </td></tr>\n",
       "\t<tr><td>22                                                                                                                                      </td><td>17264565                                                                                                                                </td><td>rs5748622                                                                                                                               </td><td>G                                                                                                                                       </td><td>T                                                                                                                                       </td><td>100                                                                                                                                     </td><td>PASS                                                                                                                                    </td><td>AC=3246;AF=0.648163;AN=5008;NS=2504;DP=3046;EAS_AF=0.369;AMR_AF=0.562;AFR_AF=0.7859;EUR_AF=0.5915;SAS_AF=0.8691;AA=.|||;VT=SNP;EX_TARGET</td><td>GT                                                                                                                                      </td><td>1|0                                                                                                                                     </td><td>...                                                                                                                                     </td><td>1|0                                                                                                                                     </td><td>0|0                                                                                                                                     </td><td>0|1                                                                                                                                     </td><td>1|1                                                                                                                                     </td><td>0|1                                                                                                                                     </td><td>1|1                                                                                                                                     </td><td>1|0                                                                                                                                     </td><td>0|0                                                                                                                                     </td><td>0|0                                                                                                                                     </td><td>1|1                                                                                                                                     </td></tr>\n",
       "\t<tr><td>22                                                                                                                                      </td><td>17667426                                                                                                                                </td><td>rs5994193                                                                                                                               </td><td>C                                                                                                                                       </td><td>T                                                                                                                                       </td><td>100                                                                                                                                     </td><td>PASS                                                                                                                                    </td><td>AC=3125;AF=0.624002;AN=5008;NS=2504;DP=16888;EAS_AF=0.7768;AMR_AF=0.7666;AFR_AF=0.5144;EUR_AF=0.6342;SAS_AF=0.5031;AA=C|||;VT=SNP       </td><td>GT                                                                                                                                      </td><td>0|1                                                                                                                                     </td><td>...                                                                                                                                     </td><td>1|1                                                                                                                                     </td><td>1|1                                                                                                                                     </td><td>0|1                                                                                                                                     </td><td>1|1                                                                                                                                     </td><td>0|1                                                                                                                                     </td><td>1|1                                                                                                                                     </td><td>1|1                                                                                                                                     </td><td>0|1                                                                                                                                     </td><td>1|1                                                                                                                                     </td><td>0|1                                                                                                                                     </td></tr>\n",
       "</tbody>\n",
       "</table>\n"
      ],
      "text/latex": [
       "\\begin{tabular}{r|llllllllllllllllllllllllllllllllllllllllllllllllllllllllllllllllllllllllllllllllllllllllll}\n",
       " CHROM & POS & ID & REF & ALT & QUAL & FILTER & INFO & FORMAT & NA06984 & ... & NA12762 & NA12763 & NA12775 & NA12776 & NA12777 & NA12778 & NA12812 & NA12814 & NA12815 & NA12827\\\\\n",
       "\\hline\n",
       "\t 22                                                                                                                                                                               & 16053659                                                                                                                                                                         & rs915675                                                                                                                                                                         & A                                                                                                                                                                                & C                                                                                                                                                                                & 100                                                                                                                                                                              & PASS                                                                                                                                                                             & AC=4295;AF=0.857628;AN=5008;NS=2504;DP=14514;EAS\\_AF=0.9167;AMR\\_AF=0.8329;AFR\\_AF=0.8994;EUR\\_AF=0.7296;SAS\\_AF=0.8896;AA=.\\textbar{}\\textbar{}\\textbar{};VT=SNP        & GT                                                                                                                                                                               & 1\\textbar{}0                                                                                                                                                                    & ...                                                                                                                                                                              & 0\\textbar{}0                                                                                                                                                                    & 0\\textbar{}1                                                                                                                                                                    & 1\\textbar{}1                                                                                                                                                                    & 1\\textbar{}1                                                                                                                                                                    & 1\\textbar{}0                                                                                                                                                                    & 1\\textbar{}0                                                                                                                                                                    & 1\\textbar{}1                                                                                                                                                                    & 1\\textbar{}0                                                                                                                                                                    & 1\\textbar{}0                                                                                                                                                                    & 0\\textbar{}1                                                                                                                                                                   \\\\\n",
       "\t 22                                                                                                                                                                               & 16460869                                                                                                                                                                         & rs200741211                                                                                                                                                                      & C                                                                                                                                                                                & T                                                                                                                                                                                & 100                                                                                                                                                                              & PASS                                                                                                                                                                             & AC=1003;AF=0.20028;AN=5008;NS=2504;DP=20254;EAS\\_AF=0.245;AMR\\_AF=0.1844;AFR\\_AF=0.0666;EUR\\_AF=0.3459;SAS\\_AF=0.1963;AA=c\\textbar{}\\textbar{}\\textbar{};VT=SNP          & GT                                                                                                                                                                               & 1\\textbar{}0                                                                                                                                                                    & ...                                                                                                                                                                              & 0\\textbar{}0                                                                                                                                                                    & 1\\textbar{}1                                                                                                                                                                    & 0\\textbar{}0                                                                                                                                                                    & 0\\textbar{}0                                                                                                                                                                    & 0\\textbar{}0                                                                                                                                                                    & 0\\textbar{}1                                                                                                                                                                    & 0\\textbar{}1                                                                                                                                                                    & 1\\textbar{}1                                                                                                                                                                    & 0\\textbar{}1                                                                                                                                                                    & 0\\textbar{}0                                                                                                                                                                   \\\\\n",
       "\t 22                                                                                                                                                                               & 16860967                                                                                                                                                                         & rs28807214                                                                                                                                                                       & A                                                                                                                                                                                & G                                                                                                                                                                                & 100                                                                                                                                                                              & PASS                                                                                                                                                                             & AC=2024;AF=0.404153;AN=5008;NS=2504;DP=26503;EAS\\_AF=0.4077;AMR\\_AF=0.4971;AFR\\_AF=0.3865;EUR\\_AF=0.4095;SAS\\_AF=0.3528;AA=.\\textbar{}\\textbar{}\\textbar{};VT=SNP        & GT                                                                                                                                                                               & 0\\textbar{}0                                                                                                                                                                    & ...                                                                                                                                                                              & 1\\textbar{}1                                                                                                                                                                    & 0\\textbar{}1                                                                                                                                                                    & 0\\textbar{}0                                                                                                                                                                    & 0\\textbar{}1                                                                                                                                                                    & 1\\textbar{}0                                                                                                                                                                    & 1\\textbar{}0                                                                                                                                                                    & 0\\textbar{}1                                                                                                                                                                    & 0\\textbar{}0                                                                                                                                                                    & 0\\textbar{}1                                                                                                                                                                    & 1\\textbar{}0                                                                                                                                                                   \\\\\n",
       "\t 22                                                                                                                                                                                 & 17264565                                                                                                                                                                           & rs5748622                                                                                                                                                                          & G                                                                                                                                                                                  & T                                                                                                                                                                                  & 100                                                                                                                                                                                & PASS                                                                                                                                                                               & AC=3246;AF=0.648163;AN=5008;NS=2504;DP=3046;EAS\\_AF=0.369;AMR\\_AF=0.562;AFR\\_AF=0.7859;EUR\\_AF=0.5915;SAS\\_AF=0.8691;AA=.\\textbar{}\\textbar{}\\textbar{};VT=SNP;EX\\_TARGET & GT                                                                                                                                                                                 & 1\\textbar{}0                                                                                                                                                                      & ...                                                                                                                                                                                & 1\\textbar{}0                                                                                                                                                                      & 0\\textbar{}0                                                                                                                                                                      & 0\\textbar{}1                                                                                                                                                                      & 1\\textbar{}1                                                                                                                                                                      & 0\\textbar{}1                                                                                                                                                                      & 1\\textbar{}1                                                                                                                                                                      & 1\\textbar{}0                                                                                                                                                                      & 0\\textbar{}0                                                                                                                                                                      & 0\\textbar{}0                                                                                                                                                                      & 1\\textbar{}1                                                                                                                                                                     \\\\\n",
       "\t 22                                                                                                                                                                               & 17667426                                                                                                                                                                         & rs5994193                                                                                                                                                                        & C                                                                                                                                                                                & T                                                                                                                                                                                & 100                                                                                                                                                                              & PASS                                                                                                                                                                             & AC=3125;AF=0.624002;AN=5008;NS=2504;DP=16888;EAS\\_AF=0.7768;AMR\\_AF=0.7666;AFR\\_AF=0.5144;EUR\\_AF=0.6342;SAS\\_AF=0.5031;AA=C\\textbar{}\\textbar{}\\textbar{};VT=SNP        & GT                                                                                                                                                                               & 0\\textbar{}1                                                                                                                                                                    & ...                                                                                                                                                                              & 1\\textbar{}1                                                                                                                                                                    & 1\\textbar{}1                                                                                                                                                                    & 0\\textbar{}1                                                                                                                                                                    & 1\\textbar{}1                                                                                                                                                                    & 0\\textbar{}1                                                                                                                                                                    & 1\\textbar{}1                                                                                                                                                                    & 1\\textbar{}1                                                                                                                                                                    & 0\\textbar{}1                                                                                                                                                                    & 1\\textbar{}1                                                                                                                                                                    & 0\\textbar{}1                                                                                                                                                                   \\\\\n",
       "\\end{tabular}\n"
      ],
      "text/markdown": [
       "\n",
       "| CHROM | POS | ID | REF | ALT | QUAL | FILTER | INFO | FORMAT | NA06984 | ... | NA12762 | NA12763 | NA12775 | NA12776 | NA12777 | NA12778 | NA12812 | NA12814 | NA12815 | NA12827 |\n",
       "|---|---|---|---|---|---|---|---|---|---|---|---|---|---|---|---|---|---|---|---|---|\n",
       "| 22                                                                                                                                       | 16053659                                                                                                                                 | rs915675                                                                                                                                 | A                                                                                                                                        | C                                                                                                                                        | 100                                                                                                                                      | PASS                                                                                                                                     | AC=4295;AF=0.857628;AN=5008;NS=2504;DP=14514;EAS_AF=0.9167;AMR_AF=0.8329;AFR_AF=0.8994;EUR_AF=0.7296;SAS_AF=0.8896;AA=.|||;VT=SNP        | GT                                                                                                                                       | 1|0                                                                                                                                      | ...                                                                                                                                      | 0|0                                                                                                                                      | 0|1                                                                                                                                      | 1|1                                                                                                                                      | 1|1                                                                                                                                      | 1|0                                                                                                                                      | 1|0                                                                                                                                      | 1|1                                                                                                                                      | 1|0                                                                                                                                      | 1|0                                                                                                                                      | 0|1                                                                                                                                      |\n",
       "| 22                                                                                                                                       | 16460869                                                                                                                                 | rs200741211                                                                                                                              | C                                                                                                                                        | T                                                                                                                                        | 100                                                                                                                                      | PASS                                                                                                                                     | AC=1003;AF=0.20028;AN=5008;NS=2504;DP=20254;EAS_AF=0.245;AMR_AF=0.1844;AFR_AF=0.0666;EUR_AF=0.3459;SAS_AF=0.1963;AA=c|||;VT=SNP          | GT                                                                                                                                       | 1|0                                                                                                                                      | ...                                                                                                                                      | 0|0                                                                                                                                      | 1|1                                                                                                                                      | 0|0                                                                                                                                      | 0|0                                                                                                                                      | 0|0                                                                                                                                      | 0|1                                                                                                                                      | 0|1                                                                                                                                      | 1|1                                                                                                                                      | 0|1                                                                                                                                      | 0|0                                                                                                                                      |\n",
       "| 22                                                                                                                                       | 16860967                                                                                                                                 | rs28807214                                                                                                                               | A                                                                                                                                        | G                                                                                                                                        | 100                                                                                                                                      | PASS                                                                                                                                     | AC=2024;AF=0.404153;AN=5008;NS=2504;DP=26503;EAS_AF=0.4077;AMR_AF=0.4971;AFR_AF=0.3865;EUR_AF=0.4095;SAS_AF=0.3528;AA=.|||;VT=SNP        | GT                                                                                                                                       | 0|0                                                                                                                                      | ...                                                                                                                                      | 1|1                                                                                                                                      | 0|1                                                                                                                                      | 0|0                                                                                                                                      | 0|1                                                                                                                                      | 1|0                                                                                                                                      | 1|0                                                                                                                                      | 0|1                                                                                                                                      | 0|0                                                                                                                                      | 0|1                                                                                                                                      | 1|0                                                                                                                                      |\n",
       "| 22                                                                                                                                       | 17264565                                                                                                                                 | rs5748622                                                                                                                                | G                                                                                                                                        | T                                                                                                                                        | 100                                                                                                                                      | PASS                                                                                                                                     | AC=3246;AF=0.648163;AN=5008;NS=2504;DP=3046;EAS_AF=0.369;AMR_AF=0.562;AFR_AF=0.7859;EUR_AF=0.5915;SAS_AF=0.8691;AA=.|||;VT=SNP;EX_TARGET | GT                                                                                                                                       | 1|0                                                                                                                                      | ...                                                                                                                                      | 1|0                                                                                                                                      | 0|0                                                                                                                                      | 0|1                                                                                                                                      | 1|1                                                                                                                                      | 0|1                                                                                                                                      | 1|1                                                                                                                                      | 1|0                                                                                                                                      | 0|0                                                                                                                                      | 0|0                                                                                                                                      | 1|1                                                                                                                                      |\n",
       "| 22                                                                                                                                       | 17667426                                                                                                                                 | rs5994193                                                                                                                                | C                                                                                                                                        | T                                                                                                                                        | 100                                                                                                                                      | PASS                                                                                                                                     | AC=3125;AF=0.624002;AN=5008;NS=2504;DP=16888;EAS_AF=0.7768;AMR_AF=0.7666;AFR_AF=0.5144;EUR_AF=0.6342;SAS_AF=0.5031;AA=C|||;VT=SNP        | GT                                                                                                                                       | 0|1                                                                                                                                      | ...                                                                                                                                      | 1|1                                                                                                                                      | 1|1                                                                                                                                      | 0|1                                                                                                                                      | 1|1                                                                                                                                      | 0|1                                                                                                                                      | 1|1                                                                                                                                      | 1|1                                                                                                                                      | 0|1                                                                                                                                      | 1|1                                                                                                                                      | 0|1                                                                                                                                      |\n",
       "\n"
      ],
      "text/plain": [
       "  CHROM POS      ID          REF ALT QUAL FILTER\n",
       "1 22    16053659 rs915675    A   C   100  PASS  \n",
       "2 22    16460869 rs200741211 C   T   100  PASS  \n",
       "3 22    16860967 rs28807214  A   G   100  PASS  \n",
       "4 22    17264565 rs5748622   G   T   100  PASS  \n",
       "5 22    17667426 rs5994193   C   T   100  PASS  \n",
       "  INFO                                                                                                                                    \n",
       "1 AC=4295;AF=0.857628;AN=5008;NS=2504;DP=14514;EAS_AF=0.9167;AMR_AF=0.8329;AFR_AF=0.8994;EUR_AF=0.7296;SAS_AF=0.8896;AA=.|||;VT=SNP       \n",
       "2 AC=1003;AF=0.20028;AN=5008;NS=2504;DP=20254;EAS_AF=0.245;AMR_AF=0.1844;AFR_AF=0.0666;EUR_AF=0.3459;SAS_AF=0.1963;AA=c|||;VT=SNP         \n",
       "3 AC=2024;AF=0.404153;AN=5008;NS=2504;DP=26503;EAS_AF=0.4077;AMR_AF=0.4971;AFR_AF=0.3865;EUR_AF=0.4095;SAS_AF=0.3528;AA=.|||;VT=SNP       \n",
       "4 AC=3246;AF=0.648163;AN=5008;NS=2504;DP=3046;EAS_AF=0.369;AMR_AF=0.562;AFR_AF=0.7859;EUR_AF=0.5915;SAS_AF=0.8691;AA=.|||;VT=SNP;EX_TARGET\n",
       "5 AC=3125;AF=0.624002;AN=5008;NS=2504;DP=16888;EAS_AF=0.7768;AMR_AF=0.7666;AFR_AF=0.5144;EUR_AF=0.6342;SAS_AF=0.5031;AA=C|||;VT=SNP       \n",
       "  FORMAT NA06984 ... NA12762 NA12763 NA12775 NA12776 NA12777 NA12778 NA12812\n",
       "1 GT     1|0     ... 0|0     0|1     1|1     1|1     1|0     1|0     1|1    \n",
       "2 GT     1|0     ... 0|0     1|1     0|0     0|0     0|0     0|1     0|1    \n",
       "3 GT     0|0     ... 1|1     0|1     0|0     0|1     1|0     1|0     0|1    \n",
       "4 GT     1|0     ... 1|0     0|0     0|1     1|1     0|1     1|1     1|0    \n",
       "5 GT     0|1     ... 1|1     1|1     0|1     1|1     0|1     1|1     1|1    \n",
       "  NA12814 NA12815 NA12827\n",
       "1 1|0     1|0     0|1    \n",
       "2 1|1     0|1     0|0    \n",
       "3 0|0     0|1     1|0    \n",
       "4 0|0     0|0     1|1    \n",
       "5 0|1     1|1     0|1    "
      ]
     },
     "metadata": {},
     "output_type": "display_data"
    }
   ],
   "source": [
    "geno[1:5,]"
   ]
  },
  {
   "cell_type": "code",
   "execution_count": 6,
   "metadata": {},
   "outputs": [
    {
     "data": {
      "text/html": [
       "<table>\n",
       "<thead><tr><th></th><th scope=col>ï..trait</th><th scope=col>X</th><th scope=col>X.1</th><th scope=col>X.2</th><th scope=col>X.3</th><th scope=col>X.4</th><th scope=col>X.5</th><th scope=col>X.6</th><th scope=col>X.7</th><th scope=col>NA06984</th><th scope=col>...</th><th scope=col>NA12762</th><th scope=col>NA12763</th><th scope=col>NA12775</th><th scope=col>NA12776</th><th scope=col>NA12777</th><th scope=col>NA12778</th><th scope=col>NA12812</th><th scope=col>NA12814</th><th scope=col>NA12815</th><th scope=col>NA12827</th></tr></thead>\n",
       "<tbody>\n",
       "\t<tr><th scope=row>1</th><td>trait1   </td><td>NA       </td><td>NA       </td><td>NA       </td><td>NA       </td><td>NA       </td><td>NA       </td><td>NA       </td><td>NA       </td><td>29.39642 </td><td>...      </td><td>27.68933 </td><td> 9.903998</td><td>30.627380</td><td>30.294710</td><td>31.088220</td><td>28.38192 </td><td>29.74280 </td><td> 8.459469</td><td> 8.519417</td><td>29.718970</td></tr>\n",
       "\t<tr><th scope=row>2</th><td>trait2   </td><td>NA       </td><td>NA       </td><td>NA       </td><td>NA       </td><td>NA       </td><td>NA       </td><td>NA       </td><td>NA       </td><td>29.55007 </td><td>...      </td><td>29.29348 </td><td>20.662940</td><td>18.816950</td><td>21.725220</td><td>20.626230</td><td>28.18871 </td><td>20.30039 </td><td>29.988760</td><td>29.640890</td><td>30.266120</td></tr>\n",
       "\t<tr><th scope=row>3</th><td>trait3   </td><td>NA       </td><td>NA       </td><td>NA       </td><td>NA       </td><td>NA       </td><td>NA       </td><td>NA       </td><td>NA       </td><td>10.11668 </td><td>...      </td><td>10.29358 </td><td>10.271100</td><td> 6.756086</td><td> 9.684814</td><td> 9.352309</td><td>10.76807 </td><td>10.40913 </td><td>11.719640</td><td> 9.863073</td><td> 9.966832</td></tr>\n",
       "\t<tr><th scope=row>NA</th><td>NA       </td><td>NA       </td><td>NA       </td><td>NA       </td><td>NA       </td><td>NA       </td><td>NA       </td><td>NA       </td><td>NA       </td><td>      NA </td><td>...      </td><td>      NA </td><td>       NA</td><td>       NA</td><td>       NA</td><td>       NA</td><td>      NA </td><td>      NA </td><td>       NA</td><td>       NA</td><td>       NA</td></tr>\n",
       "\t<tr><th scope=row>NA.1</th><td>NA       </td><td>NA       </td><td>NA       </td><td>NA       </td><td>NA       </td><td>NA       </td><td>NA       </td><td>NA       </td><td>NA       </td><td>      NA </td><td>...      </td><td>      NA </td><td>       NA</td><td>       NA</td><td>       NA</td><td>       NA</td><td>      NA </td><td>      NA </td><td>       NA</td><td>       NA</td><td>       NA</td></tr>\n",
       "</tbody>\n",
       "</table>\n"
      ],
      "text/latex": [
       "\\begin{tabular}{r|llllllllllllllllllllllllllllllllllllllllllllllllllllllllllllllllllllllllllllllllllllllllll}\n",
       "  & ï..trait & X & X.1 & X.2 & X.3 & X.4 & X.5 & X.6 & X.7 & NA06984 & ... & NA12762 & NA12763 & NA12775 & NA12776 & NA12777 & NA12778 & NA12812 & NA12814 & NA12815 & NA12827\\\\\n",
       "\\hline\n",
       "\t1 & trait1    & NA        & NA        & NA        & NA        & NA        & NA        & NA        & NA        & 29.39642  & ...       & 27.68933  &  9.903998 & 30.627380 & 30.294710 & 31.088220 & 28.38192  & 29.74280  &  8.459469 &  8.519417 & 29.718970\\\\\n",
       "\t2 & trait2    & NA        & NA        & NA        & NA        & NA        & NA        & NA        & NA        & 29.55007  & ...       & 29.29348  & 20.662940 & 18.816950 & 21.725220 & 20.626230 & 28.18871  & 20.30039  & 29.988760 & 29.640890 & 30.266120\\\\\n",
       "\t3 & trait3    & NA        & NA        & NA        & NA        & NA        & NA        & NA        & NA        & 10.11668  & ...       & 10.29358  & 10.271100 &  6.756086 &  9.684814 &  9.352309 & 10.76807  & 10.40913  & 11.719640 &  9.863073 &  9.966832\\\\\n",
       "\tNA & NA        & NA        & NA        & NA        & NA        & NA        & NA        & NA        & NA        &       NA  & ...       &       NA  &        NA &        NA &        NA &        NA &       NA  &       NA  &        NA &        NA &        NA\\\\\n",
       "\tNA.1 & NA        & NA        & NA        & NA        & NA        & NA        & NA        & NA        & NA        &       NA  & ...       &       NA  &        NA &        NA &        NA &        NA &       NA  &       NA  &        NA &        NA &        NA\\\\\n",
       "\\end{tabular}\n"
      ],
      "text/markdown": [
       "\n",
       "| <!--/--> | ï..trait | X | X.1 | X.2 | X.3 | X.4 | X.5 | X.6 | X.7 | NA06984 | ... | NA12762 | NA12763 | NA12775 | NA12776 | NA12777 | NA12778 | NA12812 | NA12814 | NA12815 | NA12827 |\n",
       "|---|---|---|---|---|---|---|---|---|---|---|---|---|---|---|---|---|---|---|---|---|---|\n",
       "| 1 | trait1    | NA        | NA        | NA        | NA        | NA        | NA        | NA        | NA        | 29.39642  | ...       | 27.68933  |  9.903998 | 30.627380 | 30.294710 | 31.088220 | 28.38192  | 29.74280  |  8.459469 |  8.519417 | 29.718970 |\n",
       "| 2 | trait2    | NA        | NA        | NA        | NA        | NA        | NA        | NA        | NA        | 29.55007  | ...       | 29.29348  | 20.662940 | 18.816950 | 21.725220 | 20.626230 | 28.18871  | 20.30039  | 29.988760 | 29.640890 | 30.266120 |\n",
       "| 3 | trait3    | NA        | NA        | NA        | NA        | NA        | NA        | NA        | NA        | 10.11668  | ...       | 10.29358  | 10.271100 |  6.756086 |  9.684814 |  9.352309 | 10.76807  | 10.40913  | 11.719640 |  9.863073 |  9.966832 |\n",
       "| NA | NA        | NA        | NA        | NA        | NA        | NA        | NA        | NA        | NA        |       NA  | ...       |       NA  |        NA |        NA |        NA |        NA |       NA  |       NA  |        NA |        NA |        NA |\n",
       "| NA.1 | NA        | NA        | NA        | NA        | NA        | NA        | NA        | NA        | NA        |       NA  | ...       |       NA  |        NA |        NA |        NA |        NA |       NA  |       NA  |        NA |        NA |        NA |\n",
       "\n"
      ],
      "text/plain": [
       "     ï..trait X  X.1 X.2 X.3 X.4 X.5 X.6 X.7 NA06984  ... NA12762  NA12763  \n",
       "1    trait1   NA NA  NA  NA  NA  NA  NA  NA  29.39642 ... 27.68933  9.903998\n",
       "2    trait2   NA NA  NA  NA  NA  NA  NA  NA  29.55007 ... 29.29348 20.662940\n",
       "3    trait3   NA NA  NA  NA  NA  NA  NA  NA  10.11668 ... 10.29358 10.271100\n",
       "NA   NA       NA NA  NA  NA  NA  NA  NA  NA        NA ...       NA        NA\n",
       "NA.1 NA       NA NA  NA  NA  NA  NA  NA  NA        NA ...       NA        NA\n",
       "     NA12775   NA12776   NA12777   NA12778  NA12812  NA12814   NA12815  \n",
       "1    30.627380 30.294710 31.088220 28.38192 29.74280  8.459469  8.519417\n",
       "2    18.816950 21.725220 20.626230 28.18871 20.30039 29.988760 29.640890\n",
       "3     6.756086  9.684814  9.352309 10.76807 10.40913 11.719640  9.863073\n",
       "NA          NA        NA        NA       NA       NA        NA        NA\n",
       "NA.1        NA        NA        NA       NA       NA        NA        NA\n",
       "     NA12827  \n",
       "1    29.718970\n",
       "2    30.266120\n",
       "3     9.966832\n",
       "NA          NA\n",
       "NA.1        NA"
      ]
     },
     "metadata": {},
     "output_type": "display_data"
    }
   ],
   "source": [
    "pheno[1:5,]"
   ]
  },
  {
   "cell_type": "code",
   "execution_count": 25,
   "metadata": {},
   "outputs": [
    {
     "data": {
      "text/html": [
       "<ol class=list-inline>\n",
       "\t<li>1</li>\n",
       "\t<li>0</li>\n",
       "\t<li>1</li>\n",
       "\t<li>1</li>\n",
       "\t<li>1</li>\n",
       "\t<li>1</li>\n",
       "\t<li>0</li>\n",
       "\t<li>2</li>\n",
       "\t<li>2</li>\n",
       "\t<li>1</li>\n",
       "\t<li>0</li>\n",
       "\t<li>2</li>\n",
       "\t<li>0</li>\n",
       "\t<li>1</li>\n",
       "\t<li>2</li>\n",
       "\t<li>1</li>\n",
       "\t<li>2</li>\n",
       "\t<li>2</li>\n",
       "\t<li>1</li>\n",
       "\t<li>1</li>\n",
       "\t<li>2</li>\n",
       "\t<li>1</li>\n",
       "\t<li>2</li>\n",
       "\t<li>2</li>\n",
       "\t<li>2</li>\n",
       "\t<li>0</li>\n",
       "\t<li>2</li>\n",
       "\t<li>1</li>\n",
       "\t<li>2</li>\n",
       "\t<li>1</li>\n",
       "\t<li>2</li>\n",
       "\t<li>1</li>\n",
       "\t<li>2</li>\n",
       "\t<li>2</li>\n",
       "\t<li>1</li>\n",
       "\t<li>2</li>\n",
       "\t<li>1</li>\n",
       "\t<li>2</li>\n",
       "\t<li>2</li>\n",
       "\t<li>1</li>\n",
       "\t<li>1</li>\n",
       "\t<li>2</li>\n",
       "\t<li>0</li>\n",
       "\t<li>2</li>\n",
       "\t<li>2</li>\n",
       "\t<li>2</li>\n",
       "\t<li>2</li>\n",
       "\t<li>1</li>\n",
       "\t<li>2</li>\n",
       "\t<li>2</li>\n",
       "\t<li>1</li>\n",
       "\t<li>1</li>\n",
       "\t<li>1</li>\n",
       "\t<li>1</li>\n",
       "\t<li>1</li>\n",
       "\t<li>2</li>\n",
       "\t<li>2</li>\n",
       "\t<li>1</li>\n",
       "\t<li>2</li>\n",
       "\t<li>2</li>\n",
       "\t<li>1</li>\n",
       "\t<li>1</li>\n",
       "\t<li>1</li>\n",
       "\t<li>2</li>\n",
       "\t<li>2</li>\n",
       "\t<li>1</li>\n",
       "\t<li>1</li>\n",
       "\t<li>1</li>\n",
       "\t<li>2</li>\n",
       "\t<li>2</li>\n",
       "\t<li>2</li>\n",
       "\t<li>0</li>\n",
       "\t<li>1</li>\n",
       "\t<li>2</li>\n",
       "\t<li>2</li>\n",
       "\t<li>1</li>\n",
       "\t<li>1</li>\n",
       "\t<li>2</li>\n",
       "\t<li>1</li>\n",
       "\t<li>1</li>\n",
       "\t<li>1</li>\n",
       "</ol>\n"
      ],
      "text/latex": [
       "\\begin{enumerate*}\n",
       "\\item 1\n",
       "\\item 0\n",
       "\\item 1\n",
       "\\item 1\n",
       "\\item 1\n",
       "\\item 1\n",
       "\\item 0\n",
       "\\item 2\n",
       "\\item 2\n",
       "\\item 1\n",
       "\\item 0\n",
       "\\item 2\n",
       "\\item 0\n",
       "\\item 1\n",
       "\\item 2\n",
       "\\item 1\n",
       "\\item 2\n",
       "\\item 2\n",
       "\\item 1\n",
       "\\item 1\n",
       "\\item 2\n",
       "\\item 1\n",
       "\\item 2\n",
       "\\item 2\n",
       "\\item 2\n",
       "\\item 0\n",
       "\\item 2\n",
       "\\item 1\n",
       "\\item 2\n",
       "\\item 1\n",
       "\\item 2\n",
       "\\item 1\n",
       "\\item 2\n",
       "\\item 2\n",
       "\\item 1\n",
       "\\item 2\n",
       "\\item 1\n",
       "\\item 2\n",
       "\\item 2\n",
       "\\item 1\n",
       "\\item 1\n",
       "\\item 2\n",
       "\\item 0\n",
       "\\item 2\n",
       "\\item 2\n",
       "\\item 2\n",
       "\\item 2\n",
       "\\item 1\n",
       "\\item 2\n",
       "\\item 2\n",
       "\\item 1\n",
       "\\item 1\n",
       "\\item 1\n",
       "\\item 1\n",
       "\\item 1\n",
       "\\item 2\n",
       "\\item 2\n",
       "\\item 1\n",
       "\\item 2\n",
       "\\item 2\n",
       "\\item 1\n",
       "\\item 1\n",
       "\\item 1\n",
       "\\item 2\n",
       "\\item 2\n",
       "\\item 1\n",
       "\\item 1\n",
       "\\item 1\n",
       "\\item 2\n",
       "\\item 2\n",
       "\\item 2\n",
       "\\item 0\n",
       "\\item 1\n",
       "\\item 2\n",
       "\\item 2\n",
       "\\item 1\n",
       "\\item 1\n",
       "\\item 2\n",
       "\\item 1\n",
       "\\item 1\n",
       "\\item 1\n",
       "\\end{enumerate*}\n"
      ],
      "text/markdown": [
       "1. 1\n",
       "2. 0\n",
       "3. 1\n",
       "4. 1\n",
       "5. 1\n",
       "6. 1\n",
       "7. 0\n",
       "8. 2\n",
       "9. 2\n",
       "10. 1\n",
       "11. 0\n",
       "12. 2\n",
       "13. 0\n",
       "14. 1\n",
       "15. 2\n",
       "16. 1\n",
       "17. 2\n",
       "18. 2\n",
       "19. 1\n",
       "20. 1\n",
       "21. 2\n",
       "22. 1\n",
       "23. 2\n",
       "24. 2\n",
       "25. 2\n",
       "26. 0\n",
       "27. 2\n",
       "28. 1\n",
       "29. 2\n",
       "30. 1\n",
       "31. 2\n",
       "32. 1\n",
       "33. 2\n",
       "34. 2\n",
       "35. 1\n",
       "36. 2\n",
       "37. 1\n",
       "38. 2\n",
       "39. 2\n",
       "40. 1\n",
       "41. 1\n",
       "42. 2\n",
       "43. 0\n",
       "44. 2\n",
       "45. 2\n",
       "46. 2\n",
       "47. 2\n",
       "48. 1\n",
       "49. 2\n",
       "50. 2\n",
       "51. 1\n",
       "52. 1\n",
       "53. 1\n",
       "54. 1\n",
       "55. 1\n",
       "56. 2\n",
       "57. 2\n",
       "58. 1\n",
       "59. 2\n",
       "60. 2\n",
       "61. 1\n",
       "62. 1\n",
       "63. 1\n",
       "64. 2\n",
       "65. 2\n",
       "66. 1\n",
       "67. 1\n",
       "68. 1\n",
       "69. 2\n",
       "70. 2\n",
       "71. 2\n",
       "72. 0\n",
       "73. 1\n",
       "74. 2\n",
       "75. 2\n",
       "76. 1\n",
       "77. 1\n",
       "78. 2\n",
       "79. 1\n",
       "80. 1\n",
       "81. 1\n",
       "\n",
       "\n"
      ],
      "text/plain": [
       " [1] 1 0 1 1 1 1 0 2 2 1 0 2 0 1 2 1 2 2 1 1 2 1 2 2 2 0 2 1 2 1 2 1 2 2 1 2 1 2\n",
       "[39] 2 1 1 2 0 2 2 2 2 1 2 2 1 1 1 1 1 2 2 1 2 2 1 1 1 2 2 1 1 1 2 2 2 0 1 2 2 1\n",
       "[77] 1 2 1 1 1"
      ]
     },
     "metadata": {},
     "output_type": "display_data"
    },
    {
     "data": {
      "text/html": [
       "<dl class=dl-horizontal>\n",
       "\t<dt>Df1</dt>\n",
       "\t\t<dd>2</dd>\n",
       "\t<dt>Df2</dt>\n",
       "\t\t<dd>78</dd>\n",
       "\t<dt>Sum Sq1</dt>\n",
       "\t\t<dd>22.9006354446193</dd>\n",
       "\t<dt>Sum Sq2</dt>\n",
       "\t\t<dd>6525.11498476768</dd>\n",
       "\t<dt>Mean Sq1</dt>\n",
       "\t\t<dd>11.4503177223096</dd>\n",
       "\t<dt>Mean Sq2</dt>\n",
       "\t\t<dd>83.6553203175344</dd>\n",
       "\t<dt>F value1</dt>\n",
       "\t\t<dd>0.136874949242285</dd>\n",
       "\t<dt>F value2</dt>\n",
       "\t\t<dd>&lt;NA&gt;</dd>\n",
       "\t<dt>Pr(&gt;F)1</dt>\n",
       "\t\t<dd>0.872288273679941</dd>\n",
       "\t<dt>Pr(&gt;F)2</dt>\n",
       "\t\t<dd>&lt;NA&gt;</dd>\n",
       "</dl>\n"
      ],
      "text/latex": [
       "\\begin{description*}\n",
       "\\item[Df1] 2\n",
       "\\item[Df2] 78\n",
       "\\item[Sum Sq1] 22.9006354446193\n",
       "\\item[Sum Sq2] 6525.11498476768\n",
       "\\item[Mean Sq1] 11.4503177223096\n",
       "\\item[Mean Sq2] 83.6553203175344\n",
       "\\item[F value1] 0.136874949242285\n",
       "\\item[F value2] <NA>\n",
       "\\item[Pr(>F)1] 0.872288273679941\n",
       "\\item[Pr(>F)2] <NA>\n",
       "\\end{description*}\n"
      ],
      "text/markdown": [
       "Df1\n",
       ":   2Df2\n",
       ":   78Sum Sq1\n",
       ":   22.9006354446193Sum Sq2\n",
       ":   6525.11498476768Mean Sq1\n",
       ":   11.4503177223096Mean Sq2\n",
       ":   83.6553203175344F value1\n",
       ":   0.136874949242285F value2\n",
       ":   &lt;NA&gt;Pr(&amp;gt;F)1\n",
       ":   0.872288273679941Pr(&amp;gt;F)2\n",
       ":   &lt;NA&gt;\n",
       "\n"
      ],
      "text/plain": [
       "         Df1          Df2      Sum Sq1      Sum Sq2     Mean Sq1     Mean Sq2 \n",
       "   2.0000000   78.0000000   22.9006354 6525.1149848   11.4503177   83.6553203 \n",
       "    F value1     F value2      Pr(>F)1      Pr(>F)2 \n",
       "   0.1368749           NA    0.8722883           NA "
      ]
     },
     "metadata": {},
     "output_type": "display_data"
    },
    {
     "data": {
      "image/png": "[encoded data removed]",
      "text/plain": [
       "Plot with title \"rs915675\""
      ]
     },
     "metadata": {},
     "output_type": "display_data"
    }
   ],
   "source": [
    "n = length(geno[1,])\n",
    "snpid = geno[1,3]\n",
    "genorow = geno[1,10:n]\n",
    "phenorow = as.numeric(pheno[1,10:n])\n",
    "#genorow\n",
    "#phenorow\n",
    "\n",
    "numalt = integer(length(genorow))\n",
    "numalt[genorow == \"0|0\"] = 0\n",
    "numalt[genorow == \"1|0\"] = 1\n",
    "numalt[genorow == \"0|1\"] = 1\n",
    "numalt[genorow == \"1|1\"] = 2\n",
    "numalt\n",
    "\n",
    "boxplot(phenorow~numalt, xlab=\"# ALT alleles\", ylab=\"trait\", main=snpid)\n",
    "lmfit = lm(phenorow~as.factor(numalt))\n",
    "a = anova(lmfit)\n",
    "\n",
    "unlist(a)"
   ]
  },
  {
   "cell_type": "code",
   "execution_count": 78,
   "metadata": {},
   "outputs": [],
   "source": [
    "testone <- function(geno1, pheno1, isShow){\n",
    "     n = length(geno1)\n",
    "     snpid = geno1[3]\n",
    "     genorow = geno1[10:n]\n",
    "     phenorow = as.numeric(pheno1[10:n])\n",
    "\n",
    "    numalt = integer(length(genorow))\n",
    "    numalt[genorow == \"0|0\"] = 0\n",
    "    numalt[genorow == \"1|0\"] = 1\n",
    "    numalt[genorow == \"0|1\"] = 1\n",
    "    numalt[genorow == \"1|1\"] = 2\n",
    "\n",
    "    lmfit = lm(phenorow~as.factor(numalt))\n",
    "    temp = anova(lmfit)\n",
    "    pv = unlist(temp)[\"Pr(>F)1\"]\n",
    "    \n",
    "    if(isShow==TRUE){\n",
    "        boxplot(phenorow~numalt, xlab=\"# ALT alleles\", ylab=\"trait\", main=snpid)\n",
    "    }    \n",
    "    pv\n",
    "}\n",
    "\n",
    "testall <- function(geno, pheno1){\n",
    "\n",
    "    rawp = apply(geno, 1, testone, pheno1, FALSE)\n",
    "    adjp = p.adjust(rawp, method=\"fdr\")\n",
    "    \n",
    "    list(rawp=rawp, adjp=adjp)\n",
    "}"
   ]
  },
  {
   "cell_type": "code",
   "execution_count": 79,
   "metadata": {},
   "outputs": [
    {
     "data": {
      "image/png": "[encoded data removed]",
      "text/plain": [
       "plot without title"
      ]
     },
     "metadata": {},
     "output_type": "display_data"
    }
   ],
   "source": [
    "z <- testall(geno, pheno[1,])\n",
    "plot(z$rawp, z$adjp, xlab=\"raw p-values\", ylab=\"adj p-vlaues\")\n"
   ]
  },
  {
   "cell_type": "code",
   "execution_count": 75,
   "metadata": {},
   "outputs": [
    {
     "data": {
      "text/html": [
       "4"
      ],
      "text/latex": [
       "4"
      ],
      "text/markdown": [
       "4"
      ],
      "text/plain": [
       "[1] 4"
      ]
     },
     "metadata": {},
     "output_type": "display_data"
    },
    {
     "data": {
      "text/html": [
       "<strong>Pr(&gt;F)1:</strong> 6.58885716667895e-78"
      ],
      "text/latex": [
       "\\textbf{Pr(>F)1:} 6.58885716667895e-78"
      ],
      "text/markdown": [
       "**Pr(&amp;gt;F)1:** 6.58885716667895e-78"
      ],
      "text/plain": [
       "     Pr(>F)1 \n",
       "6.588857e-78 "
      ]
     },
     "metadata": {},
     "output_type": "display_data"
    },
    {
     "data": {
      "image/png": "[encoded data removed]",
      "text/plain": [
       "Plot with title \"rs5748622\""
      ]
     },
     "metadata": {},
     "output_type": "display_data"
    }
   ],
   "source": [
    "which(z$adjp<0.01)\n",
    "testone(geno[4,], pheno[1,], TRUE)"
   ]
  },
  {
   "cell_type": "code",
   "execution_count": null,
   "metadata": {},
   "outputs": [],
   "source": []
  }
 ],
 "metadata": {
  "kernelspec": {
   "display_name": "R",
   "language": "R",
   "name": "ir"
  },
  "language_info": {
   "codemirror_mode": "r",
   "file_extension": ".r",
   "mimetype": "text/x-r-source",
   "name": "R",
   "pygments_lexer": "r",
   "version": "3.6.1"
  }
 },
 "nbformat": 4,
 "nbformat_minor": 4
}
