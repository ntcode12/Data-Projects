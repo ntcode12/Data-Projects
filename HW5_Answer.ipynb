{
 "cells": [
  {
   "cell_type": "markdown",
   "metadata": {},
   "source": [
    "# Assignment 5 answer\n",
    "\n",
    "## 1. TreeNode [3pt]\n",
    "Has four properties including key, distance, left and right, where key is for storing species name,\n",
    "distance is for branch length, left is for the left child and right is for the right child. The class has\n",
    "a function print to print the tree structure in the form of (key, distance, left, right). For example,\n",
    "(‘W_X’,0.5,(‘W’,0,(),()),(‘X’,0,(),())) is for the tree W_X with left child (‘W’,0,(),()) and right child\n",
    "(‘X’,0,(),()); the branch length to its child is 0.5"
   ]
  },
  {
   "cell_type": "code",
   "execution_count": 8,
   "metadata": {},
   "outputs": [],
   "source": [
    "class TreeNode:\n",
    "    def __init__(self, name = \"\", distance = -1):\n",
    "        self.name = name\n",
    "        self.distance = float(distance)\n",
    "        self.left = None\n",
    "        self.right = None\n",
    "        #You can also add another property to store how many leaves in under this node\n",
    "        #self.size = 1\n",
    "    def getStr(self):\n",
    "        if self.left is None:\n",
    "            leftStr = \"()\"\n",
    "        else:\n",
    "            leftStr = self.left.getStr()\n",
    "        if self.right is None:\n",
    "            rightStr = \"()\"\n",
    "        else:\n",
    "            rightStr = self.right.getStr()\n",
    "        return \"({}, {}, {}, {})\".format(self.name, self.distance, leftStr, rightStr)\n",
    "    def print(self):\n",
    "        print(self.getStr())\n",
    "    #for Q3\n",
    "    def getChildrenSize(self): #only leaves node\n",
    "        #return self.size\n",
    "        if self.left is None and self.right is None:\n",
    "            count = 1\n",
    "        else:\n",
    "            count = self.left.getChildrenSize() + self.right.getChildrenSize()\n",
    "        return count"
   ]
  },
  {
   "cell_type": "code",
   "execution_count": 9,
   "metadata": {},
   "outputs": [],
   "source": [
    "from upgmaData import *"
   ]
  },
  {
   "cell_type": "code",
   "execution_count": 10,
   "metadata": {},
   "outputs": [
    {
     "name": "stdout",
     "output_type": "stream",
     "text": [
      "(W_X, 0.5, (W, 0.0, (), ()), (X, 0.0, (), ()))\n"
     ]
    }
   ],
   "source": [
    "#test for Q1\n",
    "WX = TreeNode(\"W_X\", 0.5)\n",
    "WX.left = TreeNode(\"W\", 0)\n",
    "WX.right = TreeNode(\"X\", 0)\n",
    "WX.print()"
   ]
  },
  {
   "cell_type": "markdown",
   "metadata": {},
   "source": [
    "## 2. findClosestPair(Distances) [3pt]\n",
    "Inputs Distances dictionary and returns the key for the pair of nodes that are closest. For\n",
    "example, if the input is testDistances, the function returns (‘W’, ‘X’)."
   ]
  },
  {
   "cell_type": "code",
   "execution_count": 3,
   "metadata": {},
   "outputs": [],
   "source": [
    "def findClosestPair(Distances):\n",
    "    minValue = float(\"inf\")\n",
    "    minPair = None\n",
    "    for node1, node2 in Distances:\n",
    "        if node1 == node2:\n",
    "            continue\n",
    "        if Distances[node1, node2] < minValue:\n",
    "            minValue = Distances[node1, node2]\n",
    "            minPair = (node1, node2)\n",
    "    return minPair"
   ]
  },
  {
   "cell_type": "code",
   "execution_count": 7,
   "metadata": {},
   "outputs": [
    {
     "name": "stdout",
     "output_type": "stream",
     "text": [
      "('W', 'X')\n",
      "('Finnish', 'Papuan')\n"
     ]
    }
   ],
   "source": [
    "print(findClosestPair(testDistances))\n",
    "print(findClosestPair(humansDistances))"
   ]
  },
  {
   "cell_type": "markdown",
   "metadata": {},
   "source": [
    "## 3. updateDist(Distances, newNode) [3pt]\n",
    "Inputs Distances dictionary and a new tree node. Updates the Distances dictionary by adding the\n",
    "distances between newNode and all the other nodes. Does not calculate the distance between\n",
    "newNode and its children in the Distances. This function returns the updated Distances\n",
    "dictionary"
   ]
  },
  {
   "cell_type": "code",
   "execution_count": 11,
   "metadata": {},
   "outputs": [],
   "source": [
    "def calcDistance(distances, node1, newNode):\n",
    "    leftSize = newNode.left.getChildrenSize()\n",
    "    rightSize = newNode.right.getChildrenSize()\n",
    "    return (distances[node1, newNode.left] * leftSize + distances[node1, newNode.right] * rightSize) / (leftSize + rightSize)\n",
    "    #You can also calculate this distance by two for loops adding distances for all possible pairs\n",
    "    # between the two nodes (time-consuming)\n",
    "\n",
    "def updateDist(distances, newNode):\n",
    "    newDistances = {}\n",
    "    for node1, node2 in distances:\n",
    "        if (node1, newNode) not in newDistances:\n",
    "            if node1 != newNode.left and node1 != newNode.right:\n",
    "                newDistances[node1, newNode] = calcDistance(distances, node1, newNode)\n",
    "                newDistances[newNode, node1] = newDistances[node1, newNode]\n",
    "        if (node2, newNode) not in newDistances:\n",
    "            if node2 != newNode.left and node2 != newNode.right:\n",
    "                newDistances[node2, newNode] = calcDistance(distances, node2, newNode)\n",
    "                newDistances[newNode, node2] = newDistances[node2, newNode]\n",
    "        if node1 != newNode.left and node1 != newNode.right and node2 != newNode.left and node2 != newNode.right:\n",
    "            newDistances[node1, node2] = distances[node1, node2]\n",
    "    return newDistances\n",
    "            "
   ]
  },
  {
   "cell_type": "markdown",
   "metadata": {},
   "source": [
    "## 4. upgma(Distances) [4pt]\n",
    "This function runs the UPGMA algorithm described in lecture. First, it initializes a list\n",
    "TreeNodesList with multiple new TreeNode referring to humansList (the list TreeNodesList\n",
    "should contain six TreeNodes). Then, it repeats the following steps until there is only one tree\n",
    "node left in the list TreeNodesList, at which point this tree is returned.\n",
    "<br>\n",
    "a. Find the key for the closest pair of nodes in Distances (use findClosestPair)\n",
    "<br>\n",
    "b. Create a new TreeNode and assign the pair of nodes stored in TreeNodesList as its\n",
    "children. Calculate the distance between the new TreeNode to its children and store the\n",
    "value in the new TreeNode.\n",
    "<br>\n",
    "c. Update the TreeNodesList by removing the pair of nodes referring to a.\n",
    "<br>\n",
    "d. Update the Distances dictionary (use updateDist)\n",
    "<br>\n",
    "e. Add the new TreeNode into TreeNodesList"
   ]
  },
  {
   "cell_type": "code",
   "execution_count": 15,
   "metadata": {},
   "outputs": [],
   "source": [
    "def merge(node1, node2, distance):\n",
    "    newNode = TreeNode(\"[\" + node1.name + \"_\" + node2.name + \"]\", distance / 2)\n",
    "    \n",
    "    #Optional to store distance to the root rather than to the bottom\n",
    "    #node1.distance = newNode.distance - node1.distance\n",
    "    #node2.distance = newNode.distance - node2.distance \n",
    "\n",
    "    newNode.left = node1\n",
    "    newNode.right = node2\n",
    "    #If you use size property, remember to update it.\n",
    "    #newNode.size = node1.size + node2.size\n",
    "    return newNode\n",
    "\n",
    "def changeDistance(nodeList, distances):\n",
    "    nodeDistances = {}\n",
    "    for node1Name, node2Name in distances:\n",
    "        nodeDistances[nodeList[node1Name], nodeList[node2Name]] = distances[node1Name, node2Name]\n",
    "    return nodeDistances\n",
    "\n",
    "def upgma(nameList, distances):\n",
    "    nodes = {}\n",
    "    for name in nameList:\n",
    "        nodes[name] = TreeNode(name, 0)\n",
    "    distances = changeDistance(nodes, distances)\n",
    "    while len(nodes) != 1:\n",
    "        node1, node2 = findClosestPair(distances)\n",
    "        newNode = merge(node1, node2, distances[node1, node2])\n",
    "        distances = updateDist(distances, newNode)\n",
    "        nodes[newNode.name] = newNode\n",
    "        del nodes[node1.name]\n",
    "        del nodes[node2.name]\n",
    "    return nodes.popitem()[1]"
   ]
  },
  {
   "cell_type": "code",
   "execution_count": 16,
   "metadata": {},
   "outputs": [
    {
     "name": "stdout",
     "output_type": "stream",
     "text": [
      "([[W_X]_[Y_Z]], 1.25, ([W_X], 0.5, (W, 0.0, (), ()), (X, 0.0, (), ())), ([Y_Z], 0.5, (Y, 0.0, (), ()), (Z, 0.0, (), ())))\n"
     ]
    }
   ],
   "source": [
    "upgma(testList, testDistances).print()"
   ]
  },
  {
   "cell_type": "code",
   "execution_count": 17,
   "metadata": {},
   "outputs": [
    {
     "name": "stdout",
     "output_type": "stream",
     "text": [
      "([San_[Kikuyu_[Yoruba_[Han_[Finnish_Papuan]]]]], 0.0026804, (San, 0.0, (), ()), ([Kikuyu_[Yoruba_[Han_[Finnish_Papuan]]]], 0.0023785, (Kikuyu, 0.0, (), ()), ([Yoruba_[Han_[Finnish_Papuan]]], 0.0010831666666666665, (Yoruba, 0.0, (), ()), ([Han_[Finnish_Papuan]], 0.0009215, (Han, 0.0, (), ()), ([Finnish_Papuan], 0.000656, (Finnish, 0.0, (), ()), (Papuan, 0.0, (), ()))))))\n"
     ]
    }
   ],
   "source": [
    "upgma(humansList, humansDistances).print()"
   ]
  },
  {
   "cell_type": "code",
   "execution_count": 131,
   "metadata": {},
   "outputs": [],
   "source": [
    "#A more optimal way to design UPGMA\n",
    "#I would also add size property to TreeNode class\n",
    "\n",
    "\n",
    "import heapq\n",
    "def calcDistance_heap(distances, node1, newNode):\n",
    "    leftSize = newNode.left.getChildrenSize()\n",
    "    rightSize = newNode.right.getChildrenSize()\n",
    "    return (distances[node1.name, newNode.left.name] * leftSize + distances[node1.name, newNode.right.name] * rightSize) / (leftSize + rightSize)\n",
    "\n",
    "\n",
    "def updateDistances_heap(nodes, distances, nodeDistances, newNode):\n",
    "    for nodename in nodes:\n",
    "        node = nodes[nodename]\n",
    "        distances[nodename, newNode.name] = calcDistance_heap(distances, node, newNode)\n",
    "        distances[newNode.name, nodename] = distances[nodename, newNode.name]\n",
    "        heapq.heappush(nodeDistances, (distances[nodename, newNode.name], (nodename, newNode.name)))\n",
    "\n",
    "def upgma_heap(nameList, distances):\n",
    "    nodes = {}\n",
    "    for name in nameList:\n",
    "        nodes[name] = TreeNode(name, 0)\n",
    "    nodeDistances = []\n",
    "    for node1name, node2name in distances:\n",
    "        if node1name != node2name:\n",
    "            name1, name2 = sorted([node1name, node2name])\n",
    "            if name1 == node1name and name2 == node2name:\n",
    "                heapq.heappush(nodeDistances, (distances[name1, name2], (name1, name2)))\n",
    "    usedNodes = set()\n",
    "    while nodeDistances:\n",
    "        minDistance, (node1name, node2name) = heapq.heappop(nodeDistances)\n",
    "        if node1name in usedNodes or node2name in usedNodes:\n",
    "            continue\n",
    "        node1 = nodes[node1name]\n",
    "        node2 = nodes[node2name]\n",
    "        newNode = merge(node1, node2, distances[node1name, node2name])        \n",
    "        del nodes[node1name]\n",
    "        del nodes[node2name]\n",
    "        updateDistances_heap(nodes, distances, nodeDistances, newNode)\n",
    "        \n",
    "        usedNodes.add(node1name)\n",
    "        usedNodes.add(node2name)\n",
    "        nodes[newNode.name] = newNode\n",
    "    return newNode"
   ]
  },
  {
   "cell_type": "code",
   "execution_count": 132,
   "metadata": {},
   "outputs": [
    {
     "name": "stdout",
     "output_type": "stream",
     "text": [
      "([San_[Kikuyu_[Yoruba_[Han_[Finnish_Papuan]]]]], 0.0026804, (San, 0.0026804, (), ()), ([Kikuyu_[Yoruba_[Han_[Finnish_Papuan]]]], 0.0003018999999999999, (Kikuyu, 0.0023785, (), ()), ([Yoruba_[Han_[Finnish_Papuan]]], 0.0012953333333333334, (Yoruba, 0.0010831666666666665, (), ()), ([Han_[Finnish_Papuan]], 0.0001616666666666665, (Han, 0.0009215, (), ()), ([Finnish_Papuan], 0.0002655, (Finnish, 0.000656, (), ()), (Papuan, 0.000656, (), ()))))))\n"
     ]
    }
   ],
   "source": [
    "upgma_heap(humansList, humansDistances).print()"
   ]
  },
  {
   "cell_type": "code",
   "execution_count": null,
   "metadata": {},
   "outputs": [],
   "source": []
  }
 ],
 "metadata": {
  "kernelspec": {
   "display_name": "Python 3",
   "language": "python",
   "name": "python3"
  },
  "language_info": {
   "codemirror_mode": {
    "name": "ipython",
    "version": 3
   },
   "file_extension": ".py",
   "mimetype": "text/x-python",
   "name": "python",
   "nbconvert_exporter": "python",
   "pygments_lexer": "ipython3",
   "version": "3.8.2"
  }
 },
 "nbformat": 4,
 "nbformat_minor": 4
}
