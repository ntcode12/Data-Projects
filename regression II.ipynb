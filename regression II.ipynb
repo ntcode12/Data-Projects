{
 "cells": [
  {
   "cell_type": "code",
   "execution_count": null,
   "metadata": {},
   "outputs": [],
   "source": [
    "# initialization\n",
    "library(caret)\n",
    "library(DNAshapeR)\n",
    "library(ggplot2)\n",
    "library(grid)\n",
    "\n",
    "set.seed(168)"
   ]
  },
  {
   "cell_type": "markdown",
   "metadata": {},
   "source": [
    "## 1. How to look into the data"
   ]
  },
  {
   "cell_type": "code",
   "execution_count": 182,
   "metadata": {},
   "outputs": [
    {
     "data": {
      "image/png": "[encoded data removed]",
      "text/plain": [
       "plot without title"
      ]
     },
     "metadata": {},
     "output_type": "display_data"
    }
   ],
   "source": [
    "# load data\n",
    "df <- read.csv(\"home_data.csv\")\n",
    "\n",
    "# 1. explore the data\n",
    "head(df)\n",
    "dim(df)\n",
    "summary(df)\n",
    "boxplot(df$sqft_lot)"
   ]
  },
  {
   "cell_type": "code",
   "execution_count": 183,
   "metadata": {},
   "outputs": [
    {
     "data": {
      "text/html": [],
      "text/latex": [],
      "text/markdown": [],
      "text/plain": [
       "character(0)"
      ]
     },
     "metadata": {},
     "output_type": "display_data"
    }
   ],
   "source": [
    "# 2. check is there is missing data\n",
    "df[is.na(df)]"
   ]
  },
  {
   "cell_type": "code",
   "execution_count": 190,
   "metadata": {},
   "outputs": [
    {
     "data": {
      "text/html": [
       "<table>\n",
       "<thead><tr><th></th><th scope=col>price</th><th scope=col>bathrooms</th><th scope=col>sqft_living</th><th scope=col>grade</th><th scope=col>sqft_above</th><th scope=col>sqft_living15</th></tr></thead>\n",
       "<tbody>\n",
       "\t<tr><th scope=row>price</th><td>1.0000000</td><td>0.5251375</td><td>0.7020351</td><td>0.6674343</td><td>0.6055673</td><td>0.5853789</td></tr>\n",
       "\t<tr><th scope=row>bathrooms</th><td>0.5251375</td><td>1.0000000</td><td>0.7546653</td><td>0.6649825</td><td>0.6853425</td><td>0.5686343</td></tr>\n",
       "\t<tr><th scope=row>sqft_living</th><td>0.7020351</td><td>0.7546653</td><td>1.0000000</td><td>0.7627045</td><td>0.8765966</td><td>0.7564203</td></tr>\n",
       "\t<tr><th scope=row>grade</th><td>0.6674343</td><td>0.6649825</td><td>0.7627045</td><td>1.0000000</td><td>0.7559229</td><td>0.7132021</td></tr>\n",
       "\t<tr><th scope=row>sqft_above</th><td>0.6055673</td><td>0.6853425</td><td>0.8765966</td><td>0.7559229</td><td>1.0000000</td><td>0.7318703</td></tr>\n",
       "\t<tr><th scope=row>sqft_living15</th><td>0.5853789</td><td>0.5686343</td><td>0.7564203</td><td>0.7132021</td><td>0.7318703</td><td>1.0000000</td></tr>\n",
       "</tbody>\n",
       "</table>\n"
      ],
      "text/latex": [
       "\\begin{tabular}{r|llllll}\n",
       "  & price & bathrooms & sqft\\_living & grade & sqft\\_above & sqft\\_living15\\\\\n",
       "\\hline\n",
       "\tprice & 1.0000000 & 0.5251375 & 0.7020351 & 0.6674343 & 0.6055673 & 0.5853789\\\\\n",
       "\tbathrooms & 0.5251375 & 1.0000000 & 0.7546653 & 0.6649825 & 0.6853425 & 0.5686343\\\\\n",
       "\tsqft\\_living & 0.7020351 & 0.7546653 & 1.0000000 & 0.7627045 & 0.8765966 & 0.7564203\\\\\n",
       "\tgrade & 0.6674343 & 0.6649825 & 0.7627045 & 1.0000000 & 0.7559229 & 0.7132021\\\\\n",
       "\tsqft\\_above & 0.6055673 & 0.6853425 & 0.8765966 & 0.7559229 & 1.0000000 & 0.7318703\\\\\n",
       "\tsqft\\_living15 & 0.5853789 & 0.5686343 & 0.7564203 & 0.7132021 & 0.7318703 & 1.0000000\\\\\n",
       "\\end{tabular}\n"
      ],
      "text/markdown": [
       "\n",
       "| <!--/--> | price | bathrooms | sqft_living | grade | sqft_above | sqft_living15 |\n",
       "|---|---|---|---|---|---|---|\n",
       "| price | 1.0000000 | 0.5251375 | 0.7020351 | 0.6674343 | 0.6055673 | 0.5853789 |\n",
       "| bathrooms | 0.5251375 | 1.0000000 | 0.7546653 | 0.6649825 | 0.6853425 | 0.5686343 |\n",
       "| sqft_living | 0.7020351 | 0.7546653 | 1.0000000 | 0.7627045 | 0.8765966 | 0.7564203 |\n",
       "| grade | 0.6674343 | 0.6649825 | 0.7627045 | 1.0000000 | 0.7559229 | 0.7132021 |\n",
       "| sqft_above | 0.6055673 | 0.6853425 | 0.8765966 | 0.7559229 | 1.0000000 | 0.7318703 |\n",
       "| sqft_living15 | 0.5853789 | 0.5686343 | 0.7564203 | 0.7132021 | 0.7318703 | 1.0000000 |\n",
       "\n"
      ],
      "text/plain": [
       "              price     bathrooms sqft_living grade     sqft_above\n",
       "price         1.0000000 0.5251375 0.7020351   0.6674343 0.6055673 \n",
       "bathrooms     0.5251375 1.0000000 0.7546653   0.6649825 0.6853425 \n",
       "sqft_living   0.7020351 0.7546653 1.0000000   0.7627045 0.8765966 \n",
       "grade         0.6674343 0.6649825 0.7627045   1.0000000 0.7559229 \n",
       "sqft_above    0.6055673 0.6853425 0.8765966   0.7559229 1.0000000 \n",
       "sqft_living15 0.5853789 0.5686343 0.7564203   0.7132021 0.7318703 \n",
       "              sqft_living15\n",
       "price         0.5853789    \n",
       "bathrooms     0.5686343    \n",
       "sqft_living   0.7564203    \n",
       "grade         0.7132021    \n",
       "sqft_above    0.7318703    \n",
       "sqft_living15 1.0000000    "
      ]
     },
     "metadata": {},
     "output_type": "display_data"
    }
   ],
   "source": [
    "# 3. check data correlation\n",
    "sapply(df, class)\n",
    "nums <- sapply(df, is.numeric)\n",
    "nums\n",
    "\n",
    "# calculate correlations between features\n",
    "cor_table <- cor(df[,nums])\n",
    "cor_table\n",
    "\n",
    "# choose features with high corrections\n",
    "selected_name <- cor_table[,\"price\"] > 0.5\n",
    "selected_name\n",
    "cor_table_high_cor <- cor_table[selected_name, selected_name]\n",
    "cor_table_high_cor\n",
    "plot(df[,rownames(cor_table_high_cor)])"
   ]
  },
  {
   "cell_type": "code",
   "execution_count": 191,
   "metadata": {},
   "outputs": [
    {
     "data": {
      "image/png": "[encoded data removed]",
      "text/plain": [
       "Plot with title \"price vs. sqft_living\""
      ]
     },
     "metadata": {},
     "output_type": "display_data"
    }
   ],
   "source": [
    "# plot the highest corr feature\n",
    "plot(df$sqft_living, df$price, main=\"price vs. sqft_living\", xlab=\"sq ft\", ylab=\"price\")"
   ]
  },
  {
   "cell_type": "markdown",
   "metadata": {},
   "source": [
    "## 2. How to build a model"
   ]
  },
  {
   "cell_type": "code",
   "execution_count": 195,
   "metadata": {},
   "outputs": [
    {
     "data": {
      "text/plain": [
       "Linear Regression \n",
       "\n",
       "17292 samples\n",
       "    1 predictor\n",
       "\n",
       "No pre-processing\n",
       "Resampling: Cross-Validated (10 fold) \n",
       "Summary of sample sizes: 15562, 15563, 15563, 15564, 15563, 15563, ... \n",
       "Resampling results:\n",
       "\n",
       "  RMSE      Rsquared   MAE     \n",
       "  257819.1  0.4919844  172695.2\n",
       "\n",
       "Tuning parameter 'intercept' was held constant at a value of TRUE"
      ]
     },
     "metadata": {},
     "output_type": "display_data"
    }
   ],
   "source": [
    "# 1. partition the data\n",
    "trainIndex <- createDataPartition(df$price, p=.8, list = FALSE, times=1)\n",
    "train <- df[trainIndex,]\n",
    "test <- df[-trainIndex,]\n",
    "#dim(train)\n",
    "#dim(test)\n",
    "\n",
    "# 2. cross validation\n",
    "fitControl <- trainControl(method=\"cv\", number=10, savePredictions=TRUE)\n",
    "\n",
    "# 3. predict by linear regression\n",
    "simplemodel <- train(price~sqft_living, train, method = \"lm\", trControl = fitControl)\n",
    "simplemodel"
   ]
  },
  {
   "cell_type": "code",
   "execution_count": 196,
   "metadata": {},
   "outputs": [
    {
     "data": {
      "text/plain": [
       "Linear Regression \n",
       "\n",
       "17292 samples\n",
       "    5 predictor\n",
       "\n",
       "No pre-processing\n",
       "Resampling: Cross-Validated (10 fold) \n",
       "Summary of sample sizes: 15563, 15563, 15563, 15562, 15564, 15562, ... \n",
       "Resampling results:\n",
       "\n",
       "  RMSE      Rsquared   MAE     \n",
       "  242800.9  0.5485294  159820.3\n",
       "\n",
       "Tuning parameter 'intercept' was held constant at a value of TRUE"
      ]
     },
     "metadata": {},
     "output_type": "display_data"
    }
   ],
   "source": [
    "train_selected <- train[,rownames(cor_table_high_cor)]\n",
    "highcormodel <- train(price~., train_selected, method = \"lm\", trControl = fitControl)\n",
    "highcormodel"
   ]
  },
  {
   "cell_type": "code",
   "execution_count": 197,
   "metadata": {},
   "outputs": [
    {
     "name": "stderr",
     "output_type": "stream",
     "text": [
      "Warning message in predict.lm(modelFit, newdata):\n",
      "\"prediction from a rank-deficient fit may be misleading\"Warning message in predict.lm(modelFit, newdata):\n",
      "\"prediction from a rank-deficient fit may be misleading\"Warning message in predict.lm(modelFit, newdata):\n",
      "\"prediction from a rank-deficient fit may be misleading\"Warning message in predict.lm(modelFit, newdata):\n",
      "\"prediction from a rank-deficient fit may be misleading\"Warning message in predict.lm(modelFit, newdata):\n",
      "\"prediction from a rank-deficient fit may be misleading\"Warning message in predict.lm(modelFit, newdata):\n",
      "\"prediction from a rank-deficient fit may be misleading\"Warning message in predict.lm(modelFit, newdata):\n",
      "\"prediction from a rank-deficient fit may be misleading\"Warning message in predict.lm(modelFit, newdata):\n",
      "\"prediction from a rank-deficient fit may be misleading\"Warning message in predict.lm(modelFit, newdata):\n",
      "\"prediction from a rank-deficient fit may be misleading\"Warning message in predict.lm(modelFit, newdata):\n",
      "\"prediction from a rank-deficient fit may be misleading\""
     ]
    },
    {
     "data": {
      "text/plain": [
       "Linear Regression \n",
       "\n",
       "17292 samples\n",
       "   19 predictor\n",
       "\n",
       "No pre-processing\n",
       "Resampling: Cross-Validated (10 fold) \n",
       "Summary of sample sizes: 15563, 15563, 15563, 15563, 15563, 15563, ... \n",
       "Resampling results:\n",
       "\n",
       "  RMSE      Rsquared   MAE   \n",
       "  197341.5  0.7036803  124637\n",
       "\n",
       "Tuning parameter 'intercept' was held constant at a value of TRUE"
      ]
     },
     "metadata": {},
     "output_type": "display_data"
    }
   ],
   "source": [
    "train_selected <- train[,nums]\n",
    "allmodel <- train(price~., train_selected, method = \"lm\", trControl = fitControl)\n",
    "allmodel"
   ]
  },
  {
   "cell_type": "markdown",
   "metadata": {},
   "source": [
    "## 3. How to assess a model"
   ]
  },
  {
   "cell_type": "code",
   "execution_count": null,
   "metadata": {},
   "outputs": [],
   "source": [
    "simplemodelPred <- predict(simplemodel, test)\n",
    "highcormodelPred <- predict(highcormodel, test)\n",
    "allmodelPred <- predict(allmodel, test)\n",
    "\n",
    "print(\"first model\")\n",
    "RMSE(simplemodelPred, test$price)\n",
    "RS(simplemodelPred, test$price)\n",
    "\n",
    "print(\"second model\")\n",
    "RMSE(highcormodelPred, test$price)\n",
    "RS(highcormodelPred, test$price)\n",
    "\n",
    "print(\"second model\")\n",
    "RMSE(allmodelPred, test$price)\n",
    "RS(allmodelPred, test$price)"
   ]
  },
  {
   "cell_type": "code",
   "execution_count": 169,
   "metadata": {},
   "outputs": [],
   "source": [
    "RS <- function(y_prediction, y_testing){\n",
    "   1 - ( sum( y_testing - y_prediction ) ^ 2 ) / sum( (y_testing - mean( y_testing ) ) ^ 2 )  \n",
    "} "
   ]
  },
  {
   "cell_type": "markdown",
   "metadata": {},
   "source": [
    "## 4. How to add regularization\n",
    "We can use the R function glmnet() glmnet package for computing penalized linear regression models."
   ]
  },
  {
   "cell_type": "code",
   "execution_count": 201,
   "metadata": {},
   "outputs": [
    {
     "data": {
      "text/html": [
       "<table>\n",
       "<thead><tr><th scope=col>alpha</th><th scope=col>lambda</th><th scope=col>RMSE</th><th scope=col>Rsquared</th><th scope=col>MAE</th><th scope=col>RMSESD</th><th scope=col>RsquaredSD</th><th scope=col>MAESD</th></tr></thead>\n",
       "<tbody>\n",
       "\t<tr><td>0           </td><td>3.051758e-05</td><td>197505.3    </td><td>0.7025481   </td><td>122799.7    </td><td>21440.57    </td><td>0.01371716  </td><td>5122.093    </td></tr>\n",
       "\t<tr><td>0           </td><td>6.103516e-05</td><td>197505.3    </td><td>0.7025481   </td><td>122799.7    </td><td>21440.57    </td><td>0.01371716  </td><td>5122.093    </td></tr>\n",
       "\t<tr><td>0           </td><td>1.220703e-04</td><td>197505.3    </td><td>0.7025481   </td><td>122799.7    </td><td>21440.57    </td><td>0.01371716  </td><td>5122.093    </td></tr>\n",
       "\t<tr><td>0           </td><td>2.441406e-04</td><td>197505.3    </td><td>0.7025481   </td><td>122799.7    </td><td>21440.57    </td><td>0.01371716  </td><td>5122.093    </td></tr>\n",
       "\t<tr><td>0           </td><td>4.882812e-04</td><td>197505.3    </td><td>0.7025481   </td><td>122799.7    </td><td>21440.57    </td><td>0.01371716  </td><td>5122.093    </td></tr>\n",
       "\t<tr><td>0           </td><td>9.765625e-04</td><td>197505.3    </td><td>0.7025481   </td><td>122799.7    </td><td>21440.57    </td><td>0.01371716  </td><td>5122.093    </td></tr>\n",
       "\t<tr><td>0           </td><td>1.953125e-03</td><td>197505.3    </td><td>0.7025481   </td><td>122799.7    </td><td>21440.57    </td><td>0.01371716  </td><td>5122.093    </td></tr>\n",
       "\t<tr><td>0           </td><td>3.906250e-03</td><td>197505.3    </td><td>0.7025481   </td><td>122799.7    </td><td>21440.57    </td><td>0.01371716  </td><td>5122.093    </td></tr>\n",
       "\t<tr><td>0           </td><td>7.812500e-03</td><td>197505.3    </td><td>0.7025481   </td><td>122799.7    </td><td>21440.57    </td><td>0.01371716  </td><td>5122.093    </td></tr>\n",
       "\t<tr><td>0           </td><td>1.562500e-02</td><td>197505.3    </td><td>0.7025481   </td><td>122799.7    </td><td>21440.57    </td><td>0.01371716  </td><td>5122.093    </td></tr>\n",
       "\t<tr><td>0           </td><td>3.125000e-02</td><td>197505.3    </td><td>0.7025481   </td><td>122799.7    </td><td>21440.57    </td><td>0.01371716  </td><td>5122.093    </td></tr>\n",
       "\t<tr><td>0           </td><td>6.250000e-02</td><td>197505.3    </td><td>0.7025481   </td><td>122799.7    </td><td>21440.57    </td><td>0.01371716  </td><td>5122.093    </td></tr>\n",
       "\t<tr><td>0           </td><td>1.250000e-01</td><td>197505.3    </td><td>0.7025481   </td><td>122799.7    </td><td>21440.57    </td><td>0.01371716  </td><td>5122.093    </td></tr>\n",
       "\t<tr><td>0           </td><td>2.500000e-01</td><td>197505.3    </td><td>0.7025481   </td><td>122799.7    </td><td>21440.57    </td><td>0.01371716  </td><td>5122.093    </td></tr>\n",
       "\t<tr><td>0           </td><td>5.000000e-01</td><td>197505.3    </td><td>0.7025481   </td><td>122799.7    </td><td>21440.57    </td><td>0.01371716  </td><td>5122.093    </td></tr>\n",
       "\t<tr><td>0           </td><td>1.000000e+00</td><td>197505.3    </td><td>0.7025481   </td><td>122799.7    </td><td>21440.57    </td><td>0.01371716  </td><td>5122.093    </td></tr>\n",
       "\t<tr><td>0           </td><td>2.000000e+00</td><td>197505.3    </td><td>0.7025481   </td><td>122799.7    </td><td>21440.57    </td><td>0.01371716  </td><td>5122.093    </td></tr>\n",
       "\t<tr><td>0           </td><td>4.000000e+00</td><td>197505.3    </td><td>0.7025481   </td><td>122799.7    </td><td>21440.57    </td><td>0.01371716  </td><td>5122.093    </td></tr>\n",
       "\t<tr><td>0           </td><td>8.000000e+00</td><td>197505.3    </td><td>0.7025481   </td><td>122799.7    </td><td>21440.57    </td><td>0.01371716  </td><td>5122.093    </td></tr>\n",
       "\t<tr><td>0           </td><td>1.600000e+01</td><td>197505.3    </td><td>0.7025481   </td><td>122799.7    </td><td>21440.57    </td><td>0.01371716  </td><td>5122.093    </td></tr>\n",
       "\t<tr><td>0           </td><td>3.200000e+01</td><td>197505.3    </td><td>0.7025481   </td><td>122799.7    </td><td>21440.57    </td><td>0.01371716  </td><td>5122.093    </td></tr>\n",
       "\t<tr><td>0           </td><td>6.400000e+01</td><td>197505.3    </td><td>0.7025481   </td><td>122799.7    </td><td>21440.57    </td><td>0.01371716  </td><td>5122.093    </td></tr>\n",
       "\t<tr><td>0           </td><td>1.280000e+02</td><td>197505.3    </td><td>0.7025481   </td><td>122799.7    </td><td>21440.57    </td><td>0.01371716  </td><td>5122.093    </td></tr>\n",
       "\t<tr><td>0           </td><td>2.560000e+02</td><td>197505.3    </td><td>0.7025481   </td><td>122799.7    </td><td>21440.57    </td><td>0.01371716  </td><td>5122.093    </td></tr>\n",
       "\t<tr><td>0           </td><td>5.120000e+02</td><td>197505.3    </td><td>0.7025481   </td><td>122799.7    </td><td>21440.57    </td><td>0.01371716  </td><td>5122.093    </td></tr>\n",
       "\t<tr><td>0           </td><td>1.024000e+03</td><td>197505.3    </td><td>0.7025481   </td><td>122799.7    </td><td>21440.57    </td><td>0.01371716  </td><td>5122.093    </td></tr>\n",
       "\t<tr><td>0           </td><td>2.048000e+03</td><td>197505.3    </td><td>0.7025481   </td><td>122799.7    </td><td>21440.57    </td><td>0.01371716  </td><td>5122.093    </td></tr>\n",
       "\t<tr><td>0           </td><td>4.096000e+03</td><td>197505.3    </td><td>0.7025481   </td><td>122799.7    </td><td>21440.57    </td><td>0.01371716  </td><td>5122.093    </td></tr>\n",
       "\t<tr><td>0           </td><td>8.192000e+03</td><td>197505.3    </td><td>0.7025481   </td><td>122799.7    </td><td>21440.57    </td><td>0.01371716  </td><td>5122.093    </td></tr>\n",
       "\t<tr><td>0           </td><td>1.638400e+04</td><td>197505.3    </td><td>0.7025481   </td><td>122799.7    </td><td>21440.57    </td><td>0.01371716  </td><td>5122.093    </td></tr>\n",
       "\t<tr><td>0           </td><td>3.276800e+04</td><td>197787.3    </td><td>0.7020365   </td><td>122520.5    </td><td>21767.79    </td><td>0.01396699  </td><td>5217.812    </td></tr>\n",
       "</tbody>\n",
       "</table>\n"
      ],
      "text/latex": [
       "\\begin{tabular}{r|llllllll}\n",
       " alpha & lambda & RMSE & Rsquared & MAE & RMSESD & RsquaredSD & MAESD\\\\\n",
       "\\hline\n",
       "\t 0            & 3.051758e-05 & 197505.3     & 0.7025481    & 122799.7     & 21440.57     & 0.01371716   & 5122.093    \\\\\n",
       "\t 0            & 6.103516e-05 & 197505.3     & 0.7025481    & 122799.7     & 21440.57     & 0.01371716   & 5122.093    \\\\\n",
       "\t 0            & 1.220703e-04 & 197505.3     & 0.7025481    & 122799.7     & 21440.57     & 0.01371716   & 5122.093    \\\\\n",
       "\t 0            & 2.441406e-04 & 197505.3     & 0.7025481    & 122799.7     & 21440.57     & 0.01371716   & 5122.093    \\\\\n",
       "\t 0            & 4.882812e-04 & 197505.3     & 0.7025481    & 122799.7     & 21440.57     & 0.01371716   & 5122.093    \\\\\n",
       "\t 0            & 9.765625e-04 & 197505.3     & 0.7025481    & 122799.7     & 21440.57     & 0.01371716   & 5122.093    \\\\\n",
       "\t 0            & 1.953125e-03 & 197505.3     & 0.7025481    & 122799.7     & 21440.57     & 0.01371716   & 5122.093    \\\\\n",
       "\t 0            & 3.906250e-03 & 197505.3     & 0.7025481    & 122799.7     & 21440.57     & 0.01371716   & 5122.093    \\\\\n",
       "\t 0            & 7.812500e-03 & 197505.3     & 0.7025481    & 122799.7     & 21440.57     & 0.01371716   & 5122.093    \\\\\n",
       "\t 0            & 1.562500e-02 & 197505.3     & 0.7025481    & 122799.7     & 21440.57     & 0.01371716   & 5122.093    \\\\\n",
       "\t 0            & 3.125000e-02 & 197505.3     & 0.7025481    & 122799.7     & 21440.57     & 0.01371716   & 5122.093    \\\\\n",
       "\t 0            & 6.250000e-02 & 197505.3     & 0.7025481    & 122799.7     & 21440.57     & 0.01371716   & 5122.093    \\\\\n",
       "\t 0            & 1.250000e-01 & 197505.3     & 0.7025481    & 122799.7     & 21440.57     & 0.01371716   & 5122.093    \\\\\n",
       "\t 0            & 2.500000e-01 & 197505.3     & 0.7025481    & 122799.7     & 21440.57     & 0.01371716   & 5122.093    \\\\\n",
       "\t 0            & 5.000000e-01 & 197505.3     & 0.7025481    & 122799.7     & 21440.57     & 0.01371716   & 5122.093    \\\\\n",
       "\t 0            & 1.000000e+00 & 197505.3     & 0.7025481    & 122799.7     & 21440.57     & 0.01371716   & 5122.093    \\\\\n",
       "\t 0            & 2.000000e+00 & 197505.3     & 0.7025481    & 122799.7     & 21440.57     & 0.01371716   & 5122.093    \\\\\n",
       "\t 0            & 4.000000e+00 & 197505.3     & 0.7025481    & 122799.7     & 21440.57     & 0.01371716   & 5122.093    \\\\\n",
       "\t 0            & 8.000000e+00 & 197505.3     & 0.7025481    & 122799.7     & 21440.57     & 0.01371716   & 5122.093    \\\\\n",
       "\t 0            & 1.600000e+01 & 197505.3     & 0.7025481    & 122799.7     & 21440.57     & 0.01371716   & 5122.093    \\\\\n",
       "\t 0            & 3.200000e+01 & 197505.3     & 0.7025481    & 122799.7     & 21440.57     & 0.01371716   & 5122.093    \\\\\n",
       "\t 0            & 6.400000e+01 & 197505.3     & 0.7025481    & 122799.7     & 21440.57     & 0.01371716   & 5122.093    \\\\\n",
       "\t 0            & 1.280000e+02 & 197505.3     & 0.7025481    & 122799.7     & 21440.57     & 0.01371716   & 5122.093    \\\\\n",
       "\t 0            & 2.560000e+02 & 197505.3     & 0.7025481    & 122799.7     & 21440.57     & 0.01371716   & 5122.093    \\\\\n",
       "\t 0            & 5.120000e+02 & 197505.3     & 0.7025481    & 122799.7     & 21440.57     & 0.01371716   & 5122.093    \\\\\n",
       "\t 0            & 1.024000e+03 & 197505.3     & 0.7025481    & 122799.7     & 21440.57     & 0.01371716   & 5122.093    \\\\\n",
       "\t 0            & 2.048000e+03 & 197505.3     & 0.7025481    & 122799.7     & 21440.57     & 0.01371716   & 5122.093    \\\\\n",
       "\t 0            & 4.096000e+03 & 197505.3     & 0.7025481    & 122799.7     & 21440.57     & 0.01371716   & 5122.093    \\\\\n",
       "\t 0            & 8.192000e+03 & 197505.3     & 0.7025481    & 122799.7     & 21440.57     & 0.01371716   & 5122.093    \\\\\n",
       "\t 0            & 1.638400e+04 & 197505.3     & 0.7025481    & 122799.7     & 21440.57     & 0.01371716   & 5122.093    \\\\\n",
       "\t 0            & 3.276800e+04 & 197787.3     & 0.7020365    & 122520.5     & 21767.79     & 0.01396699   & 5217.812    \\\\\n",
       "\\end{tabular}\n"
      ],
      "text/markdown": [
       "\n",
       "| alpha | lambda | RMSE | Rsquared | MAE | RMSESD | RsquaredSD | MAESD |\n",
       "|---|---|---|---|---|---|---|---|\n",
       "| 0            | 3.051758e-05 | 197505.3     | 0.7025481    | 122799.7     | 21440.57     | 0.01371716   | 5122.093     |\n",
       "| 0            | 6.103516e-05 | 197505.3     | 0.7025481    | 122799.7     | 21440.57     | 0.01371716   | 5122.093     |\n",
       "| 0            | 1.220703e-04 | 197505.3     | 0.7025481    | 122799.7     | 21440.57     | 0.01371716   | 5122.093     |\n",
       "| 0            | 2.441406e-04 | 197505.3     | 0.7025481    | 122799.7     | 21440.57     | 0.01371716   | 5122.093     |\n",
       "| 0            | 4.882812e-04 | 197505.3     | 0.7025481    | 122799.7     | 21440.57     | 0.01371716   | 5122.093     |\n",
       "| 0            | 9.765625e-04 | 197505.3     | 0.7025481    | 122799.7     | 21440.57     | 0.01371716   | 5122.093     |\n",
       "| 0            | 1.953125e-03 | 197505.3     | 0.7025481    | 122799.7     | 21440.57     | 0.01371716   | 5122.093     |\n",
       "| 0            | 3.906250e-03 | 197505.3     | 0.7025481    | 122799.7     | 21440.57     | 0.01371716   | 5122.093     |\n",
       "| 0            | 7.812500e-03 | 197505.3     | 0.7025481    | 122799.7     | 21440.57     | 0.01371716   | 5122.093     |\n",
       "| 0            | 1.562500e-02 | 197505.3     | 0.7025481    | 122799.7     | 21440.57     | 0.01371716   | 5122.093     |\n",
       "| 0            | 3.125000e-02 | 197505.3     | 0.7025481    | 122799.7     | 21440.57     | 0.01371716   | 5122.093     |\n",
       "| 0            | 6.250000e-02 | 197505.3     | 0.7025481    | 122799.7     | 21440.57     | 0.01371716   | 5122.093     |\n",
       "| 0            | 1.250000e-01 | 197505.3     | 0.7025481    | 122799.7     | 21440.57     | 0.01371716   | 5122.093     |\n",
       "| 0            | 2.500000e-01 | 197505.3     | 0.7025481    | 122799.7     | 21440.57     | 0.01371716   | 5122.093     |\n",
       "| 0            | 5.000000e-01 | 197505.3     | 0.7025481    | 122799.7     | 21440.57     | 0.01371716   | 5122.093     |\n",
       "| 0            | 1.000000e+00 | 197505.3     | 0.7025481    | 122799.7     | 21440.57     | 0.01371716   | 5122.093     |\n",
       "| 0            | 2.000000e+00 | 197505.3     | 0.7025481    | 122799.7     | 21440.57     | 0.01371716   | 5122.093     |\n",
       "| 0            | 4.000000e+00 | 197505.3     | 0.7025481    | 122799.7     | 21440.57     | 0.01371716   | 5122.093     |\n",
       "| 0            | 8.000000e+00 | 197505.3     | 0.7025481    | 122799.7     | 21440.57     | 0.01371716   | 5122.093     |\n",
       "| 0            | 1.600000e+01 | 197505.3     | 0.7025481    | 122799.7     | 21440.57     | 0.01371716   | 5122.093     |\n",
       "| 0            | 3.200000e+01 | 197505.3     | 0.7025481    | 122799.7     | 21440.57     | 0.01371716   | 5122.093     |\n",
       "| 0            | 6.400000e+01 | 197505.3     | 0.7025481    | 122799.7     | 21440.57     | 0.01371716   | 5122.093     |\n",
       "| 0            | 1.280000e+02 | 197505.3     | 0.7025481    | 122799.7     | 21440.57     | 0.01371716   | 5122.093     |\n",
       "| 0            | 2.560000e+02 | 197505.3     | 0.7025481    | 122799.7     | 21440.57     | 0.01371716   | 5122.093     |\n",
       "| 0            | 5.120000e+02 | 197505.3     | 0.7025481    | 122799.7     | 21440.57     | 0.01371716   | 5122.093     |\n",
       "| 0            | 1.024000e+03 | 197505.3     | 0.7025481    | 122799.7     | 21440.57     | 0.01371716   | 5122.093     |\n",
       "| 0            | 2.048000e+03 | 197505.3     | 0.7025481    | 122799.7     | 21440.57     | 0.01371716   | 5122.093     |\n",
       "| 0            | 4.096000e+03 | 197505.3     | 0.7025481    | 122799.7     | 21440.57     | 0.01371716   | 5122.093     |\n",
       "| 0            | 8.192000e+03 | 197505.3     | 0.7025481    | 122799.7     | 21440.57     | 0.01371716   | 5122.093     |\n",
       "| 0            | 1.638400e+04 | 197505.3     | 0.7025481    | 122799.7     | 21440.57     | 0.01371716   | 5122.093     |\n",
       "| 0            | 3.276800e+04 | 197787.3     | 0.7020365    | 122520.5     | 21767.79     | 0.01396699   | 5217.812     |\n",
       "\n"
      ],
      "text/plain": [
       "   alpha lambda       RMSE     Rsquared  MAE      RMSESD   RsquaredSD MAESD   \n",
       "1  0     3.051758e-05 197505.3 0.7025481 122799.7 21440.57 0.01371716 5122.093\n",
       "2  0     6.103516e-05 197505.3 0.7025481 122799.7 21440.57 0.01371716 5122.093\n",
       "3  0     1.220703e-04 197505.3 0.7025481 122799.7 21440.57 0.01371716 5122.093\n",
       "4  0     2.441406e-04 197505.3 0.7025481 122799.7 21440.57 0.01371716 5122.093\n",
       "5  0     4.882812e-04 197505.3 0.7025481 122799.7 21440.57 0.01371716 5122.093\n",
       "6  0     9.765625e-04 197505.3 0.7025481 122799.7 21440.57 0.01371716 5122.093\n",
       "7  0     1.953125e-03 197505.3 0.7025481 122799.7 21440.57 0.01371716 5122.093\n",
       "8  0     3.906250e-03 197505.3 0.7025481 122799.7 21440.57 0.01371716 5122.093\n",
       "9  0     7.812500e-03 197505.3 0.7025481 122799.7 21440.57 0.01371716 5122.093\n",
       "10 0     1.562500e-02 197505.3 0.7025481 122799.7 21440.57 0.01371716 5122.093\n",
       "11 0     3.125000e-02 197505.3 0.7025481 122799.7 21440.57 0.01371716 5122.093\n",
       "12 0     6.250000e-02 197505.3 0.7025481 122799.7 21440.57 0.01371716 5122.093\n",
       "13 0     1.250000e-01 197505.3 0.7025481 122799.7 21440.57 0.01371716 5122.093\n",
       "14 0     2.500000e-01 197505.3 0.7025481 122799.7 21440.57 0.01371716 5122.093\n",
       "15 0     5.000000e-01 197505.3 0.7025481 122799.7 21440.57 0.01371716 5122.093\n",
       "16 0     1.000000e+00 197505.3 0.7025481 122799.7 21440.57 0.01371716 5122.093\n",
       "17 0     2.000000e+00 197505.3 0.7025481 122799.7 21440.57 0.01371716 5122.093\n",
       "18 0     4.000000e+00 197505.3 0.7025481 122799.7 21440.57 0.01371716 5122.093\n",
       "19 0     8.000000e+00 197505.3 0.7025481 122799.7 21440.57 0.01371716 5122.093\n",
       "20 0     1.600000e+01 197505.3 0.7025481 122799.7 21440.57 0.01371716 5122.093\n",
       "21 0     3.200000e+01 197505.3 0.7025481 122799.7 21440.57 0.01371716 5122.093\n",
       "22 0     6.400000e+01 197505.3 0.7025481 122799.7 21440.57 0.01371716 5122.093\n",
       "23 0     1.280000e+02 197505.3 0.7025481 122799.7 21440.57 0.01371716 5122.093\n",
       "24 0     2.560000e+02 197505.3 0.7025481 122799.7 21440.57 0.01371716 5122.093\n",
       "25 0     5.120000e+02 197505.3 0.7025481 122799.7 21440.57 0.01371716 5122.093\n",
       "26 0     1.024000e+03 197505.3 0.7025481 122799.7 21440.57 0.01371716 5122.093\n",
       "27 0     2.048000e+03 197505.3 0.7025481 122799.7 21440.57 0.01371716 5122.093\n",
       "28 0     4.096000e+03 197505.3 0.7025481 122799.7 21440.57 0.01371716 5122.093\n",
       "29 0     8.192000e+03 197505.3 0.7025481 122799.7 21440.57 0.01371716 5122.093\n",
       "30 0     1.638400e+04 197505.3 0.7025481 122799.7 21440.57 0.01371716 5122.093\n",
       "31 0     3.276800e+04 197787.3 0.7020365 122520.5 21767.79 0.01396699 5217.812"
      ]
     },
     "metadata": {},
     "output_type": "display_data"
    },
    {
     "data": {
      "text/html": [
       "0.702548094490368"
      ],
      "text/latex": [
       "0.702548094490368"
      ],
      "text/markdown": [
       "0.702548094490368"
      ],
      "text/plain": [
       "[1] 0.7025481"
      ]
     },
     "metadata": {},
     "output_type": "display_data"
    }
   ],
   "source": [
    "# Ridge regression (add l2-norm)\n",
    "l2model <- train(price~., data = train_selected, trControl=fitControl, method=\"glmnet\",\n",
    "                   tuneGrid=data.frame(alpha = 0, lambda=c(2^c(-15:15))))\n",
    "\n",
    "l2model$results\n",
    "l2model$results$Rsquared[1]\n",
    "\n",
    "#l2modelPred <- predict(l2model, test)\n",
    "#RMSE(l2modelPred, test$price)\n"
   ]
  },
  {
   "cell_type": "code",
   "execution_count": 202,
   "metadata": {},
   "outputs": [
    {
     "data": {
      "text/plain": [
       "glmnet \n",
       "\n",
       "17292 samples\n",
       "   19 predictor\n",
       "\n",
       "No pre-processing\n",
       "Resampling: Cross-Validated (10 fold) \n",
       "Summary of sample sizes: 15565, 15562, 15563, 15563, 15563, 15563, ... \n",
       "Resampling results across tuning parameters:\n",
       "\n",
       "  alpha         RMSE      Rsquared   MAE     \n",
       "  3.051758e-05  198003.0  0.7012740  122868.6\n",
       "  6.103516e-05  198002.9  0.7012734  122868.5\n",
       "  1.220703e-04  198003.7  0.7012718  122868.4\n",
       "  2.441406e-04  198003.8  0.7012724  122867.2\n",
       "  4.882812e-04  198004.1  0.7012722  122868.2\n",
       "  9.765625e-04  198007.9  0.7012675  122859.1\n",
       "  1.953125e-03  197658.1  0.7019265  123531.5\n",
       "  3.906250e-03  197562.4  0.7021145  124015.0\n",
       "  7.812500e-03  197543.1  0.7021558  124293.1\n",
       "  1.562500e-02  197545.8  0.7021546  124327.3\n",
       "  3.125000e-02  197545.0  0.7021519  124332.9\n",
       "  6.250000e-02  197544.2  0.7021505  124303.3\n",
       "  1.250000e-01  197545.0  0.7021519  124335.6\n",
       "  2.500000e-01  197548.7  0.7021437  124364.9\n",
       "  5.000000e-01  197549.4  0.7021397  124389.3\n",
       "  1.000000e+00  197552.8  0.7021285  124411.1\n",
       "\n",
       "Tuning parameter 'lambda' was held constant at a value of 0\n",
       "RMSE was used to select the optimal model using the smallest value.\n",
       "The final values used for the model were alpha = 0.0078125 and lambda = 0."
      ]
     },
     "metadata": {},
     "output_type": "display_data"
    }
   ],
   "source": [
    "# Lasso regression (add l1-norm)\n",
    "l1model <- train(price~., data = train_selected, trControl=fitControl, method=\"glmnet\",\n",
    "                   tuneGrid=data.frame(alpha = c(2^c(-15:0)), lambda=0))\n",
    "l1model"
   ]
  },
  {
   "cell_type": "markdown",
   "metadata": {},
   "source": [
    "### Biological example"
   ]
  },
  {
   "cell_type": "code",
   "execution_count": 203,
   "metadata": {},
   "outputs": [
    {
     "name": "stderr",
     "output_type": "stream",
     "text": [
      "Warning message in nominalTrainWorkflow(x = x, y = y, wts = weights, info = trainInfo, :\n",
      "\"There were missing values in resampled performance measures.\""
     ]
    },
    {
     "data": {
      "text/html": [
       "0.775245381930416"
      ],
      "text/latex": [
       "0.775245381930416"
      ],
      "text/markdown": [
       "0.775245381930416"
      ],
      "text/plain": [
       "[1] 0.7752454"
      ]
     },
     "metadata": {},
     "output_type": "display_data"
    },
    {
     "data": {
      "text/html": [
       "0.0111669087564097"
      ],
      "text/latex": [
       "0.0111669087564097"
      ],
      "text/markdown": [
       "0.0111669087564097"
      ],
      "text/plain": [
       "[1] 0.01116691"
      ]
     },
     "metadata": {},
     "output_type": "display_data"
    }
   ],
   "source": [
    "# seq model\n",
    "fn <- \"PBMsample.fa\"\n",
    "fn_exp <- \"PBMsample.s\"\n",
    "#pred <- getShape(fn) \n",
    "featureVector <- encodeSeqShape(fn, pred, \"1-mer\", normalize = TRUE)\n",
    "\n",
    "experimentalData <- read.table(fn_exp)\n",
    "df <- data.frame(affinity=experimentalData$V1, featureVector)\n",
    "\n",
    "trainControl <- trainControl(method = \"cv\", number = 10, savePredictions = TRUE)\n",
    "model <- train(affinity~ ., data = df, trControl=trainControl, method=\"glmnet\",\n",
    "                   tuneGrid=data.frame(alpha = 0, lambda=c(2^c(-15:15))))\n",
    "    \n",
    "rs <- model$results$Rsquared[1]\n",
    "rsd <- model$results$RsquaredSD[1]\n",
    "\n",
    "rs\n",
    "rsd"
   ]
  },
  {
   "cell_type": "code",
   "execution_count": 206,
   "metadata": {},
   "outputs": [
    {
     "name": "stderr",
     "output_type": "stream",
     "text": [
      "Warning message in nominalTrainWorkflow(x = x, y = y, wts = weights, info = trainInfo, :\n",
      "\"There were missing values in resampled performance measures.\""
     ]
    },
    {
     "data": {
      "text/html": [
       "0.863091039300394"
      ],
      "text/latex": [
       "0.863091039300394"
      ],
      "text/markdown": [
       "0.863091039300394"
      ],
      "text/plain": [
       "[1] 0.863091"
      ]
     },
     "metadata": {},
     "output_type": "display_data"
    },
    {
     "data": {
      "text/html": [
       "0.0060207987039667"
      ],
      "text/latex": [
       "0.0060207987039667"
      ],
      "text/markdown": [
       "0.0060207987039667"
      ],
      "text/plain": [
       "[1] 0.006020799"
      ]
     },
     "metadata": {},
     "output_type": "display_data"
    }
   ],
   "source": [
    "# seq + shape\n",
    "featureVector <- encodeSeqShape(fn, pred, c(\"1-mer\", \"1-shape\"), normalize = TRUE)\n",
    "\n",
    "experimentalData <- read.table(fn_exp)\n",
    "df <- data.frame(affinity=experimentalData$V1, featureVector)\n",
    "\n",
    "trainControl <- trainControl(method = \"cv\", number = 10, savePredictions = TRUE)\n",
    "model <- train(affinity~ ., data = df, trControl=trainControl, method=\"glmnet\",\n",
    "                   tuneGrid=data.frame(alpha = 0, lambda=c(2^c(-15:15))))\n",
    "    \n",
    "rs <- model$results$Rsquared[1]\n",
    "rsd <- model$results$RsquaredSD[1]\n",
    "\n",
    "rs\n",
    "rsd"
   ]
  },
  {
   "cell_type": "markdown",
   "metadata": {},
   "source": [
    "## 4. How to compare models"
   ]
  },
  {
   "cell_type": "code",
   "execution_count": 207,
   "metadata": {},
   "outputs": [
    {
     "data": {
      "image/png": "[encoded data removed]",
      "text/plain": [
       "plot without title"
      ]
     },
     "metadata": {},
     "output_type": "display_data"
    }
   ],
   "source": [
    "## Data preparation\n",
    "data1 <- c(0.6, 0.65)\n",
    "#Edata2 <- c(0.8, 0.85)\n",
    "\n",
    "## Ploting\n",
    "ggplot() +\n",
    "  geom_point(aes(x = data1, y = data2), color = \"red\", size=5) +\n",
    "  geom_abline(slope=1) + geom_vline(xintercept=0) + geom_hline(yintercept=0) +\n",
    "  coord_fixed(ratio = 1, xlim = c(0,1), ylim = c(0,1)) +\n",
    "  scale_x_continuous(expand = c(0, 0)) + scale_y_continuous(expand = c(0, 0)) + my.theme "
   ]
  },
  {
   "cell_type": "code",
   "execution_count": null,
   "metadata": {},
   "outputs": [],
   "source": [
    "## Theme\n",
    "my.theme <- theme(\n",
    "  axis.text = element_text(colour=\"black\", size=12),\n",
    "  axis.title.x = element_text(colour=\"black\", size=12),\n",
    "  axis.title.y = element_text(colour=\"black\", size=12),\n",
    "  panel.grid.major = element_blank(),\n",
    "  panel.grid.minor = element_blank(),\n",
    "  panel.background = element_blank(),\n",
    "  axis.line = element_line(colour = \"black\"),\n",
    "#  axis.text = element_text(colour =\"black\"),\n",
    "  axis.ticks = element_line(colour = \"black\"),\n",
    ")"
   ]
  },
  {
   "cell_type": "code",
   "execution_count": null,
   "metadata": {},
   "outputs": [],
   "source": []
  }
 ],
 "metadata": {
  "kernelspec": {
   "display_name": "R",
   "language": "R",
   "name": "ir"
  },
  "language_info": {
   "codemirror_mode": "r",
   "file_extension": ".r",
   "mimetype": "text/x-r-source",
   "name": "R",
   "pygments_lexer": "r",
   "version": "3.6.1"
  }
 },
 "nbformat": 4,
 "nbformat_minor": 4
}
