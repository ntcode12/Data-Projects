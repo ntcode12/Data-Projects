{
 "cells": [
  {
   "cell_type": "markdown",
   "metadata": {},
   "source": [
    "# Python Class\n",
    "Think about class object as a container for your data structure.\n",
    "You design a data structure and you package it into one object.\n",
    "You write some basic operating methods for your data structure such as adding, appending, deleting, updating or merging and package them together.\n",
    "When you want to use this data structure, you directly create objects from them and use their functions."
   ]
  },
  {
   "cell_type": "markdown",
   "metadata": {},
   "source": [
    "Linked List:\n",
    "<img src=https://s3-us-west-2.amazonaws.com/ib-assessment-tests/problem_images/singly-ll.png>"
   ]
  },
  {
   "cell_type": "code",
   "execution_count": 1,
   "metadata": {},
   "outputs": [],
   "source": [
    "#Single node\n",
    "class Node:\n",
    "    def __init__(self, value):\n",
    "        self.value = value\n",
    "        self.next = None\n",
    "        \n",
    "#Linked List\n",
    "class LinkedList:\n",
    "    def __init__(self):\n",
    "        self.head = Node(None) #self.head = None\n",
    "        self.tail = self.head #head(None) -> None #tail = head\n",
    "        self.size = 0\n",
    "        \n",
    "    def appendValue(self, value):\n",
    "        node = Node(value)\n",
    "        self.append(node)\n",
    "        \n",
    "    def append(self, node):\n",
    "        self.tail.next = node #head(None) -> node1 -> None\n",
    "        self.tail = node #tail = node1\n",
    "        self.size += 1\n",
    "    def length(self):\n",
    "        return self.size\n",
    "    def query(self, nodeToQuery):\n",
    "        node = self.head\n",
    "        while node.next is not None:\n",
    "            node = node.next\n",
    "            if node == nodeToQuery:\n",
    "                return True\n",
    "        return False\n",
    "    def queryValue(self, value):\n",
    "        node = self.head\n",
    "        while node.next is not None:\n",
    "            node = node.next\n",
    "            if node.value == value:\n",
    "                return True\n",
    "        return False\n",
    "    def delete(self, node):\n",
    "        pass\n",
    "    \n",
    "    def merge(self, l2):\n",
    "        self.tail.next = l2.head.next\n",
    "        self.tail = l2.tail\n",
    "        \n",
    "    def print(self):\n",
    "        node = self.head\n",
    "        while node.next is not None:\n",
    "            node = node.next\n",
    "            print(node.value)\n"
   ]
  },
  {
   "cell_type": "code",
   "execution_count": 2,
   "metadata": {},
   "outputs": [
    {
     "name": "stdout",
     "output_type": "stream",
     "text": [
      "False\n",
      "<__main__.LinkedList object at 0x7f980e605e80>\n"
     ]
    }
   ],
   "source": [
    "l = LinkedList()\n",
    "for i in range(10, 29):\n",
    "    l.appendValue(i)\n",
    "l2 = LinkedList()\n",
    "for i in range(100, 129):\n",
    "    l2.appendValue(i)\n",
    "l.merge(l2)\n",
    "print(l.queryValue(30))\n",
    "print(l)"
   ]
  },
  {
   "cell_type": "markdown",
   "metadata": {},
   "source": [
    "# Parallel computing in Python"
   ]
  },
  {
   "cell_type": "markdown",
   "metadata": {},
   "source": [
    "## Map, Filter and Reduce\n",
    "Not yet parallel computing, but a functional way to solve problems."
   ]
  },
  {
   "cell_type": "code",
   "execution_count": 17,
   "metadata": {},
   "outputs": [
    {
     "name": "stdout",
     "output_type": "stream",
     "text": [
      "[0, 1, 2, 3, 4, 5, 6, 7, 8, 9, 10, 11, 12, 13, 14, 15, 16, 17, 18, 19, 20, 21, 22, 23, 24, 25, 26, 27, 28, 29, 30, 31, 32, 33, 34, 35, 36, 37, 38, 39, 40, 41, 42, 43, 44, 45, 46, 47, 48, 49, 50, 51, 52, 53, 54, 55, 56, 57, 58, 59, 60, 61, 62, 63, 64, 65, 66, 67, 68, 69, 70, 71, 72, 73, 74, 75, 76, 77, 78, 79, 80, 81, 82, 83, 84, 85, 86, 87, 88, 89, 90, 91, 92, 93, 94, 95, 96, 97, 98, 99]\n",
      "[0, 1, 4, 9, 16, 25, 36, 49, 64, 81, 100, 121, 144, 169, 196, 225, 256, 289, 324, 361, 400, 441, 484, 529, 576, 625, 676, 729, 784, 841, 900, 961, 1024, 1089, 1156, 1225, 1296, 1369, 1444, 1521, 1600, 1681, 1764, 1849, 1936, 2025, 2116, 2209, 2304, 2401, 2500, 2601, 2704, 2809, 2916, 3025, 3136, 3249, 3364, 3481, 3600, 3721, 3844, 3969, 4096, 4225, 4356, 4489, 4624, 4761, 4900, 5041, 5184, 5329, 5476, 5625, 5776, 5929, 6084, 6241, 6400, 6561, 6724, 6889, 7056, 7225, 7396, 7569, 7744, 7921, 8100, 8281, 8464, 8649, 8836, 9025, 9216, 9409, 9604, 9801]\n",
      "[0, 1, 2, 3, 4, 5, 6, 7, 8, 9]\n",
      "9900\n"
     ]
    }
   ],
   "source": [
    "a = range(100)\n",
    "print(list(a))\n",
    "print(list(map(lambda x: x*x, a)))\n",
    "print(list(filter(lambda x: x<10, a)))\n",
    "from functools import reduce\n",
    "print(reduce(lambda x, y: x+2*y, a))"
   ]
  },
  {
   "cell_type": "markdown",
   "metadata": {},
   "source": [
    "## Use Numpy and Scipy\n",
    "\n",
    "When you do math computing, I suggest simply use numpy to accelerate. \n",
    "\n",
    "The main idea is when you want to use a for loop, you should think about if you can solve it using some matrix calculations instead"
   ]
  },
  {
   "cell_type": "code",
   "execution_count": 18,
   "metadata": {},
   "outputs": [],
   "source": [
    "import numpy as np"
   ]
  },
  {
   "cell_type": "code",
   "execution_count": 19,
   "metadata": {},
   "outputs": [],
   "source": [
    "a = range(1, 1000000)\n",
    "a_np = np.array(a)"
   ]
  },
  {
   "cell_type": "code",
   "execution_count": 20,
   "metadata": {},
   "outputs": [
    {
     "name": "stdout",
     "output_type": "stream",
     "text": [
      "20.6 ms ± 734 µs per loop (mean ± std. dev. of 7 runs, 10 loops each)\n"
     ]
    }
   ],
   "source": [
    "%timeit sum(a)"
   ]
  },
  {
   "cell_type": "code",
   "execution_count": 21,
   "metadata": {},
   "outputs": [
    {
     "name": "stdout",
     "output_type": "stream",
     "text": [
      "647 µs ± 17.7 µs per loop (mean ± std. dev. of 7 runs, 1000 loops each)\n"
     ]
    }
   ],
   "source": [
    "%timeit np.sum(a_np)"
   ]
  },
  {
   "cell_type": "markdown",
   "metadata": {},
   "source": [
    "## Use tensorflow\n",
    "When you want to use GPU to compute huge number of float values, you can use tensorflow.\n",
    "See https://www.tensorflow.org/tutorials/quickstart/beginner"
   ]
  },
  {
   "cell_type": "markdown",
   "metadata": {},
   "source": [
    "## Use multiprocessing library\n",
    "I only recommend this for people with software engineering background.\n",
    "Only useful when you want to parallel running complex chunks. The overhead of initiating a multiprocessing pool is very significant."
   ]
  },
  {
   "cell_type": "code",
   "execution_count": 22,
   "metadata": {},
   "outputs": [],
   "source": [
    "import multiprocessing\n",
    "from worker import *\n",
    "a = range(1, 1000)"
   ]
  },
  {
   "cell_type": "code",
   "execution_count": 23,
   "metadata": {},
   "outputs": [
    {
     "name": "stdout",
     "output_type": "stream",
     "text": [
      "152 µs ± 3.76 µs per loop (mean ± std. dev. of 7 runs, 10000 loops each)\n"
     ]
    }
   ],
   "source": [
    "%timeit [func(x) for x in a]"
   ]
  },
  {
   "cell_type": "code",
   "execution_count": 24,
   "metadata": {},
   "outputs": [
    {
     "name": "stdout",
     "output_type": "stream",
     "text": [
      "122 µs ± 506 ns per loop (mean ± std. dev. of 7 runs, 10000 loops each)\n"
     ]
    }
   ],
   "source": [
    "%timeit list(map(func, a))"
   ]
  },
  {
   "cell_type": "code",
   "execution_count": 25,
   "metadata": {},
   "outputs": [
    {
     "name": "stdout",
     "output_type": "stream",
     "text": [
      "4.11 ms ± 104 µs per loop (mean ± std. dev. of 7 runs, 100 loops each)\n"
     ]
    }
   ],
   "source": [
    "p = multiprocessing.Pool(16)\n",
    "%timeit p.map(func, a)"
   ]
  },
  {
   "cell_type": "markdown",
   "metadata": {},
   "source": [
    "# Assignment 05\n",
    "\n",
    "Let's go through UPGMA again"
   ]
  },
  {
   "cell_type": "code",
   "execution_count": null,
   "metadata": {},
   "outputs": [],
   "source": [
    "#UPGMA is an algorithm to merge nodes into a tree structure based on their pair-wise distance"
   ]
  }
 ],
 "metadata": {
  "kernelspec": {
   "display_name": "Python 3",
   "language": "python",
   "name": "python3"
  },
  "language_info": {
   "codemirror_mode": {
    "name": "ipython",
    "version": 3
   },
   "file_extension": ".py",
   "mimetype": "text/x-python",
   "name": "python",
   "nbconvert_exporter": "python",
   "pygments_lexer": "ipython3",
   "version": "3.8.3"
  }
 },
 "nbformat": 4,
 "nbformat_minor": 4
}
