{
 "cells": [
  {
   "cell_type": "markdown",
   "metadata": {},
   "source": [
    "### Nichollas Tidow\n",
    "### QBIO 401 \n",
    "### September 2, 2020\n",
    "### Homework 02"
   ]
  },
  {
   "cell_type": "code",
   "execution_count": 35,
   "metadata": {},
   "outputs": [],
   "source": [
    "# Importing numpy, matplotlib, and matplotlib extension for notebooks\n",
    "import numpy as np\n",
    "import matplotlib.pyplot as plt\n",
    "%matplotlib notebook"
   ]
  },
  {
   "cell_type": "code",
   "execution_count": null,
   "metadata": {},
   "outputs": [],
   "source": [
    "#### FUNCTION 01\n",
    "##### Name: loadFASTQ\n",
    "##### Purpose: load nucleotide data and return it \n",
    "##### Input: FATSQ file\n",
    "##### Output: sequences and quality scores in lists"
   ]
  },
  {
   "cell_type": "code",
   "execution_count": 44,
   "metadata": {},
   "outputs": [],
   "source": [
    "def loadFASTQ(fName):\n",
    "    sequenceList = [] \n",
    "    qualityList = []\n",
    "    try:\n",
    "        with open(fName, \"r\") as infile:\n",
    "            idx = 0\n",
    "            for line in infile:\n",
    "                if idx % 4 == 1: \n",
    "                    sequenceList.append(line.strip())\n",
    "\n",
    "                elif idx % 4 == 3: \n",
    "                    qualityList.append(line.strip())\n",
    "\n",
    "                idx = idx + 1\n",
    "            \n",
    "        return sequenceList, qualityList\n",
    "    except IOError:\n",
    "        print(\"Could not open\\\"\" + fName + \"\\\"\")\n",
    "        return False\n",
    "    except IndexError:\n",
    "        print(\"Problem with index off split\")\n",
    "        print(\"Line:\\\"\" + str(i) + \"\\\"\")\n",
    "        return False\n",
    "    except Exception as e:\n",
    "        print(\"Error: \\\"\" + str(e) + \"\\\"\")\n",
    "        return False\n"
   ]
  },
  {
   "cell_type": "code",
   "execution_count": 42,
   "metadata": {},
   "outputs": [],
   "source": [
    "#print(loadFASTQ(\"/Users/nicktidow/Downloads/XI1_ATCACG_L001_R1_001.fastq\"))\n",
    "#print(loadFASTQ(\"/Users/nicktidow/Downloads/XI1_ATCACG_L001_R2_001.fastq\"))\n",
    "#print(loadFASTQ(\"/Users/nicktidow/Downloads/RETT-1_S1_L001_R1_001.fastq\"))\n",
    "#print(loadFASTQ(\"/Users/nicktidow/Downloads/RETT-1_S1_L001_R2_001.fastq\"))\n"
   ]
  },
  {
   "cell_type": "code",
   "execution_count": null,
   "metadata": {},
   "outputs": [],
   "source": [
    "#### FUNCTION 02\n",
    "##### Name: calQualScore\n",
    "##### Purpose: calculate the quality scores of the FASTQ\n",
    "##### Input: FASTQ quality list\n",
    "##### Output: quality scores\n"
   ]
  },
  {
   "cell_type": "code",
   "execution_count": 128,
   "metadata": {},
   "outputs": [],
   "source": [
    "def calQualScore(qualityList):\n",
    "    height = len(qualityList)\n",
    "    width1 = 150 \n",
    "    qscore = np.zeros([height, width1], dtype=int) \n",
    "    #print(height,width)\n",
    "    for i in range(height):\n",
    "        width2 = len(qualityList[i])\n",
    "        for j in range(width2):\n",
    "            if j >= width1:\n",
    "                break \n",
    "            else:\n",
    "                qscore[i][j] = int(ord(qualityList[i][j])-33)\n",
    "    return qscore\n",
    "            \n",
    "                "
   ]
  },
  {
   "cell_type": "code",
   "execution_count": 133,
   "metadata": {},
   "outputs": [
    {
     "data": {
      "text/plain": [
       "array([[13, 27, 13, ..., 32, 38, 38],\n",
       "       [27, 27, 27, ..., 38, 38, 38],\n",
       "       [ 2, 27, 27, ..., 38, 38, 38],\n",
       "       ...,\n",
       "       [38, 38, 38, ..., 38, 40, 40],\n",
       "       [13, 27, 38, ..., 40, 38, 38],\n",
       "       [38, 38, 38, ..., 40, 40, 40]])"
      ]
     },
     "execution_count": 133,
     "metadata": {},
     "output_type": "execute_result"
    }
   ],
   "source": [
    "#sequenceList, qualityList = loadFASTQ(\"/Users/nicktidow/Downloads/XI1_ATCACG_L001_R1_001.fastq\")\n",
    "#calQualScore(qualityList)"
   ]
  },
  {
   "cell_type": "code",
   "execution_count": 130,
   "metadata": {
    "scrolled": true
   },
   "outputs": [
    {
     "name": "stdout",
     "output_type": "stream",
     "text": [
      "36.429834666666665\n",
      "7.523037739237933\n",
      "35.19341266666667\n",
      "8.740848712055342\n",
      "34.506396\n",
      "6.618459873050829\n",
      "32.14621266666666\n",
      "8.75632935973209\n"
     ]
    }
   ],
   "source": [
    "\n",
    "# load FASTQ file\n",
    "sequence1, quality1 = loadFASTQ(\"/Users/nicktidow/Downloads/XI1_ATCACG_L001_R1_001.fastq\")\n",
    "sequence2, quality2 = loadFASTQ(\"/Users/nicktidow/Downloads/XI1_ATCACG_L001_R2_001.fastq\")\n",
    "sequence3, quality3 = loadFASTQ(\"/Users/nicktidow/Downloads/RETT-1_S1_L001_R1_001.fastq\")\n",
    "sequence4, quality4 = loadFASTQ(\"/Users/nicktidow/Downloads/RETT-1_S1_L001_R2_001.fastq\")\n",
    "\n",
    "# convert quality chars to quality score\n",
    "qscore1 = calQualScore(quality1)\n",
    "qscore2 = calQualScore(quality2)\n",
    "qscore3 = calQualScore(quality3)\n",
    "qscore4 = calQualScore(quality4)\n",
    "\n",
    "# basic statistics\n",
    "print(np.average(qscore1))\n",
    "print(np.std(qscore1))\n",
    "print(np.average(qscore2))\n",
    "print(np.std(qscore2))\n",
    "print(np.average(qscore3))\n",
    "print(np.std(qscore3))\n",
    "print(np.average(qscore4))\n",
    "print(np.std(qscore4))\n"
   ]
  },
  {
   "cell_type": "code",
   "execution_count": 1,
   "metadata": {},
   "outputs": [],
   "source": [
    "#### FUNCTION 03\n",
    "##### Name: countReads\n",
    "##### Purpose: count the number of reads in the sequences\n",
    "##### Input: FASTQ sequences\n",
    "##### Output: Number of reads for each file "
   ]
  },
  {
   "cell_type": "code",
   "execution_count": 131,
   "metadata": {},
   "outputs": [],
   "source": [
    "def countReads(sequenceList):\n",
    "    count = [0] * 4 # count = [0, 0, 0, 0]\n",
    "    for base in sequenceList:\n",
    "        if base == \"A\":\n",
    "            count[0] += 1\n",
    "        elif base == \"C\":\n",
    "            count[1] += 1\n",
    "        elif base == \"G\":\n",
    "            count[2] += 1\n",
    "        else: # elif base == \"T\":\n",
    "            count[3] += 1\n",
    "    return count"
   ]
  },
  {
   "cell_type": "code",
   "execution_count": 132,
   "metadata": {},
   "outputs": [
    {
     "name": "stdout",
     "output_type": "stream",
     "text": [
      "[0, 0, 0, 2]\n"
     ]
    }
   ],
   "source": [
    "print(countBases3(loadFASTQ(\"/Users/nicktidow/Downloads/XI1_ATCACG_L001_R2_001.fastq\")))"
   ]
  },
  {
   "cell_type": "code",
   "execution_count": 4,
   "metadata": {},
   "outputs": [],
   "source": [
    "#### FUNCTION 04\n",
    "##### Name: qualityReads\n",
    "##### Purpose: compute fraction of reads with quality scores > or = to 30 at that position\n",
    "##### Input: FASTQ quality list\n",
    "##### Output: quality scores"
   ]
  },
  {
   "cell_type": "code",
   "execution_count": null,
   "metadata": {},
   "outputs": [],
   "source": [
    "def qualityReads(qualityList):\n",
    "    for i in qualityList:\n",
    "        if i >= 30:\n",
    "            \n",
    "        \n",
    "    "
   ]
  },
  {
   "cell_type": "code",
   "execution_count": null,
   "metadata": {},
   "outputs": [],
   "source": [
    "#### FUNCTION 05\n",
    "##### Name: \n",
    "##### Purpose: \n",
    "##### Input: \n",
    "##### Output: "
   ]
  }
 ],
 "metadata": {
  "kernelspec": {
   "display_name": "Python 3",
   "language": "python",
   "name": "python3"
  },
  "language_info": {
   "codemirror_mode": {
    "name": "ipython",
    "version": 3
   },
   "file_extension": ".py",
   "mimetype": "text/x-python",
   "name": "python",
   "nbconvert_exporter": "python",
   "pygments_lexer": "ipython3",
   "version": "3.8.2"
  }
 },
 "nbformat": 4,
 "nbformat_minor": 4
}
