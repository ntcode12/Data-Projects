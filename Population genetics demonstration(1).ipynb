{
 "cells": [
  {
   "cell_type": "markdown",
   "metadata": {},
   "source": [
    "Questions might be interesting:\n",
    "1. How many SNPs and individuals are involved (abbgen1k.csv)?\n",
    "2. What is fraction of the SNPs (rows) passed the quality filter?\n",
    "3. How many SNPs are C->T (or G->A)?\n",
    "4. What are the rates of substitutions by nucleotide type?\n",
    "5. How many SNPs that are singletons (only one copy of the ALT allele)?\n",
    "6. How many SNPs for which the ALT allele does NOT have frequency 0 in the samples of Europeans individuals? And how many of African individuals? Can this support out-of-Africa hypothesis?"
   ]
  },
  {
   "cell_type": "markdown",
   "metadata": {},
   "source": [
    "1. How many SNPs and individuals are involved (abbgen1k.csv)?"
   ]
  },
  {
   "cell_type": "code",
   "execution_count": 11,
   "metadata": {},
   "outputs": [
    {
     "data": {
      "text/html": [
       "<ol class=list-inline>\n",
       "\t<li>15912</li>\n",
       "\t<li>179</li>\n",
       "</ol>\n"
      ],
      "text/latex": [
       "\\begin{enumerate*}\n",
       "\\item 15912\n",
       "\\item 179\n",
       "\\end{enumerate*}\n"
      ],
      "text/markdown": [
       "1. 15912\n",
       "2. 179\n",
       "\n",
       "\n"
      ],
      "text/plain": [
       "[1] 15912   179"
      ]
     },
     "metadata": {},
     "output_type": "display_data"
    }
   ],
   "source": [
    "x22 <- read.csv(\"abbgen1k.csv\")\n",
    "dim(x22)"
   ]
  },
  {
   "cell_type": "code",
   "execution_count": 8,
   "metadata": {},
   "outputs": [
    {
     "data": {
      "text/plain": [
       "   user  system elapsed \n",
       "   0.97    0.01    0.99 "
      ]
     },
     "metadata": {},
     "output_type": "display_data"
    },
    {
     "data": {
      "text/plain": [
       "   user  system elapsed \n",
       "   0.42    0.03    0.45 "
      ]
     },
     "metadata": {},
     "output_type": "display_data"
    },
    {
     "data": {
      "text/plain": [
       "   user  system elapsed \n",
       "   0.40    0.03    0.44 "
      ]
     },
     "metadata": {},
     "output_type": "display_data"
    }
   ],
   "source": [
    "system.time(read.csv(\"abbgen1k.csv\"))\n",
    "system.time(read.csv(\"abbgen1k.csv\", stringsAsFactor=F))\n",
    "system.time(read.csv(\"abbgen1k.csv\", stringsAsFactor=F, comment.char=\"\"))"
   ]
  },
  {
   "cell_type": "markdown",
   "metadata": {},
   "source": [
    "2. What is fraction of the SNPs (rows) passed the quality filter?"
   ]
  },
  {
   "cell_type": "code",
   "execution_count": 10,
   "metadata": {},
   "outputs": [
    {
     "data": {
      "text/html": [
       "15912"
      ],
      "text/latex": [
       "15912"
      ],
      "text/markdown": [
       "15912"
      ],
      "text/plain": [
       "[1] 15912"
      ]
     },
     "metadata": {},
     "output_type": "display_data"
    }
   ],
   "source": [
    "cntSNP <- function(x){\n",
    "    cnt <- 0\n",
    "    for(i in 1:nrow(x)){\n",
    "        if(x[i,\"FILTER\"]==\"PASS\"){\n",
    "            cnt <- cnt +1\n",
    "        }\n",
    "    }\n",
    "    cnt\n",
    "}\n",
    "\n",
    "cntSNP(x22)"
   ]
  },
  {
   "cell_type": "code",
   "execution_count": 14,
   "metadata": {},
   "outputs": [
    {
     "data": {
      "text/html": [
       "1"
      ],
      "text/latex": [
       "1"
      ],
      "text/markdown": [
       "1"
      ],
      "text/plain": [
       "[1] 1"
      ]
     },
     "metadata": {},
     "output_type": "display_data"
    }
   ],
   "source": [
    "mean(x22$FILTER==\"PASS\")"
   ]
  },
  {
   "cell_type": "markdown",
   "metadata": {},
   "source": [
    "3. How many SNPs are C->T (or G->A)?"
   ]
  },
  {
   "cell_type": "code",
   "execution_count": 18,
   "metadata": {},
   "outputs": [],
   "source": [
    "cntSNP_loop <- function(x, ref, alt){\n",
    "    cnt <- 0\n",
    "    for(i in 1:nrow(x)){ #ncol(x)\n",
    "        if(x[i,\"REF\"]==ref & x[i, \"ALT\"]==alt){\n",
    "           cnt <- cnt + 1 \n",
    "        }\n",
    "    }\n",
    "    cnt\n",
    "}\n",
    "\n",
    "cntSNP <- function(x, ref, alt){\n",
    "    sum(x[\"REF\"]==ref & x[\"ALT\"]==alt) \n",
    "}\n"
   ]
  },
  {
   "cell_type": "code",
   "execution_count": 20,
   "metadata": {},
   "outputs": [
    {
     "data": {
      "text/plain": [
       "   user  system elapsed \n",
       "   1.07    0.03    1.11 "
      ]
     },
     "metadata": {},
     "output_type": "display_data"
    },
    {
     "data": {
      "text/plain": [
       "   user  system elapsed \n",
       "      0       0       0 "
      ]
     },
     "metadata": {},
     "output_type": "display_data"
    }
   ],
   "source": [
    "system.time(cntSNP_loop(x22, \"C\", \"T\"))\n",
    "system.time(cntSNP(x22, \"C\", \"T\"))"
   ]
  },
  {
   "cell_type": "markdown",
   "metadata": {},
   "source": [
    "4. What are the rates of substitutions by nucleotide type?"
   ]
  },
  {
   "cell_type": "code",
   "execution_count": 23,
   "metadata": {},
   "outputs": [
    {
     "data": {
      "text/html": [
       "<table>\n",
       "<tbody>\n",
       "\t<tr><td>   0</td><td> 534</td><td>2076</td><td> 577</td></tr>\n",
       "\t<tr><td> 765</td><td>   0</td><td> 684</td><td>3288</td></tr>\n",
       "\t<tr><td>3576</td><td> 683</td><td>   0</td><td> 733</td></tr>\n",
       "\t<tr><td> 534</td><td>1925</td><td> 537</td><td>   0</td></tr>\n",
       "</tbody>\n",
       "</table>\n"
      ],
      "text/latex": [
       "\\begin{tabular}{llll}\n",
       "\t    0 &  534 & 2076 &  577\\\\\n",
       "\t  765 &    0 &  684 & 3288\\\\\n",
       "\t 3576 &  683 &    0 &  733\\\\\n",
       "\t  534 & 1925 &  537 &    0\\\\\n",
       "\\end{tabular}\n"
      ],
      "text/markdown": [
       "\n",
       "|    0 |  534 | 2076 |  577 |\n",
       "|  765 |    0 |  684 | 3288 |\n",
       "| 3576 |  683 |    0 |  733 |\n",
       "|  534 | 1925 |  537 |    0 |\n",
       "\n"
      ],
      "text/plain": [
       "     [,1] [,2] [,3] [,4]\n",
       "[1,]    0  534 2076  577\n",
       "[2,]  765    0  684 3288\n",
       "[3,] 3576  683    0  733\n",
       "[4,]  534 1925  537    0"
      ]
     },
     "metadata": {},
     "output_type": "display_data"
    }
   ],
   "source": [
    "cntAllSNP <- function(x){\n",
    "    dna <- c(\"A\",\"C\",\"G\",\"T\")\n",
    "    \n",
    "    m <- matrix(0,4,4)\n",
    "    \n",
    "    for(i in 1:length(dna)){\n",
    "        for(j in 1:length(dna)){\n",
    "            m[i,j] <- cntSNP_loop(x, dna[i], dna[j])\n",
    "        }\n",
    "    }\n",
    "    m\n",
    "}\n",
    "\n",
    "cntAllSNP(x22)"
   ]
  },
  {
   "cell_type": "markdown",
   "metadata": {},
   "source": [
    "5. How many SNPs that are singletons (only one copy of the ALT allele)?"
   ]
  },
  {
   "cell_type": "code",
   "execution_count": 30,
   "metadata": {},
   "outputs": [
    {
     "data": {
      "text/html": [
       "3923"
      ],
      "text/latex": [
       "3923"
      ],
      "text/markdown": [
       "3923"
      ],
      "text/plain": [
       "[1] 3923"
      ]
     },
     "metadata": {},
     "output_type": "display_data"
    }
   ],
   "source": [
    "isRowSing <- function(row){\n",
    "    cnt <- sum(row==\"1|0\") + sum(row==\"0|1\") + 2*sum(row==\"1|1\")\n",
    "    cnt == 1\n",
    "}\n",
    "\n",
    "sum(apply(x22, 1, isRowSing))"
   ]
  },
  {
   "cell_type": "markdown",
   "metadata": {},
   "source": [
    "6. How many SNPs for which the ALT allele does NOT have frequency 0 in the samples of Europeans individuals [10:90]? And how many of African individuals? Can this support out-of-Africa hypothesis [91:171]?"
   ]
  },
  {
   "cell_type": "code",
   "execution_count": 27,
   "metadata": {},
   "outputs": [],
   "source": [
    "cntRowSing <- function(row){\n",
    "    cnt <- sum(row==\"1|0\") + sum(row==\"0|1\") + 2*sum(row==\"1|1\")\n",
    "    cnt\n",
    "}\n",
    "\n",
    "getFreq <- function(x, idx){\n",
    "    rowCnt <- apply(x[idx], 1, cntRowSing)\n",
    "}\n",
    "\n"
   ]
  },
  {
   "cell_type": "code",
   "execution_count": 28,
   "metadata": {},
   "outputs": [
    {
     "data": {
      "text/html": [
       "259989"
      ],
      "text/latex": [
       "259989"
      ],
      "text/markdown": [
       "259989"
      ],
      "text/plain": [
       "[1] 259989"
      ]
     },
     "metadata": {},
     "output_type": "display_data"
    },
    {
     "data": {
      "text/html": [
       "313444"
      ],
      "text/latex": [
       "313444"
      ],
      "text/markdown": [
       "313444"
      ],
      "text/plain": [
       "[1] 313444"
      ]
     },
     "metadata": {},
     "output_type": "display_data"
    }
   ],
   "source": [
    "sum(getFreq(x22, 10:90)) # Euro\n",
    "sum(getFreq(x22, 91:171)) # Afri"
   ]
  },
  {
   "cell_type": "code",
   "execution_count": null,
   "metadata": {},
   "outputs": [],
   "source": []
  }
 ],
 "metadata": {
  "kernelspec": {
   "display_name": "R",
   "language": "R",
   "name": "ir"
  },
  "language_info": {
   "codemirror_mode": "r",
   "file_extension": ".r",
   "mimetype": "text/x-r-source",
   "name": "R",
   "pygments_lexer": "r",
   "version": "3.6.1"
  }
 },
 "nbformat": 4,
 "nbformat_minor": 4
}
