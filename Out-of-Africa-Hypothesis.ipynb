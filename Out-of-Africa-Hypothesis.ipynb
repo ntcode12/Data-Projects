{
 "cells": [
  {
   "cell_type": "markdown",
   "metadata": {},
   "source": [
    "# Assignment 6 answer\n",
    "## 1. \n",
    "Write an R function that inputs a vector representing the genotype of an individual and a logical indicating “left” or “right” haplotype. This function returns either the “left” or “right” haplotype as a vector. [2pt]."
   ]
  },
  {
   "cell_type": "code",
   "execution_count": 1,
   "metadata": {},
   "outputs": [],
   "source": [
    "gethap <- function(geno, leftright){\n",
    "    hap <- 1:length(geno)\n",
    "    \n",
    "    if(leftright==0){\n",
    "        hap[geno == \"0|0\"] <- 0\n",
    "        hap[geno == \"0|1\"] <- 0\n",
    "        hap[geno == \"1|0\"] <- 1\n",
    "        hap[geno == \"1|1\"] <- 1\n",
    "    \n",
    "    } else{\n",
    "        hap[geno == \"0|0\"] <- 0\n",
    "        hap[geno == \"0|1\"] <- 1\n",
    "        hap[geno == \"1|0\"] <- 0\n",
    "        hap[geno == \"1|1\"] <- 1\n",
    "    }\n",
    "    \n",
    "    return(hap)\n",
    "}"
   ]
  },
  {
   "cell_type": "markdown",
   "metadata": {},
   "source": [
    "## 2.\n",
    "Write an R function that computes the average pairwise diversity for n randomly chosen pairs of haplotypes (use the built-in R function ”sample”). These pairs of haplotypes can both be chosen from one sample, or they can be chosen from two different samples. The inputs to this function are a dataframe with the format in “abbgen1k.csv”, a vector of column numbers for individuals in the first sample, a vector of column numbers for individuals in the second sample, and a number n [3pt]."
   ]
  },
  {
   "cell_type": "code",
   "execution_count": 8,
   "metadata": {},
   "outputs": [],
   "source": [
    "#You need to compare different haplotypes rather than comparing two exact same haplotypes.\n",
    "sampling <- function(x, idx1, idx2){\n",
    "    repeat {\n",
    "        temp1 <- sample(idx1, size=1)\n",
    "        temp2 <- sample(idx2, size=1)\n",
    "        lr1 <- sample(0:1, size=1)\n",
    "        lr2 <- sample(0:1, size=1)\n",
    "        if (temp1 != temp2 || lr1 != lr2){\n",
    "            break\n",
    "        }\n",
    "    }\n",
    "    h1 <- gethap(x[, temp1], lr1)\n",
    "    h2 <- gethap(x[, temp2], lr2)\n",
    "    return(mean(h1!=h2))\n",
    "}\n",
    "getpi <- function(x, idx1, idx2, num){\n",
    "    nd <- replicate(n = num, sampling(x, idx1, idx2))\n",
    "    mean(nd)\n",
    "} "
   ]
  },
  {
   "cell_type": "code",
   "execution_count": 3,
   "metadata": {},
   "outputs": [],
   "source": [
    "#If you sample individuals first, you will in the end get a different distribution of samples of 2 haplotypes.\n",
    "#Probability of getting the two haplotypes from the same individual is (1/N) * (1/N), with N possible outcomes.\n",
    "#While it is not significant in this data, it may raise issue if individuals from your group are very homogeneous. \n",
    "getpi <- function(x, idx1, idx2, num){\n",
    "    nd = numeric(num)\n",
    "\n",
    "    for(i in 1:num){\n",
    "        temp1 <- sample(idx1, size=1)\n",
    "        temp2 <- sample(idx2, size=1)\n",
    "        \n",
    "        if(temp1 == temp2){\n",
    "            lr1 <- 0\n",
    "            lr2 <- 1\n",
    "            \n",
    "        } else{\n",
    "            lr1 <- sample(0:1, size=1)\n",
    "            lr2 <- sample(0:1, size=1)\n",
    "        }\n",
    "        \n",
    "        h1 <- gethap(x[, temp1], lr1)\n",
    "        h2 <- gethap(x[, temp2], lr2)\n",
    "        \n",
    "        nd[i] <- mean(h1!=h2)\n",
    "        \n",
    "    }\n",
    "\n",
    "    mean(nd)\n",
    "\n",
    "} "
   ]
  },
  {
   "cell_type": "markdown",
   "metadata": {},
   "source": [
    "## 3. \n",
    "Run Function #3 for three comparisons including within the European samples (with the input the dataframe columns 10:90 and 10:90), the African samples (with the input the dataframe columns 91:179 and 91:179), and between the European and African samples (with the input dataframe columns 10:90 and 91:179). Set the parameter n equal to 1000. Tell us what you find from the results and explain whether the results can support the out-of-Africa hypothesis [3pt]."
   ]
  },
  {
   "cell_type": "code",
   "execution_count": 7,
   "metadata": {},
   "outputs": [],
   "source": [
    "x22 = read.csv(\"abbgen1k.csv\", stringsAsFactors=F)\n"
   ]
  },
  {
   "cell_type": "code",
   "execution_count": 6,
   "metadata": {},
   "outputs": [
    {
     "data": {
      "text/html": [
       "0.0932883986928105"
      ],
      "text/latex": [
       "0.0932883986928105"
      ],
      "text/markdown": [
       "0.0932883986928105"
      ],
      "text/plain": [
       "[1] 0.0932884"
      ]
     },
     "metadata": {},
     "output_type": "display_data"
    },
    {
     "data": {
      "text/html": [
       "0.113858220211161"
      ],
      "text/latex": [
       "0.113858220211161"
      ],
      "text/markdown": [
       "0.113858220211161"
      ],
      "text/plain": [
       "[1] 0.1138582"
      ]
     },
     "metadata": {},
     "output_type": "display_data"
    },
    {
     "data": {
      "text/html": [
       "0.117546191553544"
      ],
      "text/latex": [
       "0.117546191553544"
      ],
      "text/markdown": [
       "0.117546191553544"
      ],
      "text/plain": [
       "[1] 0.1175462"
      ]
     },
     "metadata": {},
     "output_type": "display_data"
    }
   ],
   "source": [
    "eurpi = getpi(x22, 10:90, 10:90, 1000)\n",
    "afrci = getpi(x22, 91:179, 91:179, 1000)\n",
    "mixci = getpi(x22, 10:90, 91:179, 1000)\n",
    "\n",
    "eurpi\n",
    "afrci\n",
    "mixci"
   ]
  },
  {
   "cell_type": "markdown",
   "metadata": {},
   "source": [
    "The results show that the average pairwise diversity for European is small than the one for African and the mix, supporting the out-of-Afica that African are more diverse during to the longer generations."
   ]
  }
 ],
 "metadata": {
  "kernelspec": {
   "display_name": "R",
   "language": "R",
   "name": "ir"
  },
  "language_info": {
   "codemirror_mode": "r",
   "file_extension": ".r",
   "mimetype": "text/x-r-source",
   "name": "R",
   "pygments_lexer": "r",
   "version": "3.6.1"
  }
 },
 "nbformat": 4,
 "nbformat_minor": 4
}
